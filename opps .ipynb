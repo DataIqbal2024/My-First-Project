{
 "cells": [
  {
   "cell_type": "markdown",
   "id": "c5c47d1d-f4de-44e7-b7b8-26deee1bb1cc",
   "metadata": {},
   "source": [
    "# Object Oriented Programming\n",
    "Object Oriented Programming (OOP) is a programming paradigm that allows abstraction through the concept of interacting entities. This programming works contradictory to conventional model and is procedural, in which programs are organized as a sequence of commands or statements to perform.\n",
    "We can think an object as an entity that resides in memory, has a state and it's able to perform some actions.\n",
    "More formally objects are entities that represent instances of a general abstract concept called class. In Python, \"attributes\" are the variables defining an object state and the possible actions are called \"methods\".\n",
    "In Python, everything is an object also classes and functions."
   ]
  },
  {
   "cell_type": "code",
   "execution_count": 1,
   "id": "9387ecd2-0a60-4efa-beed-1c6c117ee6cf",
   "metadata": {},
   "outputs": [],
   "source": [
    "class employee():\n",
    "    pass"
   ]
  },
  {
   "cell_type": "code",
   "execution_count": 2,
   "id": "9f04c7d1-70bf-4a0a-baca-da2c453b0f88",
   "metadata": {},
   "outputs": [],
   "source": [
    "employee_1=employee()\n",
    "employee_2=employee()"
   ]
  },
  {
   "cell_type": "code",
   "execution_count": 3,
   "id": "9e762db4-8d94-4a0e-843d-0028d7922290",
   "metadata": {},
   "outputs": [],
   "source": [
    "employee_1.first_name='kanika'\n",
    "employee_1.last_name='jain'\n",
    "employee_1.salary=50000"
   ]
  },
  {
   "cell_type": "code",
   "execution_count": 4,
   "id": "0b2ed6df-fae0-498a-b925-2fb8e28fc65f",
   "metadata": {},
   "outputs": [
    {
     "data": {
      "text/plain": [
       "50000"
      ]
     },
     "execution_count": 4,
     "metadata": {},
     "output_type": "execute_result"
    }
   ],
   "source": [
    "employee_1.salary"
   ]
  },
  {
   "cell_type": "code",
   "execution_count": 5,
   "id": "9aa3aa9e-62b7-4cdc-aae4-239d683ed7be",
   "metadata": {},
   "outputs": [
    {
     "data": {
      "text/plain": [
       "'kanika'"
      ]
     },
     "execution_count": 5,
     "metadata": {},
     "output_type": "execute_result"
    }
   ],
   "source": [
    "employee_1.first_name"
   ]
  },
  {
   "cell_type": "code",
   "execution_count": 6,
   "id": "daeb1fc1-9b1d-473e-96c0-c7ee57636ef9",
   "metadata": {},
   "outputs": [
    {
     "data": {
      "text/plain": [
       "'jain'"
      ]
     },
     "execution_count": 6,
     "metadata": {},
     "output_type": "execute_result"
    }
   ],
   "source": [
    "employee_1.last_name"
   ]
  },
  {
   "cell_type": "markdown",
   "id": "dccc2246-2daf-474d-9b69-1b8cfd774f1a",
   "metadata": {},
   "source": [
    "# How to make constructor"
   ]
  },
  {
   "cell_type": "code",
   "execution_count": 7,
   "id": "aa2a58ab-9987-4a56-b47b-9b75cd02ce17",
   "metadata": {},
   "outputs": [],
   "source": [
    "class employee():\n",
    "    def __init__(self,fname,lname,salary,edu):\n",
    "       self.first_name=fname\n",
    "       self.last_name=lname\n",
    "       self.salary=salary\n",
    "       self.education=edu"
   ]
  },
  {
   "cell_type": "code",
   "execution_count": 8,
   "id": "3e55883d-0790-4fd2-a64e-a680f64dcc5a",
   "metadata": {},
   "outputs": [],
   "source": [
    "a=employee(\"shourya\",\"chouhan\",500000,\"gamer\")\n",
    "\n",
    "b=employee(\"depanshu\",\"jaat\",100000,\"basketball\")"
   ]
  },
  {
   "cell_type": "code",
   "execution_count": 9,
   "id": "983280b5-a9cf-417d-b94e-62f88b4f5ddc",
   "metadata": {},
   "outputs": [
    {
     "data": {
      "text/plain": [
       "'shourya'"
      ]
     },
     "execution_count": 9,
     "metadata": {},
     "output_type": "execute_result"
    }
   ],
   "source": [
    "a.first_name"
   ]
  },
  {
   "cell_type": "code",
   "execution_count": 10,
   "id": "7c753f2a-9afd-4d0e-b220-9ab2650fc059",
   "metadata": {},
   "outputs": [
    {
     "data": {
      "text/plain": [
       "100000"
      ]
     },
     "execution_count": 10,
     "metadata": {},
     "output_type": "execute_result"
    }
   ],
   "source": [
    "b.salary"
   ]
  },
  {
   "cell_type": "code",
   "execution_count": 11,
   "id": "b50e1286-b10b-4b80-8ba4-0853dc439bb6",
   "metadata": {},
   "outputs": [
    {
     "data": {
      "text/plain": [
       "'chouhan'"
      ]
     },
     "execution_count": 11,
     "metadata": {},
     "output_type": "execute_result"
    }
   ],
   "source": [
    "a.last_name"
   ]
  },
  {
   "cell_type": "markdown",
   "id": "15b4ac04-86c6-4f94-a04c-87c56ee32e68",
   "metadata": {},
   "source": [
    "# Define Function Under Class"
   ]
  },
  {
   "cell_type": "code",
   "execution_count": 12,
   "id": "0d53e9cc-59eb-4297-82d1-03a75ded3308",
   "metadata": {},
   "outputs": [],
   "source": [
    "class car:\n",
    "    def __init__(xyz,color,year,body):\n",
    "        xyz.color1=color\n",
    "        xyz.year1=year\n",
    "        xyz.body1=body\n",
    "    def cal_age(xyz,current_year):\n",
    "        return current_year - xyz.year1"
   ]
  },
  {
   "cell_type": "code",
   "execution_count": 13,
   "id": "b38e5829-1e36-4611-88ee-55069b19de50",
   "metadata": {},
   "outputs": [],
   "source": [
    "kia = car(\"steelgrey\",2010,\"chromium\")"
   ]
  },
  {
   "cell_type": "code",
   "execution_count": 14,
   "id": "b188c477-31d4-4f84-8275-482ca5dd663b",
   "metadata": {},
   "outputs": [
    {
     "data": {
      "text/plain": [
       "'steelgrey'"
      ]
     },
     "execution_count": 14,
     "metadata": {},
     "output_type": "execute_result"
    }
   ],
   "source": [
    "kia.color1"
   ]
  },
  {
   "cell_type": "code",
   "execution_count": 15,
   "id": "30c1b7fc-0ec9-48aa-8be7-01fe9045b4cc",
   "metadata": {},
   "outputs": [
    {
     "data": {
      "text/plain": [
       "14"
      ]
     },
     "execution_count": 15,
     "metadata": {},
     "output_type": "execute_result"
    }
   ],
   "source": [
    "kia.cal_age(2024)"
   ]
  },
  {
   "cell_type": "markdown",
   "id": "cce6cbbc-3ee9-4027-b5c1-f25ea0a8b050",
   "metadata": {},
   "source": [
    "#                            Instances and class variable"
   ]
  },
  {
   "cell_type": "code",
   "execution_count": 16,
   "id": "99502d22-1dc7-4efb-8730-e19856eb279f",
   "metadata": {},
   "outputs": [],
   "source": [
    "class employee():\n",
    "    increment=2\n",
    "    def __init__(self,fname,lname,salary):\n",
    "       self.first_name=fname\n",
    "       self.last_name=lname\n",
    "       self.salary=salary\n",
    "    def increase(self):\n",
    "        pass"
   ]
  },
  {
   "cell_type": "code",
   "execution_count": 17,
   "id": "75068253-2663-4b86-936b-d57647cfa7eb",
   "metadata": {},
   "outputs": [],
   "source": [
    "employee_1=employee(\"shourya\",\"chouhan\",50000)\n",
    "\n",
    "employee_2=employee(\"dev\",\"thapa\",10000)"
   ]
  },
  {
   "cell_type": "code",
   "execution_count": 18,
   "id": "3a0d8a6f-f42c-49f8-9d35-d0104b9edf8a",
   "metadata": {},
   "outputs": [
    {
     "data": {
      "text/plain": [
       "'shourya'"
      ]
     },
     "execution_count": 18,
     "metadata": {},
     "output_type": "execute_result"
    }
   ],
   "source": [
    "\n",
    "employee_1.first_name"
   ]
  },
  {
   "cell_type": "code",
   "execution_count": 19,
   "id": "8e606834-e40e-4474-ad19-95a3feca24be",
   "metadata": {},
   "outputs": [
    {
     "data": {
      "text/plain": [
       "50000"
      ]
     },
     "execution_count": 19,
     "metadata": {},
     "output_type": "execute_result"
    }
   ],
   "source": [
    "employee_1.salary"
   ]
  },
  {
   "cell_type": "code",
   "execution_count": 20,
   "id": "c82bfb40-e510-4b4c-92d7-8ed9e4c7d6d1",
   "metadata": {},
   "outputs": [],
   "source": [
    "employee_1.increase()"
   ]
  },
  {
   "cell_type": "code",
   "execution_count": 21,
   "id": "cebd6e8f-8af7-47ed-abe0-fb7874bd8a9f",
   "metadata": {},
   "outputs": [
    {
     "data": {
      "text/plain": [
       "40000"
      ]
     },
     "execution_count": 21,
     "metadata": {},
     "output_type": "execute_result"
    }
   ],
   "source": [
    "class employee():\n",
    "    increment=2\n",
    "    def __init__(self,fname,lname,salary):\n",
    "        self.first_name=fname\n",
    "        self.last_name=lname\n",
    "        self.salary=salary\n",
    "    def increase(self):\n",
    "        self.salary=self.salary*self.increment\n",
    "\n",
    "employee_1=employee(\"shourya\",\"chuhan\",40000)\n",
    "\n",
    "employee_2=employee(\"dev\",\"thapa\",10000)\n",
    "\n",
    "employee_1.salary"
   ]
  },
  {
   "cell_type": "code",
   "execution_count": 22,
   "id": "75e83856-6379-4db6-bf1d-2ec33b07fdee",
   "metadata": {},
   "outputs": [],
   "source": [
    "employee_2.increase()"
   ]
  },
  {
   "cell_type": "code",
   "execution_count": 23,
   "id": "8272b101-68e9-4347-bb3d-216a9f3f610d",
   "metadata": {},
   "outputs": [
    {
     "data": {
      "text/plain": [
       "20000"
      ]
     },
     "execution_count": 23,
     "metadata": {},
     "output_type": "execute_result"
    }
   ],
   "source": [
    "employee_2.salary"
   ]
  },
  {
   "cell_type": "code",
   "execution_count": 24,
   "id": "2976f4dc-3ec5-40dc-bdab-5836ab3d95b7",
   "metadata": {},
   "outputs": [
    {
     "data": {
      "text/plain": [
       "40000"
      ]
     },
     "execution_count": 24,
     "metadata": {},
     "output_type": "execute_result"
    }
   ],
   "source": [
    "employee_1.salary"
   ]
  },
  {
   "cell_type": "code",
   "execution_count": 25,
   "id": "2786e61d-5fd7-4b47-83dc-c0897c31a0ed",
   "metadata": {},
   "outputs": [
    {
     "data": {
      "text/plain": [
       "40000"
      ]
     },
     "execution_count": 25,
     "metadata": {},
     "output_type": "execute_result"
    }
   ],
   "source": [
    "class employee():\n",
    "    increment=1.5\n",
    "    def __init__(self,fname,lname,salary):\n",
    "        self.first_name=fname\n",
    "        self.last_name=lname\n",
    "        self.salary=salary\n",
    "    def increase(self):\n",
    "        self.salary=self.salary*self.increment\n",
    "\n",
    "employee_1=employee(\"shourya\",\"chuhan\",40000)\n",
    "\n",
    "employee_2=employee(\"dev\",\"thapa\",10000)\n",
    "\n",
    "employee_1.salary"
   ]
  },
  {
   "cell_type": "code",
   "execution_count": 26,
   "id": "eef2c624-e60b-4010-a57f-d9e600dda765",
   "metadata": {},
   "outputs": [],
   "source": [
    "class employee():\n",
    "    increment=1.5\n",
    "    def __init__(self,fname,lname,salary):\n",
    "        self.first_name=fname\n",
    "        self.last_name=lname\n",
    "        self.salary=salary\n",
    "    def increase(self,increment):\n",
    "        self.salary=self.salary*self.increment\n",
    "\n",
    "employee_1=employee(\"shourya\",\"chuhan\",40000)\n",
    "\n",
    "employee_2=employee(\"dev\",\"thapa\",10000)\n"
   ]
  },
  {
   "cell_type": "code",
   "execution_count": 27,
   "id": "487f5efe-025d-4f78-82f3-1fcab7a3d42b",
   "metadata": {},
   "outputs": [
    {
     "data": {
      "text/plain": [
       "40000"
      ]
     },
     "execution_count": 27,
     "metadata": {},
     "output_type": "execute_result"
    }
   ],
   "source": [
    "employee_1.salary"
   ]
  },
  {
   "cell_type": "code",
   "execution_count": 28,
   "id": "23835523-5f8d-4436-91d5-db58737fffd1",
   "metadata": {},
   "outputs": [
    {
     "data": {
      "text/plain": [
       "10000"
      ]
     },
     "execution_count": 28,
     "metadata": {},
     "output_type": "execute_result"
    }
   ],
   "source": [
    "employee_2.salary"
   ]
  },
  {
   "cell_type": "code",
   "execution_count": 29,
   "id": "01bc24ae-5220-47f1-9ed6-2c8f133d3775",
   "metadata": {},
   "outputs": [],
   "source": [
    "employee_1.increase(5)"
   ]
  },
  {
   "cell_type": "code",
   "execution_count": 30,
   "id": "f2f5a4c7-ce57-4408-99d8-b6bdf0a6409d",
   "metadata": {},
   "outputs": [
    {
     "data": {
      "text/plain": [
       "60000.0"
      ]
     },
     "execution_count": 30,
     "metadata": {},
     "output_type": "execute_result"
    }
   ],
   "source": [
    "employee_1.salary"
   ]
  },
  {
   "cell_type": "code",
   "execution_count": 31,
   "id": "6e8e8e2b-bc09-4322-88cd-f50eb55896c9",
   "metadata": {},
   "outputs": [
    {
     "data": {
      "text/plain": [
       "{'first_name': 'shourya', 'last_name': 'chuhan', 'salary': 60000.0}"
      ]
     },
     "execution_count": 31,
     "metadata": {},
     "output_type": "execute_result"
    }
   ],
   "source": [
    "employee_1.__dict__"
   ]
  },
  {
   "cell_type": "code",
   "execution_count": 32,
   "id": "811d1bef-b361-4a28-870c-f62cd219e050",
   "metadata": {},
   "outputs": [
    {
     "data": {
      "text/plain": [
       "{'first_name': 'dev', 'last_name': 'thapa', 'salary': 10000}"
      ]
     },
     "execution_count": 32,
     "metadata": {},
     "output_type": "execute_result"
    }
   ],
   "source": [
    "employee_2.__dict__"
   ]
  },
  {
   "cell_type": "code",
   "execution_count": 33,
   "id": "17824594-c74b-4ea0-8eea-4892dbefd59e",
   "metadata": {},
   "outputs": [],
   "source": [
    "class employee():\n",
    "    no_of_employee=0\n",
    "    increment=1.5\n",
    "    def __init__(self,fname,lname,salary):\n",
    "        self.first_name=fname\n",
    "        self.last_name=lname\n",
    "        self.salary=salary\n",
    "        self.increment=2\n",
    "        employee.no_of_employee+=1\n",
    "    def increase(self):\n",
    "        self.salary=self.salary*self.increment"
   ]
  },
  {
   "cell_type": "code",
   "execution_count": 34,
   "id": "509993b2-a20a-47c5-82a4-5deea84d9434",
   "metadata": {},
   "outputs": [
    {
     "data": {
      "text/plain": [
       "0"
      ]
     },
     "execution_count": 34,
     "metadata": {},
     "output_type": "execute_result"
    }
   ],
   "source": [
    "employee.no_of_employee"
   ]
  },
  {
   "cell_type": "code",
   "execution_count": 35,
   "id": "d6e3b9c8-9e25-41d5-a04c-16acc84cc174",
   "metadata": {},
   "outputs": [],
   "source": [
    "employee_1=employee(\"arslan\",\"idrishi\",20000)"
   ]
  },
  {
   "cell_type": "code",
   "execution_count": 36,
   "id": "33016f8e-a866-4ddb-8eed-6fb25f5f611f",
   "metadata": {},
   "outputs": [
    {
     "data": {
      "text/plain": [
       "1"
      ]
     },
     "execution_count": 36,
     "metadata": {},
     "output_type": "execute_result"
    }
   ],
   "source": [
    "employee.no_of_employee"
   ]
  },
  {
   "cell_type": "markdown",
   "id": "29629b26-bc8a-4707-b540-7d43ec323f9b",
   "metadata": {},
   "source": [
    "# Change the class variable by the help of Decorators"
   ]
  },
  {
   "cell_type": "code",
   "execution_count": 37,
   "id": "92508b2b-ea0c-46b6-a279-4c78b716787a",
   "metadata": {},
   "outputs": [],
   "source": [
    "class employee():\n",
    "\n",
    "    increment=1.5\n",
    "    no_of_employee=0\n",
    "    def __init__(self,fname,lname,salary):\n",
    "        self.first_name=fname\n",
    "        self.last_name=lname\n",
    "        self.salary=salary\n",
    "        employee.no_of_employee+=1\n",
    "\n",
    "    def increase(self):\n",
    "       self.salary=self.salary*employee.increment\n",
    "    @classmethod\n",
    "    def increment_amount(cls,amount):\n",
    "        cls.increment=amount"
   ]
  },
  {
   "cell_type": "code",
   "execution_count": 38,
   "id": "0b236eb2-144a-407f-91e7-78e9d9f0e4f7",
   "metadata": {},
   "outputs": [],
   "source": [
    "employee_1=employee(\"altaf\",\"hussain\",4000)\n",
    "\n",
    "employee_2=employee(\"sahil\",\"hussain\",1000)"
   ]
  },
  {
   "cell_type": "code",
   "execution_count": 39,
   "id": "1ac2c993-b65f-4910-8152-3837eef2c3df",
   "metadata": {},
   "outputs": [
    {
     "data": {
      "text/plain": [
       "4000"
      ]
     },
     "execution_count": 39,
     "metadata": {},
     "output_type": "execute_result"
    }
   ],
   "source": [
    "employee_1.salary"
   ]
  },
  {
   "cell_type": "code",
   "execution_count": 40,
   "id": "c7a6726c-2f58-471d-8356-68772884f4ff",
   "metadata": {},
   "outputs": [],
   "source": [
    "employee_1.increase()"
   ]
  },
  {
   "cell_type": "code",
   "execution_count": 41,
   "id": "0b7b123d-92c7-499f-8963-5bba01f6a95c",
   "metadata": {},
   "outputs": [
    {
     "data": {
      "text/plain": [
       "6000.0"
      ]
     },
     "execution_count": 41,
     "metadata": {},
     "output_type": "execute_result"
    }
   ],
   "source": [
    "employee_1.salary"
   ]
  },
  {
   "cell_type": "code",
   "execution_count": 42,
   "id": "4c9bd296-e0be-4afd-9d93-55ebd91a0936",
   "metadata": {},
   "outputs": [],
   "source": [
    "employee_1.increment_amount(5)"
   ]
  },
  {
   "cell_type": "code",
   "execution_count": 43,
   "id": "64bc30e3-c230-4358-acb8-f6e49a68db40",
   "metadata": {},
   "outputs": [
    {
     "data": {
      "text/plain": [
       "5"
      ]
     },
     "execution_count": 43,
     "metadata": {},
     "output_type": "execute_result"
    }
   ],
   "source": [
    "employee.increment"
   ]
  },
  {
   "cell_type": "code",
   "execution_count": 44,
   "id": "99c35fb1-f04b-4529-9b78-832f6e92b6b9",
   "metadata": {},
   "outputs": [
    {
     "data": {
      "text/plain": [
       "1000"
      ]
     },
     "execution_count": 44,
     "metadata": {},
     "output_type": "execute_result"
    }
   ],
   "source": [
    "employee_2.salary"
   ]
  },
  {
   "cell_type": "code",
   "execution_count": 45,
   "id": "aa514e53-419f-4bdc-9ba1-57348ffa5ade",
   "metadata": {},
   "outputs": [],
   "source": [
    "employee_2.increase()"
   ]
  },
  {
   "cell_type": "code",
   "execution_count": 46,
   "id": "a2856229-a37a-4f63-960d-adc731014dcc",
   "metadata": {},
   "outputs": [
    {
     "data": {
      "text/plain": [
       "5000"
      ]
     },
     "execution_count": 46,
     "metadata": {},
     "output_type": "execute_result"
    }
   ],
   "source": [
    "employee_2.salary"
   ]
  },
  {
   "cell_type": "code",
   "execution_count": null,
   "id": "1eb7685e-2556-4ad2-b47c-484f78485e84",
   "metadata": {},
   "outputs": [],
   "source": [
    "wrapping of data in a single unit is called class"
   ]
  }
 ],
 "metadata": {
  "kernelspec": {
   "display_name": "Python 3 (ipykernel)",
   "language": "python",
   "name": "python3"
  },
  "language_info": {
   "codemirror_mode": {
    "name": "ipython",
    "version": 3
   },
   "file_extension": ".py",
   "mimetype": "text/x-python",
   "name": "python",
   "nbconvert_exporter": "python",
   "pygments_lexer": "ipython3",
   "version": "3.11.7"
  }
 },
 "nbformat": 4,
 "nbformat_minor": 5
}
