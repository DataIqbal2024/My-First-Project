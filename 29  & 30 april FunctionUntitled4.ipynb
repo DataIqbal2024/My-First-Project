{
 "cells": [
  {
   "cell_type": "code",
   "execution_count": 3,
   "id": "09f9cb4d-7cc0-4ff0-976a-a9cbae32bd84",
   "metadata": {},
   "outputs": [],
   "source": [
    " # Function\n",
    "def addition():\n",
    "    a=int(input(\"enter the number\"))\n",
    "    b=int(input(\"enter the number\"))\n",
    "    c=a+b\n",
    "    print(\"the sum is\",c)"
   ]
  },
  {
   "cell_type": "code",
   "execution_count": 4,
   "id": "e168e140-6f5f-45d8-9373-2b5bc2357513",
   "metadata": {},
   "outputs": [
    {
     "name": "stdin",
     "output_type": "stream",
     "text": [
      "enter the number 12\n",
      "enter the number 9\n"
     ]
    },
    {
     "name": "stdout",
     "output_type": "stream",
     "text": [
      "the sum is 21\n"
     ]
    }
   ],
   "source": [
    "addition()"
   ]
  },
  {
   "cell_type": "code",
   "execution_count": 6,
   "id": "d824c9e2-f406-4b12-9ca3-d4248aca99fe",
   "metadata": {},
   "outputs": [
    {
     "name": "stdin",
     "output_type": "stream",
     "text": [
      "enter the number 6\n",
      "enter the number 2\n"
     ]
    },
    {
     "name": "stdout",
     "output_type": "stream",
     "text": [
      "the sum is 8\n"
     ]
    }
   ],
   "source": [
    "addition()"
   ]
  },
  {
   "cell_type": "code",
   "execution_count": 7,
   "id": "2b5490ff-51c8-402d-8a60-d42bc6f0fdf4",
   "metadata": {},
   "outputs": [],
   "source": [
    "# Even number with if else\n",
    "def cheak():\n",
    "    n=int(input(\"Enter the number\"))\n",
    "    if n%2==0:\n",
    "        print(\"Even Number\")\n",
    "    else:\n",
    "        print(\"Odd Number\")"
   ]
  },
  {
   "cell_type": "code",
   "execution_count": 8,
   "id": "20bc757d-fa93-475a-9990-12ea41b05a17",
   "metadata": {},
   "outputs": [
    {
     "name": "stdin",
     "output_type": "stream",
     "text": [
      "Enter the number 34\n"
     ]
    },
    {
     "name": "stdout",
     "output_type": "stream",
     "text": [
      "Even Number\n"
     ]
    }
   ],
   "source": [
    "cheak()"
   ]
  },
  {
   "cell_type": "code",
   "execution_count": 9,
   "id": "cb59fb95-08cd-4763-914f-f32d7375f237",
   "metadata": {},
   "outputs": [
    {
     "name": "stdin",
     "output_type": "stream",
     "text": [
      "Enter the number 3\n"
     ]
    },
    {
     "name": "stdout",
     "output_type": "stream",
     "text": [
      "Odd Number\n"
     ]
    }
   ],
   "source": [
    "cheak()"
   ]
  },
  {
   "cell_type": "code",
   "execution_count": 10,
   "id": "2cf96fa7-3c63-4f22-be67-2c7ce580d51c",
   "metadata": {},
   "outputs": [
    {
     "name": "stdout",
     "output_type": "stream",
     "text": [
      "120\n"
     ]
    }
   ],
   "source": [
    "import math\n",
    "x=math.factorial(5)\n",
    "print(x)"
   ]
  },
  {
   "cell_type": "code",
   "execution_count": 3,
   "id": "a34222bc-545d-4eef-ac8a-69148a33beab",
   "metadata": {},
   "outputs": [],
   "source": [
    "def fact():\n",
    "    n=int(input(\"Enter the number\"))\n",
    "    f=1\n",
    "    while n>0:\n",
    "        f=f*n\n",
    "        n=n-1\n",
    "    print(\"The factorial is \",f)"
   ]
  },
  {
   "cell_type": "code",
   "execution_count": 4,
   "id": "35735f7e-0268-4c0b-a4ad-a08b32596fd6",
   "metadata": {},
   "outputs": [
    {
     "name": "stdin",
     "output_type": "stream",
     "text": [
      "Enter the number 5\n"
     ]
    },
    {
     "name": "stdout",
     "output_type": "stream",
     "text": [
      "The factorial is  120\n"
     ]
    }
   ],
   "source": [
    "fact()"
   ]
  },
  {
   "cell_type": "code",
   "execution_count": 16,
   "id": "cca49355-391e-4ebd-b66d-3fa43ffde413",
   "metadata": {},
   "outputs": [
    {
     "name": "stdin",
     "output_type": "stream",
     "text": [
      "Enter the number 50\n"
     ]
    },
    {
     "name": "stdout",
     "output_type": "stream",
     "text": [
      "The factorial is  30414093201713378043612608166064768844377641568960512000000000000\n"
     ]
    }
   ],
   "source": [
    "fact()"
   ]
  },
  {
   "cell_type": "code",
   "execution_count": 23,
   "id": "9d3d2625-73e7-47bd-be1f-f7ccbed1df30",
   "metadata": {},
   "outputs": [],
   "source": [
    "def reverse():\n",
    "    n=int(input(\"enter the number\"))\n",
    "    rev=0\n",
    "    while n>0:\n",
    "        rem=n%10\n",
    "        rev=rev*10+rem\n",
    "        n=n//10\n",
    "    print(\"the reverse is\",rev)"
   ]
  },
  {
   "cell_type": "code",
   "execution_count": 26,
   "id": "9bfd639c-8814-4cef-967a-f3b9c90bff8f",
   "metadata": {},
   "outputs": [
    {
     "name": "stdin",
     "output_type": "stream",
     "text": [
      "enter the number 45\n"
     ]
    },
    {
     "name": "stdout",
     "output_type": "stream",
     "text": [
      "the reverse is 54\n"
     ]
    }
   ],
   "source": [
    "reverse()"
   ]
  },
  {
   "cell_type": "code",
   "execution_count": 29,
   "id": "da137bd6-a0d1-47f3-86cc-de79aaae29c4",
   "metadata": {},
   "outputs": [
    {
     "name": "stdin",
     "output_type": "stream",
     "text": [
      "enter the number 10\n"
     ]
    },
    {
     "name": "stdout",
     "output_type": "stream",
     "text": [
      "the reverse is 1\n"
     ]
    }
   ],
   "source": [
    "reverse()"
   ]
  },
  {
   "cell_type": "code",
   "execution_count": 30,
   "id": "059e908c-f09e-42b1-890f-47ff16a655a7",
   "metadata": {},
   "outputs": [
    {
     "name": "stdin",
     "output_type": "stream",
     "text": [
      "enter the number 321\n"
     ]
    },
    {
     "name": "stdout",
     "output_type": "stream",
     "text": [
      "the reverse is 123\n"
     ]
    }
   ],
   "source": [
    "reverse()"
   ]
  },
  {
   "cell_type": "code",
   "execution_count": 32,
   "id": "bdd9bafa-14f2-4696-bdbb-3140d09efb63",
   "metadata": {},
   "outputs": [],
   "source": [
    "# with List\n",
    "def create():\n",
    "    ls=[]\n",
    "    for i in range(10):\n",
    "        n=int(input(\"Enter the number\"))\n",
    "        ls.append(n)\n",
    "    print(ls)"
   ]
  },
  {
   "cell_type": "code",
   "execution_count": 33,
   "id": "b382fdc0-64c9-4636-8ee3-0c68d1ec1aea",
   "metadata": {},
   "outputs": [
    {
     "name": "stdin",
     "output_type": "stream",
     "text": [
      "Enter the number 1\n",
      "Enter the number 2\n",
      "Enter the number 3\n",
      "Enter the number 4\n",
      "Enter the number 5\n",
      "Enter the number 6\n",
      "Enter the number 7\n",
      "Enter the number 8\n",
      "Enter the number 9\n",
      "Enter the number 10\n"
     ]
    },
    {
     "name": "stdout",
     "output_type": "stream",
     "text": [
      "[1, 2, 3, 4, 5, 6, 7, 8, 9, 10]\n"
     ]
    }
   ],
   "source": [
    "create()"
   ]
  },
  {
   "cell_type": "code",
   "execution_count": 34,
   "id": "cd6086ac-8ca4-4413-84cc-e35e04e497a1",
   "metadata": {},
   "outputs": [
    {
     "name": "stdin",
     "output_type": "stream",
     "text": [
      "Enter the number 23\n",
      "Enter the number 445\n",
      "Enter the number 55\n",
      "Enter the number 6\n",
      "Enter the number 7\n",
      "Enter the number 7\n",
      "Enter the number 9\n",
      "Enter the number 9\n",
      "Enter the number 94\n",
      "Enter the number 23\n"
     ]
    },
    {
     "name": "stdout",
     "output_type": "stream",
     "text": [
      "[23, 445, 55, 6, 7, 7, 9, 9, 94, 23]\n"
     ]
    }
   ],
   "source": [
    "create()"
   ]
  },
  {
   "cell_type": "markdown",
   "id": "c70f27b8-6be2-4563-94fd-9f6bb0086e19",
   "metadata": {},
   "source": [
    "# Argument\n",
    "def function_name(arg1,arg2....):\n",
    "    logic \\ computation\n",
    "\n",
    "function_name(arg1,arg2...)"
   ]
  },
  {
   "cell_type": "code",
   "execution_count": 35,
   "id": "3a69de42-4ada-4ecf-8fed-918159b24307",
   "metadata": {},
   "outputs": [],
   "source": [
    "def addition(a,b):\n",
    "    c=a+b\n",
    "    print(\"The sum is \", c)"
   ]
  },
  {
   "cell_type": "code",
   "execution_count": 36,
   "id": "4f7863c0-4f76-491c-be1b-27d0bac1f68c",
   "metadata": {},
   "outputs": [
    {
     "name": "stdout",
     "output_type": "stream",
     "text": [
      "The sum is  35\n"
     ]
    }
   ],
   "source": [
    "addition(12,23)"
   ]
  },
  {
   "cell_type": "code",
   "execution_count": 38,
   "id": "b4ec905c-f684-4a0f-9dcd-3f2a9387e1f8",
   "metadata": {},
   "outputs": [
    {
     "name": "stdin",
     "output_type": "stream",
     "text": [
      " 12\n",
      " 34\n"
     ]
    },
    {
     "name": "stdout",
     "output_type": "stream",
     "text": [
      "The sum is  46\n"
     ]
    }
   ],
   "source": [
    "x=int(input())\n",
    "y=int(input())\n",
    "addition(x,y)"
   ]
  },
  {
   "cell_type": "code",
   "execution_count": 44,
   "id": "31d53d2a-90d9-492d-be2c-470558f9aa82",
   "metadata": {},
   "outputs": [],
   "source": [
    "def leap_year(n):\n",
    "    if n%4==0:\n",
    "        print(\"Leap Year\")\n",
    "    else:\n",
    "        print(\"Not Leap Year\")"
   ]
  },
  {
   "cell_type": "code",
   "execution_count": 45,
   "id": "b219de8e-6c1f-4d52-a833-d56d2e977cb2",
   "metadata": {},
   "outputs": [
    {
     "name": "stdout",
     "output_type": "stream",
     "text": [
      "Leap Year\n"
     ]
    }
   ],
   "source": [
    "leap_year(2024)"
   ]
  },
  {
   "cell_type": "code",
   "execution_count": 46,
   "id": "bd4bdacf-b2d2-41ed-9bbd-820d44e84847",
   "metadata": {},
   "outputs": [
    {
     "name": "stdin",
     "output_type": "stream",
     "text": [
      " 2019\n"
     ]
    },
    {
     "name": "stdout",
     "output_type": "stream",
     "text": [
      "Not Leap Year\n"
     ]
    }
   ],
   "source": [
    "y=int(input())\n",
    "leap_year(y)"
   ]
  },
  {
   "cell_type": "code",
   "execution_count": 47,
   "id": "2e91fe3c-fcac-43c8-acad-b4c1c39fce94",
   "metadata": {},
   "outputs": [],
   "source": [
    "def fact(n):\n",
    "    f=1\n",
    "    while n>0:\n",
    "        f=f*n\n",
    "        n=n-1\n",
    "    print(\"the factorial is \",f)"
   ]
  },
  {
   "cell_type": "code",
   "execution_count": 48,
   "id": "8e37c432-a20b-4845-b0f8-d2c96fa75ee4",
   "metadata": {},
   "outputs": [
    {
     "name": "stdout",
     "output_type": "stream",
     "text": [
      "the factorial is  720\n"
     ]
    }
   ],
   "source": [
    "fact(6)"
   ]
  },
  {
   "cell_type": "code",
   "execution_count": 55,
   "id": "737f8fdb-2f92-4568-bd03-e24ecb8cd9ab",
   "metadata": {},
   "outputs": [],
   "source": [
    "def reverse(n):\n",
    "    rev=0\n",
    "    while n>0:\n",
    "        rem=n%10\n",
    "        rev=rev*10+rem\n",
    "        n=n//10\n",
    "    print(\"the reverse is\",rev)"
   ]
  },
  {
   "cell_type": "code",
   "execution_count": 56,
   "id": "bcd1a487-cd5e-45c7-8994-9f483605ec22",
   "metadata": {},
   "outputs": [
    {
     "name": "stdout",
     "output_type": "stream",
     "text": [
      "the reverse is 43\n"
     ]
    }
   ],
   "source": [
    "reverse(34)"
   ]
  },
  {
   "cell_type": "code",
   "execution_count": 57,
   "id": "9f437498-5fc5-4174-b8bf-abc479941479",
   "metadata": {},
   "outputs": [
    {
     "name": "stdout",
     "output_type": "stream",
     "text": [
      "the reverse is 42\n"
     ]
    }
   ],
   "source": [
    "reverse(24)"
   ]
  },
  {
   "cell_type": "code",
   "execution_count": 58,
   "id": "6ee6f631-02d4-4089-957e-025b06422f82",
   "metadata": {},
   "outputs": [],
   "source": [
    "def reverse(n):\n",
    "    rev=0\n",
    "    while n>0:\n",
    "        rev=rev*10+n%10\n",
    "        n=n//10\n",
    "    print(\"the reverse is\",rev)"
   ]
  },
  {
   "cell_type": "code",
   "execution_count": 60,
   "id": "df6eb70a-19ae-4c52-9b13-6cbff6f4292e",
   "metadata": {},
   "outputs": [
    {
     "name": "stdout",
     "output_type": "stream",
     "text": [
      "the reverse is 63\n"
     ]
    }
   ],
   "source": [
    "reverse(36)"
   ]
  },
  {
   "cell_type": "code",
   "execution_count": 63,
   "id": "2d49e1a3-73de-4e55-ac63-bf5d5eefda54",
   "metadata": {},
   "outputs": [
    {
     "name": "stdin",
     "output_type": "stream",
     "text": [
      " 23\n"
     ]
    },
    {
     "name": "stdout",
     "output_type": "stream",
     "text": [
      "the reverse is 32\n"
     ]
    }
   ],
   "source": [
    "x=int(input())\n",
    "reverse(x)"
   ]
  },
  {
   "cell_type": "code",
   "execution_count": 69,
   "id": "0588bb27-5924-47c6-aa69-22aad19716f2",
   "metadata": {},
   "outputs": [],
   "source": [
    "def oddeven(n):\n",
    "    ls_e=[]\n",
    "    ls_o=[]\n",
    "    for i in n:\n",
    "        if i%2==0:\n",
    "            ls_e.append(i)\n",
    "        else:\n",
    "            ls_o.append(i)\n",
    "    print(\"Even List\",ls_e)\n",
    "    print(\"Odd List\",ls_o)"
   ]
  },
  {
   "cell_type": "code",
   "execution_count": 70,
   "id": "53426a7d-3571-4795-9603-336bdd2b3ee6",
   "metadata": {},
   "outputs": [
    {
     "name": "stdout",
     "output_type": "stream",
     "text": [
      "Even List [12, 34, 54, 788, 44]\n",
      "Odd List [23, 445, 5, 67, 67, 75]\n"
     ]
    }
   ],
   "source": [
    "oddeven([12,23,34,445,5,67,54,67,788,75,44])"
   ]
  },
  {
   "cell_type": "code",
   "execution_count": 71,
   "id": "b6b913a9-583e-4d91-ad32-bca30fbed952",
   "metadata": {},
   "outputs": [
    {
     "name": "stdout",
     "output_type": "stream",
     "text": [
      "[67, 45, 34]\n"
     ]
    }
   ],
   "source": [
    "def rev_list(n):\n",
    "    print(n[::-1])\n",
    "rev_list([34,45,67])"
   ]
  },
  {
   "cell_type": "code",
   "execution_count": 76,
   "id": "27021018-bd40-4e39-b606-27e2da2c1a3e",
   "metadata": {},
   "outputs": [
    {
     "name": "stdout",
     "output_type": "stream",
     "text": [
      "78\n",
      "67\n",
      "56\n"
     ]
    }
   ],
   "source": [
    "def rev_list(n):\n",
    "    for i in range(len(n)-1,-1,-1):\n",
    "        print(n[i])\n",
    "rev_list([56,67,78])"
   ]
  },
  {
   "cell_type": "code",
   "execution_count": 77,
   "id": "e071dbdb-f2b4-4be7-aa0e-0be8bba96ac6",
   "metadata": {},
   "outputs": [],
   "source": [
    "def rev_list(n):\n",
    "    for i in range(len(n)-1,-1,-1):\n",
    "        print(n[i])"
   ]
  },
  {
   "cell_type": "code",
   "execution_count": 78,
   "id": "10702d90-1422-4aa2-b056-309274391e2a",
   "metadata": {},
   "outputs": [
    {
     "name": "stdout",
     "output_type": "stream",
     "text": [
      "67\n",
      "45\n",
      "23\n"
     ]
    }
   ],
   "source": [
    "rev_list([23,45,67])"
   ]
  },
  {
   "cell_type": "code",
   "execution_count": 79,
   "id": "ad25a113-3625-4727-9828-3cfc03c0eaf6",
   "metadata": {},
   "outputs": [],
   "source": [
    "def rev_list(n):\n",
    "    for i in range(len(n)-1,-1,-1):\n",
    "        print(n[i],end=\" \")\n",
    "\n",
    "\n",
    "\n"
   ]
  },
  {
   "cell_type": "code",
   "execution_count": 80,
   "id": "739aeb57-19de-4439-9e38-0ff7159f7368",
   "metadata": {},
   "outputs": [
    {
     "name": "stdout",
     "output_type": "stream",
     "text": [
      "78 67 56 "
     ]
    }
   ],
   "source": [
    "rev_list([56,67,78])"
   ]
  },
  {
   "cell_type": "code",
   "execution_count": 1,
   "id": "d3ee9512-6374-4c4d-9774-f66e1426d784",
   "metadata": {},
   "outputs": [],
   "source": [
    "\n",
    "\n",
    "#  Place Holder Argument\n",
    "\n",
    "\n"
   ]
  },
  {
   "cell_type": "code",
   "execution_count": 6,
   "id": "8210c285-9696-4425-897d-8804109bfb55",
   "metadata": {},
   "outputs": [],
   "source": [
    "def addition(a,b=300,c=600):\n",
    "    d=a+b+c\n",
    "    print(\"The sum is \", d)"
   ]
  },
  {
   "cell_type": "code",
   "execution_count": 7,
   "id": "9bb070af-540a-4d76-9e12-65f5523cec9b",
   "metadata": {},
   "outputs": [
    {
     "name": "stdout",
     "output_type": "stream",
     "text": [
      "The sum is  1200\n"
     ]
    }
   ],
   "source": [
    "addition(300)"
   ]
  },
  {
   "cell_type": "code",
   "execution_count": 8,
   "id": "5152e0c6-4c9e-495c-802a-d939de209b63",
   "metadata": {},
   "outputs": [
    {
     "name": "stdout",
     "output_type": "stream",
     "text": [
      "The sum is  2000\n"
     ]
    }
   ],
   "source": [
    "addition(1000,400)"
   ]
  },
  {
   "cell_type": "code",
   "execution_count": 13,
   "id": "28fecaae-561a-4c20-a31f-17ebc828dd5e",
   "metadata": {},
   "outputs": [
    {
     "name": "stdout",
     "output_type": "stream",
     "text": [
      "The sum is  1500\n"
     ]
    }
   ],
   "source": [
    "addition(500,500,500)"
   ]
  },
  {
   "cell_type": "code",
   "execution_count": 14,
   "id": "fc63c817-1399-4ad8-922c-c49d273a37fe",
   "metadata": {},
   "outputs": [],
   "source": [
    "# simple interest\n",
    "\n",
    "def interest(p=1000,r=3.6,t=5):\n",
    "    si=p*r*t/100\n",
    "    print(\"The interest is \", si)"
   ]
  },
  {
   "cell_type": "code",
   "execution_count": 15,
   "id": "088a33cd-5a1a-4f81-9095-4e5204f1c5d4",
   "metadata": {},
   "outputs": [
    {
     "name": "stdout",
     "output_type": "stream",
     "text": [
      "The interest is  180.0\n"
     ]
    }
   ],
   "source": [
    "interest()"
   ]
  },
  {
   "cell_type": "code",
   "execution_count": 16,
   "id": "7c7f0786-583d-4cbe-871e-3a81c5019fdd",
   "metadata": {},
   "outputs": [
    {
     "name": "stdout",
     "output_type": "stream",
     "text": [
      "The interest is  720.0\n"
     ]
    }
   ],
   "source": [
    "interest(4000)"
   ]
  },
  {
   "cell_type": "code",
   "execution_count": 17,
   "id": "3a3d5313-3f2d-4d60-a338-b540f7267676",
   "metadata": {},
   "outputs": [
    {
     "name": "stdout",
     "output_type": "stream",
     "text": [
      "The interest is  1185.0\n"
     ]
    }
   ],
   "source": [
    "interest(3000,7.9)"
   ]
  },
  {
   "cell_type": "code",
   "execution_count": 18,
   "id": "c7c04f90-d5cb-4867-89a8-31f7237d0de0",
   "metadata": {},
   "outputs": [
    {
     "name": "stdout",
     "output_type": "stream",
     "text": [
      "The interest is  7056.0\n"
     ]
    }
   ],
   "source": [
    "interest(8000,9.8,9)"
   ]
  },
  {
   "cell_type": "code",
   "execution_count": 19,
   "id": "1c13a252-7452-48cd-83c8-561027b1ba1e",
   "metadata": {},
   "outputs": [],
   "source": [
    "\n",
    "# return the value\n",
    "# this is packing concept\n",
    "\n",
    "def mathop(a,b):\n",
    "    return a+b,a-b,a*b,a/b"
   ]
  },
  {
   "cell_type": "code",
   "execution_count": 22,
   "id": "fc36427d-ba38-42da-823c-61200534e24e",
   "metadata": {},
   "outputs": [
    {
     "name": "stdout",
     "output_type": "stream",
     "text": [
      "(68, -22, 1035, 0.5111111111111111)\n"
     ]
    }
   ],
   "source": [
    "x=mathop(23,45)\n",
    "print(x)"
   ]
  },
  {
   "cell_type": "code",
   "execution_count": 24,
   "id": "9b9c1a59-c9e2-4533-b131-47fcaddc1934",
   "metadata": {},
   "outputs": [
    {
     "name": "stdout",
     "output_type": "stream",
     "text": [
      "Sum 68\n",
      "Sub -22\n",
      "Mul 1035\n",
      "Div 0.5111111111111111\n"
     ]
    }
   ],
   "source": [
    "x,y,z,w=mathop(23,45)\n",
    "print(\"Sum\",x)\n",
    "print(\"Sub\",y)\n",
    "print(\"Mul\",z)\n",
    "print(\"Div\",w)"
   ]
  },
  {
   "cell_type": "code",
   "execution_count": 25,
   "id": "722fc41d-fb79-4e88-bc8f-c3767e20ef61",
   "metadata": {},
   "outputs": [],
   "source": [
    "# Even odd number\n",
    "def cheak(n):\n",
    "    if n%2==0:\n",
    "        return \"Even Number\"\n",
    "    else:\n",
    "        return \"Odd Number\""
   ]
  },
  {
   "cell_type": "code",
   "execution_count": 26,
   "id": "527116f5-5d1d-4cac-aae4-0ae99504f2be",
   "metadata": {},
   "outputs": [
    {
     "name": "stdout",
     "output_type": "stream",
     "text": [
      "Odd Number\n"
     ]
    }
   ],
   "source": [
    "print(cheak(55))"
   ]
  },
  {
   "cell_type": "code",
   "execution_count": 27,
   "id": "cd4baf7d-2a2a-4703-9448-44da870b02e0",
   "metadata": {},
   "outputs": [
    {
     "name": "stdout",
     "output_type": "stream",
     "text": [
      "Even Number\n"
     ]
    }
   ],
   "source": [
    "print(cheak(66))"
   ]
  },
  {
   "cell_type": "markdown",
   "id": "24b438af-6bff-40ee-aca2-7c11ba15d4a3",
   "metadata": {},
   "source": [
    "\n",
    "\n",
    "\n",
    "-------DEFINING THE FUNCTIONS-------"
   ]
  },
  {
   "cell_type": "code",
   "execution_count": 28,
   "id": "0f34ea3e-8b03-4f85-a7c0-4a00cf42145e",
   "metadata": {},
   "outputs": [],
   "source": [
    "def datascience(a,b,c,d,e):\n",
    "    return(a+b,a*b)"
   ]
  },
  {
   "cell_type": "code",
   "execution_count": 31,
   "id": "2220e3d3-2042-4f37-b8e1-168346803754",
   "metadata": {},
   "outputs": [
    {
     "data": {
      "text/plain": [
       "(5, 6)"
      ]
     },
     "execution_count": 31,
     "metadata": {},
     "output_type": "execute_result"
    }
   ],
   "source": [
    "datascience(2,3,4,5,6)"
   ]
  },
  {
   "cell_type": "code",
   "execution_count": 32,
   "id": "6536c008-28bf-40e4-9a8f-ac51ff95dcf1",
   "metadata": {},
   "outputs": [],
   "source": [
    "def datascience(a,b,c,d,e):\n",
    "    return(a+b,a*b,a/b)"
   ]
  },
  {
   "cell_type": "code",
   "execution_count": 33,
   "id": "59f9ef4d-dfd5-4426-a5f6-bd0ad423c9c6",
   "metadata": {},
   "outputs": [
    {
     "data": {
      "text/plain": [
       "(5, 6, 0.6666666666666666)"
      ]
     },
     "execution_count": 33,
     "metadata": {},
     "output_type": "execute_result"
    }
   ],
   "source": [
    "datascience(2,3,4,5,6)"
   ]
  },
  {
   "cell_type": "code",
   "execution_count": 34,
   "id": "0054ffcd-98c2-4d92-9164-403b2c911486",
   "metadata": {},
   "outputs": [],
   "source": [
    "def hello(a,b):\n",
    "    return(\"My name is {} and gender is {}\".format(a,b))"
   ]
  },
  {
   "cell_type": "code",
   "execution_count": 37,
   "id": "1c4e4fd8-84f4-4f4b-b8e0-11de25077eca",
   "metadata": {},
   "outputs": [],
   "source": [
    "a=hello(\"Iqbal\",\"Male\")"
   ]
  },
  {
   "cell_type": "code",
   "execution_count": 38,
   "id": "dbd46801-f307-4cf1-910f-292156e0e2f8",
   "metadata": {},
   "outputs": [
    {
     "data": {
      "text/plain": [
       "'My name is Iqbal and gender is Male'"
      ]
     },
     "execution_count": 38,
     "metadata": {},
     "output_type": "execute_result"
    }
   ],
   "source": [
    "a"
   ]
  },
  {
   "cell_type": "code",
   "execution_count": 40,
   "id": "764304c9-2d2b-4459-a1d6-c03c5a95dfcf",
   "metadata": {},
   "outputs": [
    {
     "name": "stdout",
     "output_type": "stream",
     "text": [
      "1600\n",
      "1600\n",
      "5100\n"
     ]
    }
   ],
   "source": [
    "# return default type\n",
    "\n",
    "def addition(a,b=700,c=600):\n",
    "    return a+b+c\n",
    "print(addition(300))\n",
    "print(addition(a=400,c=500))\n",
    "print(addition(100,2000,3000))"
   ]
  },
  {
   "cell_type": "code",
   "execution_count": 42,
   "id": "2b551afc-66b4-4013-8fde-ed42518359e4",
   "metadata": {},
   "outputs": [
    {
     "data": {
      "text/plain": [
       "2300"
      ]
     },
     "execution_count": 42,
     "metadata": {},
     "output_type": "execute_result"
    }
   ],
   "source": [
    "addition(1000)"
   ]
  },
  {
   "cell_type": "code",
   "execution_count": 43,
   "id": "dc7578c1-d2d8-4419-a510-a088c11cf48c",
   "metadata": {},
   "outputs": [],
   "source": [
    "def hello(name,age=23,gender=\"male\"):\n",
    "    return(\"My name is {} and age is {} and gender is {}\".format(name,age,gender))"
   ]
  },
  {
   "cell_type": "code",
   "execution_count": 45,
   "id": "e63cdb11-9a39-48a9-b7a0-0612e02096c5",
   "metadata": {},
   "outputs": [
    {
     "data": {
      "text/plain": [
       "'My name is Iqbal and age is 23 and gender is male'"
      ]
     },
     "execution_count": 45,
     "metadata": {},
     "output_type": "execute_result"
    }
   ],
   "source": [
    "hello(\"Iqbal\")"
   ]
  },
  {
   "cell_type": "code",
   "execution_count": 48,
   "id": "ac1f9c72-5a9f-415e-8419-803a711bade1",
   "metadata": {},
   "outputs": [],
   "source": [
    "u = [1,2,3]"
   ]
  },
  {
   "cell_type": "code",
   "execution_count": 49,
   "id": "992840ee-afaf-4edf-8c50-bc396b5f90d6",
   "metadata": {},
   "outputs": [
    {
     "data": {
      "text/plain": [
       "[1, 2, 3]"
      ]
     },
     "execution_count": 49,
     "metadata": {},
     "output_type": "execute_result"
    }
   ],
   "source": [
    "u"
   ]
  },
  {
   "cell_type": "code",
   "execution_count": 50,
   "id": "e3f8b982-d7a3-403b-b0b9-26bdca194452",
   "metadata": {},
   "outputs": [
    {
     "name": "stdout",
     "output_type": "stream",
     "text": [
      "1 2 3\n"
     ]
    }
   ],
   "source": [
    "print(*u)"
   ]
  },
  {
   "cell_type": "code",
   "execution_count": 51,
   "id": "31b2daa1-858d-4201-973f-61fb60518204",
   "metadata": {},
   "outputs": [],
   "source": [
    "a,*b,c=[1,2,3,4,5,6,78,89,90]"
   ]
  },
  {
   "cell_type": "code",
   "execution_count": 52,
   "id": "c6fc5566-21c6-47fb-b4a2-fef20ac1b492",
   "metadata": {},
   "outputs": [
    {
     "data": {
      "text/plain": [
       "1"
      ]
     },
     "execution_count": 52,
     "metadata": {},
     "output_type": "execute_result"
    }
   ],
   "source": [
    "a"
   ]
  },
  {
   "cell_type": "code",
   "execution_count": 53,
   "id": "9c3033b8-0ec3-4a41-8aed-9a37f1c3eb65",
   "metadata": {},
   "outputs": [
    {
     "data": {
      "text/plain": [
       "[2, 3, 4, 5, 6, 78, 89]"
      ]
     },
     "execution_count": 53,
     "metadata": {},
     "output_type": "execute_result"
    }
   ],
   "source": [
    "b"
   ]
  },
  {
   "cell_type": "code",
   "execution_count": 54,
   "id": "78618eed-4ec6-45df-b455-eb5e591a3759",
   "metadata": {},
   "outputs": [
    {
     "data": {
      "text/plain": [
       "90"
      ]
     },
     "execution_count": 54,
     "metadata": {},
     "output_type": "execute_result"
    }
   ],
   "source": [
    "c"
   ]
  },
  {
   "cell_type": "code",
   "execution_count": 59,
   "id": "9ac3b870-d110-415d-b34b-4567717ef551",
   "metadata": {},
   "outputs": [],
   "source": [
    "a,b,*c=[2,3,4,44,5,6,7,7,7,65,4,6,7,7]"
   ]
  },
  {
   "cell_type": "code",
   "execution_count": 60,
   "id": "84adc75e-a671-4259-8789-99beecc8dfac",
   "metadata": {},
   "outputs": [
    {
     "data": {
      "text/plain": [
       "2"
      ]
     },
     "execution_count": 60,
     "metadata": {},
     "output_type": "execute_result"
    }
   ],
   "source": [
    "a"
   ]
  },
  {
   "cell_type": "code",
   "execution_count": 61,
   "id": "d05ada19-a1c8-49bd-b38a-3cd72776c8b3",
   "metadata": {},
   "outputs": [
    {
     "data": {
      "text/plain": [
       "3"
      ]
     },
     "execution_count": 61,
     "metadata": {},
     "output_type": "execute_result"
    }
   ],
   "source": [
    "b"
   ]
  },
  {
   "cell_type": "code",
   "execution_count": 62,
   "id": "86aa1034-ceae-4ccd-abaa-cf866b0146bc",
   "metadata": {},
   "outputs": [
    {
     "data": {
      "text/plain": [
       "[4, 44, 5, 6, 7, 7, 7, 65, 4, 6, 7, 7]"
      ]
     },
     "execution_count": 62,
     "metadata": {},
     "output_type": "execute_result"
    }
   ],
   "source": [
    "c"
   ]
  },
  {
   "cell_type": "code",
   "execution_count": 63,
   "id": "18a4aea9-5fbe-4c30-a143-7e9dda1ac35e",
   "metadata": {},
   "outputs": [
    {
     "data": {
      "text/plain": [
       "[[1, 2, 3], [4, 5, 6]]"
      ]
     },
     "execution_count": 63,
     "metadata": {},
     "output_type": "execute_result"
    }
   ],
   "source": [
    "A = [1,2,3]\n",
    "B = [4,5,6]\n",
    "C = [A,B]\n",
    "C"
   ]
  },
  {
   "cell_type": "code",
   "execution_count": 65,
   "id": "70c8f5f3-e1bf-49fb-bc0a-8f8f2b9ba982",
   "metadata": {},
   "outputs": [
    {
     "name": "stdout",
     "output_type": "stream",
     "text": [
      "[1, 2, 3, 4, 5, 6]\n"
     ]
    }
   ],
   "source": [
    "D = [*A,*B]\n",
    "print(D)"
   ]
  },
  {
   "cell_type": "code",
   "execution_count": 67,
   "id": "eb43ff74-2a7c-4365-b4f8-13791c4fbef2",
   "metadata": {},
   "outputs": [
    {
     "data": {
      "text/plain": [
       "[[1, 2, 3], [4, 5, 6], [7]]"
      ]
     },
     "execution_count": 67,
     "metadata": {},
     "output_type": "execute_result"
    }
   ],
   "source": [
    "A = [1,2,3]\n",
    "B = [4,5,6]\n",
    "C = [7]\n",
    "D = [A,B,C]\n",
    "D"
   ]
  },
  {
   "cell_type": "code",
   "execution_count": 68,
   "id": "05568691-48e6-45a1-8529-6d99e5ea7ddd",
   "metadata": {},
   "outputs": [
    {
     "data": {
      "text/plain": [
       "[1, 2, 3, 4, 5, 6, 7]"
      ]
     },
     "execution_count": 68,
     "metadata": {},
     "output_type": "execute_result"
    }
   ],
   "source": [
    "E = [*A,*B,*C]\n",
    "E"
   ]
  },
  {
   "cell_type": "code",
   "execution_count": 69,
   "id": "a3629945-3a05-429a-a040-e7112a0e834a",
   "metadata": {},
   "outputs": [
    {
     "data": {
      "text/plain": [
       "['M', 'o', 'h', 'a', 'm', 'm', 'a', 'd', 'I', 'q', 'b', 'a', 'l']"
      ]
     },
     "execution_count": 69,
     "metadata": {},
     "output_type": "execute_result"
    }
   ],
   "source": [
    "a = [*\"MohammadIqbal\"]\n",
    "a"
   ]
  },
  {
   "cell_type": "code",
   "execution_count": 70,
   "id": "37bca311-efc1-4f32-9d82-65e0ad25c1db",
   "metadata": {},
   "outputs": [
    {
     "data": {
      "text/plain": [
       "['M', 'o', 'h', 'a', 'm', 'm', 'a', 'd', ' ', 'I', 'q', 'b', 'a', 'l']"
      ]
     },
     "execution_count": 70,
     "metadata": {},
     "output_type": "execute_result"
    }
   ],
   "source": [
    "a = [*\"Mohammad Iqbal\"]\n",
    "a"
   ]
  },
  {
   "cell_type": "code",
   "execution_count": 71,
   "id": "571842dc-03c3-4b96-b1f8-f11838644c9e",
   "metadata": {},
   "outputs": [],
   "source": [
    "d1 = {\"A\":1 , \"B\":2}\n",
    "\n",
    "d2 = {\"C\":3 , \"D\":4}"
   ]
  },
  {
   "cell_type": "code",
   "execution_count": 72,
   "id": "dfe02dbb-f5d4-41e3-a6fe-47a331af6d1d",
   "metadata": {},
   "outputs": [],
   "source": [
    "d1.update(d2)"
   ]
  },
  {
   "cell_type": "code",
   "execution_count": 73,
   "id": "50582851-993a-40b3-a167-d50c72799ee0",
   "metadata": {},
   "outputs": [
    {
     "data": {
      "text/plain": [
       "{'A': 1, 'B': 2, 'C': 3, 'D': 4}"
      ]
     },
     "execution_count": 73,
     "metadata": {},
     "output_type": "execute_result"
    }
   ],
   "source": [
    "d1"
   ]
  },
  {
   "cell_type": "code",
   "execution_count": 75,
   "id": "77a91385-32aa-4b0f-a5eb-5d6ca9db9703",
   "metadata": {},
   "outputs": [
    {
     "data": {
      "text/plain": [
       "{'A': 1, 'B': 2, 'C': 34, 'D': 34}"
      ]
     },
     "execution_count": 75,
     "metadata": {},
     "output_type": "execute_result"
    }
   ],
   "source": [
    "#--------------------- meaning of **kwargs (Keyword Argument:- to unpack dictionaries-------------\n",
    "\n",
    "d1 = {\"A\":1 , \"B\":2}\n",
    "d2 = {\"C\":34 , \"D\":34}\n",
    "d3 = {**d1 , **d2}\n",
    "d3"
   ]
  },
  {
   "cell_type": "code",
   "execution_count": 2,
   "id": "05b40a58-9fbd-4650-98f4-72905c3df0d6",
   "metadata": {},
   "outputs": [
    {
     "data": {
      "text/plain": [
       "{'A', 'B', 'C', 'D'}"
      ]
     },
     "execution_count": 2,
     "metadata": {},
     "output_type": "execute_result"
    }
   ],
   "source": [
    "d1 = {\"A\":1 , \"B\":2}\n",
    "d2 = {\"C\":34 , \"D\":34}\n",
    "d3 = {*d1 , *d2}\n",
    "d3"
   ]
  },
  {
   "cell_type": "code",
   "execution_count": 3,
   "id": "5dba0c75-d395-4a12-aa13-48e946140a98",
   "metadata": {},
   "outputs": [],
   "source": [
    "def my_sum(*a):\n",
    "    result=0\n",
    "    for i in a:\n",
    "        result +=i\n",
    "    return result"
   ]
  },
  {
   "cell_type": "code",
   "execution_count": 4,
   "id": "0a6a6019-3dd0-4a92-9003-26df91fb933f",
   "metadata": {},
   "outputs": [
    {
     "data": {
      "text/plain": [
       "45"
      ]
     },
     "execution_count": 4,
     "metadata": {},
     "output_type": "execute_result"
    }
   ],
   "source": [
    "list1 = [1,2,3]\n",
    "list2 = [4,5]\n",
    "list3 = [6,7,8,9]\n",
    "my_sum(*list1,*list2,*list3)"
   ]
  },
  {
   "cell_type": "code",
   "execution_count": null,
   "id": "d683828f-c5f0-4b34-96ae-0f8e877625c7",
   "metadata": {},
   "outputs": [],
   "source": []
  }
 ],
 "metadata": {
  "kernelspec": {
   "display_name": "Python 3 (ipykernel)",
   "language": "python",
   "name": "python3"
  },
  "language_info": {
   "codemirror_mode": {
    "name": "ipython",
    "version": 3
   },
   "file_extension": ".py",
   "mimetype": "text/x-python",
   "name": "python",
   "nbconvert_exporter": "python",
   "pygments_lexer": "ipython3",
   "version": "3.11.7"
  }
 },
 "nbformat": 4,
 "nbformat_minor": 5
}
