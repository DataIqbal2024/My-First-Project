{
 "cells": [
  {
   "cell_type": "code",
   "execution_count": 2,
   "id": "ca884461-be07-4949-9b3b-7b75a0de3475",
   "metadata": {},
   "outputs": [
    {
     "data": {
      "text/plain": [
       "'\\nLIST\\n---\\nLIST is sequence data structure ordered and indexed\\nenlosed in [](square bracket)\\n\"mutable\" changeable(change any of the element after creation)\\nHetreogenous (support multiple data type)\\n'"
      ]
     },
     "execution_count": 2,
     "metadata": {},
     "output_type": "execute_result"
    }
   ],
   "source": [
    "'''\n",
    "LIST\n",
    "---\n",
    "LIST is sequence data structure ordered and indexed\n",
    "enlosed in [](square bracket)\n",
    "\"mutable\" changeable(change any of the element after creation)\n",
    "Hetreogenous (support multiple data type)\n",
    "'''"
   ]
  },
  {
   "cell_type": "code",
   "execution_count": null,
   "id": "81fd9550-7285-44d5-a137-1252cfadd82d",
   "metadata": {},
   "outputs": [],
   "source": [
    "# Create\n",
    "\n",
    "\n",
    "ls=[12,23,34,45,566,7]  #List of integer\n",
    "print(ls)\n",
    "ls=[\"hello\",\"how\",\"are\",\"you\"]  #List of strings\n",
    "print(ls)\n",
    "ls=[12.232,34.45,56.67]  #List of float values\n",
    "print(ls)\n",
    "ls=[12,23,34,\"hello\",23.34]  #Mixed Type\n",
    "print(ls)\n",
    "ls=[12,23,34[45,546,67]]   #Nested List\n",
    "print(ls)"
   ]
  },
  {
   "cell_type": "code",
   "execution_count": null,
   "id": "feb7ba05-78e0-45de-8a77-ebe0e76da942",
   "metadata": {},
   "outputs": [],
   "source": [
    "#Accesing \n",
    "\n",
    "when we accesed the value of the list from left to right\n",
    "then index is 0---onwards\n",
    "means first element is always at index 0\n",
    "\n",
    "if we access the elements of the list from right side then the index is -1 to onwards\n",
    "-1  -2----    \n",
    "index never be a float value\n",
    "ls[4.5] --wrong"
   ]
  },
  {
   "cell_type": "code",
   "execution_count": 3,
   "id": "fec108b3-e1e6-4f86-b9fb-3becc48e8536",
   "metadata": {},
   "outputs": [
    {
     "name": "stdout",
     "output_type": "stream",
     "text": [
      "12\n",
      "45\n",
      "67\n"
     ]
    },
    {
     "ename": "IndexError",
     "evalue": "list index out of range",
     "output_type": "error",
     "traceback": [
      "\u001b[1;31m---------------------------------------------------------------------------\u001b[0m",
      "\u001b[1;31mIndexError\u001b[0m                                Traceback (most recent call last)",
      "Cell \u001b[1;32mIn[3], line 5\u001b[0m\n\u001b[0;32m      3\u001b[0m \u001b[38;5;28mprint\u001b[39m(ls[\u001b[38;5;241m3\u001b[39m])\n\u001b[0;32m      4\u001b[0m \u001b[38;5;28mprint\u001b[39m(ls[\u001b[38;5;241m5\u001b[39m])\n\u001b[1;32m----> 5\u001b[0m \u001b[38;5;28mprint\u001b[39m(ls[\u001b[38;5;241m8\u001b[39m])\n",
      "\u001b[1;31mIndexError\u001b[0m: list index out of range"
     ]
    }
   ],
   "source": [
    "ls=[12,23,34,45,56,67,78,89]\n",
    "print(ls[0])   #12\n",
    "print(ls[3])\n",
    "print(ls[5])\n",
    "print(ls[8])"
   ]
  },
  {
   "cell_type": "code",
   "execution_count": 9,
   "id": "6a824f3a-5080-4fd8-b84a-7a605192b0e7",
   "metadata": {},
   "outputs": [
    {
     "name": "stdout",
     "output_type": "stream",
     "text": [
      "89\n",
      "67\n",
      "45\n"
     ]
    }
   ],
   "source": [
    "ls=[12,23,34,45,56,67,78,89]\n",
    "print(ls[-1]) #89\n",
    "print(ls[-3]) #67\n",
    "print(ls[-5]) #45"
   ]
  },
  {
   "cell_type": "code",
   "execution_count": 10,
   "id": "aeec8f68-6f76-4788-a702-da9513fec57e",
   "metadata": {},
   "outputs": [
    {
     "name": "stdout",
     "output_type": "stream",
     "text": [
      "56\n",
      "[98, 87, 76, [78, 67, 87]]\n",
      "87\n",
      "67\n"
     ]
    }
   ],
   "source": [
    "# nested list\n",
    "\n",
    "ls=[12,23,34,45,56,[98,87,76,[78,67,87]]]\n",
    "print(ls[4])       #56\n",
    "print(ls[5])       #[98,87,76,[78,67,87]]\n",
    "print(ls[5][1])    #87\n",
    "print(ls[5][3][1]) #67"
   ]
  },
  {
   "cell_type": "code",
   "execution_count": 11,
   "id": "eeef46d3-d5a1-47b0-b062-79dcf953ec65",
   "metadata": {},
   "outputs": [
    {
     "name": "stdout",
     "output_type": "stream",
     "text": [
      "['I', 'q', 'b', 'a', 'l']\n"
     ]
    }
   ],
   "source": [
    "# List constructor\n",
    "\n",
    "ls=list(\"Iqbal\")\n",
    "print(ls)"
   ]
  },
  {
   "cell_type": "code",
   "execution_count": 16,
   "id": "46d8c4ff-a17f-449d-9623-7b1c66399bf6",
   "metadata": {},
   "outputs": [
    {
     "name": "stdout",
     "output_type": "stream",
     "text": [
      "['M', 'o', 'h', 'a', 'm', 'm', 'a', 'd', ' ', 'I', 'q', 'b', 'a', 'l']\n"
     ]
    }
   ],
   "source": [
    "ls=list(\"Mohammad Iqbal\")\n",
    "print(ls)"
   ]
  },
  {
   "cell_type": "code",
   "execution_count": 17,
   "id": "737b597f-f6e0-47ca-b230-836365749cfa",
   "metadata": {},
   "outputs": [
    {
     "name": "stdout",
     "output_type": "stream",
     "text": [
      "[12, 23, 34]\n"
     ]
    }
   ],
   "source": [
    "ls=list((12,23,34))\n",
    "print(ls)"
   ]
  },
  {
   "cell_type": "code",
   "execution_count": 20,
   "id": "7231ec96-2576-42c7-9eb2-471346573fa9",
   "metadata": {},
   "outputs": [
    {
     "name": "stdout",
     "output_type": "stream",
     "text": [
      "[12, 23, 34, 45, 56]\n",
      "[12, 23, 34, 'Iqbal', 56]\n"
     ]
    }
   ],
   "source": [
    "# Update\n",
    "\n",
    "ls=[12,23,34,45,56]\n",
    "print(ls)\n",
    "ls[3]=\"Iqbal\"\n",
    "print(ls)"
   ]
  },
  {
   "cell_type": "code",
   "execution_count": 21,
   "id": "1bf1bc6e-7c33-4ce2-b5f5-3e39e06c2c94",
   "metadata": {},
   "outputs": [
    {
     "name": "stdout",
     "output_type": "stream",
     "text": [
      "[12, 23, 34, 45, 56]\n",
      "[12, 23, 34, 45, 'Iqbal']\n"
     ]
    }
   ],
   "source": [
    "ls=[12,23,34,45,56]\n",
    "print(ls)\n",
    "ls[-1]=\"Iqbal\"\n",
    "print(ls)"
   ]
  },
  {
   "cell_type": "code",
   "execution_count": 24,
   "id": "27f77acd-5a9d-45ae-9989-fcd40f66a8e1",
   "metadata": {},
   "outputs": [
    {
     "data": {
      "text/plain": [
       "'\\n# Slicing \\n\":\" Slice operator\\nby this we can access more than one element from the list\\n\\nls=[start.end] # end-1\\nls=[start:end:step]\\n\\nDifferet bitween List & tupple is ( List can be change Tupple can\\'t be changed but the concept is elaborated , this concept is mutale & immutable\\n'"
      ]
     },
     "execution_count": 24,
     "metadata": {},
     "output_type": "execute_result"
    }
   ],
   "source": [
    "'''\n",
    "# Slicing \n",
    "\":\" Slice operator\n",
    "by this we can access more than one element from the list\n",
    "\n",
    "ls=[start.end] # end-1\n",
    "ls=[start:end:step]\n",
    "\n",
    "Differet bitween List & tupple is ( List can be change Tupple can't be changed but the concept is elaborated , this concept is mutale & immutable\n",
    "'''"
   ]
  },
  {
   "cell_type": "code",
   "execution_count": 27,
   "id": "34fc2420-71b5-4cef-a9d1-ed9a10a82381",
   "metadata": {},
   "outputs": [
    {
     "name": "stdout",
     "output_type": "stream",
     "text": [
      "56\n",
      "[34, 45, 56, 67, 78, 89]\n",
      "[12, 23, 34, 45, 56, 67, 78, 89]\n",
      "[34, 45, 56, 67, 78, 89]\n",
      "[12, 23, 34, 45, 56, 67, 78, 89]\n",
      "[34, 56, 78]\n",
      "[89, 78, 67, 56, 45, 34, 23, 12]\n"
     ]
    }
   ],
   "source": [
    "ls=[12,23,34,45,56,67,78,89]\n",
    "print(ls[4])    #56\n",
    "print(ls[2:8])  #34,45,56,67,78,89\n",
    "print(ls[:8])   #from 0---7\n",
    "print(ls[2:])   #from 2---end\n",
    "print(ls[:])    #from the begining to the last\n",
    "print(ls[2::2]) #34 56 78\n",
    "print(ls[::-1]) #reverse of the list ------- Important"
   ]
  },
  {
   "cell_type": "code",
   "execution_count": 30,
   "id": "35cf31b9-aa29-45f8-a298-902fabe1512c",
   "metadata": {},
   "outputs": [
    {
     "name": "stdout",
     "output_type": "stream",
     "text": [
      "[12, 23, 34, 45, 'Iqbal', 67, 78, 89]\n",
      "[12, 23, 'Hello', 'how', 'are', 'you', 78, 89]\n"
     ]
    }
   ],
   "source": [
    "# Multiple value updation\n",
    "\n",
    "ls=[12,23,34,45,56,67,78,89]\n",
    "ls[4]=\"Iqbal\"\n",
    "print(ls)\n",
    "ls[2:6]=[\"Hello\",\"how\",\"are\",\"you\"]\n",
    "print(ls)"
   ]
  },
  {
   "cell_type": "code",
   "execution_count": 31,
   "id": "47ecd4e1-1cdf-4480-a2b3-428fbbddca96",
   "metadata": {},
   "outputs": [
    {
     "name": "stdout",
     "output_type": "stream",
     "text": [
      "[12, 23, 34, 45, 56, 67]\n"
     ]
    },
    {
     "data": {
      "text/plain": [
       "67"
      ]
     },
     "execution_count": 31,
     "metadata": {},
     "output_type": "execute_result"
    }
   ],
   "source": [
    "# Delete \n",
    "#pop()\n",
    "#it is used for delete an element it can be used as the following\n",
    "\n",
    "ls=[12,23,34,45,56,67]\n",
    "print(ls)\n",
    "ls.pop() #if we don't provide any index then it will delete the last value"
   ]
  },
  {
   "cell_type": "code",
   "execution_count": 32,
   "id": "807a4074-a44d-4051-b7de-cef9d18747ac",
   "metadata": {},
   "outputs": [
    {
     "name": "stdout",
     "output_type": "stream",
     "text": [
      "[12, 23, 34, 45, 56, 67]\n",
      "[12, 34, 45, 56, 67]\n"
     ]
    }
   ],
   "source": [
    "ls=[12,23,34,45,56,67]\n",
    "print(ls)\n",
    "ls.pop(1) # if we provide an index then it will delete the element at that index\n",
    "print(ls)"
   ]
  },
  {
   "cell_type": "code",
   "execution_count": 35,
   "id": "f322e46d-6876-4665-8581-9b9399b19c66",
   "metadata": {},
   "outputs": [
    {
     "name": "stdout",
     "output_type": "stream",
     "text": [
      "[12, 23, 34, 45, 56, 67]\n",
      "[12, 34, 45, 56, 67]\n"
     ]
    }
   ],
   "source": [
    "# Remove Function\n",
    "\n",
    "ls=[12,23,34,45,56,67]\n",
    "print(ls)\n",
    "ls.remove(23)\n",
    "print(ls)"
   ]
  },
  {
   "cell_type": "code",
   "execution_count": 44,
   "id": "b590a4b5-ad98-4a57-ba44-9996fc4c6d79",
   "metadata": {},
   "outputs": [
    {
     "name": "stdout",
     "output_type": "stream",
     "text": [
      "[12, 23, 34, 45, 56, 67]\n",
      "[12, 23, 34, 45, 67]\n"
     ]
    }
   ],
   "source": [
    "# Del Method \n",
    "\n",
    "ls=[12,23,34,45,56,67]\n",
    "print(ls)\n",
    "del ls[4]\n",
    "print(ls)"
   ]
  },
  {
   "cell_type": "code",
   "execution_count": 45,
   "id": "4fe03de8-7b1d-4dbc-8274-83df2859f8a6",
   "metadata": {},
   "outputs": [
    {
     "name": "stdout",
     "output_type": "stream",
     "text": [
      "[12, 23, 34, 45, 56, 67]\n",
      "[12, 23, 67]\n"
     ]
    }
   ],
   "source": [
    "ls=[12,23,34,45,56,67]\n",
    "print(ls)\n",
    "del ls[2:5]\n",
    "print(ls)"
   ]
  },
  {
   "cell_type": "code",
   "execution_count": 46,
   "id": "7501d275-6e59-4def-adc1-28028768f9f7",
   "metadata": {},
   "outputs": [
    {
     "name": "stdout",
     "output_type": "stream",
     "text": [
      "[12, 23, 34, 45, 56, 67]\n",
      "[12]\n"
     ]
    }
   ],
   "source": [
    "ls=[12,23,34,45,56,67]\n",
    "print(ls)\n",
    "del ls[1:6]\n",
    "print(ls)"
   ]
  },
  {
   "cell_type": "code",
   "execution_count": 47,
   "id": "04111484-66da-4b19-907f-0a7e89ab6f93",
   "metadata": {},
   "outputs": [
    {
     "ename": "NameError",
     "evalue": "name 'ls' is not defined",
     "output_type": "error",
     "traceback": [
      "\u001b[1;31m---------------------------------------------------------------------------\u001b[0m",
      "\u001b[1;31mNameError\u001b[0m                                 Traceback (most recent call last)",
      "Cell \u001b[1;32mIn[47], line 2\u001b[0m\n\u001b[0;32m      1\u001b[0m \u001b[38;5;28;01mdel\u001b[39;00m ls\n\u001b[1;32m----> 2\u001b[0m \u001b[38;5;28mprint\u001b[39m(ls)\n",
      "\u001b[1;31mNameError\u001b[0m: name 'ls' is not defined"
     ]
    }
   ],
   "source": [
    "del ls\n",
    "print(ls)"
   ]
  },
  {
   "cell_type": "code",
   "execution_count": null,
   "id": "e8ec6109-6c3a-44db-bf1d-3d5bad946356",
   "metadata": {},
   "outputs": [],
   "source": []
  }
 ],
 "metadata": {
  "kernelspec": {
   "display_name": "Python 3 (ipykernel)",
   "language": "python",
   "name": "python3"
  },
  "language_info": {
   "codemirror_mode": {
    "name": "ipython",
    "version": 3
   },
   "file_extension": ".py",
   "mimetype": "text/x-python",
   "name": "python",
   "nbconvert_exporter": "python",
   "pygments_lexer": "ipython3",
   "version": "3.11.7"
  }
 },
 "nbformat": 4,
 "nbformat_minor": 5
}
