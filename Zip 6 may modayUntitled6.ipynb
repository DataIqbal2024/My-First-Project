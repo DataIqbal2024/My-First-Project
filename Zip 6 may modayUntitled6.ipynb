{
 "cells": [
  {
   "cell_type": "code",
   "execution_count": 1,
   "id": "78c65495-f037-43ab-8226-3f4178df1c8b",
   "metadata": {},
   "outputs": [],
   "source": [
    "a=[\"John\", \"Peter\"]\n",
    "b=[\"Jenny\",\"ashwin\",\"hassan\"]"
   ]
  },
  {
   "cell_type": "code",
   "execution_count": 2,
   "id": "c5ab8e79-3177-4ab6-9f18-45110554397e",
   "metadata": {},
   "outputs": [
    {
     "data": {
      "text/plain": [
       "[('John', 'Jenny'), ('Peter', 'ashwin')]"
      ]
     },
     "execution_count": 2,
     "metadata": {},
     "output_type": "execute_result"
    }
   ],
   "source": [
    "list(zip(a,b))"
   ]
  },
  {
   "cell_type": "code",
   "execution_count": 3,
   "id": "20e5fbd6-9321-4669-b3e0-5ca70dc6d3b0",
   "metadata": {},
   "outputs": [],
   "source": [
    "a=\"iqbal\"\n",
    "b=\"hassaneerufdbeu\""
   ]
  },
  {
   "cell_type": "code",
   "execution_count": 4,
   "id": "a6061b0b-125c-4eed-ba0b-90fd73da0444",
   "metadata": {},
   "outputs": [
    {
     "data": {
      "text/plain": [
       "[('i', 'h'), ('q', 'a'), ('b', 's'), ('a', 's'), ('l', 'a')]"
      ]
     },
     "execution_count": 4,
     "metadata": {},
     "output_type": "execute_result"
    }
   ],
   "source": [
    "list(zip(a,b))"
   ]
  },
  {
   "cell_type": "code",
   "execution_count": 41,
   "id": "9c60225d-149b-4230-b192-efd33c77b452",
   "metadata": {},
   "outputs": [
    {
     "data": {
      "text/plain": [
       "{(1, 'One'), (2, 'Two'), (3, 'Three')}"
      ]
     },
     "execution_count": 41,
     "metadata": {},
     "output_type": "execute_result"
    }
   ],
   "source": [
    "number_list = [1,2,3,3]\n",
    "str_list = ['One', 'Two', 'Three', \"Three\"]\n",
    "result=(zip(number_list,str_list))\n",
    "result_set=set(result)\n",
    "result_set\n"
   ]
  },
  {
   "cell_type": "code",
   "execution_count": 46,
   "id": "dd8ea071-76d8-48e4-ba75-cf659e3ac88e",
   "metadata": {},
   "outputs": [
    {
     "data": {
      "text/plain": [
       "[(1, 'one', 'ONE'), (2, 'two', 'TWO')]"
      ]
     },
     "execution_count": 46,
     "metadata": {},
     "output_type": "execute_result"
    }
   ],
   "source": [
    "# Different number of iterable elements\n",
    "\n",
    "numbersList=[1,2,3]\n",
    "str_list=['one','two']\n",
    "numbers_tuple=('ONE', 'TWO','THREE','FOUR')\n",
    "\n",
    "result = zip(numbersList , numbers_tuple)\n",
    "list(result)\n",
    "\n",
    "result1 = zip(numbersList , str_list , numbers_tuple)\n",
    "list(result1)\n",
    "\n"
   ]
  },
  {
   "cell_type": "code",
   "execution_count": 16,
   "id": "28726a57-3557-49e9-b072-71604eca6467",
   "metadata": {},
   "outputs": [],
   "source": [
    "# unzipping the value using zip()\n",
    "\n",
    "\n",
    "coordinate = ['x' , 'y' , 'z']\n",
    "value = [3,4,5]\n",
    "\n",
    "result = zip(coordinate, value)\n",
    "result_list = list(result)\n",
    "result_list\n",
    "\n",
    "c,v = zip(*result_list)"
   ]
  },
  {
   "cell_type": "code",
   "execution_count": 17,
   "id": "f506954d-b7f4-44e2-88bc-a5ca8b25554e",
   "metadata": {},
   "outputs": [
    {
     "data": {
      "text/plain": [
       "('x', 'y', 'z')"
      ]
     },
     "execution_count": 17,
     "metadata": {},
     "output_type": "execute_result"
    }
   ],
   "source": [
    "c"
   ]
  },
  {
   "cell_type": "code",
   "execution_count": 18,
   "id": "257854a2-7749-4430-a4c2-b39ffc2b5161",
   "metadata": {},
   "outputs": [
    {
     "data": {
      "text/plain": [
       "(3, 4, 5)"
      ]
     },
     "execution_count": 18,
     "metadata": {},
     "output_type": "execute_result"
    }
   ],
   "source": [
    "v"
   ]
  },
  {
   "cell_type": "code",
   "execution_count": 20,
   "id": "9eff8ce4-1bc8-400c-831a-153ca828403a",
   "metadata": {},
   "outputs": [
    {
     "name": "stdout",
     "output_type": "stream",
     "text": [
      "Iqbal\n",
      "Zafar\n"
     ]
    }
   ],
   "source": [
    "a=[\"Iqbal\", \"Zafar\", \"Dev\"]\n",
    "b=[90,70,60]\n",
    "\n",
    "for i,j in zip(a,b):\n",
    "    if j>=70:\n",
    "        print(i)"
   ]
  },
  {
   "cell_type": "code",
   "execution_count": 47,
   "id": "ef297206-4883-45ed-8e41-df551b169689",
   "metadata": {},
   "outputs": [],
   "source": [
    "\n",
    "# Lambda & Zip\n",
    "\n",
    "a = [1,2,3]\n",
    "b = [4,5,6]\n",
    "c = [1,3,4]\n",
    "\n"
   ]
  },
  {
   "cell_type": "code",
   "execution_count": 48,
   "id": "5e65f566-3f50-46c9-b380-c2501cfa0e24",
   "metadata": {},
   "outputs": [
    {
     "data": {
      "text/plain": [
       "[6, 10, 13]"
      ]
     },
     "execution_count": 48,
     "metadata": {},
     "output_type": "execute_result"
    }
   ],
   "source": [
    "x = list(map(lambda x,y,z: x+y+z , a,b,c))\n",
    "x"
   ]
  },
  {
   "cell_type": "code",
   "execution_count": 49,
   "id": "2d2412dd-fecd-47ab-896d-8d38f3a2ed63",
   "metadata": {},
   "outputs": [],
   "source": [
    "d = []\n",
    "for i,j,k in zip(a,b,c):\n",
    "    d.append(i+j+k)"
   ]
  },
  {
   "cell_type": "code",
   "execution_count": 50,
   "id": "a3504471-7462-4b15-b53e-18584dcd5278",
   "metadata": {},
   "outputs": [
    {
     "data": {
      "text/plain": [
       "[6, 10, 13]"
      ]
     },
     "execution_count": 50,
     "metadata": {},
     "output_type": "execute_result"
    }
   ],
   "source": [
    "d"
   ]
  },
  {
   "cell_type": "markdown",
   "id": "2def6d03-19d5-4202-80e9-4c44279c2acf",
   "metadata": {},
   "source": [
    "\n",
    "# LIST COMPREHENSION\n"
   ]
  },
  {
   "cell_type": "code",
   "execution_count": 25,
   "id": "3b1a7674-33f9-4341-94a2-e3079355dc9a",
   "metadata": {},
   "outputs": [],
   "source": [
    "a = \"Iqbal\""
   ]
  },
  {
   "cell_type": "code",
   "execution_count": 26,
   "id": "f3f87659-0cfe-4d1c-a31e-c60adff108c4",
   "metadata": {},
   "outputs": [],
   "source": [
    "w = [i+i for i in a]"
   ]
  },
  {
   "cell_type": "code",
   "execution_count": 27,
   "id": "d723c2b5-8a7d-4fd9-abd4-83494d490fdb",
   "metadata": {},
   "outputs": [
    {
     "data": {
      "text/plain": [
       "['II', 'qq', 'bb', 'aa', 'll']"
      ]
     },
     "execution_count": 27,
     "metadata": {},
     "output_type": "execute_result"
    }
   ],
   "source": [
    "w"
   ]
  },
  {
   "cell_type": "code",
   "execution_count": 29,
   "id": "1cd365c9-3445-447f-b105-c62db3b56392",
   "metadata": {},
   "outputs": [
    {
     "data": {
      "text/plain": [
       "[1, 4, 9, 16, 25, 36, 49]"
      ]
     },
     "execution_count": 29,
     "metadata": {},
     "output_type": "execute_result"
    }
   ],
   "source": [
    "A = [i*i for i in [1,2,3,4,5,6,7]]\n",
    "A"
   ]
  },
  {
   "cell_type": "code",
   "execution_count": 30,
   "id": "f91a49fb-ebd8-457c-b351-764316a4b908",
   "metadata": {},
   "outputs": [
    {
     "data": {
      "text/plain": [
       "[3, 6, 9, 12, 15, 18, 21, 24, 27]"
      ]
     },
     "execution_count": 30,
     "metadata": {},
     "output_type": "execute_result"
    }
   ],
   "source": [
    "x= [i*3 for i in [1,2,3,4,5,6,7,8,9]]\n",
    "x"
   ]
  },
  {
   "cell_type": "code",
   "execution_count": 31,
   "id": "66464412-0e99-4a79-b13f-783ec27c1df7",
   "metadata": {},
   "outputs": [
    {
     "data": {
      "text/plain": [
       "[8, 16, 24, 32, 40]"
      ]
     },
     "execution_count": 31,
     "metadata": {},
     "output_type": "execute_result"
    }
   ],
   "source": [
    "y = [i*4 for i in [2,3,4,5,6,7,8,9,10] if i%2==0]\n",
    "y"
   ]
  },
  {
   "cell_type": "markdown",
   "id": "37a8b4a7-74ec-458f-9dc6-c4139c6b9269",
   "metadata": {},
   "source": [
    "\n",
    "# NESTED IF "
   ]
  },
  {
   "cell_type": "code",
   "execution_count": 33,
   "id": "b4a9d1eb-5265-4b7e-9d33-bd0b0ba0a74e",
   "metadata": {},
   "outputs": [
    {
     "data": {
      "text/plain": [
       "[0, 14, 28, 42, 56, 70, 84, 98]"
      ]
     },
     "execution_count": 33,
     "metadata": {},
     "output_type": "execute_result"
    }
   ],
   "source": [
    "\n",
    "num_list = [y for y in range(100) if y % 2==0 and y % 7==0]\n",
    "num_list"
   ]
  },
  {
   "cell_type": "markdown",
   "id": "19c73d17-9138-4944-b826-e969c940c9c8",
   "metadata": {},
   "source": [
    "# IF ...ELSE with list Comprehension"
   ]
  },
  {
   "cell_type": "code",
   "execution_count": 34,
   "id": "9d870f61-fc2d-4e58-b38a-93599f0c004d",
   "metadata": {},
   "outputs": [
    {
     "data": {
      "text/plain": [
       "[0, 'GREAT', 2, 'GREAT', 4, 'GREAT', 6, 'GREAT', 8, 'GREAT']"
      ]
     },
     "execution_count": 34,
     "metadata": {},
     "output_type": "execute_result"
    }
   ],
   "source": [
    "obj = [i if i%2==0 else \"GREAT\" for i in range(10)]\n",
    "obj"
   ]
  },
  {
   "cell_type": "markdown",
   "id": "30d670e4-fc41-4099-a570-db361385c589",
   "metadata": {},
   "source": [
    "# NESTED FOR LOOP IN LIST COMPREHENSION"
   ]
  },
  {
   "cell_type": "code",
   "execution_count": 40,
   "id": "bf52ea3f-4861-4233-975a-9afa13d51ecb",
   "metadata": {},
   "outputs": [
    {
     "data": {
      "text/plain": [
       "[[0, 0, 0, 0, 0],\n",
       " [0, 1, 2, 3, 4],\n",
       " [0, 2, 4, 6, 8],\n",
       " [0, 3, 6, 9, 12],\n",
       " [0, 4, 8, 12, 16],\n",
       " [0, 5, 10, 15, 20],\n",
       " [0, 6, 12, 18, 24],\n",
       " [0, 7, 14, 21, 28],\n",
       " [0, 8, 16, 24, 32],\n",
       " [0, 9, 18, 27, 36]]"
      ]
     },
     "execution_count": 40,
     "metadata": {},
     "output_type": "execute_result"
    }
   ],
   "source": [
    "[[j*i for j in range(5)] for i in range(10)]"
   ]
  },
  {
   "cell_type": "code",
   "execution_count": null,
   "id": "23fc45ca-3760-4d17-a2db-7dfb03bbdeac",
   "metadata": {},
   "outputs": [],
   "source": [
    "\n"
   ]
  }
 ],
 "metadata": {
  "kernelspec": {
   "display_name": "Python 3 (ipykernel)",
   "language": "python",
   "name": "python3"
  },
  "language_info": {
   "codemirror_mode": {
    "name": "ipython",
    "version": 3
   },
   "file_extension": ".py",
   "mimetype": "text/x-python",
   "name": "python",
   "nbconvert_exporter": "python",
   "pygments_lexer": "ipython3",
   "version": "3.11.7"
  }
 },
 "nbformat": 4,
 "nbformat_minor": 5
}
