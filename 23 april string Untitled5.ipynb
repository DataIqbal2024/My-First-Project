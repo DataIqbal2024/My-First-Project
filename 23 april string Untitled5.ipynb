{
 "cells": [
  {
   "cell_type": "code",
   "execution_count": 1,
   "id": "fd6a03cd-1dd7-4d9e-b8f5-99a3c4fce402",
   "metadata": {},
   "outputs": [
    {
     "name": "stdout",
     "output_type": "stream",
     "text": [
      "['Hello', 'World']\n"
     ]
    }
   ],
   "source": [
    "# split\n",
    "\n",
    "mystr= 'Hello World'\n",
    "print(mystr.split())\n"
   ]
  },
  {
   "cell_type": "code",
   "execution_count": 3,
   "id": "dff607ac-b3d7-45dd-ade5-02161b53ea57",
   "metadata": {},
   "outputs": [
    {
     "name": "stdout",
     "output_type": "stream",
     "text": [
      "['C', 'Python', 'R', 'Java', 'SQL', 'Hadoop']\n"
     ]
    }
   ],
   "source": [
    "langs = 'C,Python,R,Java,SQL,Hadoop'\n",
    "print(langs.split(','))"
   ]
  },
  {
   "cell_type": "code",
   "execution_count": 4,
   "id": "e8101460-b353-4863-8073-0ed33be5088f",
   "metadata": {},
   "outputs": [
    {
     "name": "stdout",
     "output_type": "stream",
     "text": [
      "['apple', 'banana', 'mango', 'fig', 'pear']\n"
     ]
    }
   ],
   "source": [
    "fruits= 'apple$banana$mango$fig$pear'\n",
    "print(fruits.split('$'))"
   ]
  },
  {
   "cell_type": "code",
   "execution_count": 5,
   "id": "78f6b04d-6189-439d-9853-1f4638e2bc58",
   "metadata": {},
   "outputs": [
    {
     "data": {
      "text/plain": [
       "'\\nThe following example limits the split by specifying the maxsplit parmeter\\n'"
      ]
     },
     "execution_count": 5,
     "metadata": {},
     "output_type": "execute_result"
    }
   ],
   "source": [
    "'''\n",
    "The following example limits the split by specifying the maxsplit parmeter\n",
    "'''"
   ]
  },
  {
   "cell_type": "code",
   "execution_count": 6,
   "id": "171e25d7-fc64-44ec-ae5c-cf83eb7c3aba",
   "metadata": {},
   "outputs": [
    {
     "name": "stdout",
     "output_type": "stream",
     "text": [
      "['C', 'Python', 'R', 'Java,SQL,Hadoop']\n"
     ]
    }
   ],
   "source": [
    "langs = 'C,Python,R,Java,SQL,Hadoop'\n",
    "print(langs.split(',',3))"
   ]
  },
  {
   "cell_type": "code",
   "execution_count": 7,
   "id": "5bce62b2-92a2-4dfd-84b9-7e7738605886",
   "metadata": {},
   "outputs": [
    {
     "name": "stdout",
     "output_type": "stream",
     "text": [
      "['apple', 'banana', 'mango$fig$pear']\n"
     ]
    }
   ],
   "source": [
    "fruits = 'apple$banana$mango$fig$pear'\n",
    "print(fruits.split('$',2))"
   ]
  },
  {
   "cell_type": "code",
   "execution_count": 10,
   "id": "80358987-1635-4aed-ba87-7d82a9f9377c",
   "metadata": {},
   "outputs": [],
   "source": [
    "#Python String upper() Method\n",
    "#The upper method returns a string in the upper case"
   ]
  },
  {
   "cell_type": "code",
   "execution_count": 9,
   "id": "51bc822b-d3f4-4bf3-bb7e-5c80e2445f39",
   "metadata": {},
   "outputs": [
    {
     "data": {
      "text/plain": [
       "'HELLO WORLD'"
      ]
     },
     "execution_count": 9,
     "metadata": {},
     "output_type": "execute_result"
    }
   ],
   "source": [
    "mystr= 'Hello World'\n",
    "mystr.upper()"
   ]
  },
  {
   "cell_type": "code",
   "execution_count": 15,
   "id": "92272817-a392-4442-add4-863b1e160899",
   "metadata": {},
   "outputs": [],
   "source": [
    "\n",
    "# Tupple \n",
    "\n",
    "#sequence data structure\n",
    "#enclose in ()\n",
    "#indexed , ordered\n",
    "#\"immutable\"---can not be change once created\n",
    "\n",
    "#question:--- What is the difference between list and tuple \n",
    "            # list is mutable and tuple iss imutable \n",
    "#imutable can not be chang once created\n",
    "\n",
    "\n",
    "t1=(12,23,34,45,56) # tuple of integers\n",
    "t1=(\"how\",\"are\",\"you\")\n",
    "t1=((1,2),(2,3))\n",
    "\n",
    "\n"
   ]
  },
  {
   "cell_type": "code",
   "execution_count": 5,
   "id": "457bb0d8-8f8b-43fc-8014-7c36f2fb162a",
   "metadata": {},
   "outputs": [
    {
     "name": "stdout",
     "output_type": "stream",
     "text": [
      "12\n",
      "23\n",
      "34\n",
      "45\n",
      "56\n"
     ]
    }
   ],
   "source": [
    "#tuple constructor\n",
    "\n",
    "t1=tuple(\"Iqbal\")\n",
    "\n",
    "a=12,23,34\n",
    "\n",
    "t1=12,23,34,45,56  # tuple packing\n",
    "\n",
    "a,b,c,d,e=t1   # packing\n",
    "print(a)\n",
    "print(b)\n",
    "print(c)\n",
    "print(d)\n",
    "print(e)"
   ]
  },
  {
   "cell_type": "code",
   "execution_count": 17,
   "id": "ed23bc9b-f887-4513-833a-452d05898668",
   "metadata": {},
   "outputs": [
    {
     "name": "stdout",
     "output_type": "stream",
     "text": [
      "<class 'int'>\n"
     ]
    }
   ],
   "source": [
    "t2=(12)\n",
    "print(type(t2))   # integer"
   ]
  },
  {
   "cell_type": "code",
   "execution_count": 2,
   "id": "266cdf63-5ea4-4e9d-a37e-e9c239674c2d",
   "metadata": {},
   "outputs": [
    {
     "name": "stdout",
     "output_type": "stream",
     "text": [
      "(1, 2, 'hello', 4, 5, 6, 77)\n"
     ]
    }
   ],
   "source": [
    "# update an element in the tuple\n",
    "t1=(1,2,3,4,5,6,77)\n",
    "ls=list(t1)\n",
    "ls[2]=\"hello\"\n",
    "t1=tuple(ls)\n",
    "print(t1)"
   ]
  },
  {
   "cell_type": "code",
   "execution_count": 3,
   "id": "dfbcd8c7-2584-4b7d-8549-1d0c09ac0a46",
   "metadata": {},
   "outputs": [
    {
     "ename": "NameError",
     "evalue": "name 't1' is not defined",
     "output_type": "error",
     "traceback": [
      "\u001b[1;31m---------------------------------------------------------------------------\u001b[0m",
      "\u001b[1;31mNameError\u001b[0m                                 Traceback (most recent call last)",
      "Cell \u001b[1;32mIn[3], line 3\u001b[0m\n\u001b[0;32m      1\u001b[0m \u001b[38;5;66;03m# delete all type not any element\u001b[39;00m\n\u001b[0;32m      2\u001b[0m \u001b[38;5;28;01mdel\u001b[39;00m t1\n\u001b[1;32m----> 3\u001b[0m \u001b[38;5;28mprint\u001b[39m(t1)\n",
      "\u001b[1;31mNameError\u001b[0m: name 't1' is not defined"
     ]
    }
   ],
   "source": [
    "# delete all type not any element\n",
    "del t1\n",
    "print(t1)"
   ]
  },
  {
   "cell_type": "code",
   "execution_count": 3,
   "id": "46f277df-e957-4e54-9c33-b40294e25086",
   "metadata": {},
   "outputs": [
    {
     "name": "stdout",
     "output_type": "stream",
     "text": [
      "['C', 'Python', 'R', 'Java', 'SQL', 'Hadoop']\n"
     ]
    }
   ],
   "source": [
    "langs = 'C,Python,R,Java,SQL,Hadoop'\n",
    "print(langs.split(','))"
   ]
  },
  {
   "cell_type": "code",
   "execution_count": 6,
   "id": "5b162793-077a-4561-b3b1-62a1e63eebfc",
   "metadata": {},
   "outputs": [
    {
     "name": "stdout",
     "output_type": "stream",
     "text": [
      "<class 'tuple'>\n"
     ]
    }
   ],
   "source": [
    "t2=(12,)\n",
    "print(type(t2))"
   ]
  },
  {
   "cell_type": "code",
   "execution_count": 7,
   "id": "d6d6710c-651d-4d72-b7d7-c0612fb29196",
   "metadata": {},
   "outputs": [
    {
     "name": "stdout",
     "output_type": "stream",
     "text": [
      "('I', 'q', 'b', 'a', 'l')\n"
     ]
    }
   ],
   "source": [
    "t1=tuple(\"Iqbal\")\n",
    "print(t1)"
   ]
  },
  {
   "cell_type": "code",
   "execution_count": 8,
   "id": "70dd64ec-cf1a-4f36-a8c6-f40b8657cc76",
   "metadata": {},
   "outputs": [
    {
     "data": {
      "text/plain": [
       "(12, 23, 34)"
      ]
     },
     "execution_count": 8,
     "metadata": {},
     "output_type": "execute_result"
    }
   ],
   "source": [
    "a=12,23,34\n",
    "a"
   ]
  },
  {
   "cell_type": "code",
   "execution_count": 9,
   "id": "b585dd8d-f651-42fa-8667-5669d50b0c93",
   "metadata": {},
   "outputs": [
    {
     "name": "stdout",
     "output_type": "stream",
     "text": [
      "12\n",
      "45\n",
      "67\n",
      "56\n"
     ]
    }
   ],
   "source": [
    "t1=(12,23,34,45,56,67)\n",
    "print(t1[0])\n",
    "print(t1[3])\n",
    "print(t1[-1])\n",
    "print(t1[-2])"
   ]
  },
  {
   "cell_type": "code",
   "execution_count": 11,
   "id": "5ed0028d-b596-4e0d-b07a-1e78b42c3588",
   "metadata": {},
   "outputs": [
    {
     "name": "stdout",
     "output_type": "stream",
     "text": [
      "(12, 23, 34, 44, 'how', 'are')\n"
     ]
    }
   ],
   "source": [
    "t1=(12,23,34,44)\n",
    "t2=(\"how\",\"are\")\n",
    "print(t1+t2)"
   ]
  },
  {
   "cell_type": "code",
   "execution_count": 13,
   "id": "62282e04-f4ed-4629-9af0-40eed9a1ce3d",
   "metadata": {},
   "outputs": [
    {
     "name": "stdout",
     "output_type": "stream",
     "text": [
      "(12, 23, 34, 45, 23, 67)\n",
      "1\n"
     ]
    }
   ],
   "source": [
    "t1=(12,23,34,45,23,67)\n",
    "print(t1)\n",
    "x=t1.index(23)\n",
    "print(x)"
   ]
  },
  {
   "cell_type": "code",
   "execution_count": 15,
   "id": "7745223d-ebcd-4724-a085-b7fef555376b",
   "metadata": {},
   "outputs": [
    {
     "name": "stdout",
     "output_type": "stream",
     "text": [
      "(12, 34, 34, 23, 34, 45, 23, 67)\n",
      "3\n"
     ]
    }
   ],
   "source": [
    "t1=(12,34,34,23,34,45,23,67)\n",
    "print(t1)\n",
    "x=t1.index(23)\n",
    "print(x)"
   ]
  },
  {
   "cell_type": "code",
   "execution_count": 17,
   "id": "8a57f124-4657-418e-9b18-355e017fa0c8",
   "metadata": {},
   "outputs": [
    {
     "name": "stdout",
     "output_type": "stream",
     "text": [
      "(1, 2, 3, 4, 5, 6, 77, 98)\n"
     ]
    }
   ],
   "source": [
    "t1=(1,2,3,4,5,6,77)\n",
    "ls=list(t1)\n",
    "ls.append(98)\n",
    "t1=tuple(ls)\n",
    "print(t1)"
   ]
  },
  {
   "cell_type": "code",
   "execution_count": null,
   "id": "8fbb4211-9515-4faa-88f8-6ed7ce220e33",
   "metadata": {},
   "outputs": [],
   "source": []
  }
 ],
 "metadata": {
  "kernelspec": {
   "display_name": "Python 3 (ipykernel)",
   "language": "python",
   "name": "python3"
  },
  "language_info": {
   "codemirror_mode": {
    "name": "ipython",
    "version": 3
   },
   "file_extension": ".py",
   "mimetype": "text/x-python",
   "name": "python",
   "nbconvert_exporter": "python",
   "pygments_lexer": "ipython3",
   "version": "3.11.7"
  }
 },
 "nbformat": 4,
 "nbformat_minor": 5
}
