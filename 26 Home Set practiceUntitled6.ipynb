{
 "cells": [
  {
   "cell_type": "code",
   "execution_count": 2,
   "id": "09982ba0-fa2e-48bd-9a44-3a60df77b7ef",
   "metadata": {},
   "outputs": [
    {
     "name": "stdout",
     "output_type": "stream",
     "text": [
      "{0, 1, 10.5, 'Steve'}\n"
     ]
    }
   ],
   "source": [
    "emp =  {1,0,'Steve', 10.5, True,False} # set of different object\n",
    "print(emp)"
   ]
  },
  {
   "cell_type": "code",
   "execution_count": null,
   "id": "4d38a0cd-0b67-4ab8-9f80-f9a1e6a3a4ec",
   "metadata": {},
   "outputs": [],
   "source": []
  }
 ],
 "metadata": {
  "kernelspec": {
   "display_name": "Python 3 (ipykernel)",
   "language": "python",
   "name": "python3"
  },
  "language_info": {
   "codemirror_mode": {
    "name": "ipython",
    "version": 3
   },
   "file_extension": ".py",
   "mimetype": "text/x-python",
   "name": "python",
   "nbconvert_exporter": "python",
   "pygments_lexer": "ipython3",
   "version": "3.11.7"
  }
 },
 "nbformat": 4,
 "nbformat_minor": 5
}
