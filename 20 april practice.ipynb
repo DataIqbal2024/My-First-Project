{
 "cells": [
  {
   "cell_type": "code",
   "execution_count": 3,
   "id": "aac88a6d-4f1a-4868-988d-66a34d96f258",
   "metadata": {},
   "outputs": [
    {
     "name": "stdin",
     "output_type": "stream",
     "text": [
      "enter the number from 1==7 4\n"
     ]
    },
    {
     "name": "stdout",
     "output_type": "stream",
     "text": [
      "wednesday\n"
     ]
    }
   ],
   "source": [
    "\n",
    "day=int(input(\"enter the number from 1==7\"))\n",
    "if day==1:\n",
    "    print(\"'sunday\")\n",
    "elif day==2:\n",
    "    print(\"monday\")\n",
    "elif day==3:\n",
    "    print(\"tuesday\")\n",
    "elif day==4:\n",
    "    print(\"wednesday\")\n",
    "elif day==5:\n",
    "    print(\"thrusday\")\n",
    "elif day==6:\n",
    "    print(\"friday\")\n",
    "elif day==7:\n",
    "    print(\"saturday\")\n",
    "else:\n",
    "    print(\"Invalid Choice\")  "
   ]
  },
  {
   "cell_type": "code",
   "execution_count": 7,
   "id": "a698452d-fe1f-4408-858f-1183f9993b3c",
   "metadata": {},
   "outputs": [
    {
     "name": "stdin",
     "output_type": "stream",
     "text": [
      "enter the number 9\n"
     ]
    },
    {
     "name": "stdout",
     "output_type": "stream",
     "text": [
      "+ve number\n"
     ]
    }
   ],
   "source": [
    "n=int(input(\"enter the number\"))\n",
    "if n>0:\n",
    "    print(\"+ve number\")\n",
    "elif n<0:\n",
    "    print(\"-ve number\")\n",
    "else:\n",
    "    print(\" number is zero\")"
   ]
  },
  {
   "cell_type": "code",
   "execution_count": 8,
   "id": "9796f971-2712-4f35-a570-82c2e12f86c6",
   "metadata": {},
   "outputs": [],
   "source": [
    " a=5"
   ]
  },
  {
   "cell_type": "code",
   "execution_count": 9,
   "id": "2c39c6cb-6106-4f63-92ed-7620936295bf",
   "metadata": {},
   "outputs": [
    {
     "data": {
      "text/plain": [
       "True"
      ]
     },
     "execution_count": 9,
     "metadata": {},
     "output_type": "execute_result"
    }
   ],
   "source": [
    "5==5"
   ]
  },
  {
   "cell_type": "code",
   "execution_count": 13,
   "id": "5a617b5c-2113-4a55-b82f-16b27af14264",
   "metadata": {},
   "outputs": [],
   "source": [
    "b=6"
   ]
  },
  {
   "cell_type": "code",
   "execution_count": 14,
   "id": "d2693836-66d2-4bf3-b38a-25116d108dfe",
   "metadata": {},
   "outputs": [
    {
     "data": {
      "text/plain": [
       "False"
      ]
     },
     "execution_count": 14,
     "metadata": {},
     "output_type": "execute_result"
    }
   ],
   "source": [
    "a==b"
   ]
  },
  {
   "cell_type": "markdown",
   "id": "3c4b19bc-0a7d-455d-86b4-8f19b7d8e130",
   "metadata": {},
   "source": [
    " # cheak vowel or consonant\n",
    "ch=input(\"enter an alphabet without space\")\n",
    "if ch=='a' or ch=='e' or ch=='i' or ch=='o' or ch=='u':\n",
    "    print(\"Vowel\")\n",
    "elif ch=='A' or ch=='E' or ch=='I' or ch=='O' or ch=='U':\n",
    "    print(\"Vowel\")\n",
    "else:\n",
    "    print(\"Consonant\")\n"
   ]
  },
  {
   "cell_type": "code",
   "execution_count": null,
   "id": "740658a3-39c9-46f8-a255-1b3980e86bec",
   "metadata": {},
   "outputs": [],
   "source": []
  },
  {
   "cell_type": "code",
   "execution_count": 20,
   "id": "de50dc23-8ccf-4535-8b37-43ddfc2d9ea2",
   "metadata": {},
   "outputs": [
    {
     "name": "stdin",
     "output_type": "stream",
     "text": [
      "enter the number 4\n",
      "enter the number 7\n",
      "enter the number 9\n"
     ]
    },
    {
     "name": "stdout",
     "output_type": "stream",
     "text": [
      "C is grestest\n"
     ]
    }
   ],
   "source": [
    "# NESTED if \n",
    "# greatest among three number\n",
    "a=int(input(\"enter the number\"))\n",
    "b=int(input(\"enter the number\"))\n",
    "c=int(input(\"enter the number\"))\n",
    "if a>b:\n",
    "    if a>c:\n",
    "        print(\"A is greatest\")\n",
    "    else:\n",
    "        print(\"C is greatest\")\n",
    "else:\n",
    "    if b>c:\n",
    "        print(\"B is greatest\")\n",
    "    else:\n",
    "        print(\"C is grestest\")\n"
   ]
  },
  {
   "cell_type": "code",
   "execution_count": null,
   "id": "843b0da1-321a-4cab-95b4-fac5b73b7794",
   "metadata": {},
   "outputs": [],
   "source": []
  }
 ],
 "metadata": {
  "kernelspec": {
   "display_name": "Python 3 (ipykernel)",
   "language": "python",
   "name": "python3"
  },
  "language_info": {
   "codemirror_mode": {
    "name": "ipython",
    "version": 3
   },
   "file_extension": ".py",
   "mimetype": "text/x-python",
   "name": "python",
   "nbconvert_exporter": "python",
   "pygments_lexer": "ipython3",
   "version": "3.11.7"
  }
 },
 "nbformat": 4,
 "nbformat_minor": 5
}
