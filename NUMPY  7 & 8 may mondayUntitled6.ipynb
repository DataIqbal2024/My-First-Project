{
 "cells": [
  {
   "cell_type": "code",
   "execution_count": 1,
   "id": "99165843-9dfa-40af-ac91-06f1fb3cb28e",
   "metadata": {},
   "outputs": [],
   "source": [
    " import numpy as np"
   ]
  },
  {
   "cell_type": "code",
   "execution_count": 2,
   "id": "025c6639-a143-41ee-81eb-33b2f2597cd8",
   "metadata": {},
   "outputs": [],
   "source": [
    "A = [1,2,3,4,55]"
   ]
  },
  {
   "cell_type": "code",
   "execution_count": 3,
   "id": "98956ded-3ca7-46e9-ba6b-45c9b8c36ae2",
   "metadata": {},
   "outputs": [],
   "source": [
    "c=np.array(A)"
   ]
  },
  {
   "cell_type": "code",
   "execution_count": 4,
   "id": "852f1808-e9b2-488a-a49a-37f62cdace63",
   "metadata": {},
   "outputs": [
    {
     "data": {
      "text/plain": [
       "array([ 1,  2,  3,  4, 55])"
      ]
     },
     "execution_count": 4,
     "metadata": {},
     "output_type": "execute_result"
    }
   ],
   "source": [
    "c"
   ]
  },
  {
   "cell_type": "markdown",
   "id": "b22dfbfa-177c-48d7-b86d-c9f7ce0b1799",
   "metadata": {},
   "source": [
    " # Comparision between list and array\n",
    "\n"
   ]
  },
  {
   "cell_type": "code",
   "execution_count": 2,
   "id": "31fb0a08-91ad-4ff4-ac2d-c690e2b81c8a",
   "metadata": {},
   "outputs": [],
   "source": [
    "import time \n",
    "import sys"
   ]
  },
  {
   "cell_type": "code",
   "execution_count": 6,
   "id": "c74bd999-e3a7-4e3b-b3af-b8e46c5dc789",
   "metadata": {},
   "outputs": [
    {
     "data": {
      "text/plain": [
       "28"
      ]
     },
     "execution_count": 6,
     "metadata": {},
     "output_type": "execute_result"
    }
   ],
   "source": [
    "sys.getsizeof(2)"
   ]
  },
  {
   "cell_type": "code",
   "execution_count": 7,
   "id": "d336bf9f-376b-46c7-a9a4-cfadb97866fc",
   "metadata": {},
   "outputs": [
    {
     "name": "stdout",
     "output_type": "stream",
     "text": [
      "5600000\n"
     ]
    }
   ],
   "source": [
    "l = range(200000)\n",
    "print(sys.getsizeof(2)*len(l))"
   ]
  },
  {
   "cell_type": "code",
   "execution_count": 8,
   "id": "4369d820-7258-49d4-9002-7330d25f7b7d",
   "metadata": {},
   "outputs": [
    {
     "data": {
      "text/plain": [
       "28"
      ]
     },
     "execution_count": 8,
     "metadata": {},
     "output_type": "execute_result"
    }
   ],
   "source": [
    "sys.getsizeof(100)"
   ]
  },
  {
   "cell_type": "code",
   "execution_count": 10,
   "id": "4e268cf8-bf3c-47e6-8c93-10837e84f3cf",
   "metadata": {},
   "outputs": [
    {
     "name": "stdout",
     "output_type": "stream",
     "text": [
      "800000\n"
     ]
    }
   ],
   "source": [
    "import numpy as np\n",
    "a = np.arange(200000)\n",
    "print(a.itemsize*len(a))"
   ]
  },
  {
   "cell_type": "markdown",
   "id": "73821c63-cd01-4764-a594-4ef42f616b0d",
   "metadata": {},
   "source": [
    "\n",
    "# FAST"
   ]
  },
  {
   "cell_type": "code",
   "execution_count": 13,
   "id": "e9a37ddd-0796-4757-b393-31e47dafffbb",
   "metadata": {},
   "outputs": [
    {
     "name": "stdout",
     "output_type": "stream",
     "text": [
      "time taken : 31.247615814208984\n"
     ]
    }
   ],
   "source": [
    "a1= range(100000)\n",
    "b1 = range(100000)\n",
    "\n",
    "start=time.time()\n",
    "c1 = [(x+y) for x,y in zip(a1,b1)]\n",
    "print('time taken :' ,(time.time()-start)*1000)"
   ]
  },
  {
   "cell_type": "code",
   "execution_count": 14,
   "id": "f11d59e1-218d-4c27-9da8-de3e3ea3fa8d",
   "metadata": {},
   "outputs": [
    {
     "name": "stdout",
     "output_type": "stream",
     "text": [
      "time taken by array: 0.0\n"
     ]
    }
   ],
   "source": [
    "a2 = np.arange(100000)\n",
    "b2 = np.arange(100000)\n",
    "\n",
    "start=time.time()\n",
    "c2 = a2+b2\n",
    "print(\"time taken by array:\",(time.time()-start)*1000)"
   ]
  },
  {
   "cell_type": "markdown",
   "id": "74132473-051e-4a53-8aa5-fa148d386590",
   "metadata": {},
   "source": [
    "\n",
    "# CONVININENT"
   ]
  },
  {
   "cell_type": "code",
   "execution_count": 16,
   "id": "c142aa1b-82f4-4884-bb18-309dd0267ae0",
   "metadata": {},
   "outputs": [
    {
     "data": {
      "text/plain": [
       "array([   0,    1,    4,    9,   16,   25,   36,   49,   64,   81,  100,\n",
       "        121,  144,  169,  196,  225,  256,  289,  324,  361,  400,  441,\n",
       "        484,  529,  576,  625,  676,  729,  784,  841,  900,  961, 1024,\n",
       "       1089, 1156, 1225, 1296, 1369, 1444, 1521, 1600, 1681, 1764, 1849,\n",
       "       1936, 2025, 2116, 2209, 2304, 2401, 2500, 2601, 2704, 2809, 2916,\n",
       "       3025, 3136, 3249, 3364, 3481, 3600, 3721, 3844, 3969, 4096, 4225,\n",
       "       4356, 4489, 4624, 4761, 4900, 5041, 5184, 5329, 5476, 5625, 5776,\n",
       "       5929, 6084, 6241, 6400, 6561, 6724, 6889, 7056, 7225, 7396, 7569,\n",
       "       7744, 7921, 8100, 8281, 8464, 8649, 8836, 9025, 9216, 9409, 9604,\n",
       "       9801])"
      ]
     },
     "execution_count": 16,
     "metadata": {},
     "output_type": "execute_result"
    }
   ],
   "source": [
    "n1=np.arange(100)\n",
    "n2=np.arange(100)\n",
    "n1*n2"
   ]
  },
  {
   "cell_type": "code",
   "execution_count": 17,
   "id": "481200c0-ccbb-4b61-9937-03076010969d",
   "metadata": {},
   "outputs": [
    {
     "name": "stdout",
     "output_type": "stream",
     "text": [
      "[[1 2]\n",
      " [3 4]]\n"
     ]
    }
   ],
   "source": [
    "\n",
    "# more than one dimentional\n",
    "\n",
    "import numpy as np\n",
    "a = np.array([[1,2],[3,4]])\n",
    "print(a)"
   ]
  },
  {
   "cell_type": "code",
   "execution_count": 21,
   "id": "e67386ac-cbc4-49d4-ae18-b60a6db8f76d",
   "metadata": {},
   "outputs": [
    {
     "name": "stdout",
     "output_type": "stream",
     "text": [
      "[[1 2 3 4 5]]\n"
     ]
    }
   ],
   "source": [
    "\n",
    "# minimum dimentional\n",
    "\n",
    "import numpy as np\n",
    "a=np.array([1,2,3,4,5], ndmin=2)\n",
    "print(a)"
   ]
  },
  {
   "cell_type": "code",
   "execution_count": 23,
   "id": "6afe6f1c-4ac0-4317-8a7e-859f5675e9cb",
   "metadata": {},
   "outputs": [
    {
     "name": "stdout",
     "output_type": "stream",
     "text": [
      "[1.+0.j 2.+0.j 3.+0.j]\n"
     ]
    }
   ],
   "source": [
    "\n",
    "# datatype parameter \n",
    "\n",
    "import numpy as np\n",
    "a = np.array([1,2,3], dtype = complex)\n",
    "print(a)"
   ]
  },
  {
   "cell_type": "code",
   "execution_count": 24,
   "id": "e992a628-b13d-48cf-b184-b70c05d87024",
   "metadata": {},
   "outputs": [
    {
     "name": "stdout",
     "output_type": "stream",
     "text": [
      "int32\n"
     ]
    }
   ],
   "source": [
    "\n",
    "# using array-scalar type\n",
    "\n",
    "import numpy as np \n",
    "dt = np.dtype(np.int32)\n",
    "print(dt)"
   ]
  },
  {
   "cell_type": "code",
   "execution_count": 26,
   "id": "9c042753-ef37-43a1-9b9d-6c4354662d60",
   "metadata": {},
   "outputs": [
    {
     "name": "stdout",
     "output_type": "stream",
     "text": [
      "int32\n"
     ]
    }
   ],
   "source": [
    "dt = np.dtype('i4')\n",
    "print(dt)"
   ]
  },
  {
   "cell_type": "code",
   "execution_count": 28,
   "id": "a168bccb-6a7a-4928-a424-60b3dc3ebbfb",
   "metadata": {},
   "outputs": [
    {
     "name": "stdout",
     "output_type": "stream",
     "text": [
      ">i4\n"
     ]
    }
   ],
   "source": [
    "\n",
    "#using indian notation \n",
    "\n",
    "import numpy as np\n",
    "dt = np.dtype('>i4')   # i means integer , F means float , U means string\n",
    "print( dt)"
   ]
  },
  {
   "cell_type": "code",
   "execution_count": 1,
   "id": "5662b618-7560-4fd9-b39a-172f21379f54",
   "metadata": {},
   "outputs": [
    {
     "name": "stdout",
     "output_type": "stream",
     "text": [
      "(2, 3)\n"
     ]
    }
   ],
   "source": [
    "\n",
    "import numpy as np\n",
    "a = np.array([[1,2,3],[4,5,6]])\n",
    "print(a.shape)"
   ]
  },
  {
   "cell_type": "code",
   "execution_count": 31,
   "id": "5e7dca13-17ed-41aa-9a53-3db3549708d0",
   "metadata": {},
   "outputs": [
    {
     "name": "stdout",
     "output_type": "stream",
     "text": [
      "[[1 2]\n",
      " [3 4]\n",
      " [5 6]]\n"
     ]
    }
   ],
   "source": [
    "\n",
    "# this resize the ndarray \n",
    "\n",
    "import numpy as np\n",
    "\n",
    "a = np.array([[1,2,3],[4,5,6]])\n",
    "a.shape=(3,2)\n",
    "print(a)"
   ]
  },
  {
   "cell_type": "code",
   "execution_count": 3,
   "id": "da20d51f-9b2a-472d-993b-4aa913e9a526",
   "metadata": {},
   "outputs": [
    {
     "name": "stdout",
     "output_type": "stream",
     "text": [
      "[[1 2 3]\n",
      " [4 5 6]]\n",
      "\n",
      "[[1 2]\n",
      " [3 4]\n",
      " [5 6]]\n"
     ]
    }
   ],
   "source": [
    "\n",
    "# numpy also provides a reshape function to resize an array \n",
    "\n",
    "import numpy as np \n",
    "a = np.array([[1,2,3],[4,5,6]])\n",
    "b = a.reshape(3,2)\n",
    "print(a)\n",
    "print()\n",
    "print(b)"
   ]
  },
  {
   "cell_type": "code",
   "execution_count": 34,
   "id": "8424d5c0-34f2-4151-a0e9-8c4d3a629018",
   "metadata": {},
   "outputs": [
    {
     "name": "stdout",
     "output_type": "stream",
     "text": [
      "[0. 0. 0. 0. 0.]\n"
     ]
    }
   ],
   "source": [
    "# zeros\n",
    "\n",
    "import numpy as np\n",
    "x= np.zeros((5))\n",
    "print(x)"
   ]
  },
  {
   "cell_type": "code",
   "execution_count": 35,
   "id": "cad1a61a-5f85-4093-bb84-6c606142b79a",
   "metadata": {},
   "outputs": [
    {
     "name": "stdout",
     "output_type": "stream",
     "text": [
      "[0 0 0 0 0]\n"
     ]
    }
   ],
   "source": [
    "import numpy as np\n",
    "x= np.zeros((5),dtype=int)\n",
    "print(x)"
   ]
  },
  {
   "cell_type": "code",
   "execution_count": 36,
   "id": "a34f213d-b6d0-446d-9d9e-8747d3807299",
   "metadata": {},
   "outputs": [
    {
     "name": "stdout",
     "output_type": "stream",
     "text": [
      "[1. 1. 1. 1. 1.]\n"
     ]
    }
   ],
   "source": [
    "\n",
    "# numpy.ones \n",
    "\n",
    "# array of five ones. Default dtype is float\n",
    "\n",
    "import numpy as np\n",
    "x = np.ones(5)\n",
    "print(x)"
   ]
  },
  {
   "cell_type": "code",
   "execution_count": 39,
   "id": "a74e81d4-640d-4ebb-9a29-a953c4b4d459",
   "metadata": {},
   "outputs": [
    {
     "name": "stdout",
     "output_type": "stream",
     "text": [
      "[[1 1]\n",
      " [1 1]]\n"
     ]
    }
   ],
   "source": [
    "import numpy as np\n",
    "x = np.ones([2,2], dtype = int)\n",
    "print(x)"
   ]
  },
  {
   "cell_type": "code",
   "execution_count": 4,
   "id": "07f269d4-3229-40bc-b1d4-dcd96e38fa68",
   "metadata": {},
   "outputs": [
    {
     "name": "stdout",
     "output_type": "stream",
     "text": [
      "[[[0. 0. 0.]\n",
      "  [0. 0. 0.]\n",
      "  [0. 0. 0.]\n",
      "  [0. 0. 0.]]\n",
      "\n",
      " [[0. 0. 0.]\n",
      "  [0. 0. 0.]\n",
      "  [0. 0. 0.]\n",
      "  [0. 0. 0.]]]\n"
     ]
    }
   ],
   "source": [
    "# now reshape it\n",
    "import numpy as np\n",
    "b=np.zeros(24).reshape(2,4,3)\n",
    "print(b)  # b is having three dimensions"
   ]
  },
  {
   "cell_type": "code",
   "execution_count": 56,
   "id": "c9a81183-506e-4001-ab0b-fd01c87cdf6c",
   "metadata": {},
   "outputs": [
    {
     "name": "stdout",
     "output_type": "stream",
     "text": [
      "[[0 0]\n",
      " [0 0]\n",
      " [0 0]]\n"
     ]
    }
   ],
   "source": [
    "# numpy.empty\n",
    "\n",
    "import numpy as np\n",
    "x = np.empty([3,2] , dtype = int)\n",
    "print(x)"
   ]
  },
  {
   "cell_type": "code",
   "execution_count": 59,
   "id": "d5b463f7-4ef2-4e4b-841b-6b64c861aeeb",
   "metadata": {},
   "outputs": [
    {
     "name": "stdout",
     "output_type": "stream",
     "text": [
      "<class 'list'>\n",
      "<class 'numpy.ndarray'>\n",
      "[1 2 3]\n"
     ]
    }
   ],
   "source": [
    "# asarray\n",
    "# Convert list to ndarray \n",
    "\n",
    "import numpy as np\n",
    "\n",
    "x = [1,2,3]\n",
    "print(type(x))\n",
    "a = np.asarray(x)\n",
    "print(type(a))\n",
    "print(a)"
   ]
  },
  {
   "cell_type": "code",
   "execution_count": 60,
   "id": "0be15bf4-21ee-4bd5-8494-2673735e4329",
   "metadata": {},
   "outputs": [
    {
     "name": "stdout",
     "output_type": "stream",
     "text": [
      "[1. 2. 3.]\n"
     ]
    }
   ],
   "source": [
    "\n",
    "# dtpe is provided\n",
    "\n",
    "import numpy as np\n",
    "\n",
    "x= [1,2,3]\n",
    "a = np.asarray(x, dtype = float)\n",
    "print(a)"
   ]
  },
  {
   "cell_type": "code",
   "execution_count": 66,
   "id": "f31d4a61-6cd4-4ace-b628-f6a7b54cfea4",
   "metadata": {},
   "outputs": [
    {
     "ename": "ValueError",
     "evalue": "setting an array element with a sequence. The requested array has an inhomogeneous shape after 1 dimensions. The detected shape was (2,) + inhomogeneous part.",
     "output_type": "error",
     "traceback": [
      "\u001b[1;31m---------------------------------------------------------------------------\u001b[0m",
      "\u001b[1;31mValueError\u001b[0m                                Traceback (most recent call last)",
      "Cell \u001b[1;32mIn[66], line 6\u001b[0m\n\u001b[0;32m      3\u001b[0m \u001b[38;5;28;01mimport\u001b[39;00m \u001b[38;5;21;01mnumpy\u001b[39;00m \u001b[38;5;28;01mas\u001b[39;00m \u001b[38;5;21;01mnp\u001b[39;00m\n\u001b[0;32m      5\u001b[0m x \u001b[38;5;241m=\u001b[39m [(\u001b[38;5;241m1\u001b[39m,\u001b[38;5;241m2\u001b[39m,\u001b[38;5;241m3\u001b[39m),(\u001b[38;5;241m4\u001b[39m,\u001b[38;5;241m5\u001b[39m)]\n\u001b[1;32m----> 6\u001b[0m a \u001b[38;5;241m=\u001b[39m np\u001b[38;5;241m.\u001b[39masarray(x)\n\u001b[0;32m      7\u001b[0m \u001b[38;5;28mprint\u001b[39m(a)\n",
      "\u001b[1;31mValueError\u001b[0m: setting an array element with a sequence. The requested array has an inhomogeneous shape after 1 dimensions. The detected shape was (2,) + inhomogeneous part."
     ]
    }
   ],
   "source": [
    "# ndarray from list of tuples \n",
    "\n",
    "import numpy as np\n",
    "\n",
    "x = [(1,2,3),(4,5)]\n",
    "a = np.asarray(x)\n",
    "print(a)\n"
   ]
  },
  {
   "cell_type": "code",
   "execution_count": 6,
   "id": "f51a23c8-a227-43aa-b618-c61dc00062ca",
   "metadata": {},
   "outputs": [
    {
     "data": {
      "text/plain": [
       "1"
      ]
     },
     "execution_count": 6,
     "metadata": {},
     "output_type": "execute_result"
    }
   ],
   "source": [
    "\n",
    "\n",
    "# numpy.arange\n",
    "\n",
    "# an array of evenly spaced array\n",
    "import numpy as np\n",
    "a = np.arange(24)\n",
    "a.ndim"
   ]
  },
  {
   "cell_type": "code",
   "execution_count": 7,
   "id": "2857804d-9336-469e-b573-d74a4c99126c",
   "metadata": {},
   "outputs": [
    {
     "name": "stdout",
     "output_type": "stream",
     "text": [
      "[ 0  1  2  3  4  5  6  7  8  9 10 11 12 13 14 15 16 17 18 19 20 21 22 23]\n"
     ]
    }
   ],
   "source": [
    "a = np.arange(24)\n",
    "print(a)"
   ]
  },
  {
   "cell_type": "code",
   "execution_count": 8,
   "id": "a2406bda-970a-49d1-897c-b06f04e83c2d",
   "metadata": {},
   "outputs": [
    {
     "name": "stdout",
     "output_type": "stream",
     "text": [
      "[0. 1. 2. 3. 4.]\n"
     ]
    }
   ],
   "source": [
    "x = np.arange(5, dtype = float)\n",
    "print(x)"
   ]
  },
  {
   "cell_type": "code",
   "execution_count": 9,
   "id": "3a504e2f-bdd8-4dba-b7bc-2cb9251c3ac7",
   "metadata": {},
   "outputs": [
    {
     "name": "stdout",
     "output_type": "stream",
     "text": [
      "[10 12 14 16 18]\n"
     ]
    }
   ],
   "source": [
    "# start and stop parameters set\n",
    "x=np.arange(10,20,2)\n",
    "print(x)"
   ]
  },
  {
   "cell_type": "code",
   "execution_count": 75,
   "id": "b0e89b93-b1d0-4e70-ada1-eb5a3464467d",
   "metadata": {},
   "outputs": [
    {
     "name": "stdout",
     "output_type": "stream",
     "text": [
      "[10.  12.5 15.  17.5 20. ]\n"
     ]
    }
   ],
   "source": [
    "\n",
    "# numpy.linspace\n",
    "\n",
    "import numpy as np\n",
    "x = np.linspace(10,20,5)\n",
    "print(x)"
   ]
  },
  {
   "cell_type": "code",
   "execution_count": 51,
   "id": "237cbb88-c80d-4a32-91f3-59c1c55f0752",
   "metadata": {},
   "outputs": [
    {
     "name": "stdout",
     "output_type": "stream",
     "text": [
      "[10. 12. 14. 16. 18.]\n"
     ]
    }
   ],
   "source": [
    "# endpoint set to false\n",
    "\n",
    "x = np.linspace(10,20,5, endpoint = False)\n",
    "print(x)"
   ]
  },
  {
   "cell_type": "code",
   "execution_count": 77,
   "id": "77065f9e-8a5b-454f-9422-6706b7fbe042",
   "metadata": {},
   "outputs": [
    {
     "name": "stdout",
     "output_type": "stream",
     "text": [
      "(array([1.  , 1.25, 1.5 , 1.75, 2.  ]), 0.25)\n"
     ]
    }
   ],
   "source": [
    "# find retstep (return step) value\n",
    "\n",
    "x = np.linspace(1,2,5, retstep = True)\n",
    "print(x)"
   ]
  },
  {
   "cell_type": "code",
   "execution_count": 53,
   "id": "504bd813-6f51-4cea-82e9-fd32cc44f37e",
   "metadata": {},
   "outputs": [
    {
     "name": "stdout",
     "output_type": "stream",
     "text": [
      "2x2 Matrix:\n",
      " [[1 3]\n",
      " [5 7]]\n"
     ]
    }
   ],
   "source": [
    "\n",
    "\n",
    "# 8 MAY Class\n",
    "\n",
    "\n",
    "\n",
    "\n",
    "# Matrix in numpy\n",
    "\n",
    "# create a 2x2 matrix \n",
    "\n",
    "import numpy as np\n",
    "matrix1 = np.array([[1,3],[5,7]])\n",
    "print(\"2x2 Matrix:\\n\",matrix1)"
   ]
  },
  {
   "cell_type": "code",
   "execution_count": 6,
   "id": "4c7ab845-a4f2-4a03-9ab0-dd96433b0da2",
   "metadata": {},
   "outputs": [
    {
     "name": "stdout",
     "output_type": "stream",
     "text": [
      "\n",
      "3x3 Matrix:\n",
      " [[ 2  3  5]\n",
      " [ 7 14 21]\n",
      " [ 1  3  5]]\n"
     ]
    }
   ],
   "source": [
    "# create a 3x3 matrix\n",
    "\n",
    "matrix2 = np.array([[2,3,5],\n",
    "                    [7,14,21],\n",
    "                    [1,3,5]])\n",
    "print(\"\\n3x3 Matrix:\\n\",matrix2)"
   ]
  },
  {
   "cell_type": "code",
   "execution_count": 11,
   "id": "0d7db7fb-f76d-4cfa-a46c-05cda4cd4f0a",
   "metadata": {},
   "outputs": [
    {
     "name": "stdout",
     "output_type": "stream",
     "text": [
      "[[1 2 3]\n",
      " [4 5 6]\n",
      " [7 8 9]]\n",
      "\n",
      "[[1 2 3]\n",
      " [4 5 6]\n",
      " [7 8 9]]\n",
      "\n",
      "[[ 2  4  6]\n",
      " [ 8 10 12]\n",
      " [14 16 18]]\n"
     ]
    }
   ],
   "source": [
    "# creat a 3x3 matrix\n",
    "a = np.array([[1,2,3],[4,5,6],[7,8,9]])\n",
    "print(a)\n",
    "print()\n",
    "\n",
    "b = np.array([[1,2,3],[4,5,6],[7,8,9]])\n",
    "print(b)\n",
    "print()\n",
    "\n",
    "c = a+b\n",
    "print(c)"
   ]
  },
  {
   "cell_type": "code",
   "execution_count": 14,
   "id": "cc7f99ab-628a-4d62-82ac-88689856c3fc",
   "metadata": {},
   "outputs": [
    {
     "name": "stdout",
     "output_type": "stream",
     "text": [
      "matrix1 x matrix2: \n",
      " [[14 30]\n",
      " [38 86]]\n"
     ]
    }
   ],
   "source": [
    "# perform matrix multiplication in numpy\n",
    "\n",
    "# create two matrix\n",
    "import numpy as np\n",
    "matrix1=np.array([[1,3],[5,7]])\n",
    "matrix2=np.array([[2,6],[4,8]])\n",
    "\n",
    "# calculate the dot product of the two matrix\n",
    "\n",
    "result = np.dot(matrix1,matrix2)\n",
    "\n",
    "print(\"matrix1 x matrix2: \\n\",result) \n",
    "\n",
    "#1 3     2 6      1*2+3*4    1*6+3*8\n",
    "#5 7     4 8         \n"
   ]
  },
  {
   "cell_type": "code",
   "execution_count": 17,
   "id": "f94c5733-a5e8-43fe-9092-eec8a7618ef2",
   "metadata": {},
   "outputs": [
    {
     "name": "stdout",
     "output_type": "stream",
     "text": [
      "[[1 3]\n",
      " [5 7]]\n",
      "\n",
      "[[1 5]\n",
      " [3 7]]\n"
     ]
    }
   ],
   "source": [
    "\n",
    "# Matrix Transpose\n",
    "\n",
    "# create a matrix\n",
    "matrix1 = np.array([[1,3],\n",
    "                    [5,7]])\n",
    "print(matrix1)\n",
    "print()\n",
    "# get transpose of matrix\n",
    "result = np.transpose(matrix1)\n",
    "print(result)"
   ]
  },
  {
   "cell_type": "code",
   "execution_count": 23,
   "id": "7cdd5f44-12a9-4f31-8430-d27dd59d8e13",
   "metadata": {},
   "outputs": [
    {
     "name": "stdout",
     "output_type": "stream",
     "text": [
      "7\n"
     ]
    }
   ],
   "source": [
    "# generate random integer in numpy\n",
    "\n",
    "import numpy as np\n",
    "random_number = np.random.randint(0, 10)\n",
    "print(random_number)\n"
   ]
  },
  {
   "cell_type": "code",
   "execution_count": 30,
   "id": "c6d90b4d-2da0-461c-9d99-8b07914543f8",
   "metadata": {},
   "outputs": [
    {
     "name": "stdout",
     "output_type": "stream",
     "text": [
      "5\n"
     ]
    }
   ],
   "source": [
    "# Note : we can also import and use the random module like this\n",
    "from numpy import random \n",
    "random_number = random.randint(0, 10)\n",
    "print(random_number)"
   ]
  },
  {
   "cell_type": "code",
   "execution_count": 34,
   "id": "f895256f-5fe9-428b-87b9-2b13792b0d46",
   "metadata": {},
   "outputs": [
    {
     "name": "stdout",
     "output_type": "stream",
     "text": [
      "0.3546933112594439\n"
     ]
    }
   ],
   "source": [
    "\n",
    "# Generate random float in numpy\n",
    "\n",
    "random_number = np.random.rand()\n",
    "print(random_number)"
   ]
  },
  {
   "cell_type": "code",
   "execution_count": 37,
   "id": "a7d83418-c52e-4947-9e41-d1d1bc47c16a",
   "metadata": {},
   "outputs": [
    {
     "name": "stdout",
     "output_type": "stream",
     "text": [
      "1D Random Integer Array:\n",
      " [2 3 8 5 5]\n"
     ]
    }
   ],
   "source": [
    "\n",
    "# Generate random array in numpy\n",
    "\n",
    "import numpy as np\n",
    "integer_array = np.random.randint(0,10,5)\n",
    "print(\"1D Random Integer Array:\\n\",integer_array)\n"
   ]
  },
  {
   "cell_type": "code",
   "execution_count": 38,
   "id": "f71cf36b-6f4a-47c1-88cb-b47bf870d736",
   "metadata": {},
   "outputs": [
    {
     "name": "stdout",
     "output_type": "stream",
     "text": [
      "\n",
      "1D Random Float Array:\n",
      " [0.0494621  0.69280979 0.3807345  0.01902155 0.13934513]\n"
     ]
    }
   ],
   "source": [
    " # generate 1D array of 5 random number between 0 and 1\n",
    "float_array = np.random.rand(5)\n",
    "print(\"\\n1D Random Float Array:\\n\",float_array)\n"
   ]
  },
  {
   "cell_type": "code",
   "execution_count": 44,
   "id": "34854e95-d8bc-40c9-b701-d1b266656e6e",
   "metadata": {},
   "outputs": [
    {
     "name": "stdout",
     "output_type": "stream",
     "text": [
      "\n",
      "2D Random Integer Array:\n",
      " (3, (3, 4))\n"
     ]
    }
   ],
   "source": [
    "#generate 2D array of shape (3,4) with random integer\n",
    "\n",
    "result = np.random.randint(0,10),(3,4)\n",
    "print(\"\\n2D Random Integer Array:\\n\",result)"
   ]
  },
  {
   "cell_type": "code",
   "execution_count": 43,
   "id": "dc71acd8-97ce-4c99-b3ac-2ca8f5c799c6",
   "metadata": {},
   "outputs": [
    {
     "name": "stdout",
     "output_type": "stream",
     "text": [
      "2\n"
     ]
    }
   ],
   "source": [
    "# create an array of integer from 1 to 5 \n",
    "array1 = np.array([1,2,3,4,5])\n",
    "# chose a random number from array1\n",
    "random_choice = np.random.choice(array1)\n",
    "print(random_choice)"
   ]
  },
  {
   "cell_type": "code",
   "execution_count": 46,
   "id": "82356dfa-b07b-4613-bdf8-ed4039721053",
   "metadata": {},
   "outputs": [
    {
     "data": {
      "text/plain": [
       "array([3, 5, 7, 5, 7, 9])"
      ]
     },
     "execution_count": 46,
     "metadata": {},
     "output_type": "execute_result"
    }
   ],
   "source": [
    "# numpy.hstack() function \n",
    "\n",
    "import numpy as np\n",
    "x = np.array((3,5,7))\n",
    "y = np.array((5,7,9))\n",
    "np.hstack((x,y))"
   ]
  },
  {
   "cell_type": "code",
   "execution_count": 47,
   "id": "c064cad0-471c-4996-ad3f-18ca6c3ecfca",
   "metadata": {},
   "outputs": [
    {
     "data": {
      "text/plain": [
       "array([[3, 5],\n",
       "       [5, 7],\n",
       "       [7, 9]])"
      ]
     },
     "execution_count": 47,
     "metadata": {},
     "output_type": "execute_result"
    }
   ],
   "source": [
    "import numpy as np\n",
    "x = np.array([[3], [5], [7]])\n",
    "y = np.array([[5], [7], [9]])\n",
    "np.hstack((x,y))"
   ]
  },
  {
   "cell_type": "code",
   "execution_count": 48,
   "id": "7479c271-d7e9-470a-b702-db107d87df07",
   "metadata": {},
   "outputs": [
    {
     "data": {
      "text/plain": [
       "array([[3, 5, 7],\n",
       "       [5, 7, 9]])"
      ]
     },
     "execution_count": 48,
     "metadata": {},
     "output_type": "execute_result"
    }
   ],
   "source": [
    "\n",
    "# vstack\n",
    "\n",
    "import numpy as np\n",
    "x = np.array([3,5,7])\n",
    "y = np.array([5,7,9])\n",
    "np.vstack((x,y))"
   ]
  },
  {
   "cell_type": "code",
   "execution_count": 49,
   "id": "5ad48d29-c7a8-4ad8-a8c5-2b78bd294892",
   "metadata": {},
   "outputs": [
    {
     "data": {
      "text/plain": [
       "array([[3],\n",
       "       [5],\n",
       "       [7],\n",
       "       [5],\n",
       "       [7],\n",
       "       [9]])"
      ]
     },
     "execution_count": 49,
     "metadata": {},
     "output_type": "execute_result"
    }
   ],
   "source": [
    "import numpy as np\n",
    "x = np.array([[3], [5], [7]])\n",
    "y = np.array([[5], [7], [9]])\n",
    "np.vstack((x,y))"
   ]
  },
  {
   "cell_type": "code",
   "execution_count": null,
   "id": "014ba738-87e7-4e90-a62b-f3759dacd2ad",
   "metadata": {},
   "outputs": [],
   "source": []
  }
 ],
 "metadata": {
  "kernelspec": {
   "display_name": "Python 3 (ipykernel)",
   "language": "python",
   "name": "python3"
  },
  "language_info": {
   "codemirror_mode": {
    "name": "ipython",
    "version": 3
   },
   "file_extension": ".py",
   "mimetype": "text/x-python",
   "name": "python",
   "nbconvert_exporter": "python",
   "pygments_lexer": "ipython3",
   "version": "3.11.7"
  }
 },
 "nbformat": 4,
 "nbformat_minor": 5
}
