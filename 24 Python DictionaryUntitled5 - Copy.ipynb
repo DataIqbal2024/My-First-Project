{
 "cells": [
  {
   "cell_type": "code",
   "execution_count": 1,
   "id": "53c70307-305b-496b-a132-8d815f9856ff",
   "metadata": {},
   "outputs": [
    {
     "ename": "SyntaxError",
     "evalue": "unterminated string literal (detected at line 8) (1946374367.py, line 8)",
     "output_type": "error",
     "traceback": [
      "\u001b[1;36m  Cell \u001b[1;32mIn[1], line 8\u001b[1;36m\u001b[0m\n\u001b[1;33m    capitals = {\"USA\":\"Washington D.C.\", \"France\":\"Paris\",\"India:\"New Delhi\"}.\u001b[0m\n\u001b[1;37m                                                                           ^\u001b[0m\n\u001b[1;31mSyntaxError\u001b[0m\u001b[1;31m:\u001b[0m unterminated string literal (detected at line 8)\n"
     ]
    }
   ],
   "source": [
    "#python Dictionary\n",
    "#the dictionary is an unordered collection that contains \n",
    "#key:valuevpairs separated by commas inside curly\n",
    "#brackets.Dictionary are optimized to retrieve values when the key is known.\n",
    "\n",
    "# The following declares a dictionary object.\n",
    "\n",
    "capitals = {\"USA\":\"Washington D.C.\", \"France\":\"Paris\",\"India:\"New Delhi\"}.\n",
    "print(type(capitals))  # <class 'dict'> "
   ]
  },
  {
   "cell_type": "code",
   "execution_count": 3,
   "id": "7cc657f0-57a9-4ded-8a7e-7203d07ca25b",
   "metadata": {},
   "outputs": [
    {
     "ename": "SyntaxError",
     "evalue": "unterminated string literal (detected at line 3) (1577583338.py, line 3)",
     "output_type": "error",
     "traceback": [
      "\u001b[1;36m  Cell \u001b[1;32mIn[3], line 3\u001b[1;36m\u001b[0m\n\u001b[1;33m    numNames={1:\"One\" and Half\", 2.5: \"Two and Half\", 3.5:\"Three and Half\"} # float key ,string value\u001b[0m\n\u001b[1;37m                                                                         ^\u001b[0m\n\u001b[1;31mSyntaxError\u001b[0m\u001b[1;31m:\u001b[0m unterminated string literal (detected at line 3)\n"
     ]
    }
   ],
   "source": [
    "d = {} # empty dictionaary\n",
    "\n",
    "numNames={1:\"One\" and Half\", 2.5: \"Two and Half\", 3.5:\"Three and Half\"} # float key ,string value\n",
    "\n",
    "decNames={1.5:\"One and Half\", 2.5: \"Two and Half\", 3.5 \"Three and Half\"}  # float key , string value\n",
    "\n",
    "items={(\"Parker\",\"Reynolds\",\"Calmin\"):\"pen\",(\"LG\",\"Whirlool\",\"Samsung\"): \"Refrigerator\"} # tuple key , string value\n",
    "\n",
    "romanNums = {'I':1, 'II':2, 'III':3, 'IV':4, 'V':5} #string key , int val\n",
    "\n",
    "# most importan\n",
    "\n",
    "1\n",
    "\n",
    "the same key cannot appear more than once in a collection . If the key appers more than once, only the last will be retained.\n",
    "The value can be of any data type.\n",
    "One value can be assigend to more than one key."
   ]
  },
  {
   "cell_type": "code",
   "execution_count": 5,
   "id": "059a0903-d77b-4a1a-8e06-8a06b060f6e8",
   "metadata": {},
   "outputs": [
    {
     "name": "stdout",
     "output_type": "stream",
     "text": [
      "{1: 'Two', 2: 'Two', 3: 'Three'}\n"
     ]
    }
   ],
   "source": [
    "Iqbal= {1:\"One\", 2:\"Two\", 3:\"Three\", 2:\"Two\", 1:\"Two\", 2:\"Two\"}\n",
    "print(Iqbal)"
   ]
  },
  {
   "cell_type": "code",
   "execution_count": 4,
   "id": "b0b31dca-7807-4c1a-b626-072534928574",
   "metadata": {},
   "outputs": [],
   "source": [
    "#A dictionary can also be created using the dict() constructor method"
   ]
  },
  {
   "cell_type": "code",
   "execution_count": 6,
   "id": "47bc80cc-ad5f-4305-8ffa-2a611c6485c5",
   "metadata": {},
   "outputs": [],
   "source": [
    "# Example: dict() Constructor Method\n",
    "emptydict= dict()"
   ]
  },
  {
   "cell_type": "code",
   "execution_count": 8,
   "id": "f0858142-67d2-4921-8cf3-b7cad0c074b2",
   "metadata": {},
   "outputs": [
    {
     "name": "stdout",
     "output_type": "stream",
     "text": [
      "{'I': 'One', 'II': 'Two', 'III': 'Three'}\n"
     ]
    }
   ],
   "source": [
    "numdict= dict(I=\"One\",II=\"Two\",III=\"Three\")\n",
    "print(numdict)"
   ]
  },
  {
   "cell_type": "code",
   "execution_count": 10,
   "id": "7ed614e7-7816-4627-ba81-884149cf4bda",
   "metadata": {},
   "outputs": [
    {
     "name": "stdout",
     "output_type": "stream",
     "text": [
      "{'I': 'one', 'II': 'two', 'III': 'three'}\n"
     ]
    }
   ],
   "source": [
    "numdict= dict((('I','one'), ('II','two'), ('III','three')))\n",
    "print(numdict)"
   ]
  },
  {
   "cell_type": "code",
   "execution_count": 11,
   "id": "037dd786-3292-41a3-abdd-5ca99fac3bef",
   "metadata": {},
   "outputs": [
    {
     "ename": "SyntaxError",
     "evalue": "invalid syntax (3599168758.py, line 2)",
     "output_type": "error",
     "traceback": [
      "\u001b[1;36m  Cell \u001b[1;32mIn[11], line 2\u001b[1;36m\u001b[0m\n\u001b[1;33m    Dictionary is an unordered collection,so a value cannot be accessed using an index; instead,\u001b[0m\n\u001b[1;37m                     ^\u001b[0m\n\u001b[1;31mSyntaxError\u001b[0m\u001b[1;31m:\u001b[0m invalid syntax\n"
     ]
    }
   ],
   "source": [
    "# Access Dictionary\n",
    "Dictionary is an unordered collection,so a value cannot be accessed using an index; instead,\n",
    "a key must be specified in the square bracket, as shown below.\n"
   ]
  },
  {
   "cell_type": "code",
   "execution_count": 12,
   "id": "67e4ae7c-d019-40ab-b4a5-0868fe7c480d",
   "metadata": {},
   "outputs": [
    {
     "name": "stdout",
     "output_type": "stream",
     "text": [
      "One Two Three\n"
     ]
    }
   ],
   "source": [
    "numNames= {1:\"One\", 2:\"Two\", 3:\"Three\"}\n",
    "print(numNames[1], numNames[2], numNames[3],) # output: One Two Three"
   ]
  },
  {
   "cell_type": "code",
   "execution_count": 13,
   "id": "11af374f-fcc6-468d-9e68-110dd356ddfc",
   "metadata": {},
   "outputs": [
    {
     "name": "stdout",
     "output_type": "stream",
     "text": [
      "Washington DC Paris New Delhi\n"
     ]
    }
   ],
   "source": [
    "capitals ={\"USA\":\"Washington DC\", \"France\":\"Paris\", \"India\":\"New Delhi\"}\n",
    "print(capitals[\"USA\"], capitals[\"France\"], capitals[\"India\"],)"
   ]
  },
  {
   "cell_type": "code",
   "execution_count": 14,
   "id": "a71e3358-bd0b-4dc6-b40c-875621509828",
   "metadata": {},
   "outputs": [
    {
     "name": "stdout",
     "output_type": "stream",
     "text": [
      "Washington DC Paris New Delhi\n"
     ]
    },
    {
     "ename": "KeyError",
     "evalue": "'usa'",
     "output_type": "error",
     "traceback": [
      "\u001b[1;31m---------------------------------------------------------------------------\u001b[0m",
      "\u001b[1;31mKeyError\u001b[0m                                  Traceback (most recent call last)",
      "Cell \u001b[1;32mIn[14], line 5\u001b[0m\n\u001b[0;32m      2\u001b[0m \u001b[38;5;28mprint\u001b[39m(capitals[\u001b[38;5;124m\"\u001b[39m\u001b[38;5;124mUSA\u001b[39m\u001b[38;5;124m\"\u001b[39m], capitals[\u001b[38;5;124m\"\u001b[39m\u001b[38;5;124mFrance\u001b[39m\u001b[38;5;124m\"\u001b[39m], capitals[\u001b[38;5;124m\"\u001b[39m\u001b[38;5;124mIndia\u001b[39m\u001b[38;5;124m\"\u001b[39m],)\n\u001b[0;32m      4\u001b[0m \u001b[38;5;66;03m#following throws an error\u001b[39;00m\n\u001b[1;32m----> 5\u001b[0m \u001b[38;5;28mprint\u001b[39m(capitals[\u001b[38;5;124m\"\u001b[39m\u001b[38;5;124musa\u001b[39m\u001b[38;5;124m\"\u001b[39m])\n\u001b[0;32m      6\u001b[0m \u001b[38;5;28mprint\u001b[39m(capitals[\u001b[38;5;124m\"\u001b[39m\u001b[38;5;124mJapan\u001b[39m\u001b[38;5;124m\"\u001b[39m])\n",
      "\u001b[1;31mKeyError\u001b[0m: 'usa'"
     ]
    }
   ],
   "source": [
    "capitals ={\"USA\":\"Washington DC\", \"France\":\"Paris\", \"India\":\"New Delhi\"}\n",
    "\n",
    "print(capitals[\"USA\"], capitals[\"France\"], capitals[\"India\"],)\n",
    "\n",
    "#following throws an error\n",
    "print(capitals[\"usa\"])\n",
    "print(capitals[\"Japan\"])"
   ]
  },
  {
   "cell_type": "code",
   "execution_count": 15,
   "id": "0aeaceb9-b35f-457f-badc-5cda6d3e5207",
   "metadata": {},
   "outputs": [],
   "source": [
    "# Get Method\n",
    "\n",
    "#Use the get() method to retrive the key's value even if keys are not known. It returns NONE if the keys doesnot exist intead of raising an error\n"
   ]
  },
  {
   "cell_type": "code",
   "execution_count": 16,
   "id": "46f9e56b-e4de-4ec5-8544-feced436e3ad",
   "metadata": {},
   "outputs": [
    {
     "name": "stdout",
     "output_type": "stream",
     "text": [
      "One Two Three\n"
     ]
    }
   ],
   "source": [
    "numNames={1:\"One\", 2:\"Two\", 3:\"Three\"}\n",
    "print(numNames.get(1), numNames.get(2), numNames.get(3))"
   ]
  },
  {
   "cell_type": "code",
   "execution_count": 17,
   "id": "7e1f5174-723e-492b-8166-314f05096c8e",
   "metadata": {},
   "outputs": [
    {
     "name": "stdout",
     "output_type": "stream",
     "text": [
      "Washington DC None\n"
     ]
    }
   ],
   "source": [
    "capitals ={\"USA\":\"Washington DC\", \"France\":\"Paris\", \"India\":\"New Delhi\"}\n",
    "print(capitals.get(\"USA\"), capitals.get(\"Spain\"))"
   ]
  },
  {
   "cell_type": "code",
   "execution_count": 18,
   "id": "196a5db3-3fdd-48ee-b774-9608e5232e59",
   "metadata": {},
   "outputs": [
    {
     "ename": "SyntaxError",
     "evalue": "invalid syntax (1040903117.py, line 2)",
     "output_type": "error",
     "traceback": [
      "\u001b[1;36m  Cell \u001b[1;32mIn[18], line 2\u001b[1;36m\u001b[0m\n\u001b[1;33m    Use the for loop to iterate a dictionary in the python Script.\u001b[0m\n\u001b[1;37m        ^\u001b[0m\n\u001b[1;31mSyntaxError\u001b[0m\u001b[1;31m:\u001b[0m invalid syntax\n"
     ]
    }
   ],
   "source": [
    "# Access Dictionary using for loop\n",
    "Use the for loop to iterate a dictionary in the python Script.\n"
   ]
  },
  {
   "cell_type": "code",
   "execution_count": 21,
   "id": "9c43ab88-03f6-4be8-9444-7fde462680d9",
   "metadata": {},
   "outputs": [
    {
     "name": "stdout",
     "output_type": "stream",
     "text": [
      "USA\n",
      "France\n",
      "India\n"
     ]
    }
   ],
   "source": [
    "#Example: Using Dictionary Using For Loop\n",
    "capitals={\"USA\":\"Washington DC\", \"France\":\"Paris\", \"India\":\"New Delhi\"}\n",
    "for key in capitals:\n",
    "    print(key)"
   ]
  },
  {
   "cell_type": "code",
   "execution_count": 24,
   "id": "b547f169-6e82-4dbd-aa64-f32f4396c1f7",
   "metadata": {},
   "outputs": [
    {
     "name": "stdout",
     "output_type": "stream",
     "text": [
      "Key= key +  value = Washington DC\n",
      "USA\n",
      "Key= key +  value = Paris\n",
      "France\n",
      "Key= key +  value = New Delhi\n",
      "India\n"
     ]
    }
   ],
   "source": [
    "capitals={\"USA\":\"Washington DC\", \"France\":\"Paris\", \"India\":\"New Delhi\"}\n",
    "for key in capitals:\n",
    "    print(\"Key= \" + \"key + \", \"value = \" + capitals[key])\n",
    "    print(key)\n",
    "          "
   ]
  },
  {
   "cell_type": "code",
   "execution_count": 25,
   "id": "49d35f60-f914-4a06-9687-5db45aad6eda",
   "metadata": {},
   "outputs": [
    {
     "name": "stdout",
     "output_type": "stream",
     "text": [
      "Key= key +  value = Washington DC\n",
      "Key= key +  value = Paris\n",
      "Key= key +  value = New Delhi\n"
     ]
    }
   ],
   "source": [
    "capitals={\"USA\":\"Washington DC\", \"France\":\"Paris\", \"India\":\"New Delhi\"}\n",
    "for key in capitals:\n",
    "    print(\"Key= \" + \"key + \", \"value = \" + capitals[key])"
   ]
  },
  {
   "cell_type": "code",
   "execution_count": 26,
   "id": "532cd2ba-b17a-4020-84a2-66c2afcc7b4c",
   "metadata": {},
   "outputs": [],
   "source": [
    "# Update Dictionary\n",
    "#As mentioned earlier, the key cannot apper more than once. Use the same key and assign a new value to it to update the Dictionary object.\n"
   ]
  },
  {
   "cell_type": "code",
   "execution_count": 28,
   "id": "ced016a9-4b67-4f16-8aa4-894fb967dfb2",
   "metadata": {},
   "outputs": [
    {
     "name": "stdout",
     "output_type": "stream",
     "text": [
      "{'England': 'Root', 'Australia': 'Smith', 'India': 'Dhoni'}\n",
      "{'England': 'Root', 'Australia': 'Paine', 'India': 'Virat'}\n"
     ]
    }
   ],
   "source": [
    "#Exampe: Update Value of key\n",
    "captains= {\"England\":\"Root\", \"Australia\":\"Smith\", \"India\":\"Dhoni\"}\n",
    "print(captains)\n",
    "\n",
    "captains['India'] = 'Virat'\n",
    "captains['Australia'] = 'Paine'\n",
    "print(captains)"
   ]
  },
  {
   "cell_type": "code",
   "execution_count": 29,
   "id": "3a67bc14-4fd2-484e-9e6e-ed415f0a5bbc",
   "metadata": {},
   "outputs": [
    {
     "name": "stdout",
     "output_type": "stream",
     "text": [
      "{'England': 'Root', 'Australia': 'Smith', 'India': 'Dhoni'}\n",
      "{'England': 'Root', 'Australia': 'Paine', 'India': 'Virat', 'South Africa': 'David Miller'}\n"
     ]
    }
   ],
   "source": [
    "captains= {\"England\":\"Root\", \"Australia\":\"Smith\", \"India\":\"Dhoni\"}\n",
    "print(captains)\n",
    "\n",
    "captains['India'] = 'Virat'\n",
    "captains['Australia'] = 'Paine'\n",
    "captains['South Africa'] = 'David Miller'\n",
    "print(captains)"
   ]
  },
  {
   "cell_type": "code",
   "execution_count": 30,
   "id": "0813385b-a07a-46b0-96ae-af9c1eb634db",
   "metadata": {},
   "outputs": [],
   "source": [
    "# Delete Values from a Dictionary\n",
    "#Use the del keyword, pop(), or popitem() methods to delete a pair from a dictionary or the dictionary object itself. To delete a pair, use its\n",
    "#key as a parameter. To delete a Dictionary object itself, use del dictionry_name.\n",
    "\n"
   ]
  },
  {
   "cell_type": "code",
   "execution_count": 31,
   "id": "4b63733e-e4e2-48d9-a3d0-08edb52a6ced",
   "metadata": {},
   "outputs": [
    {
     "name": "stdout",
     "output_type": "stream",
     "text": [
      "{'Austraila': 'Paine', 'India': 'Virat', 'Srilanka': 'Jaysurya'}\n"
     ]
    }
   ],
   "source": [
    "# Example: Delete a Key-Value Pair\n",
    "captains= {'Austraila': 'Paine', 'India':'Virat', 'Srilanka':'Jaysurya'}\n",
    "print(captains)\n"
   ]
  },
  {
   "cell_type": "code",
   "execution_count": 34,
   "id": "af432296-3b04-4a97-81cd-8be61d53cc5a",
   "metadata": {},
   "outputs": [
    {
     "name": "stdout",
     "output_type": "stream",
     "text": [
      "{'India': 'Virat', 'Srilanka': 'Jaysurya'}\n"
     ]
    }
   ],
   "source": [
    "captains= {'Australia': 'Paine', 'India':'Virat', 'Srilanka':'Jaysurya'}\n",
    "\n",
    "del captains['Australia']\n",
    "print(captains)"
   ]
  },
  {
   "cell_type": "code",
   "execution_count": 4,
   "id": "78ab1d45-b2d5-4d0f-85cc-430766ed40d1",
   "metadata": {},
   "outputs": [
    {
     "name": "stdout",
     "output_type": "stream",
     "text": [
      "{1: {'name': 'Steve', 'age': 25, 'marks': 60}, 2: {'name': 'anil', 'age': 23, 'marks': 75}, 3: {'name': 'Asha', 'age': 20, 'marks': 70}}\n"
     ]
    }
   ],
   "source": [
    "#  Multi-Dimentional Dictionary\n",
    "#Let's assume there are three dictionary objects, as below:\n",
    "\n",
    "d1={\"name\":\"Steve\",\"age\":25, \"marks\":60}\n",
    "d2={\"name\":\"anil\",\"age\":23, \"marks\":75}\n",
    "d3={\"name\":\"Asha\",\"age\":20, \"marks\":70}\n",
    "#Let,s assign roll numbers to these students and create a multi-dimentional\n",
    "#dictionary with roll number as key and the above dictionaries at their value.\n",
    "students={1:d1, 2:d2, 3:d3}\n",
    "print(students)\n"
   ]
  },
  {
   "cell_type": "code",
   "execution_count": 36,
   "id": "ab42979e-10d8-4e49-bf6d-f03bd5bfc3ab",
   "metadata": {},
   "outputs": [
    {
     "name": "stdout",
     "output_type": "stream",
     "text": [
      "{1: {'name': 'Steve', 'age': 25, 'marks': 60}, 2: {'name': 'anil', 'age': 23, 'marks': 75}, 3: {'name': 'Asha', 'age': 20, 'marks': 70}}\n"
     ]
    }
   ],
   "source": [
    "# example MUlti-dimentional dictionary\n",
    "\n",
    "d1={\"name\":\"Steve\",\"age\":25, \"marks\":60}\n",
    "d2={\"name\":\"anil\",\"age\":23, \"marks\":75}\n",
    "d3={\"name\":\"Asha\",\"age\":20, \"marks\":70}\n",
    "students={1:d1, 2:d2, 3:d3}\n",
    "print(students)"
   ]
  },
  {
   "cell_type": "code",
   "execution_count": null,
   "id": "3173d27a-2677-4721-891a-007cf617d534",
   "metadata": {},
   "outputs": [],
   "source": []
  }
 ],
 "metadata": {
  "kernelspec": {
   "display_name": "Python 3 (ipykernel)",
   "language": "python",
   "name": "python3"
  },
  "language_info": {
   "codemirror_mode": {
    "name": "ipython",
    "version": 3
   },
   "file_extension": ".py",
   "mimetype": "text/x-python",
   "name": "python",
   "nbconvert_exporter": "python",
   "pygments_lexer": "ipython3",
   "version": "3.11.7"
  }
 },
 "nbformat": 4,
 "nbformat_minor": 5
}
