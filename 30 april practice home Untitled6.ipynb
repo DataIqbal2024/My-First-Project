{
 "cells": [
  {
   "cell_type": "code",
   "execution_count": 1,
   "id": "429ad99a-00cb-45c9-8ffc-8c8accfcc776",
   "metadata": {},
   "outputs": [
    {
     "name": "stdout",
     "output_type": "stream",
     "text": [
      "The sum is  1300\n",
      "The sum is  6300\n",
      "The sum is  14400\n"
     ]
    }
   ],
   "source": [
    "def addition(a,b=300,c=600):\n",
    "    p=a+b+c\n",
    "    print(\"The sum is \", p)\n",
    "addition(400)\n",
    "addition(1200,4500)\n",
    "addition(5600,5400,3400)"
   ]
  },
  {
   "cell_type": "code",
   "execution_count": 4,
   "id": "2312562b-2963-4cd6-95c1-c0f5d9d54cd5",
   "metadata": {},
   "outputs": [],
   "source": [
    "def interest(p=2000,r=4.5,t=2):\n",
    "    si=p*r*t/100\n",
    "    print(\"The Interest is \",si)\n",
    "    "
   ]
  },
  {
   "cell_type": "code",
   "execution_count": 5,
   "id": "7f88809a-3dc9-46da-928f-81d0d29c4ae7",
   "metadata": {},
   "outputs": [
    {
     "name": "stdout",
     "output_type": "stream",
     "text": [
      "The Interest is  180.0\n"
     ]
    }
   ],
   "source": [
    "interest()"
   ]
  },
  {
   "cell_type": "code",
   "execution_count": 8,
   "id": "b8dc0ba7-6698-48fe-b0cc-ad0166463a4b",
   "metadata": {},
   "outputs": [
    {
     "name": "stdout",
     "output_type": "stream",
     "text": [
      "The Interest is  900.0\n"
     ]
    }
   ],
   "source": [
    "interest(6000,7.5)"
   ]
  },
  {
   "cell_type": "code",
   "execution_count": 9,
   "id": "fb738028-1fce-4910-bad5-3c1ae27078ab",
   "metadata": {},
   "outputs": [
    {
     "name": "stdout",
     "output_type": "stream",
     "text": [
      "The Interest is  2380.0\n"
     ]
    }
   ],
   "source": [
    "interest(7000,8.5,4)"
   ]
  },
  {
   "cell_type": "code",
   "execution_count": 12,
   "id": "a531664e-435f-49ec-9dfa-aaee463d6ea4",
   "metadata": {},
   "outputs": [],
   "source": [
    "def mathop(a,b):\n",
    "    return a+b,a-b,a*b,a/b\n",
    "    "
   ]
  },
  {
   "cell_type": "code",
   "execution_count": 13,
   "id": "6449385a-0fe4-4525-96ab-a2b362845f7e",
   "metadata": {},
   "outputs": [
    {
     "data": {
      "text/plain": [
       "(87, 27, 1710, 1.9)"
      ]
     },
     "execution_count": 13,
     "metadata": {},
     "output_type": "execute_result"
    }
   ],
   "source": [
    "x=mathop(57,30)\n",
    "x"
   ]
  },
  {
   "cell_type": "code",
   "execution_count": 14,
   "id": "dd28b5d3-4f19-4ea0-aac6-74acbef5acad",
   "metadata": {},
   "outputs": [
    {
     "name": "stdout",
     "output_type": "stream",
     "text": [
      "Addition 87\n",
      "Subtraciom 27\n",
      "Multiply 1710\n",
      "Division 1.9\n"
     ]
    }
   ],
   "source": [
    "w,x,y,z=mathop(57,30)\n",
    "print(\"Addition\",w)\n",
    "print(\"Subtraciom\",x)\n",
    "print(\"Multiply\",y)\n",
    "print(\"Division\",z)"
   ]
  },
  {
   "cell_type": "code",
   "execution_count": 16,
   "id": "6edd0633-f098-4585-8c4b-d40ded2268ad",
   "metadata": {},
   "outputs": [],
   "source": [
    "def cheak(n):\n",
    "    if n%2==0:\n",
    "        print(\"Even Number\")\n",
    "    else:\n",
    "        print(\"Odd Number\")"
   ]
  },
  {
   "cell_type": "code",
   "execution_count": 17,
   "id": "5eb2f411-d4d8-4e9f-9bd1-3c6fcc287b79",
   "metadata": {},
   "outputs": [
    {
     "name": "stdout",
     "output_type": "stream",
     "text": [
      "Even Number\n",
      "None\n"
     ]
    }
   ],
   "source": [
    "print(cheak(20))"
   ]
  },
  {
   "cell_type": "code",
   "execution_count": 19,
   "id": "a47e6336-596a-406b-a514-8660b20258c1",
   "metadata": {},
   "outputs": [],
   "source": [
    "def datascience(a,b,c,d,e):\n",
    "    return(a+b,a/b)"
   ]
  },
  {
   "cell_type": "code",
   "execution_count": 27,
   "id": "4cba47c0-0f64-441e-8e36-54302a95113e",
   "metadata": {},
   "outputs": [
    {
     "data": {
      "text/plain": [
       "(9, 0.5)"
      ]
     },
     "execution_count": 27,
     "metadata": {},
     "output_type": "execute_result"
    }
   ],
   "source": [
    "datascience(3,6,4,7,9)"
   ]
  },
  {
   "cell_type": "code",
   "execution_count": 18,
   "id": "d2fb6479-9101-48ba-a844-1596e452dade",
   "metadata": {},
   "outputs": [],
   "source": [
    "def cheak(n):\n",
    "    if n%2==0:\n",
    "        return \"even number\"\n",
    "    else:\n",
    "        return \"odd number\""
   ]
  },
  {
   "cell_type": "code",
   "execution_count": 19,
   "id": "6c68ffe1-e948-4dc9-9571-4bfa7a9ede55",
   "metadata": {},
   "outputs": [
    {
     "name": "stdout",
     "output_type": "stream",
     "text": [
      "odd number\n"
     ]
    }
   ],
   "source": [
    "print(cheak(55))"
   ]
  },
  {
   "cell_type": "code",
   "execution_count": null,
   "id": "ed448ac4-1a7a-4d35-b11d-4f016eac3934",
   "metadata": {},
   "outputs": [],
   "source": [
    " "
   ]
  }
 ],
 "metadata": {
  "kernelspec": {
   "display_name": "Python 3 (ipykernel)",
   "language": "python",
   "name": "python3"
  },
  "language_info": {
   "codemirror_mode": {
    "name": "ipython",
    "version": 3
   },
   "file_extension": ".py",
   "mimetype": "text/x-python",
   "name": "python",
   "nbconvert_exporter": "python",
   "pygments_lexer": "ipython3",
   "version": "3.11.7"
  }
 },
 "nbformat": 4,
 "nbformat_minor": 5
}
