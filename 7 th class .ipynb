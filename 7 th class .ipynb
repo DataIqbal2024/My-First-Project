{
 "cells": [
  {
   "cell_type": "code",
   "execution_count": 10,
   "id": "1a1698c6-31f8-42a9-8f33-2c6fc83b9b1b",
   "metadata": {},
   "outputs": [
    {
     "name": "stdin",
     "output_type": "stream",
     "text": [
      "enter the lenght of the series 10\n"
     ]
    },
    {
     "name": "stdout",
     "output_type": "stream",
     "text": [
      "0 1 1 2 3 5 8 13 21 34 55 "
     ]
    }
   ],
   "source": [
    "# fibonacci series\n",
    "\n",
    "first=0\n",
    "second=1\n",
    "i=0\n",
    "n=int(input(\"enter the lenght of the series\"))\n",
    "while i<=n:\n",
    "    if i<=1:\n",
    "        next=i\n",
    "    else:\n",
    "        next=first+second\n",
    "        first=second\n",
    "        second=next\n",
    "    print(next,end=\" \")\n",
    "    i=i+1"
   ]
  },
  {
   "cell_type": "code",
   "execution_count": 4,
   "id": "812212bb-ff39-41dc-be2b-79c8a15f4363",
   "metadata": {},
   "outputs": [
    {
     "name": "stdout",
     "output_type": "stream",
     "text": [
      "I\n",
      "q\n",
      "b\n",
      "a\n",
      "l\n"
     ]
    }
   ],
   "source": [
    "#for loop\n",
    "\n",
    "s1=\"Iqbal\"\n",
    "for i in s1:\n",
    "    print(i)"
   ]
  },
  {
   "cell_type": "code",
   "execution_count": 12,
   "id": "86524296-0d07-4fd8-8c70-17c9f45d49a9",
   "metadata": {},
   "outputs": [
    {
     "name": "stdout",
     "output_type": "stream",
     "text": [
      "12\n",
      "23\n",
      "34\n",
      "45\n",
      "56\n",
      "67\n"
     ]
    }
   ],
   "source": [
    "name=[12,23,34,45,56,67]   # []--List\n",
    "for i in name:\n",
    "    print(i)"
   ]
  },
  {
   "cell_type": "code",
   "execution_count": 13,
   "id": "6c90dd72-a86a-405a-bd74-6b39820b5d6d",
   "metadata": {},
   "outputs": [
    {
     "name": "stdout",
     "output_type": "stream",
     "text": [
      "12\n",
      "23\n",
      "34\n",
      "45\n"
     ]
    }
   ],
   "source": [
    "t1=(12,23,34,45) #()--tuple\n",
    "for i in t1:\n",
    "    print(i)"
   ]
  },
  {
   "cell_type": "code",
   "execution_count": 14,
   "id": "da1ed19e-8586-49ce-9d52-c233d19171a1",
   "metadata": {},
   "outputs": [],
   "source": [
    "# Range Function\n",
    "#range(10)---- 0--9\n",
    "#range(1,10)---- 1---9\n",
    "#range(1,100,3)---- 1 4 7 10---"
   ]
  },
  {
   "cell_type": "code",
   "execution_count": 15,
   "id": "ef8360e1-8773-4c63-959c-0c7fb96b388d",
   "metadata": {},
   "outputs": [
    {
     "name": "stdout",
     "output_type": "stream",
     "text": [
      "0 1 2 3 4 5 6 7 8 9 "
     ]
    }
   ],
   "source": [
    "for i in range(10):\n",
    "    print(i,end=\" \")"
   ]
  },
  {
   "cell_type": "code",
   "execution_count": 16,
   "id": "b5806e33-ed65-4e04-8637-278067e73ceb",
   "metadata": {},
   "outputs": [
    {
     "name": "stdout",
     "output_type": "stream",
     "text": [
      "1 2 3 4 5 6 7 8 9 10 "
     ]
    }
   ],
   "source": [
    "for i in range(1,11):\n",
    "    print(i,end=\" \")"
   ]
  },
  {
   "cell_type": "code",
   "execution_count": 17,
   "id": "f5bf7fb0-1550-4613-971b-1ac169e7e95c",
   "metadata": {},
   "outputs": [
    {
     "name": "stdout",
     "output_type": "stream",
     "text": [
      "1 4 7 10 13 16 19 22 25 28 31 34 37 40 43 46 49 52 55 58 61 64 67 70 73 76 79 82 85 88 91 94 97 "
     ]
    }
   ],
   "source": [
    "for i in range(1,100,3):\n",
    "    print(i,end=\" \")"
   ]
  },
  {
   "cell_type": "code",
   "execution_count": 19,
   "id": "e7d28f9e-a63d-4235-900b-feccc1bc97df",
   "metadata": {},
   "outputs": [
    {
     "name": "stdin",
     "output_type": "stream",
     "text": [
      "enter the stop value 30\n"
     ]
    },
    {
     "name": "stdout",
     "output_type": "stream",
     "text": [
      "the sum is 465\n"
     ]
    }
   ],
   "source": [
    "# sum of first n natural number\n",
    "\n",
    "n=int(input(\"enter the stop value\"))\n",
    "s=0\n",
    "for i in range(1,n+1):\n",
    "    s=s+i\n",
    "print(\"the sum is\",s)"
   ]
  },
  {
   "cell_type": "code",
   "execution_count": 23,
   "id": "ff95a629-0672-4d75-adf6-7bdf14803fb5",
   "metadata": {},
   "outputs": [
    {
     "name": "stdin",
     "output_type": "stream",
     "text": [
      "enter the number 6\n"
     ]
    },
    {
     "name": "stdout",
     "output_type": "stream",
     "text": [
      "6 * 1 = 6\n",
      "6 * 2 = 6\n",
      "6 * 3 = 6\n",
      "6 * 4 = 6\n",
      "6 * 5 = 6\n",
      "6 * 6 = 6\n",
      "6 * 7 = 6\n",
      "6 * 8 = 6\n",
      "6 * 9 = 6\n",
      "6 * 10 = 6\n"
     ]
    }
   ],
   "source": [
    "# table of a given number\n",
    "\n",
    "n=int(input(\"enter the number\"))\n",
    "for i in range(1,11):\n",
    "    print(n,\"*\",i,\"=\",n*1)"
   ]
  },
  {
   "cell_type": "code",
   "execution_count": 27,
   "id": "35a0fcf8-efe1-4e62-af5f-d3c7b59fafeb",
   "metadata": {},
   "outputs": [
    {
     "name": "stdin",
     "output_type": "stream",
     "text": [
      "enter the number 500\n"
     ]
    },
    {
     "name": "stdout",
     "output_type": "stream",
     "text": [
      "1 2 4 5 10 20 25 50 100 125 250 500 "
     ]
    }
   ],
   "source": [
    "# factors or divisiors of a given nummber\n",
    "\n",
    "n=int(input(\"enter the number\"))\n",
    "for i in range(1,n+1):\n",
    "    if n%i==0:\n",
    "        print(i,end=\" \")"
   ]
  },
  {
   "cell_type": "code",
   "execution_count": 29,
   "id": "79581a65-0d40-434a-8084-4a8b9dcd3bb2",
   "metadata": {},
   "outputs": [],
   "source": [
    "#------- Iterator loops (FOR)-------\n"
   ]
  },
  {
   "cell_type": "code",
   "execution_count": 30,
   "id": "3a01d2f0-5327-4044-9539-21a71c7ef529",
   "metadata": {},
   "outputs": [
    {
     "data": {
      "text/plain": [
       "True"
      ]
     },
     "execution_count": 30,
     "metadata": {},
     "output_type": "execute_result"
    }
   ],
   "source": [
    "a=\"Hello World\"\n",
    "\"r\" in a"
   ]
  },
  {
   "cell_type": "code",
   "execution_count": 31,
   "id": "f29349dc-2dec-4cdb-94e3-81074cfac231",
   "metadata": {},
   "outputs": [
    {
     "name": "stdout",
     "output_type": "stream",
     "text": [
      "bye\n",
      "2\n",
      "bye\n",
      "4\n",
      "56\n",
      "bye\n"
     ]
    }
   ],
   "source": [
    "a=(1,2,3,4,56,7)\n",
    "\n",
    "for iqbal in a:\n",
    "    if iqbal%2==0:\n",
    "        print(iqbal)\n",
    "    else:\n",
    "        print(\"bye\")"
   ]
  },
  {
   "cell_type": "code",
   "execution_count": 1,
   "id": "a4e864b4-96f2-48fb-af38-48ca277b6b80",
   "metadata": {},
   "outputs": [
    {
     "name": "stdout",
     "output_type": "stream",
     "text": [
      "M@o@h@a@m@m@a@d@ @I@q@b@a@l@"
     ]
    }
   ],
   "source": [
    "st=\"Mohammad Iqbal\"\n",
    "for t in st:\n",
    "    print(t,end=\"@\")"
   ]
  },
  {
   "cell_type": "code",
   "execution_count": 2,
   "id": "efc85ff3-693a-4db0-9b49-ff3a1f8bdff6",
   "metadata": {},
   "outputs": [
    {
     "name": "stdout",
     "output_type": "stream",
     "text": [
      "M\n",
      "o\n",
      "h\n",
      "a\n",
      "m\n",
      "m\n",
      "a\n",
      "d\n",
      " \n",
      "I\n",
      "q\n",
      "b\n",
      "a\n",
      "l\n"
     ]
    }
   ],
   "source": [
    "st=\"Mohammad Iqbal\"\n",
    "for t in st:\n",
    "    print(t,end=\"\\n\")   #\\n --- new line"
   ]
  },
  {
   "cell_type": "code",
   "execution_count": 3,
   "id": "0acdb2c1-f5b1-4b87-bd62-947dd9ce333f",
   "metadata": {},
   "outputs": [
    {
     "name": "stdout",
     "output_type": "stream",
     "text": [
      "M\to\th\ta\tm\tm\ta\td\t \tI\tq\tb\ta\tl\t"
     ]
    }
   ],
   "source": [
    "st=\"Mohammad Iqbal\"\n",
    "for t in st:\n",
    "    print(t,end=\"\\t\")    #\\t tabbed spaces"
   ]
  },
  {
   "cell_type": "code",
   "execution_count": 36,
   "id": "e0f3392f-5a93-4ca3-9afc-954c8a137256",
   "metadata": {},
   "outputs": [
    {
     "name": "stdout",
     "output_type": "stream",
     "text": [
      "\n",
      "Iqbal\n",
      "IqbalIqbal\n",
      "IqbalIqbalIqbal\n",
      "IqbalIqbalIqbalIqbal\n"
     ]
    }
   ],
   "source": [
    "st='a'\n",
    "for i in range(5):\n",
    "    print(s1*i)\n"
   ]
  },
  {
   "cell_type": "code",
   "execution_count": 36,
   "id": "51868858-293e-45ed-9e5e-09d4b222fa5e",
   "metadata": {},
   "outputs": [
    {
     "name": "stdout",
     "output_type": "stream",
     "text": [
      "\n",
      "Iqbal\n",
      "IqbalIqbal\n",
      "IqbalIqbalIqbal\n",
      "IqbalIqbalIqbalIqbal\n"
     ]
    }
   ],
   "source": [
    "st='a'\n",
    "for i in range(5):\n",
    "    print(s1*i)\n"
   ]
  },
  {
   "cell_type": "code",
   "execution_count": 5,
   "id": "4be2920a-7f02-4188-a1f7-7cbf7f33e431",
   "metadata": {},
   "outputs": [
    {
     "name": "stdout",
     "output_type": "stream",
     "text": [
      "e\n",
      "o\n",
      "e\n",
      "e\n",
      "o\n",
      "e\n"
     ]
    }
   ],
   "source": [
    "a=\"hellow everyone\"\n",
    "vowel=[\"a\",\"e\",\"i\",\"o\",\"u\"]\n",
    "for i in a:\n",
    "    if i in vowel:\n",
    "        print(i)"
   ]
  },
  {
   "cell_type": "code",
   "execution_count": 6,
   "id": "b167ab18-afee-4fbc-a8b2-f4261fa55078",
   "metadata": {},
   "outputs": [
    {
     "name": "stdout",
     "output_type": "stream",
     "text": [
      "h\n",
      "l\n",
      "l\n",
      "w\n",
      " \n",
      "v\n",
      "r\n",
      "y\n",
      "n\n"
     ]
    }
   ],
   "source": [
    "a=\"hellow everyone\"\n",
    "vowel=[\"a\",\"e\",\"i\",\"o\",\"u\"]\n",
    "for i in a:\n",
    "    if i not in vowel:\n",
    "        print(i)"
   ]
  },
  {
   "cell_type": "code",
   "execution_count": 1,
   "id": "42f89a64-8aa5-4d26-b2bc-984b6abd9147",
   "metadata": {},
   "outputs": [
    {
     "name": "stdout",
     "output_type": "stream",
     "text": [
      "data science\n",
      "data science\n",
      "good one\n",
      "data science\n",
      "good one\n",
      "data science\n",
      "data science\n",
      "data science\n"
     ]
    }
   ],
   "source": [
    "word=\"hello1\"\n",
    "\n",
    "for w in word:\n",
    "    if w==\"l\":\n",
    "        print(\"good one\")\n",
    "    print(\"data science\")"
   ]
  },
  {
   "cell_type": "code",
   "execution_count": 14,
   "id": "63d08656-c719-4adb-87dd-96e0e7e0ef63",
   "metadata": {},
   "outputs": [
    {
     "name": "stdout",
     "output_type": "stream",
     "text": [
      "the sum of even number is  2450\n",
      "the sum of odd number is  2500\n"
     ]
    }
   ],
   "source": [
    "se=0\n",
    "so=0\n",
    "for i in range(1,100):\n",
    "    if i%2==0:\n",
    "        se=se+i\n",
    "    else:\n",
    "        so=so+i\n",
    "print(\"the sum of even number is \",se)\n",
    "print(\"the sum of odd number is \",so)"
   ]
  },
  {
   "cell_type": "code",
   "execution_count": 15,
   "id": "9a37ecf0-5a2e-485b-890c-1eb161f33b1f",
   "metadata": {},
   "outputs": [
    {
     "name": "stdin",
     "output_type": "stream",
     "text": [
      "enter the number 5\n"
     ]
    },
    {
     "data": {
      "text/plain": [
       "120"
      ]
     },
     "execution_count": 15,
     "metadata": {},
     "output_type": "execute_result"
    }
   ],
   "source": [
    "n=int(input(\"enter the number\"))\n",
    "f=1\n",
    "for i in range(1,n+1):\n",
    "    f=f*i\n",
    "f"
   ]
  },
  {
   "cell_type": "code",
   "execution_count": null,
   "id": "9744c85e-dd6a-4911-add7-6f220b443246",
   "metadata": {},
   "outputs": [],
   "source": [
    "#----Continue Statement---"
   ]
  },
  {
   "cell_type": "code",
   "execution_count": 16,
   "id": "a3b09792-1038-4528-960d-6e831cbb89a4",
   "metadata": {},
   "outputs": [
    {
     "name": "stdout",
     "output_type": "stream",
     "text": [
      "s\n",
      "u\n",
      "a\n",
      "j\n"
     ]
    }
   ],
   "source": [
    "s=\"suraj\"\n",
    "for i in s:\n",
    "    if i==\"r\":\n",
    "        continue\n",
    "        print(\"hello\")\n",
    "    else:\n",
    "        print(i)"
   ]
  },
  {
   "cell_type": "code",
   "execution_count": 17,
   "id": "a51fb62d-de74-490f-887d-f7f6426d66c7",
   "metadata": {},
   "outputs": [],
   "source": [
    "#--Break Statement----"
   ]
  },
  {
   "cell_type": "code",
   "execution_count": 18,
   "id": "23e29d23-2f1a-49a2-a1e6-29a4999a155b",
   "metadata": {},
   "outputs": [
    {
     "name": "stdout",
     "output_type": "stream",
     "text": [
      "s\n",
      "u\n"
     ]
    }
   ],
   "source": [
    "s=\"suraj\"\n",
    "for val in s:\n",
    "    if val==\"r\":\n",
    "        break\n",
    "    print(val)"
   ]
  },
  {
   "cell_type": "code",
   "execution_count": 19,
   "id": "ec89dca1-c93d-41f5-a9f3-3c01ad78f8a4",
   "metadata": {},
   "outputs": [],
   "source": [
    "# Pass Statement"
   ]
  },
  {
   "cell_type": "code",
   "execution_count": 20,
   "id": "c72a0ce9-a4a2-43bf-b8e8-41fdc5778aef",
   "metadata": {},
   "outputs": [
    {
     "name": "stdout",
     "output_type": "stream",
     "text": [
      "s\n",
      "t\n",
      "r\n",
      "i\n",
      "n\n",
      "g\n"
     ]
    }
   ],
   "source": [
    "s=\"string\"\n",
    "for i in s:\n",
    "    if i==\"r\":\n",
    "        pass\n",
    "    print(i)"
   ]
  },
  {
   "cell_type": "code",
   "execution_count": null,
   "id": "deacf705-0393-4177-8db4-9c48517fb610",
   "metadata": {},
   "outputs": [],
   "source": []
  }
 ],
 "metadata": {
  "kernelspec": {
   "display_name": "Python 3 (ipykernel)",
   "language": "python",
   "name": "python3"
  },
  "language_info": {
   "codemirror_mode": {
    "name": "ipython",
    "version": 3
   },
   "file_extension": ".py",
   "mimetype": "text/x-python",
   "name": "python",
   "nbconvert_exporter": "python",
   "pygments_lexer": "ipython3",
   "version": "3.11.7"
  }
 },
 "nbformat": 4,
 "nbformat_minor": 5
}
