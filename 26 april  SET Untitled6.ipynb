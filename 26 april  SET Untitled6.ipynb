{
 "cells": [
  {
   "cell_type": "code",
   "execution_count": 1,
   "id": "fe362577-4e87-453c-b620-b789022b3e34",
   "metadata": {},
   "outputs": [
    {
     "name": "stdout",
     "output_type": "stream",
     "text": [
      "{2, 4, 6, 8, 10}\n"
     ]
    }
   ],
   "source": [
    "# Python -- Set\n",
    "even_nums = {2, 4, 6, 8, 10} # set of even number\n",
    "print(even_nums)"
   ]
  },
  {
   "cell_type": "code",
   "execution_count": 1,
   "id": "89909563-f822-4414-96f8-5d3db6bd7456",
   "metadata": {},
   "outputs": [
    {
     "name": "stdout",
     "output_type": "stream",
     "text": [
      "{0, 1, 10.5, 'Steve'}\n"
     ]
    }
   ],
   "source": [
    " emp = {1, 'Steve', 10.5, True,0,False} # set of different object\n",
    "print(emp)"
   ]
  },
  {
   "cell_type": "code",
   "execution_count": 5,
   "id": "4c8a3b50-b6e7-4fea-8b1a-27f08306d946",
   "metadata": {},
   "outputs": [
    {
     "data": {
      "text/plain": [
       "\"\\nA set doesn't store duplicate object . Even if an object is added more than once inside the curly brackets, only one copy is held in the set object.\\nHence, indexing and slicing operations cannot be done on a set obejct.\\n\""
      ]
     },
     "execution_count": 5,
     "metadata": {},
     "output_type": "execute_result"
    }
   ],
   "source": [
    "'''\n",
    "A set doesn't store duplicate object . Even if an object is added more than once inside the curly brackets, only one copy is held in the set object.\n",
    "Hence, indexing and slicing operations cannot be done on a set obejct.\n",
    "'''"
   ]
  },
  {
   "cell_type": "code",
   "execution_count": 6,
   "id": "aafb11ba-0c1a-4477-87a1-b3ebd5f06378",
   "metadata": {},
   "outputs": [
    {
     "name": "stdout",
     "output_type": "stream",
     "text": [
      "{1, 2, 3, 4, 5}\n"
     ]
    }
   ],
   "source": [
    "nums= {1,2,2,3,4,4,5,5}\n",
    "print(nums) # output {1,2,3,4,5}"
   ]
  },
  {
   "cell_type": "code",
   "execution_count": 7,
   "id": "a5a91573-054d-4492-8632-207e0af2bd0b",
   "metadata": {},
   "outputs": [
    {
     "name": "stdout",
     "output_type": "stream",
     "text": [
      "{(10, 10), 10, 20}\n"
     ]
    }
   ],
   "source": [
    "myset = {(10,10),10,20}\n",
    "print(myset)"
   ]
  },
  {
   "cell_type": "code",
   "execution_count": 11,
   "id": "3d9ff095-2309-4635-8dc0-843d740d25fd",
   "metadata": {},
   "outputs": [
    {
     "ename": "TypeError",
     "evalue": "unhashable type: 'list'",
     "output_type": "error",
     "traceback": [
      "\u001b[1;31m---------------------------------------------------------------------------\u001b[0m",
      "\u001b[1;31mTypeError\u001b[0m                                 Traceback (most recent call last)",
      "Cell \u001b[1;32mIn[11], line 1\u001b[0m\n\u001b[1;32m----> 1\u001b[0m myset \u001b[38;5;241m=\u001b[39m {[\u001b[38;5;241m10\u001b[39m,\u001b[38;5;241m10\u001b[39m],\u001b[38;5;241m10\u001b[39m,\u001b[38;5;241m20\u001b[39m}\n\u001b[0;32m      2\u001b[0m \u001b[38;5;28mprint\u001b[39m(myset)\n",
      "\u001b[1;31mTypeError\u001b[0m: unhashable type: 'list'"
     ]
    }
   ],
   "source": [
    "myset = {[10,10],10,20}\n",
    "print(myset)  #TypeError can't adda list # Hashable object"
   ]
  },
  {
   "cell_type": "code",
   "execution_count": 10,
   "id": "3331180a-d8d1-43c2-8b2d-10941244ff0c",
   "metadata": {},
   "outputs": [
    {
     "ename": "TypeError",
     "evalue": "unhashable type: 'set'",
     "output_type": "error",
     "traceback": [
      "\u001b[1;31m---------------------------------------------------------------------------\u001b[0m",
      "\u001b[1;31mTypeError\u001b[0m                                 Traceback (most recent call last)",
      "Cell \u001b[1;32mIn[10], line 1\u001b[0m\n\u001b[1;32m----> 1\u001b[0m myset \u001b[38;5;241m=\u001b[39m {{\u001b[38;5;241m10\u001b[39m,\u001b[38;5;241m10\u001b[39m},\u001b[38;5;241m10\u001b[39m,\u001b[38;5;241m20\u001b[39m}\n\u001b[0;32m      2\u001b[0m \u001b[38;5;28mprint\u001b[39m(myset)\n",
      "\u001b[1;31mTypeError\u001b[0m: unhashable type: 'set'"
     ]
    }
   ],
   "source": [
    "myset = {{10,10},10,20}\n",
    "print(myset)  # TypeError can't add a set #hashable"
   ]
  },
  {
   "cell_type": "code",
   "execution_count": 15,
   "id": "d331e086-8010-4b40-b72f-6cab7616bf6d",
   "metadata": {},
   "outputs": [
    {
     "name": "stdout",
     "output_type": "stream",
     "text": [
      "<class 'dict'>\n"
     ]
    }
   ],
   "source": [
    "emp = {} #creates an empty dictionary\n",
    "print(type(emp)) #<class 'dict')>"
   ]
  },
  {
   "cell_type": "code",
   "execution_count": 13,
   "id": "14090c51-2d1a-4224-ba81-b850c97f7af4",
   "metadata": {},
   "outputs": [
    {
     "name": "stdout",
     "output_type": "stream",
     "text": [
      "<class 'set'>\n"
     ]
    }
   ],
   "source": [
    "s = set() # creates an empty set\n",
    "print(type(s)) # <class 'set'>"
   ]
  },
  {
   "cell_type": "code",
   "execution_count": 16,
   "id": "c811d548-47aa-42a1-a557-95e30fbcd60e",
   "metadata": {},
   "outputs": [
    {
     "data": {
      "text/plain": [
       "'\\nThe set() function also use to convert string, tuple, or dictionary object to a set object, as shown below.\\n'"
      ]
     },
     "execution_count": 16,
     "metadata": {},
     "output_type": "execute_result"
    }
   ],
   "source": [
    "'''\n",
    "The set() function also use to convert string, tuple, or dictionary object to a set object, as shown below.\n",
    "'''"
   ]
  },
  {
   "cell_type": "code",
   "execution_count": 17,
   "id": "859f939d-1634-4eb8-8586-736ceecade5c",
   "metadata": {},
   "outputs": [
    {
     "name": "stdout",
     "output_type": "stream",
     "text": [
      "{'l', 'o', 'H', 'e'}\n"
     ]
    }
   ],
   "source": [
    "# convert sequence to set\n",
    "s=set('Hello') # converts string to set\n",
    "print(s)"
   ]
  },
  {
   "cell_type": "code",
   "execution_count": 18,
   "id": "984236f4-0a5a-4834-bd34-30da7c9b4bd9",
   "metadata": {},
   "outputs": [
    {
     "name": "stdout",
     "output_type": "stream",
     "text": [
      "{1, 2, 3, 4, 5}\n"
     ]
    }
   ],
   "source": [
    "s=set((1,2,3,4,5)) #convert tuple to set\n",
    "print(s)"
   ]
  },
  {
   "cell_type": "code",
   "execution_count": 21,
   "id": "d1a82165-b257-4cf1-aa43-dc43bdfc3e69",
   "metadata": {},
   "outputs": [
    {
     "name": "stdout",
     "output_type": "stream",
     "text": [
      "{1, 2}\n"
     ]
    }
   ],
   "source": [
    "d={1:'One', 2:'Two'}\n",
    "s=set(d) # convert dict to set\n",
    "print(s)"
   ]
  },
  {
   "cell_type": "code",
   "execution_count": 22,
   "id": "b05736e8-2e19-43a1-acfc-2200e384bb5e",
   "metadata": {},
   "outputs": [
    {
     "data": {
      "text/plain": [
       "'\\nModify Set Elements\\nUse built-in set function add(), remove() or update() methods to modify set collection.\\n'"
      ]
     },
     "execution_count": 22,
     "metadata": {},
     "output_type": "execute_result"
    }
   ],
   "source": [
    "'''\n",
    "Modify Set Elements\n",
    "Use built-in set function add(), remove() or update() methods to modify set collection.\n",
    "'''\n"
   ]
  },
  {
   "cell_type": "code",
   "execution_count": 23,
   "id": "1344e170-50f0-4381-b116-88c6c9880a7f",
   "metadata": {},
   "outputs": [
    {
     "name": "stdout",
     "output_type": "stream",
     "text": [
      "{10, 20, 30}\n"
     ]
    }
   ],
   "source": [
    "s=set() # creates an empty set\n",
    "s.add(10) # add an element\n",
    "s.add(20)\n",
    "s.add(30)\n",
    "print(s) "
   ]
  },
  {
   "cell_type": "code",
   "execution_count": 24,
   "id": "f667ccd5-9a34-445e-b6a0-d929e3a41607",
   "metadata": {},
   "outputs": [
    {
     "name": "stdout",
     "output_type": "stream",
     "text": [
      "{2, 3, 20, 5, 7, 10, 30}\n"
     ]
    }
   ],
   "source": [
    "primeNums = {2, 3, 5, 7}\n",
    "s.update(primeNums) #update set with another set\n",
    "print(s) "
   ]
  },
  {
   "cell_type": "code",
   "execution_count": 25,
   "id": "5f5c590a-4a99-4cdd-96f5-038a34255f0c",
   "metadata": {},
   "outputs": [
    {
     "name": "stdout",
     "output_type": "stream",
     "text": [
      "{3, 20, 5, 7, 10, 30}\n"
     ]
    }
   ],
   "source": [
    "s.remove(2) # remove an element\n",
    "print(s)"
   ]
  },
  {
   "cell_type": "code",
   "execution_count": 26,
   "id": "3f6f3545-071f-4f11-b7e1-baf9ed5882a5",
   "metadata": {},
   "outputs": [
    {
     "data": {
      "text/plain": [
       "'\\nPython set clear () method\\nThe set.clear() method removes all the elements from the set.\\n\\nsyntax:\\nset.clear()\\n'"
      ]
     },
     "execution_count": 26,
     "metadata": {},
     "output_type": "execute_result"
    }
   ],
   "source": [
    "'''\n",
    "Python set clear () method\n",
    "The set.clear() method removes all the elements from the set.\n",
    "\n",
    "syntax:\n",
    "set.clear()\n",
    "'''"
   ]
  },
  {
   "cell_type": "code",
   "execution_count": 27,
   "id": "d4879278-97f0-45a2-9118-a08cd324b4b3",
   "metadata": {},
   "outputs": [
    {
     "name": "stdout",
     "output_type": "stream",
     "text": [
      "Set after the clear() method is called: set()\n"
     ]
    }
   ],
   "source": [
    "langs = {'Python','C++','C','Go'}\n",
    "langs.clear()\n",
    "print(\"Set after the clear() method is called:\",langs) #set()"
   ]
  },
  {
   "cell_type": "code",
   "execution_count": 28,
   "id": "f241520b-1e18-4c08-aca4-e0a192df8de8",
   "metadata": {},
   "outputs": [
    {
     "data": {
      "text/plain": [
       "'\\nPython Set copy() Method\\nThe set.copy() method returns a shallow copy of the set.\\n\\nsyntax:\\nset.copy()\\n'"
      ]
     },
     "execution_count": 28,
     "metadata": {},
     "output_type": "execute_result"
    }
   ],
   "source": [
    "'''\n",
    "Python Set copy() Method\n",
    "The set.copy() method returns a shallow copy of the set.\n",
    "\n",
    "syntax:\n",
    "set.copy()\n",
    "'''"
   ]
  },
  {
   "cell_type": "code",
   "execution_count": 29,
   "id": "5e4b653e-8c43-46a8-8b3a-83bd4f49bc98",
   "metadata": {},
   "outputs": [
    {
     "name": "stdout",
     "output_type": "stream",
     "text": [
      "Original Set: {'C++', 'Java', 'Python'}\n",
      "Copied Set: {'C++', 'Java', 'Python'}\n"
     ]
    }
   ],
   "source": [
    "langs = {'Python','C++','Java'}\n",
    "copiedLangs = langs.copy()\n",
    "print(\"Original Set:\", langs)\n",
    "print(\"Copied Set:\", copiedLangs)"
   ]
  },
  {
   "cell_type": "code",
   "execution_count": 31,
   "id": "15efaac2-f0ab-4dd8-aa2a-20fbda4c556b",
   "metadata": {},
   "outputs": [
    {
     "data": {
      "text/plain": [
       "'\\nPyhton Set difference() Method\\nThe set.difference() method returns the new set with the unique elements that or not in the other set passed as a parameter.\\n\\nsyntex:\\nset.difference(*other_set)\\n'"
      ]
     },
     "execution_count": 31,
     "metadata": {},
     "output_type": "execute_result"
    }
   ],
   "source": [
    "'''\n",
    "Pyhton Set difference() Method\n",
    "The set.difference() method returns the new set with the unique elements that or not in the other set passed as a parameter.\n",
    "\n",
    "syntex:\n",
    "set.difference(*other_set)\n",
    "'''"
   ]
  },
  {
   "cell_type": "code",
   "execution_count": 32,
   "id": "fdc2eb1d-5787-454c-bb98-42a08572b14b",
   "metadata": {},
   "outputs": [
    {
     "name": "stdout",
     "output_type": "stream",
     "text": [
      "nums1- nums2: {1, 2, 3}\n",
      "nums2- nums1: {8, 6, 7}\n"
     ]
    }
   ],
   "source": [
    "nums1 = {1,2,2,3,4,5}\n",
    "nums2 = {4,5,6,7,8,8}\n",
    "\n",
    "nums3 = nums1.difference(nums2)\n",
    "nums4 = nums2.difference(nums1)\n",
    "\n",
    "print(\"nums1- nums2:\", nums3)\n",
    "print(\"nums2- nums1:\", nums4)"
   ]
  },
  {
   "cell_type": "code",
   "execution_count": 33,
   "id": "f98374ed-8322-41d1-924f-79a6424ea12e",
   "metadata": {},
   "outputs": [],
   "source": [
    "nums1 = {1,2,2,3,4,5}\n",
    "nums2 = {4,5,6,7,8,8}"
   ]
  },
  {
   "cell_type": "code",
   "execution_count": 34,
   "id": "b26e84cb-3eff-4690-b03c-db118750899b",
   "metadata": {},
   "outputs": [],
   "source": [
    "nums3 = nums1.difference(nums2)\n",
    "nums4 = nums2.difference(nums1)"
   ]
  },
  {
   "cell_type": "code",
   "execution_count": 35,
   "id": "ad6be19b-52f1-4d2c-92a3-6b29a98beb16",
   "metadata": {},
   "outputs": [
    {
     "name": "stdout",
     "output_type": "stream",
     "text": [
      "nums1- nums2: {1, 2, 3}\n",
      "nums2- nums1: {8, 6, 7}\n"
     ]
    }
   ],
   "source": [
    "print(\"nums1- nums2:\", nums3)\n",
    "print(\"nums2- nums1:\", nums4)"
   ]
  },
  {
   "cell_type": "markdown",
   "id": "831227d8-381f-408c-9242-7cd88a7f27b4",
   "metadata": {},
   "source": [
    "# Python Set intersection() Method\n",
    "\n",
    "The set.intersection() method returns a new set with the elements that are common in the given sets.\n",
    "\n",
    "syntax:\n",
    "set.intersection(*other_sets)"
   ]
  },
  {
   "cell_type": "code",
   "execution_count": 37,
   "id": "5077ceca-a965-4d18-8408-20f73bb79efa",
   "metadata": {},
   "outputs": [
    {
     "name": "stdout",
     "output_type": "stream",
     "text": [
      "Common elements in nums and oddNums are: {1, 3, 5}\n"
     ]
    }
   ],
   "source": [
    "nums = {1,2,3,4,5}\n",
    "oddNums = {1,3,5,7,9}\n",
    "commonNums = nums.intersection(oddNums)\n",
    "print(\"Common elements in nums and oddNums are:\", commonNums)"
   ]
  },
  {
   "cell_type": "code",
   "execution_count": 2,
   "id": "5c8baa8e-e03d-4f3b-948e-75493fbafed5",
   "metadata": {},
   "outputs": [
    {
     "name": "stdout",
     "output_type": "stream",
     "text": [
      "Common elements: {3, 5}\n"
     ]
    }
   ],
   "source": [
    "nums = {1,2,3,4,5}\n",
    "oddNums = {1,3,5,7,9}\n",
    "primeNums = {2,3,5,7}\n",
    "commonNums = nums.intersection(oddNums, primeNums)\n",
    "print(\"Common elements:\", commonNums)"
   ]
  },
  {
   "cell_type": "code",
   "execution_count": null,
   "id": "f5b30eb6-364c-4e82-810f-50cf1441f697",
   "metadata": {},
   "outputs": [],
   "source": [
    "# Python Set union() Method\n",
    "The set.union() method returns a new set with distinct elements from allthe given sets.\n",
    "syntax:\n",
    "A.union(*other_sets)"
   ]
  },
  {
   "cell_type": "code",
   "execution_count": 40,
   "id": "44f2c6b5-3d7c-4d86-8522-8deb2764754a",
   "metadata": {},
   "outputs": [
    {
     "name": "stdout",
     "output_type": "stream",
     "text": [
      " The union of two sets is: {1, 2, 3, 4, 5, 6, 7, 8}\n"
     ]
    }
   ],
   "source": [
    "nums1={1,2,2,3,4,5}\n",
    "nums2={4,5,6,7,7,8}\n",
    "\n",
    "distinct_nums = nums1.union(nums2)\n",
    "\n",
    "print(\" The union of two sets is:\", distinct_nums)"
   ]
  },
  {
   "cell_type": "code",
   "execution_count": null,
   "id": "9f39ea91-ff3c-42f2-9bc8-7b9a1357b22b",
   "metadata": {},
   "outputs": [],
   "source": []
  }
 ],
 "metadata": {
  "kernelspec": {
   "display_name": "Python 3 (ipykernel)",
   "language": "python",
   "name": "python3"
  },
  "language_info": {
   "codemirror_mode": {
    "name": "ipython",
    "version": 3
   },
   "file_extension": ".py",
   "mimetype": "text/x-python",
   "name": "python",
   "nbconvert_exporter": "python",
   "pygments_lexer": "ipython3",
   "version": "3.11.7"
  }
 },
 "nbformat": 4,
 "nbformat_minor": 5
}
