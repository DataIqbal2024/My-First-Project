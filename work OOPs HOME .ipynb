{
 "cells": [
  {
   "cell_type": "code",
   "execution_count": 1,
   "id": "af77c265-f174-4fd8-87c5-239501369a40",
   "metadata": {},
   "outputs": [],
   "source": [
    "class employee():\n",
    "    pass"
   ]
  },
  {
   "cell_type": "code",
   "execution_count": 2,
   "id": "357660b2-f699-47d4-a302-05280b876e28",
   "metadata": {},
   "outputs": [],
   "source": [
    "employee_1=employee\n",
    "employee_2=employee"
   ]
  },
  {
   "cell_type": "code",
   "execution_count": 3,
   "id": "3098a32c-7641-4dae-8eae-74df272e95f5",
   "metadata": {},
   "outputs": [],
   "source": [
    "employee_1.first_name=\"iqbal\"\n",
    "employee_2.last_name=\"Mohammad\"\n",
    "employee_2.salary=1000"
   ]
  },
  {
   "cell_type": "code",
   "execution_count": 4,
   "id": "49917a3d-68db-4a6c-81ef-c8955a12ded9",
   "metadata": {},
   "outputs": [
    {
     "data": {
      "text/plain": [
       "'iqbal'"
      ]
     },
     "execution_count": 4,
     "metadata": {},
     "output_type": "execute_result"
    }
   ],
   "source": [
    "employee_1.first_name"
   ]
  },
  {
   "cell_type": "code",
   "execution_count": 5,
   "id": "8c6d733e-de2f-4925-a71b-b1dbf9826ec9",
   "metadata": {},
   "outputs": [
    {
     "data": {
      "text/plain": [
       "1000"
      ]
     },
     "execution_count": 5,
     "metadata": {},
     "output_type": "execute_result"
    }
   ],
   "source": [
    "employee_2.salary"
   ]
  },
  {
   "cell_type": "code",
   "execution_count": 6,
   "id": "8f3da8d4-5746-49a7-b476-9e890f66d374",
   "metadata": {},
   "outputs": [
    {
     "data": {
      "text/plain": [
       "'Mohammad'"
      ]
     },
     "execution_count": 6,
     "metadata": {},
     "output_type": "execute_result"
    }
   ],
   "source": [
    "employee_2.last_name"
   ]
  },
  {
   "cell_type": "code",
   "execution_count": 7,
   "id": "2da7149f-8c7d-439e-a03a-848b885f38ef",
   "metadata": {},
   "outputs": [],
   "source": [
    "employee_2.first_name=\"Altaf\"\n",
    "employee_2.last_name=\"Hussain\"\n",
    "employee_2.salary=2000"
   ]
  },
  {
   "cell_type": "code",
   "execution_count": 8,
   "id": "481de392-296b-4034-aa26-cc282773b4da",
   "metadata": {},
   "outputs": [
    {
     "data": {
      "text/plain": [
       "'Altaf'"
      ]
     },
     "execution_count": 8,
     "metadata": {},
     "output_type": "execute_result"
    }
   ],
   "source": [
    "\n",
    "employee_2.first_name"
   ]
  },
  {
   "cell_type": "code",
   "execution_count": 9,
   "id": "a58892ba-cf3e-4ae5-afd6-a12e2f5cbe3e",
   "metadata": {},
   "outputs": [
    {
     "data": {
      "text/plain": [
       "2000"
      ]
     },
     "execution_count": 9,
     "metadata": {},
     "output_type": "execute_result"
    }
   ],
   "source": [
    "employee_2.salary"
   ]
  },
  {
   "cell_type": "code",
   "execution_count": 10,
   "id": "d2f54cc6-7b11-4813-aec8-766a442a3604",
   "metadata": {},
   "outputs": [],
   "source": [
    "class employee():\n",
    "    def __init__(self,fname,lname,salary,edu):\n",
    "        self.first_name=fname\n",
    "        self.last_name=lname\n",
    "        self.salary=salary\n",
    "        self.education=edu"
   ]
  },
  {
   "cell_type": "code",
   "execution_count": 11,
   "id": "d5337562-585c-42f0-aa62-1dfebb8febf7",
   "metadata": {},
   "outputs": [],
   "source": [
    "a=employee(\"zafar\",\"hasan\",3000,\"gamer\")\n",
    "b=employee(\"altaf\",\"hussain\",5000,\"study\")"
   ]
  },
  {
   "cell_type": "code",
   "execution_count": 12,
   "id": "00ef9379-6e16-4e65-a0e6-3b58e63b7b81",
   "metadata": {},
   "outputs": [
    {
     "data": {
      "text/plain": [
       "'zafar'"
      ]
     },
     "execution_count": 12,
     "metadata": {},
     "output_type": "execute_result"
    }
   ],
   "source": [
    "a.first_name"
   ]
  },
  {
   "cell_type": "code",
   "execution_count": 13,
   "id": "b047238e-d2f3-4c0b-a89d-d45292639a95",
   "metadata": {},
   "outputs": [
    {
     "data": {
      "text/plain": [
       "'altaf'"
      ]
     },
     "execution_count": 13,
     "metadata": {},
     "output_type": "execute_result"
    }
   ],
   "source": [
    "b.first_name"
   ]
  },
  {
   "cell_type": "code",
   "execution_count": 14,
   "id": "7e028c6e-a820-49ab-aeef-c8e9bc99b8ac",
   "metadata": {},
   "outputs": [
    {
     "data": {
      "text/plain": [
       "3000"
      ]
     },
     "execution_count": 14,
     "metadata": {},
     "output_type": "execute_result"
    }
   ],
   "source": [
    "a.salary"
   ]
  },
  {
   "cell_type": "code",
   "execution_count": 15,
   "id": "cea237ef-8019-4369-8eef-8431acaae0ff",
   "metadata": {},
   "outputs": [
    {
     "data": {
      "text/plain": [
       "'gamer'"
      ]
     },
     "execution_count": 15,
     "metadata": {},
     "output_type": "execute_result"
    }
   ],
   "source": [
    "a.education"
   ]
  },
  {
   "cell_type": "code",
   "execution_count": 16,
   "id": "d7a0e1b5-63f7-4409-8d75-72df2400d594",
   "metadata": {},
   "outputs": [],
   "source": [
    "class car:\n",
    "    def __init__(xyz,color,year,body):\n",
    "        xyz.color1=color\n",
    "        xyz.year1=year\n",
    "        xyz.body1=body\n",
    "\n",
    "\n",
    "    def cal_age(xyz,current_year):\n",
    "        return current_year - xyz.year1"
   ]
  },
  {
   "cell_type": "code",
   "execution_count": 17,
   "id": "3f14b407-4b00-4dd0-a8c1-a12fbc8598ae",
   "metadata": {},
   "outputs": [],
   "source": [
    "kia=car(\"steelgrey\",2010,\"cromium\")"
   ]
  },
  {
   "cell_type": "code",
   "execution_count": 18,
   "id": "a8271c27-8489-4040-9b59-4f382e18e492",
   "metadata": {},
   "outputs": [
    {
     "data": {
      "text/plain": [
       "'steelgrey'"
      ]
     },
     "execution_count": 18,
     "metadata": {},
     "output_type": "execute_result"
    }
   ],
   "source": [
    "kia.color1"
   ]
  },
  {
   "cell_type": "code",
   "execution_count": 19,
   "id": "039809af-abe6-4b2d-8614-5fd89d5db236",
   "metadata": {},
   "outputs": [
    {
     "data": {
      "text/plain": [
       "14"
      ]
     },
     "execution_count": 19,
     "metadata": {},
     "output_type": "execute_result"
    }
   ],
   "source": [
    "kia.cal_age(2024)"
   ]
  },
  {
   "cell_type": "code",
   "execution_count": 20,
   "id": "5368a4c3-efc9-48fc-9f39-d07c92011ec1",
   "metadata": {},
   "outputs": [
    {
     "data": {
      "text/plain": [
       "2010"
      ]
     },
     "execution_count": 20,
     "metadata": {},
     "output_type": "execute_result"
    }
   ],
   "source": [
    "kia.year1"
   ]
  },
  {
   "cell_type": "markdown",
   "id": "137f5afd-019a-452c-b8c9-a606f4b7a644",
   "metadata": {},
   "source": [
    "# ......................... Intances and  class variables ........................."
   ]
  },
  {
   "cell_type": "code",
   "execution_count": 21,
   "id": "61226a8c-ba11-4f59-ad9f-758383e9df81",
   "metadata": {},
   "outputs": [],
   "source": [
    "class employee():\n",
    "    increment=2\n",
    "    def __init__(self,fname,lname,salary):\n",
    "        self.first_name=fname\n",
    "        self.last_name=lname\n",
    "        self.salary=salary\n",
    "\n",
    "    def increase(self):\n",
    "        pass\n",
    "\n",
    "employee_1=employee(\"Iqbal\",\"md\",50000)\n",
    "\n",
    "employee_2=employee(\"Zafar\",\"hasan\",35000)"
   ]
  },
  {
   "cell_type": "code",
   "execution_count": 22,
   "id": "899d9335-4d58-442d-b824-194a4c8e73e6",
   "metadata": {},
   "outputs": [
    {
     "data": {
      "text/plain": [
       "'Iqbal'"
      ]
     },
     "execution_count": 22,
     "metadata": {},
     "output_type": "execute_result"
    }
   ],
   "source": [
    "employee_1.first_name"
   ]
  },
  {
   "cell_type": "code",
   "execution_count": 23,
   "id": "50d9b240-6eee-4a25-8972-eab612b545f1",
   "metadata": {},
   "outputs": [],
   "source": [
    "employee_1.increase()"
   ]
  },
  {
   "cell_type": "code",
   "execution_count": 24,
   "id": "22f8bba7-b31c-4471-bbb8-bec754e2e268",
   "metadata": {},
   "outputs": [
    {
     "data": {
      "text/plain": [
       "50000"
      ]
     },
     "execution_count": 24,
     "metadata": {},
     "output_type": "execute_result"
    }
   ],
   "source": [
    "class employee():\n",
    "    increment=2\n",
    "    def __init__(self,fname,lname,salary):\n",
    "        self.first_name=fname\n",
    "        self.last_name=lname\n",
    "        self.salary=salary\n",
    "\n",
    "    def increase(self):\n",
    "       self.salary=self.salary * self.increment\n",
    "\n",
    "employee_1=employee(\"iqbal\",\"md\",50000)\n",
    "employee_2=employee(\"zafar\",\"hasan\",35000)\n",
    "employee_1.salary"
   ]
  },
  {
   "cell_type": "code",
   "execution_count": 25,
   "id": "09d2effd-972c-443e-bdfb-bf09f2e5dc24",
   "metadata": {},
   "outputs": [],
   "source": [
    "employee_2.increase()"
   ]
  },
  {
   "cell_type": "code",
   "execution_count": 26,
   "id": "c8fa3f21-d518-4c82-8fee-f95e09557af0",
   "metadata": {},
   "outputs": [
    {
     "data": {
      "text/plain": [
       "70000"
      ]
     },
     "execution_count": 26,
     "metadata": {},
     "output_type": "execute_result"
    }
   ],
   "source": [
    "employee_2.salary"
   ]
  },
  {
   "cell_type": "code",
   "execution_count": 27,
   "id": "9f22941c-2d7f-4b7b-9b4e-21d0fc0f29e9",
   "metadata": {},
   "outputs": [],
   "source": [
    "class employee():\n",
    "    increment=1.5\n",
    "    def __init__(self,fname,lname,salary):\n",
    "        self.first_name=fname\n",
    "        self.last_name=lname\n",
    "        self.salary=salary\n",
    "\n",
    "    def increase(self, increment):\n",
    "       self.salary=self.salary * self.increment\n",
    "\n",
    "employee_1=employee(\"arslan\",\"idrishi\",50000)\n",
    "employee_2=employee(\"sahil\",\"ahamad\",35000)"
   ]
  },
  {
   "cell_type": "code",
   "execution_count": 28,
   "id": "8a47c505-13b7-4cd6-b375-0deb3af9c025",
   "metadata": {},
   "outputs": [
    {
     "data": {
      "text/plain": [
       "50000"
      ]
     },
     "execution_count": 28,
     "metadata": {},
     "output_type": "execute_result"
    }
   ],
   "source": [
    "\n",
    "employee_1.salary"
   ]
  },
  {
   "cell_type": "code",
   "execution_count": 29,
   "id": "0b9b2481-2df6-4188-8cc9-b36b4b235b23",
   "metadata": {},
   "outputs": [],
   "source": [
    "employee_1.increase(5)"
   ]
  },
  {
   "cell_type": "code",
   "execution_count": 30,
   "id": "e737abea-08ed-4a13-99d1-0376b5a8c0fb",
   "metadata": {},
   "outputs": [
    {
     "data": {
      "text/plain": [
       "75000.0"
      ]
     },
     "execution_count": 30,
     "metadata": {},
     "output_type": "execute_result"
    }
   ],
   "source": [
    "employee_1.salary"
   ]
  },
  {
   "cell_type": "code",
   "execution_count": 31,
   "id": "c09e4681-1b3c-41d1-abe8-052be7629304",
   "metadata": {},
   "outputs": [
    {
     "data": {
      "text/plain": [
       "{'first_name': 'arslan', 'last_name': 'idrishi', 'salary': 75000.0}"
      ]
     },
     "execution_count": 31,
     "metadata": {},
     "output_type": "execute_result"
    }
   ],
   "source": [
    "employee_1.__dict__"
   ]
  },
  {
   "cell_type": "code",
   "execution_count": 32,
   "id": "3b84121e-01ea-496e-84c3-04125ee2c51f",
   "metadata": {},
   "outputs": [],
   "source": [
    "class employee():\n",
    "\n",
    "    no_of_employees=0\n",
    "    increment=1.5\n",
    "    def __init__(self,fname,lname,salary):\n",
    "        self.first_name=fname\n",
    "        self.last_name=lname\n",
    "        self.salary=salary\n",
    "        self.increment=2\n",
    "        employee.no_of_employees+=1\n",
    "\n",
    "\n",
    "    def increase(self):\n",
    "        self.salary=self.salary * employee.increment"
   ]
  },
  {
   "cell_type": "code",
   "execution_count": 33,
   "id": "4376d7e0-4570-4a1d-9801-6a648e007d06",
   "metadata": {},
   "outputs": [
    {
     "data": {
      "text/plain": [
       "0"
      ]
     },
     "execution_count": 33,
     "metadata": {},
     "output_type": "execute_result"
    }
   ],
   "source": [
    "employee.no_of_employees"
   ]
  },
  {
   "cell_type": "code",
   "execution_count": 34,
   "id": "eeaa9860-cc70-4f3c-bc5d-7748ad192ac0",
   "metadata": {},
   "outputs": [],
   "source": [
    "employee_1=employee(\"altaf\",\"hussain\",50000)"
   ]
  },
  {
   "cell_type": "code",
   "execution_count": 35,
   "id": "6dc04979-5139-4eab-95e8-d6f107905196",
   "metadata": {},
   "outputs": [
    {
     "data": {
      "text/plain": [
       "1"
      ]
     },
     "execution_count": 35,
     "metadata": {},
     "output_type": "execute_result"
    }
   ],
   "source": [
    "employee.no_of_employees"
   ]
  },
  {
   "cell_type": "code",
   "execution_count": 36,
   "id": "c9e6f5e4-ec29-4cc4-9a2a-9f5252e0d9d4",
   "metadata": {},
   "outputs": [],
   "source": [
    "employee_2=employee(\"zafar\",\"hasan\",35000)"
   ]
  },
  {
   "cell_type": "code",
   "execution_count": 37,
   "id": "aab3a2b5-e35e-4d26-92f3-6b54cc98ebc1",
   "metadata": {},
   "outputs": [
    {
     "data": {
      "text/plain": [
       "2"
      ]
     },
     "execution_count": 37,
     "metadata": {},
     "output_type": "execute_result"
    }
   ],
   "source": [
    "employee.no_of_employees"
   ]
  },
  {
   "cell_type": "code",
   "execution_count": 38,
   "id": "d4096591-cb82-4b97-8bf4-23b283835f01",
   "metadata": {},
   "outputs": [
    {
     "data": {
      "text/plain": [
       "50000"
      ]
     },
     "execution_count": 38,
     "metadata": {},
     "output_type": "execute_result"
    }
   ],
   "source": [
    "employee_1.salary"
   ]
  },
  {
   "cell_type": "code",
   "execution_count": 39,
   "id": "d25cc419-85f8-4fbc-8f4e-44224b1dbd73",
   "metadata": {},
   "outputs": [],
   "source": [
    "employee_1.increase()"
   ]
  },
  {
   "cell_type": "code",
   "execution_count": 40,
   "id": "dd7cfe35-4ad1-492e-ab5a-1d54afbf7e7c",
   "metadata": {},
   "outputs": [
    {
     "data": {
      "text/plain": [
       "75000.0"
      ]
     },
     "execution_count": 40,
     "metadata": {},
     "output_type": "execute_result"
    }
   ],
   "source": [
    "employee_1.salary"
   ]
  },
  {
   "cell_type": "code",
   "execution_count": 41,
   "id": "19670155-a137-43a5-9768-ad06db170608",
   "metadata": {},
   "outputs": [],
   "source": [
    "class employee():\n",
    "    increment=1.5\n",
    "    no_of_employees=0\n",
    "    def __init__(self,fname,lname,salary):\n",
    "        self.first_name=fname\n",
    "        self.last_name=lname\n",
    "        self.salary=salary\n",
    "\n",
    "        employee.no_of_employees+=1\n",
    "\n",
    "\n",
    "    def increase(self):\n",
    "        self.salary=self.salary * employee.increment\n",
    "\n",
    "    @classmethod\n",
    "    def increment_amount(cls,amount):\n",
    "        cls.increment=amount"
   ]
  },
  {
   "cell_type": "code",
   "execution_count": 42,
   "id": "004546db-402a-4e61-8d0f-752e18a2ba33",
   "metadata": {},
   "outputs": [],
   "source": [
    "employee_1=employee(\"zafar\",\"hasan\",50000)\n",
    "employee_2=employee(\"altaf\",\"hussain\",35000)"
   ]
  },
  {
   "cell_type": "code",
   "execution_count": 43,
   "id": "44a51467-feae-4be4-97f8-c8282a0168ac",
   "metadata": {},
   "outputs": [
    {
     "data": {
      "text/plain": [
       "50000"
      ]
     },
     "execution_count": 43,
     "metadata": {},
     "output_type": "execute_result"
    }
   ],
   "source": [
    "employee_1.salary"
   ]
  },
  {
   "cell_type": "code",
   "execution_count": 44,
   "id": "5567142a-aadf-4a88-ab7f-0b132dcefa83",
   "metadata": {},
   "outputs": [],
   "source": [
    "employee_1.increase()"
   ]
  },
  {
   "cell_type": "code",
   "execution_count": 45,
   "id": "54722dec-f838-4062-993a-1704c91c0af0",
   "metadata": {},
   "outputs": [
    {
     "data": {
      "text/plain": [
       "75000.0"
      ]
     },
     "execution_count": 45,
     "metadata": {},
     "output_type": "execute_result"
    }
   ],
   "source": [
    "employee_1.salary"
   ]
  },
  {
   "cell_type": "code",
   "execution_count": 46,
   "id": "46e3f7c7-b0e6-44ea-b696-8aeb2fc60d5f",
   "metadata": {},
   "outputs": [],
   "source": [
    "employee.increment_amount(5)"
   ]
  },
  {
   "cell_type": "code",
   "execution_count": 47,
   "id": "b8e69230-83f7-4c0f-bfea-d77db7107757",
   "metadata": {},
   "outputs": [
    {
     "data": {
      "text/plain": [
       "5"
      ]
     },
     "execution_count": 47,
     "metadata": {},
     "output_type": "execute_result"
    }
   ],
   "source": [
    "employee.increment"
   ]
  },
  {
   "cell_type": "code",
   "execution_count": 48,
   "id": "3a3c43a5-b9da-4661-8819-a87f3ce530d2",
   "metadata": {},
   "outputs": [
    {
     "data": {
      "text/plain": [
       "35000"
      ]
     },
     "execution_count": 48,
     "metadata": {},
     "output_type": "execute_result"
    }
   ],
   "source": [
    "employee_2.salary"
   ]
  },
  {
   "cell_type": "code",
   "execution_count": 49,
   "id": "e1f527fd-553a-4aef-a200-611c40acc412",
   "metadata": {},
   "outputs": [],
   "source": [
    "employee_2.increase()"
   ]
  },
  {
   "cell_type": "code",
   "execution_count": 50,
   "id": "d0b7e377-9f1c-4304-b0fc-ae0134bd33cf",
   "metadata": {},
   "outputs": [
    {
     "data": {
      "text/plain": [
       "175000"
      ]
     },
     "execution_count": 50,
     "metadata": {},
     "output_type": "execute_result"
    }
   ],
   "source": [
    "employee_2.salary"
   ]
  },
  {
   "cell_type": "code",
   "execution_count": 51,
   "id": "ba71fac2-3688-4d69-8865-08102b6d408f",
   "metadata": {},
   "outputs": [],
   "source": [
    "class employee():\n",
    "    increment=5\n",
    "    no_of_employees=2\n",
    "    def __init__(self,fname,lname,salary):\n",
    "        self.first_name=fname\n",
    "        self.last_name=lname\n",
    "        self.salary=salary\n",
    "\n",
    "        employee.no_of_employees+=1\n",
    "    def increase(self):\n",
    "        self.salary=self.salary * employee.increment\n",
    "\n",
    "    @classmethod\n",
    "    def increment_amount(cls,amount):\n",
    "        cls.increment=amount"
   ]
  },
  {
   "cell_type": "code",
   "execution_count": 52,
   "id": "4cb45f0d-1417-4045-8c36-8432157aee81",
   "metadata": {},
   "outputs": [],
   "source": [
    "employee_1=employee(\"iqbal\",\"md\",100)\n",
    "employee_2=employee(\"dev\",\"thapa\",200)"
   ]
  },
  {
   "cell_type": "code",
   "execution_count": 53,
   "id": "3090f4bc-992e-44c8-a756-16408f19fc61",
   "metadata": {},
   "outputs": [
    {
     "data": {
      "text/plain": [
       "100"
      ]
     },
     "execution_count": 53,
     "metadata": {},
     "output_type": "execute_result"
    }
   ],
   "source": [
    "employee_1.salary"
   ]
  },
  {
   "cell_type": "code",
   "execution_count": 54,
   "id": "508daa32-77ea-45e2-a4da-654820933e4e",
   "metadata": {},
   "outputs": [],
   "source": [
    "employee_1.increase()"
   ]
  },
  {
   "cell_type": "code",
   "execution_count": 55,
   "id": "34670341-af41-4d38-9f7c-4de4521bbf45",
   "metadata": {},
   "outputs": [
    {
     "data": {
      "text/plain": [
       "500"
      ]
     },
     "execution_count": 55,
     "metadata": {},
     "output_type": "execute_result"
    }
   ],
   "source": [
    "employee_1.salary"
   ]
  },
  {
   "cell_type": "code",
   "execution_count": 56,
   "id": "20de6263-b8b7-41d9-8b94-0d93b6f7c850",
   "metadata": {},
   "outputs": [],
   "source": [
    "employee.increment_amount(5)"
   ]
  },
  {
   "cell_type": "code",
   "execution_count": 57,
   "id": "73336454-7695-4b87-9405-f4602988e2e9",
   "metadata": {},
   "outputs": [
    {
     "data": {
      "text/plain": [
       "5"
      ]
     },
     "execution_count": 57,
     "metadata": {},
     "output_type": "execute_result"
    }
   ],
   "source": [
    "employee.increment"
   ]
  },
  {
   "cell_type": "code",
   "execution_count": 58,
   "id": "483387ec-d8cd-4c74-ad11-9d3809de2df4",
   "metadata": {},
   "outputs": [
    {
     "data": {
      "text/plain": [
       "200"
      ]
     },
     "execution_count": 58,
     "metadata": {},
     "output_type": "execute_result"
    }
   ],
   "source": [
    "employee_2.salary"
   ]
  },
  {
   "cell_type": "code",
   "execution_count": 59,
   "id": "300c387e-271f-4399-91b5-2884022e3b49",
   "metadata": {},
   "outputs": [],
   "source": [
    "employee_2.increase()"
   ]
  },
  {
   "cell_type": "code",
   "execution_count": 61,
   "id": "80e97679-c37c-42ec-84a5-e2d15afbdb4c",
   "metadata": {},
   "outputs": [
    {
     "data": {
      "text/plain": [
       "1000"
      ]
     },
     "execution_count": 61,
     "metadata": {},
     "output_type": "execute_result"
    }
   ],
   "source": [
    "employee_2.salary"
   ]
  },
  {
   "cell_type": "markdown",
   "id": "d9831ffa-ea20-4835-a5f5-5b9997c4f08c",
   "metadata": {},
   "source": [
    "# OOPs Second class"
   ]
  },
  {
   "cell_type": "code",
   "execution_count": null,
   "id": "f25c4aae-3c67-421a-ac87-24d6797e0608",
   "metadata": {},
   "outputs": [],
   "source": []
  }
 ],
 "metadata": {
  "kernelspec": {
   "display_name": "Python 3 (ipykernel)",
   "language": "python",
   "name": "python3"
  },
  "language_info": {
   "codemirror_mode": {
    "name": "ipython",
    "version": 3
   },
   "file_extension": ".py",
   "mimetype": "text/x-python",
   "name": "python",
   "nbconvert_exporter": "python",
   "pygments_lexer": "ipython3",
   "version": "3.11.7"
  }
 },
 "nbformat": 4,
 "nbformat_minor": 5
}
