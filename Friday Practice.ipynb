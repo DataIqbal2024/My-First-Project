{
 "cells": [
  {
   "cell_type": "code",
   "execution_count": 2,
   "id": "d87eaa84-7674-419c-ab0d-899053235695",
   "metadata": {},
   "outputs": [
    {
     "name": "stdout",
     "output_type": "stream",
     "text": [
      "Iqbal\n"
     ]
    }
   ],
   "source": [
    "print(\"Iqbal\")"
   ]
  },
  {
   "cell_type": "code",
   "execution_count": 3,
   "id": "99fe26c6-9369-4867-b338-89819bdeb485",
   "metadata": {},
   "outputs": [
    {
     "name": "stdout",
     "output_type": "stream",
     "text": [
      "the value of a is 10\n"
     ]
    }
   ],
   "source": [
    "a=10\n",
    "print(\"the value of a is\",a)"
   ]
  },
  {
   "cell_type": "code",
   "execution_count": 4,
   "id": "b125f349-d28e-4c74-b074-20209622766f",
   "metadata": {},
   "outputs": [
    {
     "name": "stdout",
     "output_type": "stream",
     "text": [
      "30\n"
     ]
    }
   ],
   "source": [
    "# Sum of two number\n",
    "a=10\n",
    "b=20\n",
    "c=a+b\n",
    "print(c)"
   ]
  },
  {
   "cell_type": "code",
   "execution_count": 5,
   "id": "f41b1733-fefc-45cd-9f3e-cab1392dc3f2",
   "metadata": {},
   "outputs": [
    {
     "name": "stdout",
     "output_type": "stream",
     "text": [
      "the value of c is 37\n"
     ]
    }
   ],
   "source": [
    "# Sum of two number\n",
    "a=14\n",
    "b=23\n",
    "c=a+b\n",
    "print(\"the value of c is\",c)"
   ]
  },
  {
   "cell_type": "code",
   "execution_count": 7,
   "id": "ee4a3810-46fc-4768-a708-19e9ee824acc",
   "metadata": {},
   "outputs": [
    {
     "name": "stdout",
     "output_type": "stream",
     "text": [
      "686.0\n"
     ]
    }
   ],
   "source": [
    "# Simple Interest\n",
    "p=2000\n",
    "r=4.9\n",
    "t=7\n",
    "si=p*r*t/100\n",
    "print(si)"
   ]
  },
  {
   "cell_type": "code",
   "execution_count": 8,
   "id": "d179ce3e-8d2c-49a0-bc45-931148cc1606",
   "metadata": {},
   "outputs": [
    {
     "name": "stdout",
     "output_type": "stream",
     "text": [
      "the simple interest is 770.4720000000001\n"
     ]
    }
   ],
   "source": [
    "# Simple Interest\n",
    "p=3567\n",
    "r=7.2\n",
    "t=3\n",
    "si=p*r*t/100\n",
    "print(\"the simple interest is\",si)"
   ]
  },
  {
   "cell_type": "code",
   "execution_count": 9,
   "id": "be3e4219-f7d4-4b04-930b-a13db908527b",
   "metadata": {},
   "outputs": [
    {
     "name": "stdout",
     "output_type": "stream",
     "text": [
      "the averagev is  63.076666666666675\n"
     ]
    }
   ],
   "source": [
    "# Average of three\n",
    "a=45.78\n",
    "b=87.89\n",
    "c=55.56\n",
    "avg=(a+b+c)/3\n",
    "print(\"the averagev is \",avg)"
   ]
  },
  {
   "cell_type": "code",
   "execution_count": 10,
   "id": "898c34b0-8d59-4ff8-9558-cb4e8953beb9",
   "metadata": {},
   "outputs": [
    {
     "name": "stdout",
     "output_type": "stream",
     "text": [
      "25.333333333333332\n"
     ]
    }
   ],
   "source": [
    "# Average of three\n",
    "a=15.15\n",
    "b=36.96\n",
    "c=23.89\n",
    "avg=(a+b+c)/3\n",
    "print(avg)"
   ]
  },
  {
   "cell_type": "code",
   "execution_count": 11,
   "id": "61718e3c-5ee4-44c9-aee9-1bd616a4ed78",
   "metadata": {},
   "outputs": [
    {
     "name": "stdout",
     "output_type": "stream",
     "text": [
      "the sum is 280\n",
      "the percentage is 56.0\n"
     ]
    }
   ],
   "source": [
    "a=23\n",
    "b=45\n",
    "c=67\n",
    "d=56\n",
    "e=89\n",
    "sum=a+b+c+d+e\n",
    "per=sum*100/500\n",
    "print(\"the sum is\",sum)\n",
    "print(\"the percentage is\",per)"
   ]
  },
  {
   "cell_type": "code",
   "execution_count": 12,
   "id": "6ad305ad-cc7a-42f6-a15c-75ffdd6be16f",
   "metadata": {},
   "outputs": [
    {
     "name": "stdout",
     "output_type": "stream",
     "text": [
      "before swapping\n",
      "A= 45\n",
      "B= 67\n",
      "after swapping\n",
      "A= 67\n",
      "B= 45\n"
     ]
    }
   ],
   "source": [
    "# Swapping of two number\n",
    "a=45\n",
    "b=67\n",
    "print(\"before swapping\")\n",
    "print(\"A=\",a)\n",
    "print(\"B=\",b)\n",
    "temp=a\n",
    "a=b\n",
    "b=temp\n",
    "print(\"after swapping\")\n",
    "print(\"A=\",a)\n",
    "print(\"B=\",b)"
   ]
  },
  {
   "cell_type": "code",
   "execution_count": 19,
   "id": "341454aa-737c-4fad-9c07-5c75be5d10b9",
   "metadata": {},
   "outputs": [
    {
     "name": "stdout",
     "output_type": "stream",
     "text": [
      "before swapping\n",
      "A= 10\n",
      "B= 20\n",
      "after swapping\n",
      "A= -10\n",
      "B= 20\n"
     ]
    }
   ],
   "source": [
    "# Swapping of two number\n",
    "a=10\n",
    "b=20\n",
    "print(\"before swapping\")\n",
    "print(\"A=\",a)\n",
    "print(\"B=\",b)\n",
    "a=a+b\n",
    "a=a-b\n",
    "a=a-b\n",
    "print(\"after swapping\")\n",
    "print(\"A=\",a)\n",
    "print(\"B=\",b)"
   ]
  },
  {
   "cell_type": "code",
   "execution_count": 20,
   "id": "a2f2df37-3135-485b-89fd-628ab4cd85b1",
   "metadata": {},
   "outputs": [
    {
     "name": "stdout",
     "output_type": "stream",
     "text": [
      "before swapping\n",
      "A= 20\n",
      "B= 30\n",
      "after swapping\n",
      "A= 30\n",
      "B= 20\n"
     ]
    }
   ],
   "source": [
    "# swapping of two number\n",
    "a=20\n",
    "b=30\n",
    "print(\"before swapping\")\n",
    "print(\"A=\",a)\n",
    "print(\"B=\",b)\n",
    "a,b=b,a\n",
    "print(\"after swapping\")\n",
    "print(\"A=\",a)\n",
    "print(\"B=\",b)"
   ]
  },
  {
   "cell_type": "code",
   "execution_count": 21,
   "id": "2bbe5ea5-fb56-4247-b28d-0f65fba65f4b",
   "metadata": {},
   "outputs": [],
   "source": [
    "a=60\n",
    "b=4"
   ]
  },
  {
   "cell_type": "code",
   "execution_count": 22,
   "id": "21c391d4-5b10-44a0-ac18-2eeb57f24d0c",
   "metadata": {},
   "outputs": [
    {
     "data": {
      "text/plain": [
       "15.0"
      ]
     },
     "execution_count": 22,
     "metadata": {},
     "output_type": "execute_result"
    }
   ],
   "source": [
    "a/b"
   ]
  },
  {
   "cell_type": "code",
   "execution_count": 23,
   "id": "c90a06ee-8deb-42a6-ac0f-fb8d3dcbef02",
   "metadata": {},
   "outputs": [
    {
     "data": {
      "text/plain": [
       "15"
      ]
     },
     "execution_count": 23,
     "metadata": {},
     "output_type": "execute_result"
    }
   ],
   "source": [
    "a//b"
   ]
  },
  {
   "cell_type": "code",
   "execution_count": 26,
   "id": "f8a1f9b1-315b-4dc5-9a17-689b5389baa4",
   "metadata": {},
   "outputs": [
    {
     "data": {
      "text/plain": [
       "12960000"
      ]
     },
     "execution_count": 26,
     "metadata": {},
     "output_type": "execute_result"
    }
   ],
   "source": [
    "a**b"
   ]
  },
  {
   "cell_type": "code",
   "execution_count": 29,
   "id": "20b27e83-4073-44b1-87d5-783545262a03",
   "metadata": {},
   "outputs": [
    {
     "name": "stdout",
     "output_type": "stream",
     "text": [
      "6436343.0\n"
     ]
    }
   ],
   "source": [
    "import math\n",
    "a=23\n",
    "b=5\n",
    "c=math.pow(a,b)\n",
    "print(c)"
   ]
  },
  {
   "cell_type": "code",
   "execution_count": 31,
   "id": "6c21bda7-eadd-47f9-ad0d-0673d8e2ce43",
   "metadata": {},
   "outputs": [
    {
     "data": {
      "text/plain": [
       "6436343"
      ]
     },
     "execution_count": 31,
     "metadata": {},
     "output_type": "execute_result"
    }
   ],
   "source": [
    "import math\n",
    "a=23\n",
    "b=5\n",
    "c=pow(a,b)\n",
    "c"
   ]
  },
  {
   "cell_type": "code",
   "execution_count": 32,
   "id": "54e69c0f-a196-4b77-9f39-01671dc8fd66",
   "metadata": {},
   "outputs": [
    {
     "name": "stdout",
     "output_type": "stream",
     "text": [
      "7.0710678118654755\n"
     ]
    }
   ],
   "source": [
    "# Square root\n",
    "n=50\n",
    "x=math.sqrt(n)\n",
    "print(x)"
   ]
  },
  {
   "cell_type": "code",
   "execution_count": 39,
   "id": "4936ef63-c095-4bcf-9bef-285fd3cb3c91",
   "metadata": {},
   "outputs": [
    {
     "data": {
      "text/plain": [
       "4.47213595499958"
      ]
     },
     "execution_count": 39,
     "metadata": {},
     "output_type": "execute_result"
    }
   ],
   "source": [
    "n=20\n",
    "x=math.sqrt(n)\n",
    "x"
   ]
  },
  {
   "cell_type": "code",
   "execution_count": 40,
   "id": "dc819ea0-ef2c-4927-aa07-d8a2c42d658d",
   "metadata": {},
   "outputs": [
    {
     "name": "stdin",
     "output_type": "stream",
     "text": [
      "enter the value of a 20\n",
      "enter the value of b 50\n"
     ]
    },
    {
     "name": "stdout",
     "output_type": "stream",
     "text": [
      "the sum is 70\n"
     ]
    }
   ],
   "source": [
    "# sum of two nummber\n",
    "a=int(input(\"enter the value of a\"))\n",
    "b=int(input(\"enter the value of b\"))\n",
    "c=a+b\n",
    "print(\"the sum is\",c)"
   ]
  },
  {
   "cell_type": "code",
   "execution_count": 43,
   "id": "4fc42682-8115-411d-823f-860d1a10a215",
   "metadata": {},
   "outputs": [
    {
     "name": "stdin",
     "output_type": "stream",
     "text": [
      "enter the value of p 345\n",
      "enter the value of r 7.9\n",
      "enter the value of t 9\n"
     ]
    },
    {
     "name": "stdout",
     "output_type": "stream",
     "text": [
      "the simple interet is 770.4720000000001\n"
     ]
    }
   ],
   "source": [
    "# Simple interest\n",
    "a=int(input(\"enter the value of p\"))\n",
    "b=float(input(\"enter the value of r\"))\n",
    "c=int(input(\"enter the value of t\"))\n",
    "si=p*r*t/100\n",
    "print(\"the simple interet is\",si)"
   ]
  },
  {
   "cell_type": "code",
   "execution_count": 44,
   "id": "a183a8c3-f4d7-49f0-a4b2-b52ecd918dba",
   "metadata": {},
   "outputs": [
    {
     "name": "stdin",
     "output_type": "stream",
     "text": [
      "entr the value of a 45.55\n",
      "enter the value of b 78.90\n",
      "enter the value of c 12.34\n"
     ]
    },
    {
     "name": "stdout",
     "output_type": "stream",
     "text": [
      "the averge is 45.596666666666664\n"
     ]
    }
   ],
   "source": [
    "# Average of three\n",
    "a=float(input(\"entr the value of a\"))\n",
    "b=float(input(\"enter the value of b\"))\n",
    "c=float(input(\"enter the value of c\"))\n",
    "avg=(a+b+c)/3\n",
    "print(\"the averge is\",avg)"
   ]
  },
  {
   "cell_type": "code",
   "execution_count": 45,
   "id": "21c9ecc3-24bf-4b93-bb71-7d4c0f9b1dfe",
   "metadata": {},
   "outputs": [
    {
     "name": "stdin",
     "output_type": "stream",
     "text": [
      "enter the value of base 45\n",
      "enter the value of exponent 4\n"
     ]
    },
    {
     "name": "stdout",
     "output_type": "stream",
     "text": [
      "4100625.0\n"
     ]
    }
   ],
   "source": [
    "# Power of number\n",
    "a=int(input(\"enter the value of base\"))\n",
    "b=int(input(\"enter the value of exponent\"))\n",
    "x=math.pow(a,b)\n",
    "print(x)"
   ]
  },
  {
   "cell_type": "code",
   "execution_count": 2,
   "id": "16e3cbf4-94fd-4517-b670-e664d73007c8",
   "metadata": {},
   "outputs": [
    {
     "name": "stdin",
     "output_type": "stream",
     "text": [
      "enter the value of a 34\n",
      "enter the value of b 56\n",
      "enter the value of c 78\n",
      "enter the value of d 89\n",
      "enter the value of e 90\n"
     ]
    },
    {
     "name": "stdout",
     "output_type": "stream",
     "text": [
      "69.4\n"
     ]
    }
   ],
   "source": [
    "a=int(input(\"enter the value of a\"))\n",
    "b=int(input(\"enter the value of b\"))\n",
    "c=int(input(\"enter the value of c\"))\n",
    "d=int(input(\"enter the value of d\"))\n",
    "e=int(input(\"enter the value of e\"))\n",
    "sum=a+b+c+d+e\n",
    "per=sum*100/500\n",
    "print(per)"
   ]
  },
  {
   "cell_type": "code",
   "execution_count": 48,
   "id": "4de00c89-35a8-4a08-a3fb-c3bf7cb18954",
   "metadata": {},
   "outputs": [
    {
     "name": "stdin",
     "output_type": "stream",
     "text": [
      "enter the number 45\n"
     ]
    },
    {
     "name": "stdout",
     "output_type": "stream",
     "text": [
      "6.708203932499369\n"
     ]
    }
   ],
   "source": [
    "a=int(input(\"enter the number\"))\n",
    "x=math.sqrt(a)\n",
    "print(x)"
   ]
  },
  {
   "cell_type": "code",
   "execution_count": 64,
   "id": "7d2165a8-e815-4142-965c-09919257db70",
   "metadata": {},
   "outputs": [
    {
     "data": {
      "text/plain": [
       "'inplace = true'"
      ]
     },
     "execution_count": 64,
     "metadata": {},
     "output_type": "execute_result"
    }
   ],
   "source": [
    "\"inplace = true\""
   ]
  },
  {
   "cell_type": "code",
   "execution_count": 65,
   "id": "024662f0-5cff-4ba4-9b94-20a87ca3a033",
   "metadata": {},
   "outputs": [],
   "source": [
    "a=10"
   ]
  },
  {
   "cell_type": "code",
   "execution_count": 66,
   "id": "9bf7384f-447f-4370-adbd-7e756e36374b",
   "metadata": {},
   "outputs": [],
   "source": [
    "a+=1"
   ]
  },
  {
   "cell_type": "code",
   "execution_count": 67,
   "id": "26775b1e-bc16-46ba-b70c-698a3c572979",
   "metadata": {},
   "outputs": [
    {
     "data": {
      "text/plain": [
       "11"
      ]
     },
     "execution_count": 67,
     "metadata": {},
     "output_type": "execute_result"
    }
   ],
   "source": [
    "a"
   ]
  },
  {
   "cell_type": "code",
   "execution_count": 68,
   "id": "c7e0ebbc-07be-465c-9b46-5dcc7cc0e4f1",
   "metadata": {},
   "outputs": [
    {
     "data": {
      "text/plain": [
       "56"
      ]
     },
     "execution_count": 68,
     "metadata": {},
     "output_type": "execute_result"
    }
   ],
   "source": [
    "b=45\n",
    "a+=b\n",
    "a"
   ]
  },
  {
   "cell_type": "code",
   "execution_count": 71,
   "id": "4eddd25a-a167-4d04-aa28-8584a20cbed6",
   "metadata": {},
   "outputs": [
    {
     "data": {
      "text/plain": [
       "35937"
      ]
     },
     "execution_count": 71,
     "metadata": {},
     "output_type": "execute_result"
    }
   ],
   "source": [
    "a=33\n",
    "b=3\n",
    "a**=b\n",
    "a"
   ]
  },
  {
   "cell_type": "code",
   "execution_count": 72,
   "id": "5454e55b-a512-4f39-a23e-c2dd4c9fcb00",
   "metadata": {},
   "outputs": [],
   "source": [
    "a=5"
   ]
  },
  {
   "cell_type": "code",
   "execution_count": 73,
   "id": "1c360693-6930-488e-9486-72827ceae12d",
   "metadata": {},
   "outputs": [
    {
     "data": {
      "text/plain": [
       "True"
      ]
     },
     "execution_count": 73,
     "metadata": {},
     "output_type": "execute_result"
    }
   ],
   "source": [
    "5==5"
   ]
  },
  {
   "cell_type": "code",
   "execution_count": 74,
   "id": "98a17ae8-6cd2-4bc8-b504-553ac27d16ed",
   "metadata": {},
   "outputs": [
    {
     "data": {
      "text/plain": [
       "True"
      ]
     },
     "execution_count": 74,
     "metadata": {},
     "output_type": "execute_result"
    }
   ],
   "source": [
    "a==5"
   ]
  },
  {
   "cell_type": "code",
   "execution_count": 75,
   "id": "67d26bed-27ca-4896-8630-263ce69d6c98",
   "metadata": {},
   "outputs": [],
   "source": [
    "b=5.0"
   ]
  },
  {
   "cell_type": "code",
   "execution_count": 76,
   "id": "f89eb153-7685-4998-b77f-165513610629",
   "metadata": {},
   "outputs": [
    {
     "data": {
      "text/plain": [
       "True"
      ]
     },
     "execution_count": 76,
     "metadata": {},
     "output_type": "execute_result"
    }
   ],
   "source": [
    "a==b"
   ]
  },
  {
   "cell_type": "code",
   "execution_count": 77,
   "id": "bd17bb2b-dfc9-4f9b-849d-b13b311c8ddd",
   "metadata": {},
   "outputs": [
    {
     "name": "stdout",
     "output_type": "stream",
     "text": [
      "True\n",
      "False\n"
     ]
    }
   ],
   "source": [
    "# Logical AND\n",
    "print(True and True)\n",
    "print(True and False)"
   ]
  },
  {
   "cell_type": "code",
   "execution_count": 78,
   "id": "9d9fb076-f8ac-4799-8766-7d8f2727d7f0",
   "metadata": {},
   "outputs": [
    {
     "name": "stdout",
     "output_type": "stream",
     "text": [
      "True\n"
     ]
    }
   ],
   "source": [
    "# Logical OR\n",
    "print(True or False)"
   ]
  },
  {
   "cell_type": "code",
   "execution_count": 79,
   "id": "9ee60366-cf06-4b0f-802b-518b03715ae7",
   "metadata": {},
   "outputs": [
    {
     "name": "stdout",
     "output_type": "stream",
     "text": [
      "False\n"
     ]
    }
   ],
   "source": [
    "# Logical NOT\n",
    "print(not True)"
   ]
  },
  {
   "cell_type": "code",
   "execution_count": 80,
   "id": "92adc940-f329-4b03-8d35-b7391110761d",
   "metadata": {},
   "outputs": [
    {
     "name": "stdin",
     "output_type": "stream",
     "text": [
      "enter the number 10\n"
     ]
    },
    {
     "name": "stdout",
     "output_type": "stream",
     "text": [
      "You Won\n"
     ]
    }
   ],
   "source": [
    "n=int(input(\"enter the number\"))\n",
    "if n==10:\n",
    "    print(\"You Won\")"
   ]
  },
  {
   "cell_type": "code",
   "execution_count": 86,
   "id": "01ba6420-eb20-4ea4-910d-c12473c338fe",
   "metadata": {},
   "outputs": [
    {
     "name": "stdin",
     "output_type": "stream",
     "text": [
      "enter the number 5\n"
     ]
    },
    {
     "name": "stdout",
     "output_type": "stream",
     "text": [
      "You Loose\n"
     ]
    }
   ],
   "source": [
    "n=int(input(\"enter the number\"))\n",
    "if n==10:\n",
    "    print(\"You Won\")\n",
    "if n==5:\n",
    "    print(\"You Loose\")"
   ]
  },
  {
   "cell_type": "code",
   "execution_count": 88,
   "id": "584a34e7-ca97-4f1f-9bc9-8b61de2e3392",
   "metadata": {},
   "outputs": [
    {
     "name": "stdout",
     "output_type": "stream",
     "text": [
      "10\n"
     ]
    }
   ],
   "source": [
    "a=7\n",
    "a=a+3\n",
    "print(a)"
   ]
  },
  {
   "cell_type": "code",
   "execution_count": 89,
   "id": "a89d34fb-ae03-474b-ad0f-e4559a9994ae",
   "metadata": {},
   "outputs": [
    {
     "name": "stdout",
     "output_type": "stream",
     "text": [
      "12\n"
     ]
    }
   ],
   "source": [
    "a=7\n",
    "b=5\n",
    "c=a+b\n",
    "print(c)"
   ]
  },
  {
   "cell_type": "code",
   "execution_count": 90,
   "id": "22b4bad4-b7ff-4f1d-866f-2a26d841dc21",
   "metadata": {},
   "outputs": [
    {
     "data": {
      "text/plain": [
       "2"
      ]
     },
     "execution_count": 90,
     "metadata": {},
     "output_type": "execute_result"
    }
   ],
   "source": [
    "a=7\n",
    "a-=5\n",
    "a"
   ]
  },
  {
   "cell_type": "code",
   "execution_count": 92,
   "id": "04bd031b-908e-4302-8206-15beb06c45e9",
   "metadata": {},
   "outputs": [
    {
     "name": "stdin",
     "output_type": "stream",
     "text": [
      "enter the number 33\n",
      "enter th number 44\n",
      "enter the number 22\n"
     ]
    },
    {
     "name": "stdout",
     "output_type": "stream",
     "text": [
      "B is Greater\n"
     ]
    }
   ],
   "source": [
    "# greter number\n",
    "a=int(input(\"enter the number\"))\n",
    "b=int(input(\"enter th number\"))\n",
    "c=int(input(\"enter the number\"))\n",
    "if a>b and a>c:\n",
    "    print(\"A is Greater\")\n",
    "if b>a and b>c:\n",
    "    print(\"B is Greater\")\n",
    "if c>a and c>b:\n",
    "    print(\"C is Greater\")"
   ]
  },
  {
   "cell_type": "code",
   "execution_count": 93,
   "id": "2f13d79c-49ac-4f68-9693-f1c2fca9a755",
   "metadata": {},
   "outputs": [
    {
     "name": "stdin",
     "output_type": "stream",
     "text": [
      "enter the number 44\n"
     ]
    },
    {
     "name": "stdout",
     "output_type": "stream",
     "text": [
      "even number\n"
     ]
    }
   ],
   "source": [
    "n=int(input(\"enter the number\"))\n",
    "if n%2==0:\n",
    "    print(\"even number\")\n",
    "else:\n",
    "    print(\"odd number\")"
   ]
  },
  {
   "cell_type": "code",
   "execution_count": 94,
   "id": "7a357eab-ba3b-4f57-b85f-2d8816fec2a5",
   "metadata": {},
   "outputs": [
    {
     "data": {
      "text/plain": [
       "0"
      ]
     },
     "execution_count": 94,
     "metadata": {},
     "output_type": "execute_result"
    }
   ],
   "source": [
    "22%2"
   ]
  },
  {
   "cell_type": "code",
   "execution_count": 95,
   "id": "accdbab1-7b1c-41d7-924e-e217fda0f5a6",
   "metadata": {},
   "outputs": [
    {
     "data": {
      "text/plain": [
       "2"
      ]
     },
     "execution_count": 95,
     "metadata": {},
     "output_type": "execute_result"
    }
   ],
   "source": [
    "23%3"
   ]
  },
  {
   "cell_type": "code",
   "execution_count": 96,
   "id": "9cafd7b4-21c6-4c3f-937f-9fbdbf4bc05f",
   "metadata": {},
   "outputs": [
    {
     "data": {
      "text/plain": [
       "0"
      ]
     },
     "execution_count": 96,
     "metadata": {},
     "output_type": "execute_result"
    }
   ],
   "source": [
    "5%5"
   ]
  },
  {
   "cell_type": "code",
   "execution_count": 99,
   "id": "a0a017c4-f82f-48bb-a5b2-14a2019eefd8",
   "metadata": {},
   "outputs": [
    {
     "name": "stdin",
     "output_type": "stream",
     "text": [
      "enter the number 53\n"
     ]
    },
    {
     "name": "stdout",
     "output_type": "stream",
     "text": [
      "odd number\n"
     ]
    }
   ],
   "source": [
    "n=int(input(\"enter the number\"))\n",
    "if n%3==0:\n",
    "    print(\"Even number\")\n",
    "else:\n",
    "    print(\"odd number\")"
   ]
  },
  {
   "cell_type": "code",
   "execution_count": 101,
   "id": "828e5123-688c-42de-9c0e-a17dedc5dc7e",
   "metadata": {},
   "outputs": [
    {
     "name": "stdin",
     "output_type": "stream",
     "text": [
      "enter the number 2024\n"
     ]
    },
    {
     "name": "stdout",
     "output_type": "stream",
     "text": [
      "Leap Year\n"
     ]
    }
   ],
   "source": [
    "# Leap Year\n",
    "year=int(input(\"enter the number\"))\n",
    "if year%4==0:\n",
    "    print(\"Leap Year\")\n",
    "else:\n",
    "    print(\"Not a Leap Year\")"
   ]
  },
  {
   "cell_type": "code",
   "execution_count": 106,
   "id": "356ae990-92e6-42bb-8a4b-eda5c56b49ef",
   "metadata": {},
   "outputs": [
    {
     "name": "stdin",
     "output_type": "stream",
     "text": [
      "enter the nummber 18\n"
     ]
    },
    {
     "name": "stdout",
     "output_type": "stream",
     "text": [
      "eligible for vote\n"
     ]
    }
   ],
   "source": [
    "age=int(input(\"enter the nummber\"))\n",
    "if age>=18:\n",
    "    print(\"eligible for vote\")\n",
    "else:\n",
    "    print(\"Not eligible for vote\")"
   ]
  },
  {
   "cell_type": "code",
   "execution_count": 10,
   "id": "8ffb73ee-7822-488d-8f46-d29514e46c01",
   "metadata": {},
   "outputs": [
    {
     "name": "stdin",
     "output_type": "stream",
     "text": [
      "enter the number 0\n"
     ]
    },
    {
     "name": "stdout",
     "output_type": "stream",
     "text": [
      "equal number\n"
     ]
    }
   ],
   "source": [
    "n=int(input(\"enter the number\"))\n",
    "if n>0:\n",
    "    print(\"positive number\")\n",
    "if n<0:\n",
    "    print(\"negative number\")\n",
    "if n==0:\n",
    "    print(\"equal number\")"
   ]
  },
  {
   "cell_type": "code",
   "execution_count": 3,
   "id": "ee3a1003-4258-4fa2-b40f-72978af2cd02",
   "metadata": {},
   "outputs": [
    {
     "name": "stdin",
     "output_type": "stream",
     "text": [
      "enter the number from 1==7 6\n"
     ]
    },
    {
     "name": "stdout",
     "output_type": "stream",
     "text": [
      "Friday\n"
     ]
    }
   ],
   "source": [
    "day=int(input(\"enter the number from 1==7\"))\n",
    "if day==1:\n",
    "    print(\"Sunday\")\n",
    "elif day==2:\n",
    "    print(\"Monday\")\n",
    "elif day==3:\n",
    "    print(\"Tuesday\")\n",
    "elif day==4:\n",
    "    print(\"Wednesday\")\n",
    "elif day==5:\n",
    "    print(\"Thrusday\")\n",
    "elif day==6:\n",
    "    print(\"Friday\")\n",
    "elif day==7:\n",
    "    print(\"Saturday\")\n",
    "else:\n",
    "    print(\"Invalid Choice\")"
   ]
  },
  {
   "cell_type": "code",
   "execution_count": 8,
   "id": "3d350f80-77c9-4d1f-9e5b-6051075f7e34",
   "metadata": {},
   "outputs": [
    {
     "name": "stdin",
     "output_type": "stream",
     "text": [
      " enter the number 5\n"
     ]
    },
    {
     "name": "stdout",
     "output_type": "stream",
     "text": [
      "+ve number\n"
     ]
    }
   ],
   "source": [
    "n=int(input(\" enter the number\"))\n",
    "if n>0:\n",
    "    print(\"+ve number\")\n",
    "elif n<0:\n",
    "    print(\"-ve number\")\n",
    "else:\n",
    "    print(\"number is zero\")"
   ]
  },
  {
   "cell_type": "code",
   "execution_count": 1,
   "id": "857fa794-00e8-4b1c-b1e7-4a134741d2e3",
   "metadata": {},
   "outputs": [
    {
     "name": "stdin",
     "output_type": "stream",
     "text": [
      "enter the number 22\n",
      "enter the number 33\n"
     ]
    },
    {
     "name": "stdout",
     "output_type": "stream",
     "text": [
      "1. Addition\n",
      "2. Subtraction\n",
      "3. Multiply\n",
      "4. Division\n"
     ]
    },
    {
     "name": "stdin",
     "output_type": "stream",
     "text": [
      "enter the choice from above 3\n"
     ]
    },
    {
     "name": "stdout",
     "output_type": "stream",
     "text": [
      "the sum is 726\n"
     ]
    }
   ],
   "source": [
    "a=int(input(\"enter the number\"))\n",
    "b=int(input(\"enter the number\"))\n",
    "print(\"1. Addition\")\n",
    "print(\"2. Subtraction\")\n",
    "print(\"3. Multiply\")\n",
    "print(\"4. Division\")\n",
    "choice=int(input(\"enter the choice from above\"))\n",
    "if choice==1:\n",
    "    print(\"the sum is\",a+b)\n",
    "elif choice==2:\n",
    "    print(\"the sum is\",a-b)\n",
    "elif choice==3:\n",
    "    print(\"the sum is\",a*b)\n",
    "elif choice==4:\n",
    "    print(\"the sum is\",a/b)\n",
    "else:\n",
    "    print(\"Invalid Choice\")"
   ]
  },
  {
   "cell_type": "code",
   "execution_count": 11,
   "id": "8f922e22-e43b-4d92-9e6a-bba62312cd4f",
   "metadata": {},
   "outputs": [
    {
     "name": "stdin",
     "output_type": "stream",
     "text": [
      "enter the marks out of 100 67\n",
      "enter the marks out of 100 67\n",
      "enter the marks out of 100 89\n",
      "enter the marks out of 100 87\n",
      "enter the marks out of 100 56\n"
     ]
    },
    {
     "name": "stdout",
     "output_type": "stream",
     "text": [
      "First\n"
     ]
    }
   ],
   "source": [
    "a=float(input(\"enter the marks out of 100\"))\n",
    "b=float(input(\"enter the marks out of 100\"))\n",
    "c=float(input(\"enter the marks out of 100\"))\n",
    "d=float(input(\"enter the marks out of 100\"))\n",
    "e=float(input(\"enter the marks out of 100\"))\n",
    "sum=a+b+c+d+e\n",
    "per=sum*100/500\n",
    "if per>=65:\n",
    "    print(\"First\")\n",
    "elif per>=60:\n",
    "    print(\"Second\")\n",
    "elif per>=55:\n",
    "    print(\"Third\")\n",
    "else:\n",
    "    print(\"Fail\")"
   ]
  },
  {
   "cell_type": "code",
   "execution_count": 14,
   "id": "bdc8a191-40aa-46c0-80f9-7fe5ee7c5831",
   "metadata": {},
   "outputs": [
    {
     "name": "stdin",
     "output_type": "stream",
     "text": [
      "enter an alphabet without space u\n"
     ]
    },
    {
     "name": "stdout",
     "output_type": "stream",
     "text": [
      "Vowel\n"
     ]
    }
   ],
   "source": [
    "# cheak the vowel or consonant\n",
    "\n",
    "ch=input(\"enter an alphabet without space\")\n",
    "if ch=='a' or ch=='e' or ch=='i' or ch=='o' or ch=='u':\n",
    "    print(\"Vowel\")\n",
    "elif ch=='A' or ch=='E' or ch=='I' or ch=='O' or ch=='U':\n",
    "    print(\"Vowel\")\n",
    "else:\n",
    "    print(\"Consonant\")"
   ]
  },
  {
   "cell_type": "code",
   "execution_count": 25,
   "id": "426be782-b2dc-4df1-99c9-38a9f9e8751e",
   "metadata": {},
   "outputs": [
    {
     "name": "stdin",
     "output_type": "stream",
     "text": [
      "enter the number 234\n",
      "enter the number 334\n",
      "enter the number 23\n"
     ]
    },
    {
     "name": "stdout",
     "output_type": "stream",
     "text": [
      "X1= -0.0725498653042702\n",
      "X2= -1.3548005620461572\n"
     ]
    }
   ],
   "source": [
    "import math\n",
    "a=int(input(\"enter the number\"))\n",
    "b=int(input(\"enter the number\"))\n",
    "c=int(input(\"enter the number\"))\n",
    "d=b*b-4*a*c\n",
    "\n",
    "if d<0:\n",
    "    print(\"roots can't be calculated\")\n",
    "else:\n",
    "    x1=(-b+math.sqrt(d))/(2*a)\n",
    "    x2=(-b-math.sqrt(d))/(2*a)\n",
    "    print(\"X1=\",x1)\n",
    "    print(\"X2=\",x2)"
   ]
  },
  {
   "cell_type": "code",
   "execution_count": 26,
   "id": "497525a7-d85b-4f4a-a89f-8c3e63c054e3",
   "metadata": {},
   "outputs": [
    {
     "name": "stdin",
     "output_type": "stream",
     "text": [
      "enter the number 4\n",
      "enter the number 6\n",
      "enter the number 8\n"
     ]
    },
    {
     "name": "stdout",
     "output_type": "stream",
     "text": [
      "C is Greatest\n"
     ]
    }
   ],
   "source": [
    "a=int(input(\"enter the number\"))\n",
    "b=int(input(\"enter the number\"))\n",
    "c=int(input(\"enter the number\"))\n",
    "if a>b and a>c:\n",
    "    print(\"A is Greatest\")\n",
    "elif b>a and b>c:\n",
    "    print(\"B is Greatest\")\n",
    "else:\n",
    "    print(\"C is Greatest\")"
   ]
  },
  {
   "cell_type": "code",
   "execution_count": 29,
   "id": "0588a8a7-46dc-42a8-9790-d5c842ad243e",
   "metadata": {},
   "outputs": [
    {
     "name": "stdin",
     "output_type": "stream",
     "text": [
      "enter the alphabet like \n",
      " r for Red \n",
      " y for yellow \n",
      " g for green Y\n"
     ]
    },
    {
     "name": "stdout",
     "output_type": "stream",
     "text": [
      "Get Slow\n"
     ]
    }
   ],
   "source": [
    "# traffic light\n",
    "ch=input(\"enter the alphabet like \\n r for Red \\n y for yellow \\n g for green\")\n",
    "if ch=='r' or ch=='R':\n",
    "    print(\"Stop\")\n",
    "elif ch=='y' or ch=='Y':\n",
    "    print(\"Get Slow\")\n",
    "elif ch=='g' or ch=='G':\n",
    "    print(\"Move Forward\")\n",
    "else:\n",
    "    print(\"Pay Challan\")\n",
    "    "
   ]
  },
  {
   "cell_type": "code",
   "execution_count": null,
   "id": "74550ece-c11d-4980-9e75-c737aa687f9e",
   "metadata": {},
   "outputs": [],
   "source": []
  }
 ],
 "metadata": {
  "kernelspec": {
   "display_name": "Python 3 (ipykernel)",
   "language": "python",
   "name": "python3"
  },
  "language_info": {
   "codemirror_mode": {
    "name": "ipython",
    "version": 3
   },
   "file_extension": ".py",
   "mimetype": "text/x-python",
   "name": "python",
   "nbconvert_exporter": "python",
   "pygments_lexer": "ipython3",
   "version": "3.11.7"
  }
 },
 "nbformat": 4,
 "nbformat_minor": 5
}
