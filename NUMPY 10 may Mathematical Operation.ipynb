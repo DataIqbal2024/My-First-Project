{
 "cells": [
  {
   "cell_type": "code",
   "execution_count": 1,
   "id": "c29c2d43-d7da-4f39-8eee-d803208b6531",
   "metadata": {},
   "outputs": [],
   "source": [
    "import numpy as np"
   ]
  },
  {
   "cell_type": "code",
   "execution_count": 2,
   "id": "2e363c98-1dc9-4731-bcb6-f9f0a71b6347",
   "metadata": {},
   "outputs": [
    {
     "name": "stdout",
     "output_type": "stream",
     "text": [
      "[ 5 10 15 76 25 30]\n"
     ]
    }
   ],
   "source": [
    "a = np.array([5,10,15,76,25,30])\n",
    "print(a)"
   ]
  },
  {
   "cell_type": "code",
   "execution_count": 3,
   "id": "eca148d8-3e41-4a8e-a180-7cf63017fce3",
   "metadata": {},
   "outputs": [
    {
     "data": {
      "text/plain": [
       "array([2.23606798, 3.16227766, 3.87298335, 8.71779789, 5.        ,\n",
       "       5.47722558])"
      ]
     },
     "execution_count": 3,
     "metadata": {},
     "output_type": "execute_result"
    }
   ],
   "source": [
    "np.sqrt(a)"
   ]
  },
  {
   "cell_type": "code",
   "execution_count": 4,
   "id": "e75716a5-97cc-4dfd-912d-d313ca6d2127",
   "metadata": {},
   "outputs": [
    {
     "data": {
      "text/plain": [
       "array([-0.95892427, -0.54402111,  0.65028784,  0.56610764, -0.13235175,\n",
       "       -0.98803162])"
      ]
     },
     "execution_count": 4,
     "metadata": {},
     "output_type": "execute_result"
    }
   ],
   "source": [
    "np.sin(a)"
   ]
  },
  {
   "cell_type": "code",
   "execution_count": 5,
   "id": "5bd398d4-09d4-468f-978b-f3eec2bc8d86",
   "metadata": {},
   "outputs": [
    {
     "data": {
      "text/plain": [
       "array([ 0.28366219, -0.83907153, -0.75968791,  0.82433133,  0.99120281,\n",
       "        0.15425145])"
      ]
     },
     "execution_count": 5,
     "metadata": {},
     "output_type": "execute_result"
    }
   ],
   "source": [
    "np.cos(a)"
   ]
  },
  {
   "cell_type": "code",
   "execution_count": 6,
   "id": "fd904728-c057-4a6e-a246-22c201b9d403",
   "metadata": {},
   "outputs": [
    {
     "data": {
      "text/plain": [
       "array([-3.38051501,  0.64836083, -0.8559934 ,  0.68674769, -0.13352641,\n",
       "       -6.4053312 ])"
      ]
     },
     "execution_count": 6,
     "metadata": {},
     "output_type": "execute_result"
    }
   ],
   "source": [
    "np.tan(a)"
   ]
  },
  {
   "cell_type": "markdown",
   "id": "3ef932fd-3a4d-49f8-90eb-2391b72d433f",
   "metadata": {},
   "source": [
    "# SEED"
   ]
  },
  {
   "cell_type": "code",
   "execution_count": 9,
   "id": "461211be-7430-474d-b9ce-b4ee82ca6364",
   "metadata": {},
   "outputs": [
    {
     "data": {
      "text/plain": [
       "array([9, 7, 5, 1, 1, 6, 2, 1, 8, 5])"
      ]
     },
     "execution_count": 9,
     "metadata": {},
     "output_type": "execute_result"
    }
   ],
   "source": [
    "import numpy as np\n",
    "np.random.randint(1,10,10)"
   ]
  },
  {
   "cell_type": "code",
   "execution_count": 10,
   "id": "940e40c0-32a2-4ffe-a047-d371b9a83e38",
   "metadata": {},
   "outputs": [
    {
     "data": {
      "text/plain": [
       "array([[5, 6, 1],\n",
       "       [4, 4, 4]])"
      ]
     },
     "execution_count": 10,
     "metadata": {},
     "output_type": "execute_result"
    }
   ],
   "source": [
    "np.random.seed(0)\n",
    "x=np.random.randint(1,7,(2,3))\n",
    "x"
   ]
  },
  {
   "cell_type": "markdown",
   "id": "3500ccd7-9102-4f9c-b90b-ab40b0c7e044",
   "metadata": {},
   "source": [
    "# Where Function"
   ]
  },
  {
   "cell_type": "code",
   "execution_count": 7,
   "id": "115fd2dd-74eb-4d8a-9475-90410b44061f",
   "metadata": {},
   "outputs": [],
   "source": [
    "import numpy as np"
   ]
  },
  {
   "cell_type": "code",
   "execution_count": 8,
   "id": "4141f2ce-54bc-4aab-abeb-9cfbfa9004d5",
   "metadata": {},
   "outputs": [
    {
     "data": {
      "text/plain": [
       "array([1, 2, 3, 4, 5, 2])"
      ]
     },
     "execution_count": 8,
     "metadata": {},
     "output_type": "execute_result"
    }
   ],
   "source": [
    "a = np.array([1,2,3,4,5,2])\n",
    "a"
   ]
  },
  {
   "cell_type": "code",
   "execution_count": 9,
   "id": "b1dfe37f-3d17-4036-9e96-d5a5ffd0f7af",
   "metadata": {},
   "outputs": [
    {
     "data": {
      "text/plain": [
       "(array([1, 5], dtype=int64),)"
      ]
     },
     "execution_count": 9,
     "metadata": {},
     "output_type": "execute_result"
    }
   ],
   "source": [
    "np.where(a==2)"
   ]
  },
  {
   "cell_type": "code",
   "execution_count": 10,
   "id": "eb6a45ee-c4a1-4172-8c49-66f51ebd9f30",
   "metadata": {},
   "outputs": [
    {
     "data": {
      "text/plain": [
       "(6,)"
      ]
     },
     "execution_count": 10,
     "metadata": {},
     "output_type": "execute_result"
    }
   ],
   "source": [
    "a.shape"
   ]
  },
  {
   "cell_type": "code",
   "execution_count": 11,
   "id": "e9e4d1a2-55b5-4d8b-9240-f5395b1b9668",
   "metadata": {},
   "outputs": [
    {
     "data": {
      "text/plain": [
       "(array([0, 1, 2, 5], dtype=int64),)"
      ]
     },
     "execution_count": 11,
     "metadata": {},
     "output_type": "execute_result"
    }
   ],
   "source": [
    "np.where(a < 4)"
   ]
  },
  {
   "cell_type": "code",
   "execution_count": 12,
   "id": "48c4d83c-b081-4342-8af2-c21612445a77",
   "metadata": {},
   "outputs": [
    {
     "data": {
      "text/plain": [
       "(array([4], dtype=int64),)"
      ]
     },
     "execution_count": 12,
     "metadata": {},
     "output_type": "execute_result"
    }
   ],
   "source": [
    "np.where(a > 4)"
   ]
  },
  {
   "cell_type": "code",
   "execution_count": 13,
   "id": "064eb219-bcfe-4067-8a33-01a0510db119",
   "metadata": {},
   "outputs": [
    {
     "data": {
      "text/plain": [
       "(array([0, 1, 2, 3, 5], dtype=int64),)"
      ]
     },
     "execution_count": 13,
     "metadata": {},
     "output_type": "execute_result"
    }
   ],
   "source": [
    "np.where( a<=4)"
   ]
  },
  {
   "cell_type": "code",
   "execution_count": 15,
   "id": "cabf6f43-87c1-42bd-a7a4-6f4bd975ced0",
   "metadata": {},
   "outputs": [
    {
     "data": {
      "text/plain": [
       "(array([0, 2, 4], dtype=int64),)"
      ]
     },
     "execution_count": 15,
     "metadata": {},
     "output_type": "execute_result"
    }
   ],
   "source": [
    "np.where(a%2!=0)"
   ]
  },
  {
   "cell_type": "code",
   "execution_count": 17,
   "id": "71c8d42c-c7fe-4bae-a171-8df0ee408dc4",
   "metadata": {},
   "outputs": [
    {
     "data": {
      "text/plain": [
       "(array([1, 3, 5], dtype=int64),)"
      ]
     },
     "execution_count": 17,
     "metadata": {},
     "output_type": "execute_result"
    }
   ],
   "source": [
    "np.where(a%2==0)"
   ]
  },
  {
   "cell_type": "code",
   "execution_count": 28,
   "id": "384688bc-f774-457e-b8d0-012e3b5445ed",
   "metadata": {},
   "outputs": [
    {
     "name": "stdout",
     "output_type": "stream",
     "text": [
      "[ 1  2  3  4 10 11 15]\n"
     ]
    }
   ],
   "source": [
    "# search shorted\n",
    "x = np.array([1,2,3,4,10,11,15])\n",
    "print(x)"
   ]
  },
  {
   "cell_type": "code",
   "execution_count": 29,
   "id": "2c8e6f1f-32b2-4f66-89e0-cb2f8005f023",
   "metadata": {},
   "outputs": [
    {
     "data": {
      "text/plain": [
       "4"
      ]
     },
     "execution_count": 29,
     "metadata": {},
     "output_type": "execute_result"
    }
   ],
   "source": [
    "np.searchsorted(x,8)"
   ]
  },
  {
   "cell_type": "code",
   "execution_count": 30,
   "id": "0a6ff3df-33b2-4c3f-9098-d1dc70cc240c",
   "metadata": {},
   "outputs": [
    {
     "data": {
      "text/plain": [
       "6"
      ]
     },
     "execution_count": 30,
     "metadata": {},
     "output_type": "execute_result"
    }
   ],
   "source": [
    "np.searchsorted(x,12)"
   ]
  },
  {
   "cell_type": "code",
   "execution_count": 33,
   "id": "f61ee749-927b-4dde-a9f8-0e1d59a495e7",
   "metadata": {},
   "outputs": [
    {
     "data": {
      "text/plain": [
       "4"
      ]
     },
     "execution_count": 33,
     "metadata": {},
     "output_type": "execute_result"
    }
   ],
   "source": [
    "np.searchsorted(x,10)"
   ]
  },
  {
   "cell_type": "markdown",
   "id": "41868b11-5c5e-46b0-9b6d-bc31e022e6d1",
   "metadata": {},
   "source": [
    "# DEEP COPY \n",
    "# NORMAL CORY"
   ]
  },
  {
   "cell_type": "code",
   "execution_count": 18,
   "id": "4d06d3c0-75a5-4d6d-b92f-c2200fe8d9a2",
   "metadata": {},
   "outputs": [
    {
     "name": "stdout",
     "output_type": "stream",
     "text": [
      "[12, 23, 34, 45, 56, 67]\n",
      "['Iqbal', 23, 34, 45, 56, 67]\n"
     ]
    }
   ],
   "source": [
    "# copy() =\n",
    "# changes reflect\n",
    "\n",
    "ls = [12,23,34,45,56,67]\n",
    "ls1 = ls.copy()\n",
    "ls1[0] = \"Iqbal\"\n",
    "print(ls)\n",
    "print(ls1)"
   ]
  },
  {
   "cell_type": "code",
   "execution_count": 36,
   "id": "0f46784a-ba88-4f62-acfd-f21b216e3be9",
   "metadata": {},
   "outputs": [
    {
     "name": "stdout",
     "output_type": "stream",
     "text": [
      "[['Iqbal', 23, 34], [45, 56, 67]]\n",
      "[['Iqbal', 23, 34], [45, 56, 67]]\n"
     ]
    }
   ],
   "source": [
    "ls = [[12,23,34],[45,56,67]]\n",
    "ls1 = ls.copy()\n",
    "ls[0][0]=\"Iqbal\"\n",
    "print(ls)\n",
    "print(ls1)"
   ]
  },
  {
   "cell_type": "code",
   "execution_count": 19,
   "id": "2ec856c2-9397-418f-8a31-7cc6911295cd",
   "metadata": {},
   "outputs": [],
   "source": [
    "import copy"
   ]
  },
  {
   "cell_type": "code",
   "execution_count": 38,
   "id": "48ea59c6-619a-4a7d-86b5-9a35633a3b60",
   "metadata": {},
   "outputs": [],
   "source": [
    "l = [[1,2,3],[4,5,6]]\n"
   ]
  },
  {
   "cell_type": "code",
   "execution_count": 39,
   "id": "f18a2f01-4e63-489b-a81a-687d6cc82fb0",
   "metadata": {},
   "outputs": [],
   "source": [
    "l2 = copy.deepcopy(l)"
   ]
  },
  {
   "cell_type": "code",
   "execution_count": 40,
   "id": "6ffc817a-fb7a-4789-83f7-806fea59f143",
   "metadata": {},
   "outputs": [
    {
     "data": {
      "text/plain": [
       "[[1, 2, 3], [4, 5, 6]]"
      ]
     },
     "execution_count": 40,
     "metadata": {},
     "output_type": "execute_result"
    }
   ],
   "source": [
    "l2"
   ]
  },
  {
   "cell_type": "code",
   "execution_count": 42,
   "id": "524c36b0-4b89-401d-b8a0-cc8da6b8d575",
   "metadata": {},
   "outputs": [
    {
     "data": {
      "text/plain": [
       "[[1, 2, 100], [4, 5, 6]]"
      ]
     },
     "execution_count": 42,
     "metadata": {},
     "output_type": "execute_result"
    }
   ],
   "source": [
    "l2[0][2]=100\n",
    "l2"
   ]
  },
  {
   "cell_type": "code",
   "execution_count": 43,
   "id": "3da66d4f-5249-4a4f-bcec-1ac0a0ee1037",
   "metadata": {},
   "outputs": [
    {
     "data": {
      "text/plain": [
       "[[1, 2, 3], [4, 5, 6]]"
      ]
     },
     "execution_count": 43,
     "metadata": {},
     "output_type": "execute_result"
    }
   ],
   "source": [
    "l"
   ]
  },
  {
   "cell_type": "code",
   "execution_count": 47,
   "id": "78dcb4ec-aa49-4e58-9bf2-cf2897a8697a",
   "metadata": {},
   "outputs": [
    {
     "name": "stdout",
     "output_type": "stream",
     "text": [
      "[[1 2 3]\n",
      " [1 2 3]\n",
      " [1 2 3]]\n",
      "\n",
      "[[1 1 1 2 2 2 3 3 3]]\n"
     ]
    }
   ],
   "source": [
    "# repeat an array\n",
    "\n",
    "A = np.array([[1,2,3]])\n",
    "r1 = np.repeat(A, 3, axis=0)\n",
    "print(r1)\n",
    "print()\n",
    "r2 = np.repeat(A, 3, axis=1)\n",
    "print(r2)"
   ]
  },
  {
   "cell_type": "code",
   "execution_count": 49,
   "id": "0a567f45-69cd-44bf-a5a2-4714f37319d0",
   "metadata": {},
   "outputs": [
    {
     "ename": "TypeError",
     "evalue": "'>' not supported between instances of 'dict' and 'dict'",
     "output_type": "error",
     "traceback": [
      "\u001b[1;31m---------------------------------------------------------------------------\u001b[0m",
      "\u001b[1;31mTypeError\u001b[0m                                 Traceback (most recent call last)",
      "Cell \u001b[1;32mIn[49], line 3\u001b[0m\n\u001b[0;32m      1\u001b[0m d1 \u001b[38;5;241m=\u001b[39m {\u001b[38;5;124m\"\u001b[39m\u001b[38;5;124ma\u001b[39m\u001b[38;5;124m\"\u001b[39m:\u001b[38;5;241m50\u001b[39m,\u001b[38;5;124m\"\u001b[39m\u001b[38;5;124mb\u001b[39m\u001b[38;5;124m\"\u001b[39m:\u001b[38;5;241m50\u001b[39m}\n\u001b[0;32m      2\u001b[0m d2 \u001b[38;5;241m=\u001b[39m {\u001b[38;5;124m\"\u001b[39m\u001b[38;5;124ma\u001b[39m\u001b[38;5;124m\"\u001b[39m:\u001b[38;5;241m500\u001b[39m,\u001b[38;5;124m\"\u001b[39m\u001b[38;5;124mb\u001b[39m\u001b[38;5;124m\"\u001b[39m:\u001b[38;5;241m50\u001b[39m}\n\u001b[1;32m----> 3\u001b[0m \u001b[38;5;28mprint\u001b[39m(d1\u001b[38;5;241m>\u001b[39md2)\n",
      "\u001b[1;31mTypeError\u001b[0m: '>' not supported between instances of 'dict' and 'dict'"
     ]
    }
   ],
   "source": [
    "d1 = {\"a\":50,\"b\":50}\n",
    "d2 = {\"a\":500,\"b\":50}\n",
    "print(d1>d2)"
   ]
  },
  {
   "cell_type": "code",
   "execution_count": 52,
   "id": "ce525c2c-e1f2-4dbe-93bb-12355a4fcb91",
   "metadata": {},
   "outputs": [
    {
     "name": "stdout",
     "output_type": "stream",
     "text": [
      "dict_values([1, 3, 5])\n"
     ]
    }
   ],
   "source": [
    "d1 = {1:1,2:3,4:5}\n",
    "print(d1.values())"
   ]
  },
  {
   "cell_type": "code",
   "execution_count": 53,
   "id": "1f24776f-2598-48c9-812a-c46041a027e2",
   "metadata": {},
   "outputs": [
    {
     "name": "stdout",
     "output_type": "stream",
     "text": [
      "{'a': 'anar', 'b': 'Banana', 'c': 'Cat'}\n"
     ]
    }
   ],
   "source": [
    "a = {'a': \"apple\", 'b':\"Banana\", 'c': \"Cat\"}\n",
    "a['a']=\"anar\"\n",
    "print(a)"
   ]
  },
  {
   "cell_type": "code",
   "execution_count": 54,
   "id": "c73b5ccd-cb2f-4bad-9d5b-831a24675e54",
   "metadata": {},
   "outputs": [
    {
     "name": "stdout",
     "output_type": "stream",
     "text": [
      "dict_values(['apple', 'Banana', 'Cat', 'doll'])\n",
      "{'a': 'apple', 'b': 'Banana', 'c': 'Cat', 'd': 'doll'}\n"
     ]
    }
   ],
   "source": [
    "a = {1:\"one\",2:\"Two\",3:\"three\"}\n",
    "b = {'a': \"apple\", 'b':\"Banana\", 'c': \"Cat\", 'd':\"doll\"}\n",
    "a.update(b)\n",
    "print(b.values())\n",
    "print(b)"
   ]
  },
  {
   "cell_type": "code",
   "execution_count": 56,
   "id": "c4e7d704-28ae-4f4a-bf52-8d956f660b02",
   "metadata": {},
   "outputs": [
    {
     "name": "stdout",
     "output_type": "stream",
     "text": [
      "twoone\n"
     ]
    }
   ],
   "source": [
    "a = {1: \"one\", 2:\"two\", 3: \"three\"}\n",
    "print(a[2] + a[1])"
   ]
  },
  {
   "cell_type": "code",
   "execution_count": 58,
   "id": "7736961c-05f7-4173-af9d-281fef1daa3d",
   "metadata": {},
   "outputs": [
    {
     "name": "stdout",
     "output_type": "stream",
     "text": [
      "False\n"
     ]
    }
   ],
   "source": [
    "a = {1: \"one\", 2:\"two\", 3:\"three\"}\n",
    "print(\"one\"in a)"
   ]
  },
  {
   "cell_type": "code",
   "execution_count": 59,
   "id": "d06a9f37-0d16-45b1-8b41-8ba5d15d5589",
   "metadata": {},
   "outputs": [
    {
     "name": "stdout",
     "output_type": "stream",
     "text": [
      "True\n"
     ]
    }
   ],
   "source": [
    "a = {1: \"one\", 2:\"two\", 3:\"three\"}\n",
    "print(1 in a)"
   ]
  },
  {
   "cell_type": "code",
   "execution_count": null,
   "id": "f9773070-9e9f-418e-93ac-9f9ff5da53ea",
   "metadata": {},
   "outputs": [],
   "source": []
  }
 ],
 "metadata": {
  "kernelspec": {
   "display_name": "Python 3 (ipykernel)",
   "language": "python",
   "name": "python3"
  },
  "language_info": {
   "codemirror_mode": {
    "name": "ipython",
    "version": 3
   },
   "file_extension": ".py",
   "mimetype": "text/x-python",
   "name": "python",
   "nbconvert_exporter": "python",
   "pygments_lexer": "ipython3",
   "version": "3.11.7"
  }
 },
 "nbformat": 4,
 "nbformat_minor": 5
}
