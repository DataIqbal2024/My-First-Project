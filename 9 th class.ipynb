{
 "cells": [
  {
   "cell_type": "code",
   "execution_count": 1,
   "id": "27ed620d-418b-4f1e-94eb-93b6f34388eb",
   "metadata": {},
   "outputs": [
    {
     "name": "stdout",
     "output_type": "stream",
     "text": [
      "[12, 23, 34, 45, 56]\n",
      "[12, 23, 34, 45, 56, 'Iqbal']\n"
     ]
    }
   ],
   "source": [
    "# List Method\n",
    "\n",
    "#append()\n",
    "ls=[12,23,34,45,56]\n",
    "print(ls)\n",
    "ls.append(\"Iqbal\")\n",
    "print(ls)"
   ]
  },
  {
   "cell_type": "code",
   "execution_count": 2,
   "id": "d1120db2-ee69-437b-a51f-54632000d6a5",
   "metadata": {},
   "outputs": [
    {
     "name": "stdout",
     "output_type": "stream",
     "text": [
      "[12, 23, 34, 45, 56]\n",
      "[12, 23, 34, 45, 56, [98, 87, 76]]\n"
     ]
    }
   ],
   "source": [
    "ls=[12,23,34,45,56]\n",
    "print(ls)\n",
    "ls.append([98,87,76])\n",
    "print(ls)"
   ]
  },
  {
   "cell_type": "code",
   "execution_count": 1,
   "id": "90b2459f-cc79-4e5d-a43a-f845e242e49e",
   "metadata": {},
   "outputs": [
    {
     "name": "stdin",
     "output_type": "stream",
     "text": [
      "enter the number 11\n",
      "enter the number 22\n",
      "enter the number 22\n",
      "enter the number 33\n",
      "enter the number 44\n",
      "enter the number 55\n",
      "enter the number 66\n",
      "enter the number 77\n",
      "enter the number 88\n",
      "enter the number 99\n"
     ]
    },
    {
     "name": "stdout",
     "output_type": "stream",
     "text": [
      "[11, 22, 22, 33, 44, 55, 66, 77, 88, 99]\n"
     ]
    }
   ],
   "source": [
    "# make a list of 10 number of your choice\n",
    "\n",
    "ls=[] # empty list\n",
    "for i in range(10):\n",
    "    n=int(input(\"enter the number\"))\n",
    "    ls.append(n)\n",
    "print(ls)"
   ]
  },
  {
   "cell_type": "code",
   "execution_count": 2,
   "id": "5a08ef5d-8fdf-4d8a-89f4-7c98d8acaafe",
   "metadata": {},
   "outputs": [
    {
     "name": "stdout",
     "output_type": "stream",
     "text": [
      "[22, 22, 44, 66, 88]\n",
      "[11, 33, 55, 77, 99]\n"
     ]
    }
   ],
   "source": [
    "# make the list of even number and odd number\n",
    "\n",
    "ls_e=[]\n",
    "ls_o=[]\n",
    "for i in ls:\n",
    "    if i%2==0:\n",
    "        ls_e.append(i)\n",
    "    else:\n",
    "        ls_o.append(i)\n",
    "print(ls_e)\n",
    "print(ls_o)"
   ]
  },
  {
   "cell_type": "code",
   "execution_count": 3,
   "id": "1280f19a-13bf-4075-9658-4a815e188091",
   "metadata": {},
   "outputs": [
    {
     "name": "stdin",
     "output_type": "stream",
     "text": [
      "enter the number 12\n",
      "enter the number 23\n",
      "enter the number 34\n",
      "enter the number 45\n",
      "enter the number 56\n",
      "enter the number 67\n",
      "enter the number 78\n",
      "enter the number 89\n",
      "enter the number 90\n",
      "enter the number 99\n"
     ]
    },
    {
     "name": "stdout",
     "output_type": "stream",
     "text": [
      "[12, 23, 34, 45, 56, 67, 78, 89, 90, 99]\n",
      "largest element is  99\n"
     ]
    }
   ],
   "source": [
    "# find the largest element in the list\n",
    "\n",
    "ls=[] # empty list\n",
    "for i in range(10):\n",
    "    n=int(input(\"enter the number\"))\n",
    "    ls.append(n)\n",
    "print(ls)\n",
    "\n",
    "big=ls[0]\n",
    "for i in ls:\n",
    "    if i>big:\n",
    "        big=i\n",
    "print(\"largest element is \",big)"
   ]
  },
  {
   "cell_type": "code",
   "execution_count": 4,
   "id": "82ef92b0-9880-4561-a085-78699b01d7f9",
   "metadata": {},
   "outputs": [
    {
     "name": "stdin",
     "output_type": "stream",
     "text": [
      "enter the number 12\n",
      "enter the number 23\n",
      "enter the number 34\n",
      "enter the number 45\n",
      "enter the number 56\n",
      "enter the number 67\n",
      "enter the number 78\n",
      "enter the number 89\n",
      "enter the number 90\n",
      "enter the number 99\n"
     ]
    },
    {
     "name": "stdout",
     "output_type": "stream",
     "text": [
      "[12, 23, 34, 45, 56, 67, 78, 89, 90, 99]\n",
      "smallest element is  12\n"
     ]
    }
   ],
   "source": [
    "ls=[] # empty list\n",
    "for i in range(10):\n",
    "    n=int(input(\"enter the number\"))\n",
    "    ls.append(n)\n",
    "print(ls)\n",
    "\n",
    "small=ls[0]\n",
    "for i in ls:\n",
    "    if i<small:\n",
    "        small=i\n",
    "print(\"smallest element is \",small)"
   ]
  },
  {
   "cell_type": "code",
   "execution_count": 6,
   "id": "a80f8b0b-4c15-4cd2-950a-c5ab00412c22",
   "metadata": {},
   "outputs": [
    {
     "name": "stdin",
     "output_type": "stream",
     "text": [
      "enter the number 12\n",
      "enter the number 23\n",
      "enter the number 34\n",
      "enter the number 45\n",
      "enter the number 56\n",
      "enter the number 78\n",
      "enter the number 99\n",
      "enter the number 98\n",
      "enter the number 76\n",
      "enter the number 56\n"
     ]
    },
    {
     "name": "stdout",
     "output_type": "stream",
     "text": [
      "[12, 23, 34, 45, 56, 78, 99, 98, 76, 56]\n",
      "Biggest element is  99\n",
      "Smallest element is  12\n"
     ]
    }
   ],
   "source": [
    "ls=[] # empty list\n",
    "for i in range(10):\n",
    "    n=int(input(\"enter the number\"))\n",
    "    ls.append(n)\n",
    "print(ls)\n",
    "\n",
    "big=ls[0]\n",
    "small=ls[0]\n",
    "for i in ls:\n",
    "    if i>big:\n",
    "        big=i\n",
    "    if i<small:\n",
    "        small=i\n",
    "print(\"Biggest element is \",big)\n",
    "print(\"Smallest element is \",small)"
   ]
  },
  {
   "cell_type": "code",
   "execution_count": 11,
   "id": "739b1794-b51f-42bd-9e13-693bb0f3d638",
   "metadata": {},
   "outputs": [
    {
     "name": "stdout",
     "output_type": "stream",
     "text": [
      "[12, 23, 34, 45, 56, 67, 78, 12, 23, 45, 67]\n",
      "[12, 23, 34, 45, 56, 67, 78]\n"
     ]
    }
   ],
   "source": [
    "#most important\n",
    "\n",
    "\n",
    "ls=[12,23,34,45,56,67,78,12,23,45,67]\n",
    "ls1=[]\n",
    "for i in ls:\n",
    "    if i not in ls1:\n",
    "        ls1.append(i)\n",
    "\n",
    "print(ls)\n",
    "print(ls1)"
   ]
  },
  {
   "cell_type": "code",
   "execution_count": 13,
   "id": "b82bfad8-136b-4d65-985d-0b4c44741efa",
   "metadata": {},
   "outputs": [
    {
     "name": "stdout",
     "output_type": "stream",
     "text": [
      "[12, 23, 34, 45, 56, 67]\n",
      "[12, 23, 34, 45, 56, 67, 'Deepanshu', 'Dev', 'Aryan', 'Akshat', 'Iqbal']\n"
     ]
    }
   ],
   "source": [
    "# Extend\n",
    "ls=[12,23,34,45,56,67]\n",
    "print(ls)\n",
    "ls.extend([\"Deepanshu\",\"Dev\",\"Aryan\",\"Akshat\",\"Iqbal\"])\n",
    "print(ls)"
   ]
  },
  {
   "cell_type": "code",
   "execution_count": 14,
   "id": "1e0ffdb5-e32e-40cb-91df-38e80677e761",
   "metadata": {},
   "outputs": [
    {
     "name": "stdout",
     "output_type": "stream",
     "text": [
      "[12, 23, 34, 45, 56, 67, 78]\n",
      "[12, 23, 34, 'Iqbal', 45, 56, 67, 78]\n"
     ]
    }
   ],
   "source": [
    "#insert\n",
    "\n",
    "ls=[12,23,34,45,56,67,78]\n",
    "print(ls)\n",
    "ls.insert(3,\"Iqbal\")\n",
    "print(ls)"
   ]
  },
  {
   "cell_type": "code",
   "execution_count": 16,
   "id": "3839e121-5503-4ee6-9fe7-26e1f0348d0d",
   "metadata": {},
   "outputs": [
    {
     "name": "stdout",
     "output_type": "stream",
     "text": [
      "[12, 23, 34, 45, 56, 67, 78]\n",
      "[12, 23, 34, ['Iqbal', 'Madrid', 'Software'], 45, 56, 67, 78]\n"
     ]
    }
   ],
   "source": [
    "#insert\n",
    "\n",
    "ls=[12,23,34,45,56,67,78]\n",
    "print(ls)\n",
    "ls.insert(3,[\"Iqbal\",\"Madrid\",\"Software\"])\n",
    "print(ls)"
   ]
  },
  {
   "cell_type": "code",
   "execution_count": 17,
   "id": "1210cda0-91b6-4c8a-8d70-022e958f3031",
   "metadata": {},
   "outputs": [
    {
     "name": "stdout",
     "output_type": "stream",
     "text": [
      "[12, 23, 34, 45, 56, 67, 12, 23]\n",
      "2\n"
     ]
    }
   ],
   "source": [
    "# Count\n",
    "\n",
    "ls=[12,23,34,45,56,67,12,23]\n",
    "print(ls)\n",
    "x=ls.count(23)\n",
    "print(x)"
   ]
  },
  {
   "cell_type": "code",
   "execution_count": 19,
   "id": "4cd24897-23ca-41d5-97e7-c96229500876",
   "metadata": {},
   "outputs": [
    {
     "name": "stdin",
     "output_type": "stream",
     "text": [
      "enter the number 12\n"
     ]
    },
    {
     "name": "stdout",
     "output_type": "stream",
     "text": [
      "2\n"
     ]
    }
   ],
   "source": [
    "ls=[12,23,34,45,56,67,12,56]\n",
    "co=0\n",
    "n=int(input(\"enter the number\"))\n",
    "for i in ls:\n",
    "    if i==n:\n",
    "        co=co+1\n",
    "print(co)"
   ]
  },
  {
   "cell_type": "code",
   "execution_count": 23,
   "id": "4d4b4ac0-342d-4dcd-a0d5-58ed19fd23ce",
   "metadata": {},
   "outputs": [
    {
     "name": "stdout",
     "output_type": "stream",
     "text": [
      "2\n"
     ]
    }
   ],
   "source": [
    "#Index\n",
    "\n",
    "ls=[12,23,34,34,56,67,78]\n",
    "x=ls.index(34)\n",
    "print(x)"
   ]
  },
  {
   "cell_type": "code",
   "execution_count": 26,
   "id": "2c063357-698e-4e8e-aac4-887bed0d4f91",
   "metadata": {},
   "outputs": [
    {
     "name": "stdin",
     "output_type": "stream",
     "text": [
      "enter the number 23\n"
     ]
    },
    {
     "name": "stdout",
     "output_type": "stream",
     "text": [
      "23 is found at 1\n",
      "23 is found at 2\n",
      "23 is found at 3\n"
     ]
    }
   ],
   "source": [
    "ls=[12,23,23,23,45,56,67,78]\n",
    "co=0\n",
    "n=int(input(\"enter the number\"))\n",
    "for i in range(len(ls)):\n",
    "    if n==ls[i]:\n",
    "        co=co+1\n",
    "        if co>0:\n",
    "            print(n,\"is found at\",i)"
   ]
  },
  {
   "cell_type": "code",
   "execution_count": 28,
   "id": "e21b6987-b57e-4be9-a6e8-1f3771672555",
   "metadata": {},
   "outputs": [
    {
     "name": "stdout",
     "output_type": "stream",
     "text": [
      "[23, 34, 45, 56, 67]\n",
      "[23, 34, 'Iqbal', 56, 67]\n",
      "[23, 34, 'Iqbal', 56, 67]\n"
     ]
    }
   ],
   "source": [
    "# Copy Method\n",
    "\n",
    "ls=[23,34,45,56,67]\n",
    "ls1=ls\n",
    "print(ls)\n",
    "ls1[2]=\"Iqbal\"\n",
    "print(ls)\n",
    "print(ls1)"
   ]
  },
  {
   "cell_type": "code",
   "execution_count": 29,
   "id": "f909da70-9047-4403-a66c-68b89d0f071d",
   "metadata": {},
   "outputs": [
    {
     "name": "stdout",
     "output_type": "stream",
     "text": [
      "[23, 34, 45, 56, 67]\n",
      "[23, 34, 45, 56, 67]\n",
      "[23, 34, 45, 56, 67]\n",
      "[23, 34, 'Iqbal', 56, 67]\n"
     ]
    }
   ],
   "source": [
    "# but if we copy a list by copy mathod then changes is reflect on that list only which is being changed\n",
    "\n",
    "ls=[23,34,45,56,67]\n",
    "ls1=ls.copy()\n",
    "print(ls)\n",
    "print(ls1)\n",
    "ls1[2]=\"Iqbal\"\n",
    "print(ls)\n",
    "print(ls1)"
   ]
  },
  {
   "cell_type": "code",
   "execution_count": 30,
   "id": "7cca6d5b-ce05-4610-bd23-2c1e000ca644",
   "metadata": {},
   "outputs": [
    {
     "name": "stdout",
     "output_type": "stream",
     "text": [
      "[12, 34, 45, 56, 67]\n",
      "[]\n"
     ]
    }
   ],
   "source": [
    "# clear\n",
    "\n",
    "ls=[12,34,45,56,67]\n",
    "print(ls)\n",
    "ls.clear()\n",
    "print(ls)"
   ]
  },
  {
   "cell_type": "code",
   "execution_count": 31,
   "id": "85540eba-debf-44c9-8a86-65711286061d",
   "metadata": {},
   "outputs": [
    {
     "name": "stdout",
     "output_type": "stream",
     "text": [
      "[12, 33, 45, 56, 66, 78]\n",
      "[78, 66, 56, 45, 33, 12]\n"
     ]
    }
   ],
   "source": [
    "# Reverse()\n",
    "\n",
    "ls=[12,33,45,56,66,78]\n",
    "print(ls)\n",
    "ls.reverse()\n",
    "print(ls)"
   ]
  },
  {
   "cell_type": "code",
   "execution_count": null,
   "id": "aa2cbbc2-c23e-40ba-9266-d21af7dc878e",
   "metadata": {},
   "outputs": [],
   "source": []
  }
 ],
 "metadata": {
  "kernelspec": {
   "display_name": "Python 3 (ipykernel)",
   "language": "python",
   "name": "python3"
  },
  "language_info": {
   "codemirror_mode": {
    "name": "ipython",
    "version": 3
   },
   "file_extension": ".py",
   "mimetype": "text/x-python",
   "name": "python",
   "nbconvert_exporter": "python",
   "pygments_lexer": "ipython3",
   "version": "3.11.7"
  }
 },
 "nbformat": 4,
 "nbformat_minor": 5
}
