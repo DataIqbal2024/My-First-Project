{
 "cells": [
  {
   "cell_type": "code",
   "execution_count": 11,
   "id": "e321f076-8c11-43ce-821d-4a8e98959726",
   "metadata": {},
   "outputs": [
    {
     "name": "stdin",
     "output_type": "stream",
     "text": [
      "enter the number 6\n"
     ]
    },
    {
     "name": "stdout",
     "output_type": "stream",
     "text": [
      "the factorial is  720\n"
     ]
    }
   ],
   "source": [
    "# fatorial of a given number\n",
    "\n",
    "n=int(input(\"enter the number\"))\n",
    "f=1\n",
    "if n<0:\n",
    "    print(\"the factorial of -ev number can't be calculated\")\n",
    "else:\n",
    "    while n>0:\n",
    "        f=f*n\n",
    "        n=n-1\n",
    "    print(\"the factorial is \",f)\n",
    "\n",
    "#n=6\n",
    "#f=f*n\n",
    "#f=1*6=6\n",
    "#f=6*5=30\n",
    "#f=30*4=120\n",
    "#f=120*3=360\n",
    "#f=360*2=720\n",
    "#f=720*1=720"
   ]
  },
  {
   "cell_type": "markdown",
   "id": "00b18304-5f62-44cc-bb78-a9ea53c5c679",
   "metadata": {},
   "source": []
  }
 ],
 "metadata": {
  "kernelspec": {
   "display_name": "Python 3 (ipykernel)",
   "language": "python",
   "name": "python3"
  },
  "language_info": {
   "codemirror_mode": {
    "name": "ipython",
    "version": 3
   },
   "file_extension": ".py",
   "mimetype": "text/x-python",
   "name": "python",
   "nbconvert_exporter": "python",
   "pygments_lexer": "ipython3",
   "version": "3.11.7"
  }
 },
 "nbformat": 4,
 "nbformat_minor": 5
}
