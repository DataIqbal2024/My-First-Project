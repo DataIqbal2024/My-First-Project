{
 "cells": [
  {
   "cell_type": "code",
   "execution_count": 8,
   "id": "270d0227-94fa-41f4-a7f8-6da1800e139c",
   "metadata": {},
   "outputs": [],
   "source": [
    "# FUNCTION "
   ]
  },
  {
   "cell_type": "code",
   "execution_count": 10,
   "id": "568b1e0a-0223-4338-9dcc-b3761dd357b6",
   "metadata": {},
   "outputs": [],
   "source": [
    "#  1-----(DEFAULT)\n"
   ]
  },
  {
   "cell_type": "code",
   "execution_count": 11,
   "id": "bd4ec371-12c9-4a7a-a0c1-1e8c0e9fef7a",
   "metadata": {},
   "outputs": [],
   "source": [
    "#additon of three number\n",
    "\n",
    "def addition():\n",
    "    a=int(input(\"Enter the number\"))\n",
    "    b=int(input(\"Enter the number\"))\n",
    "    c=int(input(\"Enter the number\"))\n",
    "    d=a+b+c\n",
    "    print(\"The sum is \", d)"
   ]
  },
  {
   "cell_type": "code",
   "execution_count": 12,
   "id": "a9e5b6a2-4ec1-4c76-9289-94a3c2c3997f",
   "metadata": {},
   "outputs": [
    {
     "name": "stdin",
     "output_type": "stream",
     "text": [
      "Enter the number 12\n",
      "Enter the number 66\n",
      "Enter the number 90\n"
     ]
    },
    {
     "name": "stdout",
     "output_type": "stream",
     "text": [
      "The sum is  168\n"
     ]
    }
   ],
   "source": [
    "addition()"
   ]
  },
  {
   "cell_type": "code",
   "execution_count": 18,
   "id": "0bd958fc-9ece-4517-aa06-c69ad3ba1e15",
   "metadata": {},
   "outputs": [],
   "source": [
    "# Simple Interest\n",
    "\n",
    "def si():\n",
    "    p=int(input(\"Enter the value of p\"))\n",
    "    r=float(input(\"Enter the value of r\"))\n",
    "    t=int(input(\"Enter the value of t\"))\n",
    "    si=p*r*t/100\n",
    "    print(\"The Simple Interest is \", si)"
   ]
  },
  {
   "cell_type": "code",
   "execution_count": 20,
   "id": "46edc269-034d-412c-8d51-c10300d335db",
   "metadata": {},
   "outputs": [
    {
     "name": "stdin",
     "output_type": "stream",
     "text": [
      "Enter the value of p 2000\n",
      "Enter the value of r 5.7\n",
      "Enter the value of t 3\n"
     ]
    },
    {
     "name": "stdout",
     "output_type": "stream",
     "text": [
      "The Simple Interest is  342.0\n"
     ]
    }
   ],
   "source": [
    "si()"
   ]
  },
  {
   "cell_type": "code",
   "execution_count": 25,
   "id": "f1b966e7-f8c8-429a-909e-1153377f106a",
   "metadata": {},
   "outputs": [],
   "source": [
    "\n",
    "\n",
    "# Average of three number\n",
    "\n",
    "def average():\n",
    "    a=float(input(\"Enter the Number\"))\n",
    "    b=float(input(\"Enter the Number\"))\n",
    "    c=float(input(\"Enter the Number\"))\n",
    "    avg=(a+b+c)/3\n",
    "    print(\"The average is \", avg)"
   ]
  },
  {
   "cell_type": "code",
   "execution_count": 26,
   "id": "e098b2da-66ba-45ad-9b6b-9237a379a50b",
   "metadata": {},
   "outputs": [
    {
     "name": "stdin",
     "output_type": "stream",
     "text": [
      "Enter the Number 89.99\n",
      "Enter the Number 89.76\n",
      "Enter the Number 56.78\n"
     ]
    },
    {
     "name": "stdout",
     "output_type": "stream",
     "text": [
      "The average is  78.84333333333333\n"
     ]
    }
   ],
   "source": [
    "average()"
   ]
  },
  {
   "cell_type": "code",
   "execution_count": 27,
   "id": "d8d28f4b-4392-4d85-b9dc-06dd81b86b73",
   "metadata": {},
   "outputs": [],
   "source": [
    "\n",
    "# Swapping of two Number\n",
    "\n",
    "def swapping():\n",
    "    a=78\n",
    "    b=68\n",
    "    print(\"before swapping\")\n",
    "    print(\"A=\",a)\n",
    "    print(\"B=\",b)\n",
    "    temp=a\n",
    "    a=b\n",
    "    b=temp\n",
    "    print(\"After swapping\")\n",
    "    print(\"A=\",a)\n",
    "    print(\"B=\",b)\n",
    "    "
   ]
  },
  {
   "cell_type": "code",
   "execution_count": 28,
   "id": "96db010f-274f-4496-b657-4328e6dcef88",
   "metadata": {},
   "outputs": [
    {
     "name": "stdout",
     "output_type": "stream",
     "text": [
      "before swapping\n",
      "A= 78\n",
      "B= 68\n",
      "After swapping\n",
      "A= 68\n",
      "B= 78\n"
     ]
    }
   ],
   "source": [
    "swapping()"
   ]
  },
  {
   "cell_type": "code",
   "execution_count": 31,
   "id": "2818eb07-7a5c-4d75-9b29-042733a093b4",
   "metadata": {},
   "outputs": [
    {
     "name": "stdin",
     "output_type": "stream",
     "text": [
      "Enter the number 5\n"
     ]
    },
    {
     "name": "stdout",
     "output_type": "stream",
     "text": [
      "2.23606797749979\n"
     ]
    }
   ],
   "source": [
    "\n",
    "# Square Root\n",
    "\n",
    "import math\n",
    "a=int(input(\"Enter the number\"))\n",
    "x=math.sqrt(a)\n",
    "print(x)"
   ]
  },
  {
   "cell_type": "code",
   "execution_count": 33,
   "id": "6645a13f-083f-4611-9e51-eeed4264df98",
   "metadata": {},
   "outputs": [],
   "source": [
    "\n",
    "\n",
    "# If Else "
   ]
  },
  {
   "cell_type": "code",
   "execution_count": 47,
   "id": "e16dd721-b90b-44eb-859f-9f2a2c1beeaa",
   "metadata": {},
   "outputs": [],
   "source": [
    "def leap_year(n):\n",
    "    if n%4==0:\n",
    "        print(\"Leap Year\")\n",
    "    else:\n",
    "        print(\"Not a leap Year\")"
   ]
  },
  {
   "cell_type": "code",
   "execution_count": 48,
   "id": "a0f94aea-ffe7-47c5-b0ff-5fd53517b6b1",
   "metadata": {},
   "outputs": [
    {
     "name": "stdout",
     "output_type": "stream",
     "text": [
      "Leap Year\n"
     ]
    }
   ],
   "source": [
    "leap_year(2024)"
   ]
  },
  {
   "cell_type": "code",
   "execution_count": 49,
   "id": "0f801fb1-a964-40eb-a5a8-e9e316dee864",
   "metadata": {},
   "outputs": [
    {
     "name": "stdout",
     "output_type": "stream",
     "text": [
      "Not a leap Year\n"
     ]
    }
   ],
   "source": [
    "leap_year(2019)"
   ]
  },
  {
   "cell_type": "code",
   "execution_count": 53,
   "id": "67405167-57ec-47dc-bc9d-cd2cbf7560d1",
   "metadata": {},
   "outputs": [
    {
     "name": "stdin",
     "output_type": "stream",
     "text": [
      " 2035\n"
     ]
    },
    {
     "name": "stdout",
     "output_type": "stream",
     "text": [
      "Not a leap Year\n"
     ]
    }
   ],
   "source": [
    "y=int(input())\n",
    "leap_year(y)"
   ]
  },
  {
   "cell_type": "code",
   "execution_count": 1,
   "id": "d2be4e59-ee81-4cbb-a4a7-9d05bd64b177",
   "metadata": {},
   "outputs": [],
   "source": [
    "# Program greatest among three number\n",
    "\n",
    "def greatestnumber():\n",
    "    a=int(input(\"Enter the number\"))\n",
    "    b=int(input(\"Enter the number\"))\n",
    "    c=int(input(\"Enter the number\"))\n",
    "    if a>b and a>c:\n",
    "        print(\"A is greatest\")\n",
    "    elif b>a and b>c:\n",
    "        print(\"B is greatest\")\n",
    "    else:\n",
    "        print(\"C is greatest\")\n"
   ]
  },
  {
   "cell_type": "code",
   "execution_count": 3,
   "id": "88578a30-2f54-4f9d-ab3d-d9e9583e9292",
   "metadata": {},
   "outputs": [
    {
     "name": "stdin",
     "output_type": "stream",
     "text": [
      "Enter the number 12\n",
      "Enter the number 34\n",
      "Enter the number 65\n"
     ]
    },
    {
     "name": "stdout",
     "output_type": "stream",
     "text": [
      "C is greatest\n"
     ]
    }
   ],
   "source": [
    "greatestnumber()"
   ]
  },
  {
   "cell_type": "code",
   "execution_count": null,
   "id": "80cb039e-0748-415b-b9ff-b3cd5dce7fdd",
   "metadata": {},
   "outputs": [],
   "source": []
  }
 ],
 "metadata": {
  "kernelspec": {
   "display_name": "Python 3 (ipykernel)",
   "language": "python",
   "name": "python3"
  },
  "language_info": {
   "codemirror_mode": {
    "name": "ipython",
    "version": 3
   },
   "file_extension": ".py",
   "mimetype": "text/x-python",
   "name": "python",
   "nbconvert_exporter": "python",
   "pygments_lexer": "ipython3",
   "version": "3.11.7"
  }
 },
 "nbformat": 4,
 "nbformat_minor": 5
}
