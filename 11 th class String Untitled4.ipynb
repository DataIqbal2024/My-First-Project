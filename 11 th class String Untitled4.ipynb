{
 "cells": [
  {
   "cell_type": "code",
   "execution_count": null,
   "id": "d5bc127e-d88b-42b5-aa93-0155271ab933",
   "metadata": {},
   "outputs": [],
   "source": []
  },
  {
   "cell_type": "code",
   "execution_count": 2,
   "id": "f51359c8-a6b0-46f6-9d5e-fea1d5f29118",
   "metadata": {},
   "outputs": [
    {
     "name": "stdout",
     "output_type": "stream",
     "text": [
      "Index of 'H': 0\n",
      "Index of 'h': -1\n",
      "Index of 'e': 1\n",
      "Index of 'World': 6\n"
     ]
    }
   ],
   "source": [
    "greet=\"Hello World!\"\n",
    "print(\"Index of 'H':\",greet.index('H'))\n",
    "print(\"Index of 'h':\",greet.find('h'))  # returans -1 as 'h' no found\n",
    "print(\"Index of 'e':\",greet.find('e'))\n",
    "print(\"Index of 'World':\",greet.find('World'))"
   ]
  },
  {
   "cell_type": "code",
   "execution_count": 2,
   "id": "48ea04c9-c888-4f87-8ed7-7be5b56b9431",
   "metadata": {},
   "outputs": [
    {
     "name": "stdin",
     "output_type": "stream",
     "text": [
      "enter the number 23\n"
     ]
    },
    {
     "name": "stdout",
     "output_type": "stream",
     "text": [
      "23 is found at  1\n",
      "23 is found at  2\n",
      "23 is found at  3\n",
      "23 is found at  4\n",
      "23 is found at  5\n",
      "23 is found at  6\n",
      "23 is found at  7\n"
     ]
    }
   ],
   "source": [
    "ls=[12,23,34,45,56,23,67,78]\n",
    "co=0\n",
    "n=int(input(\"enter the number\"))\n",
    "for i in range(len(ls)):\n",
    "    if n==ls[i]:\n",
    "        co=co+1\n",
    "    if co>0:\n",
    "        print(n,\"is found at \" ,i)"
   ]
  },
  {
   "cell_type": "code",
   "execution_count": 7,
   "id": "6853ed79-0974-44f3-a8cf-71784af58fe6",
   "metadata": {},
   "outputs": [
    {
     "name": "stdout",
     "output_type": "stream",
     "text": [
      "True\n",
      "True\n",
      "True\n",
      "True\n",
      "False\n"
     ]
    }
   ],
   "source": [
    "mystr = \"Python is a programming language.\"\n",
    "print(mystr.endswith('.'))\n",
    "print(mystr.endswith('age.'))\n",
    "print(mystr.endswith('language.'))\n",
    "print(mystr.endswith('programming language.'))\n",
    "print(mystr.endswith('age'))"
   ]
  },
  {
   "cell_type": "code",
   "execution_count": 10,
   "id": "771f5bcd-8960-4335-8706-cad4a7edfa81",
   "metadata": {},
   "outputs": [
    {
     "ename": "ValueError",
     "evalue": "substring not found",
     "output_type": "error",
     "traceback": [
      "\u001b[1;31m---------------------------------------------------------------------------\u001b[0m",
      "\u001b[1;31mValueError\u001b[0m                                Traceback (most recent call last)",
      "Cell \u001b[1;32mIn[10], line 2\u001b[0m\n\u001b[0;32m      1\u001b[0m greet \u001b[38;5;241m=\u001b[39m\u001b[38;5;124m'\u001b[39m\u001b[38;5;124mHello World\u001b[39m\u001b[38;5;124m'\u001b[39m\n\u001b[1;32m----> 2\u001b[0m \u001b[38;5;28mprint\u001b[39m(greet\u001b[38;5;241m.\u001b[39mindex(\u001b[38;5;124m'\u001b[39m\u001b[38;5;124mh\u001b[39m\u001b[38;5;124m'\u001b[39m))\n\u001b[0;32m      3\u001b[0m \u001b[38;5;28mprint\u001b[39m(greet\u001b[38;5;241m.\u001b[39mindex(\u001b[38;5;124m'\u001b[39m\u001b[38;5;124mhello\u001b[39m\u001b[38;5;124m'\u001b[39m))\n",
      "\u001b[1;31mValueError\u001b[0m: substring not found"
     ]
    }
   ],
   "source": [
    "greet ='Hello World'\n",
    "print(greet.index('h'))\n",
    "print(greet.index('hello'))"
   ]
  },
  {
   "cell_type": "code",
   "execution_count": 12,
   "id": "31672381-f502-4793-8f04-bdf8124d42fc",
   "metadata": {},
   "outputs": [
    {
     "name": "stdout",
     "output_type": "stream",
     "text": [
      "Index of H: 0\n",
      "Index of e: 1\n",
      "Index of l: 2\n",
      "Index of World: 6\n"
     ]
    }
   ],
   "source": [
    "greet='Hello World!'\n",
    "print('Index of H:',greet.index('H'))\n",
    "print('Index of e:',greet.index('e'))\n",
    "print('Index of l:',greet.index('l'))\n",
    "print('Index of World:',greet.index('World'))"
   ]
  },
  {
   "cell_type": "code",
   "execution_count": 14,
   "id": "d98d25c9-e20f-4bd2-b099-14e6d7391e2f",
   "metadata": {},
   "outputs": [
    {
     "name": "stdout",
     "output_type": "stream",
     "text": [
      "True\n"
     ]
    }
   ],
   "source": [
    "mystr='Hello123'\n",
    "print(mystr.isalnum())"
   ]
  },
  {
   "cell_type": "code",
   "execution_count": 15,
   "id": "f0dde13d-cfa7-41d0-9ef9-1bd13ab61886",
   "metadata": {},
   "outputs": [
    {
     "name": "stdout",
     "output_type": "stream",
     "text": [
      "True\n"
     ]
    }
   ],
   "source": [
    "mystr='12345'\n",
    "print(mystr.isalnum())"
   ]
  },
  {
   "cell_type": "code",
   "execution_count": 16,
   "id": "f42735ba-af53-4640-b8a4-da2a40aa22f3",
   "metadata": {},
   "outputs": [
    {
     "name": "stdout",
     "output_type": "stream",
     "text": [
      "True\n"
     ]
    }
   ],
   "source": [
    "mystr='Madrid'\n",
    "print(mystr.isalnum())"
   ]
  },
  {
   "cell_type": "code",
   "execution_count": 17,
   "id": "0ceb7a2a-fea1-4719-ad19-5f2315e2ff6a",
   "metadata": {},
   "outputs": [
    {
     "name": "stdout",
     "output_type": "stream",
     "text": [
      "False\n"
     ]
    }
   ],
   "source": [
    "mystr='#1'\n",
    "print(mystr.isalnum())"
   ]
  },
  {
   "cell_type": "code",
   "execution_count": 18,
   "id": "375633e4-3a66-4996-ae92-bcb1c2ace65d",
   "metadata": {},
   "outputs": [
    {
     "name": "stdout",
     "output_type": "stream",
     "text": [
      "False\n"
     ]
    }
   ],
   "source": [
    "mystr='Hello\\tWorld'\n",
    "print(mystr.isalnum())"
   ]
  },
  {
   "cell_type": "code",
   "execution_count": 19,
   "id": "21fdfae7-4ab5-47f9-a2b9-ab3562ff6288",
   "metadata": {},
   "outputs": [
    {
     "name": "stdout",
     "output_type": "stream",
     "text": [
      "False\n"
     ]
    }
   ],
   "source": [
    "mystr='Python is a programming language'\n",
    "print(mystr.isalnum())"
   ]
  },
  {
   "cell_type": "code",
   "execution_count": null,
   "id": "64975229-e698-49d6-a561-bcd06f9d4717",
   "metadata": {},
   "outputs": [],
   "source": [
    " "
   ]
  }
 ],
 "metadata": {
  "kernelspec": {
   "display_name": "Python 3 (ipykernel)",
   "language": "python",
   "name": "python3"
  },
  "language_info": {
   "codemirror_mode": {
    "name": "ipython",
    "version": 3
   },
   "file_extension": ".py",
   "mimetype": "text/x-python",
   "name": "python",
   "nbconvert_exporter": "python",
   "pygments_lexer": "ipython3",
   "version": "3.11.7"
  }
 },
 "nbformat": 4,
 "nbformat_minor": 5
}
