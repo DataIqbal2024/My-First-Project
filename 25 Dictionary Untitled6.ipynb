{
 "cells": [
  {
   "cell_type": "code",
   "execution_count": 1,
   "id": "f5c92c6c-4327-49b1-9110-88260cf50108",
   "metadata": {},
   "outputs": [
    {
     "name": "stdout",
     "output_type": "stream",
     "text": [
      "Dictionary: {'I': 1, 'II': 2, 'III': 3, 'IV': 4, 'V': 5}\n",
      "Dictionary after calling clear() method: {}\n"
     ]
    }
   ],
   "source": [
    "romanNums={'I':1, 'II':2, 'III':3, 'IV':4, 'V':5}\n",
    "print(\"Dictionary:\",romanNums)\n",
    "romanNums.clear()\n",
    "print(\"Dictionary after calling clear() method:\",romanNums)"
   ]
  },
  {
   "cell_type": "code",
   "execution_count": 2,
   "id": "3f3144a7-decd-467a-ac27-7555c3de6505",
   "metadata": {},
   "outputs": [
    {
     "name": "stdout",
     "output_type": "stream",
     "text": [
      "Origimal dictionary: {'I': 1, 'II': 2, 'III': 3, 'IV': 4, 'V': 5}\n",
      "Copied dictionary: {'I': 1, 'II': 2, 'III': 3, 'IV': 4, 'V': 5}\n"
     ]
    }
   ],
   "source": [
    "romanNums={'I':1, 'II':2, 'III':3, 'IV':4, 'V':5}\n",
    "newRomanNums = romanNums.copy()\n",
    "print(\"Origimal dictionary:\", romanNums)\n",
    "print(\"Copied dictionary:\",newRomanNums)"
   ]
  },
  {
   "cell_type": "code",
   "execution_count": 4,
   "id": "df7d6f4f-5fb2-48de-91f7-0a2981755159",
   "metadata": {},
   "outputs": [
    {
     "name": "stdout",
     "output_type": "stream",
     "text": [
      "Origimal dictionary: {'I': 1, 'II': 2, 'III': 3, 'IV': 4, 'V': 5}\n",
      "Copied dictionary: {'I': 1, 'II': 2, 'III': 3, 'IV': 4, 'V': 5}\n"
     ]
    }
   ],
   "source": [
    "romanNums={'I':1, 'II':2, 'III':3, 'IV':4, 'V':5}\n",
    "newRomanNums=romanNums\n",
    "print(\"Origimal dictionary:\", romanNums)\n",
    "print(\"Copied dictionary:\",newRomanNums)"
   ]
  },
  {
   "cell_type": "code",
   "execution_count": 7,
   "id": "7ebea53f-4e20-4292-b160-21943b750a6b",
   "metadata": {},
   "outputs": [
    {
     "name": "stdout",
     "output_type": "stream",
     "text": [
      "Origimal dictionary: {'I': 1, 'II': 2, 'III': 3, 'IV': 4, 'V': 5}\n",
      "Copied dictionary: {'I': 1, 'II': 2, 'III': 3, 'IV': 4}\n"
     ]
    }
   ],
   "source": [
    "romanNums={'I':1, 'II':2, 'III':3, 'IV':4, 'V':5}\n",
    "newRomanNums = romanNums.copy()\n",
    "del newRomanNums['V'] # deleting 'V'\n",
    "print(\"Origimal dictionary:\", romanNums)\n",
    "print(\"Copied dictionary:\",newRomanNums)"
   ]
  },
  {
   "cell_type": "code",
   "execution_count": 7,
   "id": "1770f0ec-d3b8-4044-8009-7addaa55f7c9",
   "metadata": {},
   "outputs": [
    {
     "name": "stdout",
     "output_type": "stream",
     "text": [
      "Origimal dictionary: {}\n",
      "Copied dictionary: {}\n"
     ]
    }
   ],
   "source": [
    "romanNums={'I':1, 'II':2, 'III':3, 'IV':4, 'V':5}\n",
    "newRomanNums = romanNums\n",
    "newRomanNums.clear()\n",
    "print(\"Origimal dictionary:\", romanNums)\n",
    "print(\"Copied dictionary:\",newRomanNums)"
   ]
  },
  {
   "cell_type": "code",
   "execution_count": 10,
   "id": "41675f09-5bba-4d2f-99c3-9efebd0a8bf8",
   "metadata": {},
   "outputs": [
    {
     "name": "stdout",
     "output_type": "stream",
     "text": [
      "{'Banglore': 'city', 'New York': 'city', 'Chicago': 'city', 'Mumbai': 'city'}\n"
     ]
    }
   ],
   "source": [
    "# Python dictionary fromkeys\n",
    "keys = {'Mumbai','Banglore','Chicago','New York'}\n",
    "value = 'city'\n",
    "dictionary = dict.fromkeys(keys,value)\n",
    "print(dictionary)"
   ]
  },
  {
   "cell_type": "code",
   "execution_count": 11,
   "id": "5c3e55e8-e45b-4bb5-8fa9-e3b9dbdd3d31",
   "metadata": {},
   "outputs": [
    {
     "name": "stdout",
     "output_type": "stream",
     "text": [
      "{'Banglore': None, 'New York': None, 'Chicago': None, 'Mumbai': None}\n"
     ]
    }
   ],
   "source": [
    "keys = {'Mumbai','Banglore','Chicago','New York'}\n",
    "dictionary = dict.fromkeys(keys)\n",
    "print(dictionary)"
   ]
  },
  {
   "cell_type": "code",
   "execution_count": 12,
   "id": "423669a8-ce82-417a-adc6-d3c59fcda541",
   "metadata": {},
   "outputs": [
    {
     "name": "stdout",
     "output_type": "stream",
     "text": [
      "{'H': 'char', 'e': 'char', 'l': 'char', 'o': 'char'}\n"
     ]
    }
   ],
   "source": [
    "chdict = dict.fromkeys('Hello','char')\n",
    "print(chdict)"
   ]
  },
  {
   "cell_type": "code",
   "execution_count": 13,
   "id": "e99623cc-33c1-4681-8e0a-afb6c6cb2eda",
   "metadata": {},
   "outputs": [
    {
     "name": "stdout",
     "output_type": "stream",
     "text": [
      "dict_items([('I', 1), ('II', 2), ('III', 3), ('IV', 4)])\n"
     ]
    }
   ],
   "source": [
    "# Python Dictionary items\n",
    "romanNums = {'I':1,'II':2,'III':3,'IV':4}\n",
    "dictview = romanNums.items()\n",
    "print(dictview)"
   ]
  },
  {
   "cell_type": "code",
   "execution_count": 14,
   "id": "4e2dd047-f62e-4d9f-8a3f-c153233fb00b",
   "metadata": {},
   "outputs": [
    {
     "name": "stdout",
     "output_type": "stream",
     "text": [
      "dict_keys(['I', 'II', 'III', 'IV', 'V'])\n"
     ]
    }
   ],
   "source": [
    "# python dictionary keys\n",
    "\n",
    "romanNums = {'I':1,'II':2,'III':3,'IV':4,'V':5}\n",
    "keys = romanNums.keys()\n",
    "print(keys)"
   ]
  },
  {
   "cell_type": "code",
   "execution_count": 15,
   "id": "ce5e81ec-1810-4b1a-a895-ebb18e6689a5",
   "metadata": {},
   "outputs": [
    {
     "name": "stdout",
     "output_type": "stream",
     "text": [
      "The popped element is:  5\n",
      "Update dictionary:  {'I': 1, 'II': 2, 'III': 3, 'IV': 4}\n"
     ]
    }
   ],
   "source": [
    "# dictinary pop\n",
    "\n",
    "romanNums = {'I':1,'II':2,'III':3,'IV':4,'V':5}\n",
    "deletedValue= romanNums.pop('V')\n",
    "print(\"The popped element is: \", deletedValue)\n",
    "print(\"Update dictionary: \", romanNums)\n"
   ]
  },
  {
   "cell_type": "code",
   "execution_count": 9,
   "id": "d545a5d1-3fc2-44f4-91d7-593114f83f57",
   "metadata": {},
   "outputs": [
    {
     "name": "stdout",
     "output_type": "stream",
     "text": [
      "The popped element is:  4\n",
      "Update dictionary:  {'I': 1, 'II': 2, 'III': 3, 'V': 5}\n"
     ]
    }
   ],
   "source": [
    "romanNums = {'I':1,'II':2,'III':3,'IV':4,'V':5}\n",
    "deletedValue= romanNums.pop('IV')\n",
    "print(\"The popped element is: \", deletedValue)\n",
    "print(\"Update dictionary: \", romanNums)\n"
   ]
  },
  {
   "cell_type": "code",
   "execution_count": 11,
   "id": "18fea9ed-f019-45e2-b202-2cff1fc42514",
   "metadata": {},
   "outputs": [
    {
     "ename": "KeyError",
     "evalue": "'VI'",
     "output_type": "error",
     "traceback": [
      "\u001b[1;31m----------------------------------------\u001b[0m",
      "\u001b[1;31mKeyError\u001b[0mTraceback (most recent call last)",
      "Cell \u001b[1;32mIn[11], line 2\u001b[0m\n\u001b[0;32m      1\u001b[0m romanNums \u001b[38;5;241m=\u001b[39m {\u001b[38;5;124m'\u001b[39m\u001b[38;5;124mI\u001b[39m\u001b[38;5;124m'\u001b[39m:\u001b[38;5;241m1\u001b[39m,\u001b[38;5;124m'\u001b[39m\u001b[38;5;124mII\u001b[39m\u001b[38;5;124m'\u001b[39m:\u001b[38;5;241m2\u001b[39m,\u001b[38;5;124m'\u001b[39m\u001b[38;5;124mIII\u001b[39m\u001b[38;5;124m'\u001b[39m:\u001b[38;5;241m3\u001b[39m,\u001b[38;5;124m'\u001b[39m\u001b[38;5;124mIV\u001b[39m\u001b[38;5;124m'\u001b[39m:\u001b[38;5;241m4\u001b[39m,\u001b[38;5;124m'\u001b[39m\u001b[38;5;124mV\u001b[39m\u001b[38;5;124m'\u001b[39m:\u001b[38;5;241m5\u001b[39m}\n\u001b[1;32m----> 2\u001b[0m deletedValue\u001b[38;5;241m=\u001b[39m romanNums\u001b[38;5;241m.\u001b[39mpop(\u001b[38;5;124m'\u001b[39m\u001b[38;5;124mVI\u001b[39m\u001b[38;5;124m'\u001b[39m)\n\u001b[0;32m      3\u001b[0m \u001b[38;5;28mprint\u001b[39m(\u001b[38;5;124m\"\u001b[39m\u001b[38;5;124mThe popped element is: \u001b[39m\u001b[38;5;124m\"\u001b[39m, deletedValue)\n\u001b[0;32m      4\u001b[0m \u001b[38;5;28mprint\u001b[39m(\u001b[38;5;124m\"\u001b[39m\u001b[38;5;124mUpdate dictionary: \u001b[39m\u001b[38;5;124m\"\u001b[39m, romanNums)\n",
      "\u001b[1;31mKeyError\u001b[0m: 'VI'"
     ]
    }
   ],
   "source": [
    "romanNums = {'I':1,'II':2,'III':3,'IV':4,'V':5}\n",
    "deletedValue= romanNums.pop('VI')\n",
    "print(\"The popped element is: \", deletedValue)\n",
    "print(\"Update dictionary: \", romanNums)"
   ]
  },
  {
   "cell_type": "code",
   "execution_count": 12,
   "id": "8ee2230f-b65d-4926-a3bc-fbce71f71f9f",
   "metadata": {},
   "outputs": [
    {
     "name": "stdout",
     "output_type": "stream",
     "text": [
      "('III', 3)\n",
      "('II', 2)\n",
      "('I', 1)\n",
      "{}\n"
     ]
    }
   ],
   "source": [
    "romanNums = {'I':1,'II':2,'III':3}\n",
    "print(romanNums.popitem())\n",
    "print(romanNums.popitem())\n",
    "print(romanNums.popitem())\n",
    "print(romanNums)"
   ]
  },
  {
   "cell_type": "code",
   "execution_count": 16,
   "id": "246535ca-8ccf-4b3c-814b-037a71fdb5d8",
   "metadata": {},
   "outputs": [
    {
     "name": "stdout",
     "output_type": "stream",
     "text": [
      "('III', 3)\n",
      "('II', 2)\n",
      "('I', 1)\n",
      "{}\n"
     ]
    },
    {
     "ename": "KeyError",
     "evalue": "'popitem(): dictionary is empty'",
     "output_type": "error",
     "traceback": [
      "\u001b[1;31m---------------------------------------------------------------------------\u001b[0m",
      "\u001b[1;31mKeyError\u001b[0m                                  Traceback (most recent call last)",
      "Cell \u001b[1;32mIn[16], line 8\u001b[0m\n\u001b[0;32m      6\u001b[0m \u001b[38;5;28mprint\u001b[39m(romanNums\u001b[38;5;241m.\u001b[39mpopitem())\n\u001b[0;32m      7\u001b[0m \u001b[38;5;28mprint\u001b[39m(romanNums)\n\u001b[1;32m----> 8\u001b[0m \u001b[38;5;28mprint\u001b[39m(romanNums\u001b[38;5;241m.\u001b[39mpopitem())\n",
      "\u001b[1;31mKeyError\u001b[0m: 'popitem(): dictionary is empty'"
     ]
    }
   ],
   "source": [
    "# popitem()\n",
    "\n",
    "romanNums = {'I':1,'II':2,'III':3}\n",
    "print(romanNums.popitem())\n",
    "print(romanNums.popitem())\n",
    "print(romanNums.popitem())\n",
    "print(romanNums)\n",
    "print(romanNums.popitem())"
   ]
  },
  {
   "cell_type": "code",
   "execution_count": 17,
   "id": "8488f3cd-9fc6-4f99-aa3e-c42977e4509d",
   "metadata": {},
   "outputs": [
    {
     "name": "stdout",
     "output_type": "stream",
     "text": [
      "Dictionary:  {'I': 1, 'III': 3, 'V': 5}\n"
     ]
    }
   ],
   "source": [
    "# update method\n",
    "\n",
    "romanNums = {'I':1,'III':3,'V':5}\n",
    "print(\"Dictionary: \",romanNums)"
   ]
  },
  {
   "cell_type": "code",
   "execution_count": 18,
   "id": "35696281-3fbe-40e7-a89f-1ee0b0c56094",
   "metadata": {},
   "outputs": [
    {
     "name": "stdout",
     "output_type": "stream",
     "text": [
      "Dictionary:  {'I': 1, 'III': 3, 'V': 5}\n",
      "Update Dictionary:  {'I': 1, 'III': 3, 'V': 5, 'II': 2, 'IV': 4}\n"
     ]
    }
   ],
   "source": [
    "romanNums = {'I':1,'III':3,'V':5}\n",
    "print(\"Dictionary: \",romanNums)\n",
    "\n",
    "evenRomanNums = {'II':2,'IV':4}\n",
    "romanNums.update(evenRomanNums)\n",
    "print(\"Update Dictionary: \",romanNums)"
   ]
  },
  {
   "cell_type": "code",
   "execution_count": 21,
   "id": "a0338606-1fbc-4d3e-a8f0-9a75a388cf42",
   "metadata": {},
   "outputs": [
    {
     "name": "stdout",
     "output_type": "stream",
     "text": [
      "Dictionary:  {'I': 1, 'III': 3, 'V': 5}\n",
      "Update Dictionary:  {'I': 1, 'III': 3, 'V': 5, 'II': 2, 'IV': 4}\n"
     ]
    }
   ],
   "source": [
    "romanNums = {'I':1,'III':3,'V':5}\n",
    "print(\"Dictionary: \",romanNums)\n",
    "\n",
    "romanNums.update((('II',2),('IV',4)))\n",
    "print(\"Update Dictionary: \",romanNums)"
   ]
  },
  {
   "cell_type": "code",
   "execution_count": 22,
   "id": "3ac08f43-2b1b-48b1-b041-c10d1784454d",
   "metadata": {},
   "outputs": [
    {
     "name": "stdout",
     "output_type": "stream",
     "text": [
      "dict_values([1, 2, 3, 4, 5])\n"
     ]
    }
   ],
   "source": [
    "# Python dictionary values\n",
    "\n",
    "romanNums = {'I':1,'II':2,'III':3,'IV':4,'V':5}\n",
    "values = romanNums.values()\n",
    "print(values)"
   ]
  },
  {
   "cell_type": "code",
   "execution_count": null,
   "id": "0e9ee01d-5753-4fdf-9fca-6c7f0971909e",
   "metadata": {},
   "outputs": [],
   "source": []
  }
 ],
 "metadata": {
  "kernelspec": {
   "display_name": "Python 3 (ipykernel)",
   "language": "python",
   "name": "python3"
  },
  "language_info": {
   "codemirror_mode": {
    "name": "ipython",
    "version": 3
   },
   "file_extension": ".py",
   "mimetype": "text/x-python",
   "name": "python",
   "nbconvert_exporter": "python",
   "pygments_lexer": "ipython3",
   "version": "3.11.7"
  }
 },
 "nbformat": 4,
 "nbformat_minor": 5
}
