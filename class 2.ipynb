{
 "cells": [
  {
   "cell_type": "code",
   "execution_count": 1,
   "id": "99f49784-5cc4-48dd-b9e4-e2422f669233",
   "metadata": {},
   "outputs": [
    {
     "name": "stdout",
     "output_type": "stream",
     "text": [
      "iqbal\n"
     ]
    },
    {
     "data": {
      "text/plain": [
       "<function print(*args, sep=' ', end='\\n', file=None, flush=False)>"
      ]
     },
     "execution_count": 1,
     "metadata": {},
     "output_type": "execute_result"
    }
   ],
   "source": [
    "print(\"iqbal\")\n",
    "print"
   ]
  },
  {
   "cell_type": "code",
   "execution_count": null,
   "id": "044aa490-099b-4725-b18e-a3fb3ac65096",
   "metadata": {},
   "outputs": [],
   "source": [
    "a=10\n",
    "print(a)"
   ]
  },
  {
   "cell_type": "code",
   "execution_count": 1,
   "id": "d77941e3-5504-4e74-b976-c7c8efb1eeff",
   "metadata": {},
   "outputs": [
    {
     "name": "stdout",
     "output_type": "stream",
     "text": [
      "the sum is 60\n"
     ]
    }
   ],
   "source": [
    "# sum of two numer\n",
    "a=10\n",
    "b=20\n",
    "c=30\n",
    "d=a+b+c\n",
    "print('the sum is',d)\n"
   ]
  },
  {
   "cell_type": "code",
   "execution_count": 2,
   "id": "42ccfbb7-5fca-4d0d-ad34-dce0afbfa5b8",
   "metadata": {},
   "outputs": [
    {
     "name": "stdout",
     "output_type": "stream",
     "text": [
      "before swapping\n",
      "A= 78\n",
      "B= 87\n",
      "after swapping\n",
      "A= 87\n",
      "B= 78\n"
     ]
    }
   ],
   "source": [
    "a=78\n",
    "b=87\n",
    "print(\"before swapping\")\n",
    "print(\"A=\" ,a)\n",
    "print(\"B=\" ,b)\n",
    "temp=a  # temp=78\n",
    "a=b   # a=87\n",
    "b=temp  # b=78\n",
    "print(\"after swapping\")\n",
    "print(\"A=\" ,a)\n",
    "print(\"B=\" ,b) \n"
   ]
  },
  {
   "cell_type": "code",
   "execution_count": 3,
   "id": "b792ee81-cd87-41da-9046-13644c04105c",
   "metadata": {},
   "outputs": [
    {
     "name": "stdout",
     "output_type": "stream",
     "text": [
      "before swapping\n",
      "A= 10\n",
      "B= 20\n",
      "after swapping\n",
      "A= 20\n",
      "B= 10\n"
     ]
    }
   ],
   "source": [
    "a=10\n",
    "b=20\n",
    "print(\"before swapping\")\n",
    "print(\"A=\" ,a)\n",
    "print(\"B=\" ,b)\n",
    "a=a+b   #a=10+20=30--a\n",
    "b=a-b   #b=30-20=10--b\n",
    "a=a-b   #a=30-10=20--c\n",
    "print(\"after swapping\")\n",
    "print(\"A=\" ,a)\n",
    "print(\"B=\" ,b)\n",
    "\n",
    "\n"
   ]
  },
  {
   "cell_type": "code",
   "execution_count": 4,
   "id": "b0f797cc-563e-46ab-a83c-b16e01a9596b",
   "metadata": {},
   "outputs": [],
   "source": [
    "\n",
    "a=63\n",
    "b=4"
   ]
  },
  {
   "cell_type": "code",
   "execution_count": 5,
   "id": "df93e563-bbd4-4282-8309-db737e2667cf",
   "metadata": {},
   "outputs": [
    {
     "data": {
      "text/plain": [
       "15.75"
      ]
     },
     "execution_count": 5,
     "metadata": {},
     "output_type": "execute_result"
    }
   ],
   "source": [
    "a/b"
   ]
  },
  {
   "cell_type": "code",
   "execution_count": 6,
   "id": "67d826db-571b-4b6a-a48e-0465e8072ef4",
   "metadata": {},
   "outputs": [
    {
     "data": {
      "text/plain": [
       "15"
      ]
     },
     "execution_count": 6,
     "metadata": {},
     "output_type": "execute_result"
    }
   ],
   "source": [
    "a//b"
   ]
  },
  {
   "cell_type": "code",
   "execution_count": 7,
   "id": "d50fb28f-9e1b-4c57-8c5b-b389126bd9be",
   "metadata": {},
   "outputs": [
    {
     "data": {
      "text/plain": [
       "15752961"
      ]
     },
     "execution_count": 7,
     "metadata": {},
     "output_type": "execute_result"
    }
   ],
   "source": [
    "a**b"
   ]
  },
  {
   "cell_type": "code",
   "execution_count": 8,
   "id": "c09c16a1-7f88-4e5f-8d91-1d665a3fcc01",
   "metadata": {},
   "outputs": [],
   "source": [
    "import math"
   ]
  },
  {
   "cell_type": "code",
   "execution_count": 9,
   "id": "9bc9dba5-833b-4a73-bfaa-b0d773e7bff9",
   "metadata": {},
   "outputs": [
    {
     "data": {
      "text/plain": [
       "15625.0"
      ]
     },
     "execution_count": 9,
     "metadata": {},
     "output_type": "execute_result"
    }
   ],
   "source": [
    "a=25\n",
    "b=3\n",
    "c=math.pow(a,b)\n",
    "c"
   ]
  },
  {
   "cell_type": "code",
   "execution_count": 10,
   "id": "1d3c28e9-0dc2-4ce8-bd4f-e814218d02e6",
   "metadata": {},
   "outputs": [
    {
     "data": {
      "text/plain": [
       "15625"
      ]
     },
     "execution_count": 10,
     "metadata": {},
     "output_type": "execute_result"
    }
   ],
   "source": [
    "import math\n",
    "a=25\n",
    "b=3\n",
    "c=pow(a,b)\n",
    "c"
   ]
  },
  {
   "cell_type": "code",
   "execution_count": 11,
   "id": "6710a6a5-57d3-4fea-a0ce-4f340afe6cdd",
   "metadata": {},
   "outputs": [
    {
     "data": {
      "text/plain": [
       "9.899494936611665"
      ]
     },
     "execution_count": 11,
     "metadata": {},
     "output_type": "execute_result"
    }
   ],
   "source": [
    "n=98\n",
    "x=math.sqrt(n)\n",
    "x"
   ]
  },
  {
   "cell_type": "code",
   "execution_count": 12,
   "id": "8984b10b-fb65-4e00-825d-866831f9182c",
   "metadata": {},
   "outputs": [
    {
     "name": "stdin",
     "output_type": "stream",
     "text": [
      "the value of a 1\n",
      "the value of b 2\n"
     ]
    },
    {
     "name": "stdout",
     "output_type": "stream",
     "text": [
      "the sum is 3\n"
     ]
    }
   ],
   "source": [
    "# sum of two number\n",
    "a=int(input(\"the value of a\"))\n",
    "b=int(input(\"the value of b\"))\n",
    "c=a+b\n",
    "print(\"the sum is\",c)"
   ]
  },
  {
   "cell_type": "code",
   "execution_count": 14,
   "id": "caabad75-6257-428b-b923-46487eb14848",
   "metadata": {},
   "outputs": [
    {
     "name": "stdin",
     "output_type": "stream",
     "text": [
      "enter the value of p 200\n",
      "enter the value of r 3.5\n",
      "enter the value of t 2\n"
     ]
    },
    {
     "data": {
      "text/plain": [
       "14.0"
      ]
     },
     "execution_count": 14,
     "metadata": {},
     "output_type": "execute_result"
    }
   ],
   "source": [
    "# simple interest\n",
    "p=int(input(\"enter the value of p\"))\n",
    "r=float(input(\"enter the value of r\"))\n",
    "t=int(input(\"enter the value of t\"))\n",
    "si=p*r*t/100\n",
    "si"
   ]
  },
  {
   "cell_type": "code",
   "execution_count": 15,
   "id": "96a268b4-d76b-44a8-b768-2d7052f1b845",
   "metadata": {},
   "outputs": [
    {
     "name": "stdin",
     "output_type": "stream",
     "text": [
      "enter the value of the base 34\n",
      "enter the value of exponent 3\n"
     ]
    },
    {
     "data": {
      "text/plain": [
       "39304.0"
      ]
     },
     "execution_count": 15,
     "metadata": {},
     "output_type": "execute_result"
    }
   ],
   "source": [
    "a=int(input(\"enter the value of the base\"))\n",
    "b=int(input(\"enter the value of exponent\"))\n",
    "x=math.pow(a,b)\n",
    "x"
   ]
  },
  {
   "cell_type": "code",
   "execution_count": 16,
   "id": "caee52dc-6bf6-4b98-81b4-88a8cee6d013",
   "metadata": {},
   "outputs": [
    {
     "name": "stdin",
     "output_type": "stream",
     "text": [
      "enter the value 12\n",
      "enter the value 23\n",
      "enter the value 34\n",
      "enter the value 45\n"
     ]
    },
    {
     "data": {
      "text/plain": [
       "28.5"
      ]
     },
     "execution_count": 16,
     "metadata": {},
     "output_type": "execute_result"
    }
   ],
   "source": [
    "a=int(input(\"enter the value\"))\n",
    "b=int(input(\"enter the value\"))\n",
    "c=int(input(\"enter the value\"))\n",
    "d=int(input(\"enter the value\"))\n",
    "sum=a+b+c+d\n",
    "per=sum*100/400\n",
    "per"
   ]
  },
  {
   "cell_type": "code",
   "execution_count": 17,
   "id": "5f040d1d-9a01-4c1a-b144-f60724f247db",
   "metadata": {},
   "outputs": [
    {
     "name": "stdin",
     "output_type": "stream",
     "text": [
      "enter the number 67\n"
     ]
    },
    {
     "data": {
      "text/plain": [
       "8.18535277187245"
      ]
     },
     "execution_count": 17,
     "metadata": {},
     "output_type": "execute_result"
    }
   ],
   "source": [
    "a=int(input(\"enter the number\"))\n",
    "x=math.sqrt(a)\n",
    "x"
   ]
  },
  {
   "cell_type": "code",
   "execution_count": null,
   "id": "62737894-de1d-4d12-93c1-c1a1a97402ee",
   "metadata": {},
   "outputs": [],
   "source": []
  }
 ],
 "metadata": {
  "kernelspec": {
   "display_name": "Python 3 (ipykernel)",
   "language": "python",
   "name": "python3"
  },
  "language_info": {
   "codemirror_mode": {
    "name": "ipython",
    "version": 3
   },
   "file_extension": ".py",
   "mimetype": "text/x-python",
   "name": "python",
   "nbconvert_exporter": "python",
   "pygments_lexer": "ipython3",
   "version": "3.11.7"
  }
 },
 "nbformat": 4,
 "nbformat_minor": 5
}
