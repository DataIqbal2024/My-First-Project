{
 "cells": [
  {
   "cell_type": "code",
   "execution_count": 8,
   "id": "858351db-4345-4698-b826-9251e7da12e8",
   "metadata": {},
   "outputs": [
    {
     "name": "stdin",
     "output_type": "stream",
     "text": [
      "enter the number from 1==7 6\n"
     ]
    },
    {
     "name": "stdout",
     "output_type": "stream",
     "text": [
      "friday\n"
     ]
    }
   ],
   "source": [
    "day=int(input(\"enter the number from 1==7\"))\n",
    "if day==1:\n",
    "    print(\"'sunday\")\n",
    "elif day==2:\n",
    "    print(\"monday\")\n",
    "elif day==3:\n",
    "    print(\"tuesday\")\n",
    "elif day==4:\n",
    "    print(\"wednesday\")\n",
    "elif day==5:\n",
    "    print(\"thrusday\")\n",
    "elif day==6:\n",
    "    print(\"friday\")\n",
    "elif day==7:\n",
    "    print(\"saturday\")\n",
    "else:\n",
    "    print(\"Invalid Choice\")  "
   ]
  },
  {
   "cell_type": "code",
   "execution_count": 25,
   "id": "53051114-9397-4d70-b205-d6a67dd5b84b",
   "metadata": {},
   "outputs": [
    {
     "name": "stdin",
     "output_type": "stream",
     "text": [
      "enter the number 4\n"
     ]
    },
    {
     "name": "stdout",
     "output_type": "stream",
     "text": [
      "posite number\n"
     ]
    }
   ],
   "source": [
    "n=int(input(\"enter the number\"))\n",
    "if n>0:\n",
    "    print(\"posite number\")\n",
    "elif n<0:\n",
    "    print(\"negative number\")\n",
    "else:\n",
    "    print(\"number is zero\")"
   ]
  },
  {
   "cell_type": "code",
   "execution_count": 25,
   "id": "d131e79c-e240-4628-9d4f-a32d4c016598",
   "metadata": {},
   "outputs": [
    {
     "name": "stdin",
     "output_type": "stream",
     "text": [
      "enter the number 4\n"
     ]
    },
    {
     "name": "stdout",
     "output_type": "stream",
     "text": [
      "posite number\n"
     ]
    }
   ],
   "source": [
    "n=int(input(\"enter the number\"))\n",
    "if n>0:\n",
    "    print(\"posite number\")\n",
    "elif n<0:\n",
    "    print(\"negative number\")\n",
    "else:\n",
    "    print(\"number is zero\")"
   ]
  },
  {
   "cell_type": "code",
   "execution_count": 14,
   "id": "aa805623-4bb7-45f1-9276-3a63c1daec32",
   "metadata": {
    "scrolled": true
   },
   "outputs": [
    {
     "name": "stdin",
     "output_type": "stream",
     "text": [
      "enter the marks out of 100 70\n",
      "enter the marks out of 100 67\n",
      "enter the marks out of 100 45\n",
      "enter the marks out of 100 67\n",
      "enter the marks out of 100 89\n"
     ]
    },
    {
     "name": "stdout",
     "output_type": "stream",
     "text": [
      "First\n"
     ]
    }
   ],
   "source": [
    "a=float(input(\"enter the marks out of 100\"))\n",
    "b=float(input(\"enter the marks out of 100\"))\n",
    "c=float(input(\"enter the marks out of 100\"))\n",
    "d=float(input(\"enter the marks out of 100\"))\n",
    "e=float(input(\"enter the marks out of 100\"))\n",
    "sum=a+b+c+d+e\n",
    "per=sum*100/500\n",
    "if per>=60:\n",
    "    print(\"First\")\n",
    "elif per>=65:\n",
    "    print(\"Second\")\n",
    "elif per>=55:\n",
    "    print(\"Thrid\")\n",
    "else:\n",
    "    print(\"Fail\")"
   ]
  },
  {
   "cell_type": "code",
   "execution_count": 16,
   "id": "c43e4727-ad9c-4c2e-86a5-2472c5551b68",
   "metadata": {},
   "outputs": [
    {
     "name": "stdin",
     "output_type": "stream",
     "text": [
      "enter an alphabet without space E\n"
     ]
    },
    {
     "name": "stdout",
     "output_type": "stream",
     "text": [
      "Vowel\n"
     ]
    }
   ],
   "source": [
    "# cheak the vowel or consonant\n",
    "ch=input(\"enter an alphabet without space\")\n",
    "if ch=='a' or ch=='e' or ch=='i' or ch=='o' or ch=='u':\n",
    "9    print(\"Vowel\")\n",
    "elif ch=='A' or ch=='E' or ch=='I' or ch=='O' or ch=='U':\n",
    "    print(\"Vowel\")\n",
    "else:\n",
    "     print(\"Consonant\")"
   ]
  },
  {
   "cell_type": "code",
   "execution_count": 24,
   "id": "2e2aa0ba-fb5c-4552-952d-05cae3a286ce",
   "metadata": {},
   "outputs": [
    {
     "name": "stdin",
     "output_type": "stream",
     "text": [
      "enter the number 234\n",
      "enter the number 334\n",
      "enter the number 23\n"
     ]
    },
    {
     "name": "stdout",
     "output_type": "stream",
     "text": [
      "X1= -0.0725498653042702\n",
      "X2= -1.3548005620461572\n"
     ]
    }
   ],
   "source": [
    "import math \n",
    "a=int(input(\"enter the number\"))\n",
    "b=int(input(\"enter the number\"))\n",
    "c=int(input(\"enter the number\"))\n",
    "d=b*b-4*a*c\n",
    "\n",
    "if d<0:\n",
    "    print(\"Roots can't be calculated\")\n",
    "else:\n",
    "    x1=(-b+math.sqrt(d))/(2*a)\n",
    "    x2=(-b-math.sqrt(d))/(2*a)\n",
    "    print(\"X1=\",x1)\n",
    "    print(\"X2=\",x2)"
   ]
  },
  {
   "cell_type": "code",
   "execution_count": 26,
   "id": "6da94393-d852-43af-851c-67d3258c40bb",
   "metadata": {},
   "outputs": [
    {
     "name": "stdin",
     "output_type": "stream",
     "text": [
      "enter the number 3\n",
      "enter the number 2\n",
      "enter the number 5\n"
     ]
    },
    {
     "name": "stdout",
     "output_type": "stream",
     "text": [
      "C is greatest\n"
     ]
    }
   ],
   "source": [
    "a=int(input(\"enter the number\"))\n",
    "b=int(input(\"enter the number\"))\n",
    "c=int(input(\"enter the number\"))\n",
    "if a>b and a>c:\n",
    "    print(\"A is greatest\")\n",
    "elif b>a and b>c:\n",
    "    print(\"B is greatest\")\n",
    "else:\n",
    "    print(\"C is greatest\")"
   ]
  },
  {
   "cell_type": "code",
   "execution_count": 31,
   "id": "4e879b60-5622-42a8-ba2f-a118ab8da64b",
   "metadata": {},
   "outputs": [
    {
     "name": "stdin",
     "output_type": "stream",
     "text": [
      "enter an alphabet like \n",
      " r for red \n",
      " y for yellow \n",
      " g for green \n",
      " R\n"
     ]
    },
    {
     "name": "stdout",
     "output_type": "stream",
     "text": [
      "Stop\n"
     ]
    }
   ],
   "source": [
    "# traffic light\n",
    "ch=input(\"enter an alphabet like \\n r for red \\n y for yellow \\n g for green \\n\")\n",
    "if ch=='r' or ch=='R':\n",
    "    print(\"Stop\")\n",
    "elif ch=='y' or ch=='Y':\n",
    "    print(\"Get Ready\")\n",
    "elif ch=='g' or ch=='G':\n",
    "    print(\"Move Forward\")\n",
    "else:\n",
    "    print(\"Pay Challan\")"
   ]
  },
  {
   "cell_type": "code",
   "execution_count": 33,
   "id": "6b4328fc-5906-4ed7-a02a-b4c3c775bf88",
   "metadata": {},
   "outputs": [
    {
     "name": "stdin",
     "output_type": "stream",
     "text": [
      "enter the number 34\n",
      "enter the number 34\n"
     ]
    },
    {
     "name": "stdout",
     "output_type": "stream",
     "text": [
      "1. Addition\n",
      "2. Subtraction\n",
      "3. Multipy\n",
      "4. Division\n"
     ]
    },
    {
     "name": "stdin",
     "output_type": "stream",
     "text": [
      "enter the choice from above 3\n"
     ]
    },
    {
     "name": "stdout",
     "output_type": "stream",
     "text": [
      "the sum is 1156\n"
     ]
    }
   ],
   "source": [
    "a=int(input(\"enter the number\"))\n",
    "b=int(input(\"enter the number\"))\n",
    "print(\"1. Addition\")\n",
    "print(\"2. Subtraction\")\n",
    "print(\"3. Multipy\")\n",
    "print(\"4. Division\")\n",
    "choice=int(input(\"enter the choice from above\"))\n",
    "if choice==1:\n",
    "    print(\"the sum is\",a+b)\n",
    "elif choice==2:\n",
    "    print(\"the sum is\",a-b)\n",
    "elif choice==3:\n",
    "    print(\"the sum is\",a*b)\n",
    "elif choice==4:\n",
    "    print(\"the sum is\",a/b)\n",
    "else:\n",
    "    print(\"Invalid Choice\")\n",
    "    "
   ]
  },
  {
   "cell_type": "code",
   "execution_count": null,
   "id": "6d80f8bb-cf55-41c8-b5cb-d0667c13a8f2",
   "metadata": {},
   "outputs": [],
   "source": []
  }
 ],
 "metadata": {
  "kernelspec": {
   "display_name": "Python 3 (ipykernel)",
   "language": "python",
   "name": "python3"
  },
  "language_info": {
   "codemirror_mode": {
    "name": "ipython",
    "version": 3
   },
   "file_extension": ".py",
   "mimetype": "text/x-python",
   "name": "python",
   "nbconvert_exporter": "python",
   "pygments_lexer": "ipython3",
   "version": "3.11.7"
  }
 },
 "nbformat": 4,
 "nbformat_minor": 5
}
