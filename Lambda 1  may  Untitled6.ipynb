{
 "cells": [
  {
   "cell_type": "code",
   "execution_count": 28,
   "id": "d07d81ef-381a-40a6-a041-c1ce8cdd8c6e",
   "metadata": {},
   "outputs": [
    {
     "data": {
      "text/plain": [
       "1010"
      ]
     },
     "execution_count": 28,
     "metadata": {},
     "output_type": "execute_result"
    }
   ],
   "source": [
    "x=lambda a: a + 10 # Lambda var: espression(annonymous)\n",
    "x(1000)"
   ]
  },
  {
   "cell_type": "code",
   "execution_count": 31,
   "id": "c90d7527-a061-40ad-aaae-82ffe398930a",
   "metadata": {},
   "outputs": [
    {
     "data": {
      "text/plain": [
       "2010"
      ]
     },
     "execution_count": 31,
     "metadata": {},
     "output_type": "execute_result"
    }
   ],
   "source": [
    "x=lambda a : a + 10 # Lambda var: espression(annonymous)\n",
    "x(1000)\n",
    "x(2000)"
   ]
  },
  {
   "cell_type": "code",
   "execution_count": 40,
   "id": "c2438765-2cf3-48c6-80b0-99dad1d87367",
   "metadata": {},
   "outputs": [
    {
     "data": {
      "text/plain": [
       "6"
      ]
     },
     "execution_count": 40,
     "metadata": {},
     "output_type": "execute_result"
    }
   ],
   "source": [
    "z=lambda a,b,c : a+b+c\n",
    "z(1,2,3)"
   ]
  },
  {
   "cell_type": "code",
   "execution_count": 41,
   "id": "6001da11-eb3c-4277-8fbf-3114112d6dc2",
   "metadata": {},
   "outputs": [
    {
     "data": {
      "text/plain": [
       "8"
      ]
     },
     "execution_count": 41,
     "metadata": {},
     "output_type": "execute_result"
    }
   ],
   "source": [
    "z=lambda a,b,c : a+b-c\n",
    "z(5,5,2)"
   ]
  },
  {
   "cell_type": "code",
   "execution_count": 42,
   "id": "b35f9e90-a6c6-41e3-a606-ae3f421e3ea3",
   "metadata": {},
   "outputs": [
    {
     "data": {
      "text/plain": [
       "12"
      ]
     },
     "execution_count": 42,
     "metadata": {},
     "output_type": "execute_result"
    }
   ],
   "source": [
    "a=lambda x:x+2\n",
    "a(10)"
   ]
  },
  {
   "cell_type": "code",
   "execution_count": 43,
   "id": "a002a175-edcf-4497-8553-d812b17af5e4",
   "metadata": {},
   "outputs": [
    {
     "data": {
      "text/plain": [
       "102"
      ]
     },
     "execution_count": 43,
     "metadata": {},
     "output_type": "execute_result"
    }
   ],
   "source": [
    "Hassan=lambda x:x+2\n",
    "Hassan(100)"
   ]
  },
  {
   "cell_type": "markdown",
   "id": "10f5d5cc-bdbc-4c72-904f-17b51451ff37",
   "metadata": {},
   "source": [
    "# Pemdas Parenthysis , Exponent , Multiplication , Division , Addition , Substraction \n"
   ]
  },
  {
   "cell_type": "code",
   "execution_count": 44,
   "id": "1fd18c1c-e1ce-4dde-86a6-b173cbcd839d",
   "metadata": {},
   "outputs": [
    {
     "data": {
      "text/plain": [
       "1530721"
      ]
     },
     "execution_count": 44,
     "metadata": {},
     "output_type": "execute_result"
    }
   ],
   "source": [
    "ismail= lambda a,b,c : a+b*c  #a+(b+c*d)+f/(a*b)\n",
    "ismail(5677,4566,334)"
   ]
  },
  {
   "cell_type": "markdown",
   "id": "16401cc1-29c7-409f-9c36-d3025cbc3567",
   "metadata": {},
   "source": [
    "# If & Else condition with Lambda"
   ]
  },
  {
   "cell_type": "code",
   "execution_count": 49,
   "id": "92cb7fce-bef9-45ca-a924-4a16042dc741",
   "metadata": {},
   "outputs": [
    {
     "data": {
      "text/plain": [
       "32"
      ]
     },
     "execution_count": 49,
     "metadata": {},
     "output_type": "execute_result"
    }
   ],
   "source": [
    "a=lambda x: x*2 if x%2==0 else x # true if false\n",
    "a(16)"
   ]
  },
  {
   "cell_type": "markdown",
   "id": "f5d8182b-22c9-4659-8ecc-325a2fae7741",
   "metadata": {},
   "source": [
    "# Map Function syntax:  map(fun, iter) Parameters:- fun: it is a function to which map passes each element of given iterable. iter: it is a iterable which is to be mapped."
   ]
  },
  {
   "cell_type": "code",
   "execution_count": 50,
   "id": "07385878-7913-4aa8-a283-e8342756869f",
   "metadata": {},
   "outputs": [],
   "source": [
    "number=[1,2,3,4]\n"
   ]
  },
  {
   "cell_type": "code",
   "execution_count": 51,
   "id": "9b2c0d05-d59d-4bf9-9e17-11897d92842e",
   "metadata": {},
   "outputs": [
    {
     "data": {
      "text/plain": [
       "[2, 4, 6, 8]"
      ]
     },
     "execution_count": 51,
     "metadata": {},
     "output_type": "execute_result"
    }
   ],
   "source": [
    "list(map(lambda x : x+x, number))"
   ]
  },
  {
   "cell_type": "code",
   "execution_count": 56,
   "id": "ae5bc1e1-17b2-4eb8-85bb-d862d8735d5f",
   "metadata": {},
   "outputs": [],
   "source": [
    "def addition(n):\n",
    "    return(n*10)"
   ]
  },
  {
   "cell_type": "code",
   "execution_count": 57,
   "id": "3e39403d-66c9-4410-a12e-4faae5d7497f",
   "metadata": {},
   "outputs": [
    {
     "data": {
      "text/plain": [
       "[120, 230, 340, 450]"
      ]
     },
     "execution_count": 57,
     "metadata": {},
     "output_type": "execute_result"
    }
   ],
   "source": [
    "number=[12,23,34,45]\n",
    "result= map(addition, number)    # addition is a functio name\n",
    "list(result)"
   ]
  },
  {
   "cell_type": "code",
   "execution_count": 1,
   "id": "5bef6111-a59f-4c6c-8753-45397e974f7f",
   "metadata": {},
   "outputs": [
    {
     "data": {
      "text/plain": [
       "[6, 10, 13]"
      ]
     },
     "execution_count": 1,
     "metadata": {},
     "output_type": "execute_result"
    }
   ],
   "source": [
    "# Most Important\n",
    "\n",
    "numbers1 = [1,2,3]\n",
    "numbers2 = [4,5,6]\n",
    "numbers3 = [1,3,4]\n",
    "\n",
    "result= map(lambda x,y,z : x+y+z, numbers1, numbers2, numbers3)\n",
    "list(result)"
   ]
  },
  {
   "cell_type": "code",
   "execution_count": 3,
   "id": "576651c3-9c7c-4f8a-8fc9-be9e037e618a",
   "metadata": {},
   "outputs": [
    {
     "data": {
      "text/plain": [
       "['ALFRED', 'TABITHA', 'WILLIAM', 'ARLA']"
      ]
     },
     "execution_count": 3,
     "metadata": {},
     "output_type": "execute_result"
    }
   ],
   "source": [
    " my_pets = ['alfred' , 'tabitha' , 'william' , 'arla']\n",
    "res= list(map(lambda x: x.upper(),my_pets))\n",
    "res"
   ]
  },
  {
   "cell_type": "code",
   "execution_count": 66,
   "id": "f7f07584-8a34-46a5-acb8-8f30fff3a8a7",
   "metadata": {},
   "outputs": [
    {
     "data": {
      "text/plain": [
       "[(1, 'axx'), (2, 'byy'), (3, 'czz'), (4, 'dww'), (5, 'edd')]"
      ]
     },
     "execution_count": 66,
     "metadata": {},
     "output_type": "execute_result"
    }
   ],
   "source": [
    "my_strings = ['a','b','c','d','e']\n",
    "my_numbers = [1,2,3,4,5]\n",
    "my_name = ['xx' , 'yy' , 'zz' , 'ww' , 'dd']\n",
    "\n",
    "results = list(map(lambda x, y,z : (y, x+z), my_strings, my_numbers, my_name))\n",
    "list(results)"
   ]
  },
  {
   "cell_type": "code",
   "execution_count": 67,
   "id": "fd9c9195-85d3-4027-8206-2204d7f986cb",
   "metadata": {},
   "outputs": [
    {
     "data": {
      "text/plain": [
       "[(1, 'arif'), (2, 'boy'), (3, 'cat'), (4, 'dog'), (5, 'egg')]"
      ]
     },
     "execution_count": 67,
     "metadata": {},
     "output_type": "execute_result"
    }
   ],
   "source": [
    "my_strings = ['a','b','c','d','e']\n",
    "my_numbers = [1,2,3,4,5]\n",
    "my_name = ['rif' , 'oy' , 'at' , 'og' , 'gg']\n",
    "\n",
    "results = list(map(lambda x, y,z : (y, x+z), my_strings, my_numbers, my_name))\n",
    "list(results)"
   ]
  },
  {
   "cell_type": "markdown",
   "id": "e537cfb5-396d-41f2-8540-01902bce283f",
   "metadata": {},
   "source": [
    "# Filter  syntax filter(function,iterable)  . filter()method returns an iterator that passed the function cheak for each element in the iterable."
   ]
  },
  {
   "cell_type": "code",
   "execution_count": 21,
   "id": "7af329b6-c8c0-433d-97bd-3b33a20e8355",
   "metadata": {},
   "outputs": [
    {
     "name": "stdout",
     "output_type": "stream",
     "text": [
      "[12, 14, 16, 18, 20]\n"
     ]
    }
   ],
   "source": [
    "my_list=[12,13,14,15,16,17,18,19,20]\n",
    "\n",
    "new_list = list(filter(lambda x: (x%2==0), my_list))\n",
    "print(new_list)"
   ]
  },
  {
   "cell_type": "code",
   "execution_count": 70,
   "id": "f7bcc3d8-a5c5-44b8-bffe-27f2a4e15c20",
   "metadata": {},
   "outputs": [
    {
     "name": "stdout",
     "output_type": "stream",
     "text": [
      "[3, 5, 5, 33, 5, 7, 89, 9, 467]\n"
     ]
    }
   ],
   "source": [
    "li = [12,3,4,5,5,33,4,5,6,7,89,9,98,467]\n",
    "final_list = list(filter(lambda x: (x%2 != 0), li))\n",
    "print(final_list)"
   ]
  },
  {
   "cell_type": "code",
   "execution_count": 4,
   "id": "0af18c23-15f7-40c3-aeda-c723cf6e576b",
   "metadata": {},
   "outputs": [
    {
     "data": {
      "text/plain": [
       "['madam', 'anutforajaroftuna']"
      ]
     },
     "execution_count": 4,
     "metadata": {},
     "output_type": "execute_result"
    }
   ],
   "source": [
    "# filter with lambda\n",
    "dromes = (\"demigod\", \"rewire\", \"madam\", \"freer\", \"anutforajaroftuna\", \"kiosk\")\n",
    "palindromes = list(filter(lambda a: a == a[::-1], dromes))\n",
    "palindromes"
   ]
  },
  {
   "cell_type": "code",
   "execution_count": 73,
   "id": "85b91f2c-9605-4b15-aa70-bdfbc6109cf4",
   "metadata": {},
   "outputs": [
    {
     "data": {
      "text/plain": [
       "'labqI'"
      ]
     },
     "execution_count": 73,
     "metadata": {},
     "output_type": "execute_result"
    }
   ],
   "source": [
    "a= \"Iqbal\"\n",
    "a[::-1]"
   ]
  },
  {
   "cell_type": "code",
   "execution_count": 6,
   "id": "4077afe5-bebd-4ea2-a498-758c5c738035",
   "metadata": {},
   "outputs": [
    {
     "data": {
      "text/plain": [
       "[1, 'a', True, '0']"
      ]
     },
     "execution_count": 6,
     "metadata": {},
     "output_type": "execute_result"
    }
   ],
   "source": [
    "randomList = [1, 'a', 0, False, True, '0']\n",
    "filteredList = filter(None, randomList)\n",
    "list(filteredList)"
   ]
  },
  {
   "cell_type": "code",
   "execution_count": 10,
   "id": "ddc33d93-16ab-4960-8f5a-b06dd8edf7b6",
   "metadata": {},
   "outputs": [
    {
     "data": {
      "text/plain": [
       "[80, 90, 87, 78, 76]"
      ]
     },
     "execution_count": 10,
     "metadata": {},
     "output_type": "execute_result"
    }
   ],
   "source": [
    "\n",
    "\n",
    "scores= [60,70,80,90,87,65,78,34,76,75]\n",
    "\n",
    "def is_student(score):\n",
    "    return score > 75\n",
    "\n",
    "over_75 = list(filter(is_student,scores))\n",
    "over_75"
   ]
  },
  {
   "cell_type": "code",
   "execution_count": null,
   "id": "af3c38df-deb9-4e9c-a367-c76692440ee1",
   "metadata": {},
   "outputs": [],
   "source": []
  },
  {
   "cell_type": "code",
   "execution_count": 80,
   "id": "3418ada9-15f9-421e-8de6-0f6094690b3e",
   "metadata": {},
   "outputs": [
    {
     "data": {
      "text/plain": [
       "[(0, 'P'), (1, 'Y'), (2, 'T'), (3, 'H'), (4, 'O'), (5, 'N')]"
      ]
     },
     "execution_count": 80,
     "metadata": {},
     "output_type": "execute_result"
    }
   ],
   "source": [
    "s1=\"PYTHON\"\n",
    "list(enumerate(s1))"
   ]
  },
  {
   "cell_type": "code",
   "execution_count": 12,
   "id": "8624f8d1-d865-4d81-883b-112d214d700b",
   "metadata": {},
   "outputs": [
    {
     "data": {
      "text/plain": [
       "[(5, 'DL'), (6, 'ML'), (7, 'NLP')]"
      ]
     },
     "execution_count": 12,
     "metadata": {},
     "output_type": "execute_result"
    }
   ],
   "source": [
    "l1=[\"DL\", \"ML\", \"NLP\"]\n",
    "list(enumerate(l1,5))"
   ]
  },
  {
   "cell_type": "code",
   "execution_count": 91,
   "id": "ceef7fa2-a840-4bcc-990e-0a380aa17464",
   "metadata": {},
   "outputs": [
    {
     "name": "stdout",
     "output_type": "stream",
     "text": [
      "DL 0\n",
      "ML 1\n"
     ]
    }
   ],
   "source": [
    "l1=[\"DL\", \"ML\", \"NLP\"]\n",
    "list(enumerate(l1))\n",
    "for i,j in enumerate(l1):\n",
    "    if i<2:\n",
    "        print(j,i)"
   ]
  },
  {
   "cell_type": "code",
   "execution_count": null,
   "id": "c16967d3-5eb6-4201-9caa-2775efe64be3",
   "metadata": {},
   "outputs": [],
   "source": []
  }
 ],
 "metadata": {
  "kernelspec": {
   "display_name": "Python 3 (ipykernel)",
   "language": "python",
   "name": "python3"
  },
  "language_info": {
   "codemirror_mode": {
    "name": "ipython",
    "version": 3
   },
   "file_extension": ".py",
   "mimetype": "text/x-python",
   "name": "python",
   "nbconvert_exporter": "python",
   "pygments_lexer": "ipython3",
   "version": "3.11.7"
  }
 },
 "nbformat": 4,
 "nbformat_minor": 5
}
