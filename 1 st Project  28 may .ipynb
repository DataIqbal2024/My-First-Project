{
 "cells": [
  {
   "cell_type": "code",
   "execution_count": 39,
   "id": "1ed6bd46-11aa-4041-a624-d74d3f486a37",
   "metadata": {},
   "outputs": [],
   "source": [
    "import matplotlib.pyplot as plt\n",
    "import pandas as pd \n",
    "import seaborn as sns\n",
    "import numpy as np\n",
    "import plotly.express as px"
   ]
  },
  {
   "cell_type": "code",
   "execution_count": 40,
   "id": "7bb7231c-da47-42af-ab80-419362a133e0",
   "metadata": {},
   "outputs": [
    {
     "data": {
      "text/html": [
       "<div>\n",
       "<style scoped>\n",
       "    .dataframe tbody tr th:only-of-type {\n",
       "        vertical-align: middle;\n",
       "    }\n",
       "\n",
       "    .dataframe tbody tr th {\n",
       "        vertical-align: top;\n",
       "    }\n",
       "\n",
       "    .dataframe thead th {\n",
       "        text-align: right;\n",
       "    }\n",
       "</style>\n",
       "<table border=\"1\" class=\"dataframe\">\n",
       "  <thead>\n",
       "    <tr style=\"text-align: right;\">\n",
       "      <th></th>\n",
       "      <th>Season Number</th>\n",
       "      <th>Startup Name</th>\n",
       "      <th>Season Start</th>\n",
       "      <th>Season End</th>\n",
       "      <th>Episode Number</th>\n",
       "      <th>Episode Title</th>\n",
       "      <th>Anchor</th>\n",
       "      <th>Pitch Number</th>\n",
       "      <th>Industry</th>\n",
       "      <th>Business Description</th>\n",
       "      <th>...</th>\n",
       "      <th>Guest Name</th>\n",
       "      <th>Ashneer Present</th>\n",
       "      <th>Namita Present</th>\n",
       "      <th>Anupam Present</th>\n",
       "      <th>Vineeta Present</th>\n",
       "      <th>Aman Present</th>\n",
       "      <th>Peyush Present</th>\n",
       "      <th>Ghazal Present</th>\n",
       "      <th>Amit Present</th>\n",
       "      <th>Guest Present</th>\n",
       "    </tr>\n",
       "  </thead>\n",
       "  <tbody>\n",
       "    <tr>\n",
       "      <th>0</th>\n",
       "      <td>1</td>\n",
       "      <td>BluePineFoods</td>\n",
       "      <td>20-Dec-21</td>\n",
       "      <td>04-Feb-22</td>\n",
       "      <td>1</td>\n",
       "      <td>Badlegi Business Ki Tasveer</td>\n",
       "      <td>Rannvijay Singh</td>\n",
       "      <td>1</td>\n",
       "      <td>Food</td>\n",
       "      <td>Frozen Momos</td>\n",
       "      <td>...</td>\n",
       "      <td>NaN</td>\n",
       "      <td>1.0</td>\n",
       "      <td>1.0</td>\n",
       "      <td>1.0</td>\n",
       "      <td>1.0</td>\n",
       "      <td>1.0</td>\n",
       "      <td>NaN</td>\n",
       "      <td>NaN</td>\n",
       "      <td>NaN</td>\n",
       "      <td>NaN</td>\n",
       "    </tr>\n",
       "    <tr>\n",
       "      <th>1</th>\n",
       "      <td>1</td>\n",
       "      <td>BoozScooters</td>\n",
       "      <td>20-Dec-21</td>\n",
       "      <td>04-Feb-22</td>\n",
       "      <td>1</td>\n",
       "      <td>Badlegi Business Ki Tasveer</td>\n",
       "      <td>Rannvijay Singh</td>\n",
       "      <td>2</td>\n",
       "      <td>Vehicles/Electrical Vehicles</td>\n",
       "      <td>Renting e-bike for mobility in private spaces</td>\n",
       "      <td>...</td>\n",
       "      <td>NaN</td>\n",
       "      <td>1.0</td>\n",
       "      <td>1.0</td>\n",
       "      <td>1.0</td>\n",
       "      <td>1.0</td>\n",
       "      <td>1.0</td>\n",
       "      <td>NaN</td>\n",
       "      <td>NaN</td>\n",
       "      <td>NaN</td>\n",
       "      <td>NaN</td>\n",
       "    </tr>\n",
       "    <tr>\n",
       "      <th>2</th>\n",
       "      <td>1</td>\n",
       "      <td>HeartUpMySleeves</td>\n",
       "      <td>20-Dec-21</td>\n",
       "      <td>04-Feb-22</td>\n",
       "      <td>1</td>\n",
       "      <td>Badlegi Business Ki Tasveer</td>\n",
       "      <td>Rannvijay Singh</td>\n",
       "      <td>3</td>\n",
       "      <td>Beauty/Fashion</td>\n",
       "      <td>Detachable Sleeves</td>\n",
       "      <td>...</td>\n",
       "      <td>NaN</td>\n",
       "      <td>1.0</td>\n",
       "      <td>1.0</td>\n",
       "      <td>1.0</td>\n",
       "      <td>1.0</td>\n",
       "      <td>1.0</td>\n",
       "      <td>NaN</td>\n",
       "      <td>NaN</td>\n",
       "      <td>NaN</td>\n",
       "      <td>NaN</td>\n",
       "    </tr>\n",
       "    <tr>\n",
       "      <th>3</th>\n",
       "      <td>1</td>\n",
       "      <td>TagzFoods</td>\n",
       "      <td>20-Dec-21</td>\n",
       "      <td>04-Feb-22</td>\n",
       "      <td>2</td>\n",
       "      <td>Insaan, Ideas Aur Sapne</td>\n",
       "      <td>Rannvijay Singh</td>\n",
       "      <td>4</td>\n",
       "      <td>Food</td>\n",
       "      <td>Healthy Potato Chips Snacks</td>\n",
       "      <td>...</td>\n",
       "      <td>NaN</td>\n",
       "      <td>1.0</td>\n",
       "      <td>1.0</td>\n",
       "      <td>1.0</td>\n",
       "      <td>1.0</td>\n",
       "      <td>1.0</td>\n",
       "      <td>NaN</td>\n",
       "      <td>NaN</td>\n",
       "      <td>NaN</td>\n",
       "      <td>NaN</td>\n",
       "    </tr>\n",
       "    <tr>\n",
       "      <th>4</th>\n",
       "      <td>1</td>\n",
       "      <td>HeadAndHeart</td>\n",
       "      <td>20-Dec-21</td>\n",
       "      <td>04-Feb-22</td>\n",
       "      <td>2</td>\n",
       "      <td>Insaan, Ideas Aur Sapne</td>\n",
       "      <td>Rannvijay Singh</td>\n",
       "      <td>5</td>\n",
       "      <td>Education</td>\n",
       "      <td>Brain Development Course</td>\n",
       "      <td>...</td>\n",
       "      <td>NaN</td>\n",
       "      <td>1.0</td>\n",
       "      <td>1.0</td>\n",
       "      <td>1.0</td>\n",
       "      <td>1.0</td>\n",
       "      <td>1.0</td>\n",
       "      <td>NaN</td>\n",
       "      <td>NaN</td>\n",
       "      <td>NaN</td>\n",
       "      <td>NaN</td>\n",
       "    </tr>\n",
       "    <tr>\n",
       "      <th>...</th>\n",
       "      <td>...</td>\n",
       "      <td>...</td>\n",
       "      <td>...</td>\n",
       "      <td>...</td>\n",
       "      <td>...</td>\n",
       "      <td>...</td>\n",
       "      <td>...</td>\n",
       "      <td>...</td>\n",
       "      <td>...</td>\n",
       "      <td>...</td>\n",
       "      <td>...</td>\n",
       "      <td>...</td>\n",
       "      <td>...</td>\n",
       "      <td>...</td>\n",
       "      <td>...</td>\n",
       "      <td>...</td>\n",
       "      <td>...</td>\n",
       "      <td>...</td>\n",
       "      <td>...</td>\n",
       "      <td>...</td>\n",
       "      <td>...</td>\n",
       "    </tr>\n",
       "    <tr>\n",
       "      <th>316</th>\n",
       "      <td>2</td>\n",
       "      <td>GODESi</td>\n",
       "      <td>02-Jan-23</td>\n",
       "      <td>10-Mar-23</td>\n",
       "      <td>51</td>\n",
       "      <td>Gateway To Shark Tank India</td>\n",
       "      <td>Rahul Dua</td>\n",
       "      <td>317</td>\n",
       "      <td>Food</td>\n",
       "      <td>Handmade lollipops</td>\n",
       "      <td>...</td>\n",
       "      <td>NaN</td>\n",
       "      <td>NaN</td>\n",
       "      <td>1.0</td>\n",
       "      <td>NaN</td>\n",
       "      <td>1.0</td>\n",
       "      <td>1.0</td>\n",
       "      <td>NaN</td>\n",
       "      <td>NaN</td>\n",
       "      <td>1.0</td>\n",
       "      <td>1.0</td>\n",
       "    </tr>\n",
       "    <tr>\n",
       "      <th>317</th>\n",
       "      <td>2</td>\n",
       "      <td>TAC</td>\n",
       "      <td>02-Jan-23</td>\n",
       "      <td>10-Mar-23</td>\n",
       "      <td>51</td>\n",
       "      <td>Gateway To Shark Tank India</td>\n",
       "      <td>Rahul Dua</td>\n",
       "      <td>318</td>\n",
       "      <td>Beauty/Fashion</td>\n",
       "      <td>ayurveda co for glowing skin, makeup &amp; open pores</td>\n",
       "      <td>...</td>\n",
       "      <td>Vikas</td>\n",
       "      <td>NaN</td>\n",
       "      <td>1.0</td>\n",
       "      <td>NaN</td>\n",
       "      <td>1.0</td>\n",
       "      <td>1.0</td>\n",
       "      <td>NaN</td>\n",
       "      <td>NaN</td>\n",
       "      <td>1.0</td>\n",
       "      <td>1.0</td>\n",
       "    </tr>\n",
       "    <tr>\n",
       "      <th>318</th>\n",
       "      <td>2</td>\n",
       "      <td>Naara-Aaba</td>\n",
       "      <td>02-Jan-23</td>\n",
       "      <td>10-Mar-23</td>\n",
       "      <td>51</td>\n",
       "      <td>Gateway To Shark Tank India</td>\n",
       "      <td>Rahul Dua</td>\n",
       "      <td>319</td>\n",
       "      <td>Liquor/Beverages</td>\n",
       "      <td>pears and plum wine</td>\n",
       "      <td>...</td>\n",
       "      <td>Vikas</td>\n",
       "      <td>NaN</td>\n",
       "      <td>1.0</td>\n",
       "      <td>NaN</td>\n",
       "      <td>1.0</td>\n",
       "      <td>1.0</td>\n",
       "      <td>NaN</td>\n",
       "      <td>NaN</td>\n",
       "      <td>1.0</td>\n",
       "      <td>1.0</td>\n",
       "    </tr>\n",
       "    <tr>\n",
       "      <th>319</th>\n",
       "      <td>2</td>\n",
       "      <td>StyloBug</td>\n",
       "      <td>02-Jan-23</td>\n",
       "      <td>10-Mar-23</td>\n",
       "      <td>51</td>\n",
       "      <td>Gateway To Shark Tank India</td>\n",
       "      <td>Rahul Dua</td>\n",
       "      <td>320</td>\n",
       "      <td>Beauty/Fashion</td>\n",
       "      <td>Girls Dresses Online</td>\n",
       "      <td>...</td>\n",
       "      <td>NaN</td>\n",
       "      <td>NaN</td>\n",
       "      <td>1.0</td>\n",
       "      <td>NaN</td>\n",
       "      <td>1.0</td>\n",
       "      <td>1.0</td>\n",
       "      <td>NaN</td>\n",
       "      <td>NaN</td>\n",
       "      <td>1.0</td>\n",
       "      <td>1.0</td>\n",
       "    </tr>\n",
       "    <tr>\n",
       "      <th>320</th>\n",
       "      <td>2</td>\n",
       "      <td>ZenOnco</td>\n",
       "      <td>02-Jan-23</td>\n",
       "      <td>10-Mar-23</td>\n",
       "      <td>0</td>\n",
       "      <td>Unseen</td>\n",
       "      <td>Rahul Dua</td>\n",
       "      <td>321</td>\n",
       "      <td>Medical/Health</td>\n",
       "      <td>saving lives from cancer</td>\n",
       "      <td>...</td>\n",
       "      <td>NaN</td>\n",
       "      <td>NaN</td>\n",
       "      <td>1.0</td>\n",
       "      <td>NaN</td>\n",
       "      <td>1.0</td>\n",
       "      <td>1.0</td>\n",
       "      <td>NaN</td>\n",
       "      <td>NaN</td>\n",
       "      <td>1.0</td>\n",
       "      <td>1.0</td>\n",
       "    </tr>\n",
       "  </tbody>\n",
       "</table>\n",
       "<p>321 rows × 74 columns</p>\n",
       "</div>"
      ],
      "text/plain": [
       "     Season Number      Startup Name Season Start Season End  Episode Number  \\\n",
       "0                1     BluePineFoods    20-Dec-21  04-Feb-22               1   \n",
       "1                1      BoozScooters    20-Dec-21  04-Feb-22               1   \n",
       "2                1  HeartUpMySleeves    20-Dec-21  04-Feb-22               1   \n",
       "3                1         TagzFoods    20-Dec-21  04-Feb-22               2   \n",
       "4                1      HeadAndHeart    20-Dec-21  04-Feb-22               2   \n",
       "..             ...               ...          ...        ...             ...   \n",
       "316              2            GODESi    02-Jan-23  10-Mar-23              51   \n",
       "317              2               TAC    02-Jan-23  10-Mar-23              51   \n",
       "318              2        Naara-Aaba    02-Jan-23  10-Mar-23              51   \n",
       "319              2          StyloBug    02-Jan-23  10-Mar-23              51   \n",
       "320              2           ZenOnco    02-Jan-23  10-Mar-23               0   \n",
       "\n",
       "                   Episode Title           Anchor  Pitch Number  \\\n",
       "0    Badlegi Business Ki Tasveer  Rannvijay Singh             1   \n",
       "1    Badlegi Business Ki Tasveer  Rannvijay Singh             2   \n",
       "2    Badlegi Business Ki Tasveer  Rannvijay Singh             3   \n",
       "3        Insaan, Ideas Aur Sapne  Rannvijay Singh             4   \n",
       "4        Insaan, Ideas Aur Sapne  Rannvijay Singh             5   \n",
       "..                           ...              ...           ...   \n",
       "316  Gateway To Shark Tank India        Rahul Dua           317   \n",
       "317  Gateway To Shark Tank India        Rahul Dua           318   \n",
       "318  Gateway To Shark Tank India        Rahul Dua           319   \n",
       "319  Gateway To Shark Tank India        Rahul Dua           320   \n",
       "320                       Unseen        Rahul Dua           321   \n",
       "\n",
       "                         Industry  \\\n",
       "0                            Food   \n",
       "1    Vehicles/Electrical Vehicles   \n",
       "2                  Beauty/Fashion   \n",
       "3                            Food   \n",
       "4                       Education   \n",
       "..                            ...   \n",
       "316                          Food   \n",
       "317                Beauty/Fashion   \n",
       "318              Liquor/Beverages   \n",
       "319                Beauty/Fashion   \n",
       "320                Medical/Health   \n",
       "\n",
       "                                  Business Description  ... Guest Name  \\\n",
       "0                                         Frozen Momos  ...        NaN   \n",
       "1        Renting e-bike for mobility in private spaces  ...        NaN   \n",
       "2                                   Detachable Sleeves  ...        NaN   \n",
       "3                          Healthy Potato Chips Snacks  ...        NaN   \n",
       "4                             Brain Development Course  ...        NaN   \n",
       "..                                                 ...  ...        ...   \n",
       "316                                 Handmade lollipops  ...        NaN   \n",
       "317  ayurveda co for glowing skin, makeup & open pores  ...      Vikas   \n",
       "318                                pears and plum wine  ...      Vikas   \n",
       "319                               Girls Dresses Online  ...        NaN   \n",
       "320                           saving lives from cancer  ...        NaN   \n",
       "\n",
       "     Ashneer Present  Namita Present  Anupam Present  Vineeta Present  \\\n",
       "0                1.0             1.0             1.0              1.0   \n",
       "1                1.0             1.0             1.0              1.0   \n",
       "2                1.0             1.0             1.0              1.0   \n",
       "3                1.0             1.0             1.0              1.0   \n",
       "4                1.0             1.0             1.0              1.0   \n",
       "..               ...             ...             ...              ...   \n",
       "316              NaN             1.0             NaN              1.0   \n",
       "317              NaN             1.0             NaN              1.0   \n",
       "318              NaN             1.0             NaN              1.0   \n",
       "319              NaN             1.0             NaN              1.0   \n",
       "320              NaN             1.0             NaN              1.0   \n",
       "\n",
       "     Aman Present Peyush Present  Ghazal Present Amit Present Guest Present  \n",
       "0             1.0            NaN             NaN          NaN           NaN  \n",
       "1             1.0            NaN             NaN          NaN           NaN  \n",
       "2             1.0            NaN             NaN          NaN           NaN  \n",
       "3             1.0            NaN             NaN          NaN           NaN  \n",
       "4             1.0            NaN             NaN          NaN           NaN  \n",
       "..            ...            ...             ...          ...           ...  \n",
       "316           1.0            NaN             NaN          1.0           1.0  \n",
       "317           1.0            NaN             NaN          1.0           1.0  \n",
       "318           1.0            NaN             NaN          1.0           1.0  \n",
       "319           1.0            NaN             NaN          1.0           1.0  \n",
       "320           1.0            NaN             NaN          1.0           1.0  \n",
       "\n",
       "[321 rows x 74 columns]"
      ]
     },
     "execution_count": 40,
     "metadata": {},
     "output_type": "execute_result"
    }
   ],
   "source": [
    "shark_tank = pd.read_csv(\"Shark Tank India.csv\")\n",
    "shark_tank"
   ]
  },
  {
   "cell_type": "code",
   "execution_count": 41,
   "id": "20df25fe-37aa-4045-84ed-8520dcbd573e",
   "metadata": {},
   "outputs": [
    {
     "data": {
      "text/html": [
       "<div>\n",
       "<style scoped>\n",
       "    .dataframe tbody tr th:only-of-type {\n",
       "        vertical-align: middle;\n",
       "    }\n",
       "\n",
       "    .dataframe tbody tr th {\n",
       "        vertical-align: top;\n",
       "    }\n",
       "\n",
       "    .dataframe thead th {\n",
       "        text-align: right;\n",
       "    }\n",
       "</style>\n",
       "<table border=\"1\" class=\"dataframe\">\n",
       "  <thead>\n",
       "    <tr style=\"text-align: right;\">\n",
       "      <th></th>\n",
       "      <th>Season Number</th>\n",
       "      <th>Startup Name</th>\n",
       "      <th>Season Start</th>\n",
       "      <th>Season End</th>\n",
       "      <th>Episode Number</th>\n",
       "      <th>Episode Title</th>\n",
       "      <th>Anchor</th>\n",
       "      <th>Pitch Number</th>\n",
       "      <th>Industry</th>\n",
       "      <th>Business Description</th>\n",
       "      <th>...</th>\n",
       "      <th>Guest Name</th>\n",
       "      <th>Ashneer Present</th>\n",
       "      <th>Namita Present</th>\n",
       "      <th>Anupam Present</th>\n",
       "      <th>Vineeta Present</th>\n",
       "      <th>Aman Present</th>\n",
       "      <th>Peyush Present</th>\n",
       "      <th>Ghazal Present</th>\n",
       "      <th>Amit Present</th>\n",
       "      <th>Guest Present</th>\n",
       "    </tr>\n",
       "  </thead>\n",
       "  <tbody>\n",
       "    <tr>\n",
       "      <th>0</th>\n",
       "      <td>1</td>\n",
       "      <td>BluePineFoods</td>\n",
       "      <td>20-Dec-21</td>\n",
       "      <td>04-Feb-22</td>\n",
       "      <td>1</td>\n",
       "      <td>Badlegi Business Ki Tasveer</td>\n",
       "      <td>Rannvijay Singh</td>\n",
       "      <td>1</td>\n",
       "      <td>Food</td>\n",
       "      <td>Frozen Momos</td>\n",
       "      <td>...</td>\n",
       "      <td>NaN</td>\n",
       "      <td>1.0</td>\n",
       "      <td>1.0</td>\n",
       "      <td>1.0</td>\n",
       "      <td>1.0</td>\n",
       "      <td>1.0</td>\n",
       "      <td>NaN</td>\n",
       "      <td>NaN</td>\n",
       "      <td>NaN</td>\n",
       "      <td>NaN</td>\n",
       "    </tr>\n",
       "    <tr>\n",
       "      <th>1</th>\n",
       "      <td>1</td>\n",
       "      <td>BoozScooters</td>\n",
       "      <td>20-Dec-21</td>\n",
       "      <td>04-Feb-22</td>\n",
       "      <td>1</td>\n",
       "      <td>Badlegi Business Ki Tasveer</td>\n",
       "      <td>Rannvijay Singh</td>\n",
       "      <td>2</td>\n",
       "      <td>Vehicles/Electrical Vehicles</td>\n",
       "      <td>Renting e-bike for mobility in private spaces</td>\n",
       "      <td>...</td>\n",
       "      <td>NaN</td>\n",
       "      <td>1.0</td>\n",
       "      <td>1.0</td>\n",
       "      <td>1.0</td>\n",
       "      <td>1.0</td>\n",
       "      <td>1.0</td>\n",
       "      <td>NaN</td>\n",
       "      <td>NaN</td>\n",
       "      <td>NaN</td>\n",
       "      <td>NaN</td>\n",
       "    </tr>\n",
       "    <tr>\n",
       "      <th>2</th>\n",
       "      <td>1</td>\n",
       "      <td>HeartUpMySleeves</td>\n",
       "      <td>20-Dec-21</td>\n",
       "      <td>04-Feb-22</td>\n",
       "      <td>1</td>\n",
       "      <td>Badlegi Business Ki Tasveer</td>\n",
       "      <td>Rannvijay Singh</td>\n",
       "      <td>3</td>\n",
       "      <td>Beauty/Fashion</td>\n",
       "      <td>Detachable Sleeves</td>\n",
       "      <td>...</td>\n",
       "      <td>NaN</td>\n",
       "      <td>1.0</td>\n",
       "      <td>1.0</td>\n",
       "      <td>1.0</td>\n",
       "      <td>1.0</td>\n",
       "      <td>1.0</td>\n",
       "      <td>NaN</td>\n",
       "      <td>NaN</td>\n",
       "      <td>NaN</td>\n",
       "      <td>NaN</td>\n",
       "    </tr>\n",
       "    <tr>\n",
       "      <th>3</th>\n",
       "      <td>1</td>\n",
       "      <td>TagzFoods</td>\n",
       "      <td>20-Dec-21</td>\n",
       "      <td>04-Feb-22</td>\n",
       "      <td>2</td>\n",
       "      <td>Insaan, Ideas Aur Sapne</td>\n",
       "      <td>Rannvijay Singh</td>\n",
       "      <td>4</td>\n",
       "      <td>Food</td>\n",
       "      <td>Healthy Potato Chips Snacks</td>\n",
       "      <td>...</td>\n",
       "      <td>NaN</td>\n",
       "      <td>1.0</td>\n",
       "      <td>1.0</td>\n",
       "      <td>1.0</td>\n",
       "      <td>1.0</td>\n",
       "      <td>1.0</td>\n",
       "      <td>NaN</td>\n",
       "      <td>NaN</td>\n",
       "      <td>NaN</td>\n",
       "      <td>NaN</td>\n",
       "    </tr>\n",
       "    <tr>\n",
       "      <th>4</th>\n",
       "      <td>1</td>\n",
       "      <td>HeadAndHeart</td>\n",
       "      <td>20-Dec-21</td>\n",
       "      <td>04-Feb-22</td>\n",
       "      <td>2</td>\n",
       "      <td>Insaan, Ideas Aur Sapne</td>\n",
       "      <td>Rannvijay Singh</td>\n",
       "      <td>5</td>\n",
       "      <td>Education</td>\n",
       "      <td>Brain Development Course</td>\n",
       "      <td>...</td>\n",
       "      <td>NaN</td>\n",
       "      <td>1.0</td>\n",
       "      <td>1.0</td>\n",
       "      <td>1.0</td>\n",
       "      <td>1.0</td>\n",
       "      <td>1.0</td>\n",
       "      <td>NaN</td>\n",
       "      <td>NaN</td>\n",
       "      <td>NaN</td>\n",
       "      <td>NaN</td>\n",
       "    </tr>\n",
       "  </tbody>\n",
       "</table>\n",
       "<p>5 rows × 74 columns</p>\n",
       "</div>"
      ],
      "text/plain": [
       "   Season Number      Startup Name Season Start Season End  Episode Number  \\\n",
       "0              1     BluePineFoods    20-Dec-21  04-Feb-22               1   \n",
       "1              1      BoozScooters    20-Dec-21  04-Feb-22               1   \n",
       "2              1  HeartUpMySleeves    20-Dec-21  04-Feb-22               1   \n",
       "3              1         TagzFoods    20-Dec-21  04-Feb-22               2   \n",
       "4              1      HeadAndHeart    20-Dec-21  04-Feb-22               2   \n",
       "\n",
       "                 Episode Title           Anchor  Pitch Number  \\\n",
       "0  Badlegi Business Ki Tasveer  Rannvijay Singh             1   \n",
       "1  Badlegi Business Ki Tasveer  Rannvijay Singh             2   \n",
       "2  Badlegi Business Ki Tasveer  Rannvijay Singh             3   \n",
       "3      Insaan, Ideas Aur Sapne  Rannvijay Singh             4   \n",
       "4      Insaan, Ideas Aur Sapne  Rannvijay Singh             5   \n",
       "\n",
       "                       Industry  \\\n",
       "0                          Food   \n",
       "1  Vehicles/Electrical Vehicles   \n",
       "2                Beauty/Fashion   \n",
       "3                          Food   \n",
       "4                     Education   \n",
       "\n",
       "                            Business Description  ... Guest Name  \\\n",
       "0                                   Frozen Momos  ...        NaN   \n",
       "1  Renting e-bike for mobility in private spaces  ...        NaN   \n",
       "2                             Detachable Sleeves  ...        NaN   \n",
       "3                    Healthy Potato Chips Snacks  ...        NaN   \n",
       "4                       Brain Development Course  ...        NaN   \n",
       "\n",
       "   Ashneer Present  Namita Present  Anupam Present  Vineeta Present  \\\n",
       "0              1.0             1.0             1.0              1.0   \n",
       "1              1.0             1.0             1.0              1.0   \n",
       "2              1.0             1.0             1.0              1.0   \n",
       "3              1.0             1.0             1.0              1.0   \n",
       "4              1.0             1.0             1.0              1.0   \n",
       "\n",
       "   Aman Present Peyush Present  Ghazal Present Amit Present Guest Present  \n",
       "0           1.0            NaN             NaN          NaN           NaN  \n",
       "1           1.0            NaN             NaN          NaN           NaN  \n",
       "2           1.0            NaN             NaN          NaN           NaN  \n",
       "3           1.0            NaN             NaN          NaN           NaN  \n",
       "4           1.0            NaN             NaN          NaN           NaN  \n",
       "\n",
       "[5 rows x 74 columns]"
      ]
     },
     "execution_count": 41,
     "metadata": {},
     "output_type": "execute_result"
    }
   ],
   "source": [
    "shark_tank.head()"
   ]
  },
  {
   "cell_type": "code",
   "execution_count": 42,
   "id": "aac054f9-591c-465c-b070-59717e201a0d",
   "metadata": {},
   "outputs": [
    {
     "data": {
      "text/html": [
       "<div>\n",
       "<style scoped>\n",
       "    .dataframe tbody tr th:only-of-type {\n",
       "        vertical-align: middle;\n",
       "    }\n",
       "\n",
       "    .dataframe tbody tr th {\n",
       "        vertical-align: top;\n",
       "    }\n",
       "\n",
       "    .dataframe thead th {\n",
       "        text-align: right;\n",
       "    }\n",
       "</style>\n",
       "<table border=\"1\" class=\"dataframe\">\n",
       "  <thead>\n",
       "    <tr style=\"text-align: right;\">\n",
       "      <th></th>\n",
       "      <th>Season Number</th>\n",
       "      <th>Startup Name</th>\n",
       "      <th>Season Start</th>\n",
       "      <th>Season End</th>\n",
       "      <th>Episode Number</th>\n",
       "      <th>Episode Title</th>\n",
       "      <th>Anchor</th>\n",
       "      <th>Pitch Number</th>\n",
       "      <th>Industry</th>\n",
       "      <th>Business Description</th>\n",
       "      <th>...</th>\n",
       "      <th>Guest Name</th>\n",
       "      <th>Ashneer Present</th>\n",
       "      <th>Namita Present</th>\n",
       "      <th>Anupam Present</th>\n",
       "      <th>Vineeta Present</th>\n",
       "      <th>Aman Present</th>\n",
       "      <th>Peyush Present</th>\n",
       "      <th>Ghazal Present</th>\n",
       "      <th>Amit Present</th>\n",
       "      <th>Guest Present</th>\n",
       "    </tr>\n",
       "  </thead>\n",
       "  <tbody>\n",
       "    <tr>\n",
       "      <th>316</th>\n",
       "      <td>2</td>\n",
       "      <td>GODESi</td>\n",
       "      <td>02-Jan-23</td>\n",
       "      <td>10-Mar-23</td>\n",
       "      <td>51</td>\n",
       "      <td>Gateway To Shark Tank India</td>\n",
       "      <td>Rahul Dua</td>\n",
       "      <td>317</td>\n",
       "      <td>Food</td>\n",
       "      <td>Handmade lollipops</td>\n",
       "      <td>...</td>\n",
       "      <td>NaN</td>\n",
       "      <td>NaN</td>\n",
       "      <td>1.0</td>\n",
       "      <td>NaN</td>\n",
       "      <td>1.0</td>\n",
       "      <td>1.0</td>\n",
       "      <td>NaN</td>\n",
       "      <td>NaN</td>\n",
       "      <td>1.0</td>\n",
       "      <td>1.0</td>\n",
       "    </tr>\n",
       "    <tr>\n",
       "      <th>317</th>\n",
       "      <td>2</td>\n",
       "      <td>TAC</td>\n",
       "      <td>02-Jan-23</td>\n",
       "      <td>10-Mar-23</td>\n",
       "      <td>51</td>\n",
       "      <td>Gateway To Shark Tank India</td>\n",
       "      <td>Rahul Dua</td>\n",
       "      <td>318</td>\n",
       "      <td>Beauty/Fashion</td>\n",
       "      <td>ayurveda co for glowing skin, makeup &amp; open pores</td>\n",
       "      <td>...</td>\n",
       "      <td>Vikas</td>\n",
       "      <td>NaN</td>\n",
       "      <td>1.0</td>\n",
       "      <td>NaN</td>\n",
       "      <td>1.0</td>\n",
       "      <td>1.0</td>\n",
       "      <td>NaN</td>\n",
       "      <td>NaN</td>\n",
       "      <td>1.0</td>\n",
       "      <td>1.0</td>\n",
       "    </tr>\n",
       "    <tr>\n",
       "      <th>318</th>\n",
       "      <td>2</td>\n",
       "      <td>Naara-Aaba</td>\n",
       "      <td>02-Jan-23</td>\n",
       "      <td>10-Mar-23</td>\n",
       "      <td>51</td>\n",
       "      <td>Gateway To Shark Tank India</td>\n",
       "      <td>Rahul Dua</td>\n",
       "      <td>319</td>\n",
       "      <td>Liquor/Beverages</td>\n",
       "      <td>pears and plum wine</td>\n",
       "      <td>...</td>\n",
       "      <td>Vikas</td>\n",
       "      <td>NaN</td>\n",
       "      <td>1.0</td>\n",
       "      <td>NaN</td>\n",
       "      <td>1.0</td>\n",
       "      <td>1.0</td>\n",
       "      <td>NaN</td>\n",
       "      <td>NaN</td>\n",
       "      <td>1.0</td>\n",
       "      <td>1.0</td>\n",
       "    </tr>\n",
       "    <tr>\n",
       "      <th>319</th>\n",
       "      <td>2</td>\n",
       "      <td>StyloBug</td>\n",
       "      <td>02-Jan-23</td>\n",
       "      <td>10-Mar-23</td>\n",
       "      <td>51</td>\n",
       "      <td>Gateway To Shark Tank India</td>\n",
       "      <td>Rahul Dua</td>\n",
       "      <td>320</td>\n",
       "      <td>Beauty/Fashion</td>\n",
       "      <td>Girls Dresses Online</td>\n",
       "      <td>...</td>\n",
       "      <td>NaN</td>\n",
       "      <td>NaN</td>\n",
       "      <td>1.0</td>\n",
       "      <td>NaN</td>\n",
       "      <td>1.0</td>\n",
       "      <td>1.0</td>\n",
       "      <td>NaN</td>\n",
       "      <td>NaN</td>\n",
       "      <td>1.0</td>\n",
       "      <td>1.0</td>\n",
       "    </tr>\n",
       "    <tr>\n",
       "      <th>320</th>\n",
       "      <td>2</td>\n",
       "      <td>ZenOnco</td>\n",
       "      <td>02-Jan-23</td>\n",
       "      <td>10-Mar-23</td>\n",
       "      <td>0</td>\n",
       "      <td>Unseen</td>\n",
       "      <td>Rahul Dua</td>\n",
       "      <td>321</td>\n",
       "      <td>Medical/Health</td>\n",
       "      <td>saving lives from cancer</td>\n",
       "      <td>...</td>\n",
       "      <td>NaN</td>\n",
       "      <td>NaN</td>\n",
       "      <td>1.0</td>\n",
       "      <td>NaN</td>\n",
       "      <td>1.0</td>\n",
       "      <td>1.0</td>\n",
       "      <td>NaN</td>\n",
       "      <td>NaN</td>\n",
       "      <td>1.0</td>\n",
       "      <td>1.0</td>\n",
       "    </tr>\n",
       "  </tbody>\n",
       "</table>\n",
       "<p>5 rows × 74 columns</p>\n",
       "</div>"
      ],
      "text/plain": [
       "     Season Number Startup Name Season Start Season End  Episode Number  \\\n",
       "316              2       GODESi    02-Jan-23  10-Mar-23              51   \n",
       "317              2          TAC    02-Jan-23  10-Mar-23              51   \n",
       "318              2   Naara-Aaba    02-Jan-23  10-Mar-23              51   \n",
       "319              2     StyloBug    02-Jan-23  10-Mar-23              51   \n",
       "320              2      ZenOnco    02-Jan-23  10-Mar-23               0   \n",
       "\n",
       "                   Episode Title     Anchor  Pitch Number          Industry  \\\n",
       "316  Gateway To Shark Tank India  Rahul Dua           317              Food   \n",
       "317  Gateway To Shark Tank India  Rahul Dua           318    Beauty/Fashion   \n",
       "318  Gateway To Shark Tank India  Rahul Dua           319  Liquor/Beverages   \n",
       "319  Gateway To Shark Tank India  Rahul Dua           320    Beauty/Fashion   \n",
       "320                       Unseen  Rahul Dua           321    Medical/Health   \n",
       "\n",
       "                                  Business Description  ... Guest Name  \\\n",
       "316                                 Handmade lollipops  ...        NaN   \n",
       "317  ayurveda co for glowing skin, makeup & open pores  ...      Vikas   \n",
       "318                                pears and plum wine  ...      Vikas   \n",
       "319                               Girls Dresses Online  ...        NaN   \n",
       "320                           saving lives from cancer  ...        NaN   \n",
       "\n",
       "     Ashneer Present  Namita Present  Anupam Present  Vineeta Present  \\\n",
       "316              NaN             1.0             NaN              1.0   \n",
       "317              NaN             1.0             NaN              1.0   \n",
       "318              NaN             1.0             NaN              1.0   \n",
       "319              NaN             1.0             NaN              1.0   \n",
       "320              NaN             1.0             NaN              1.0   \n",
       "\n",
       "     Aman Present Peyush Present  Ghazal Present Amit Present Guest Present  \n",
       "316           1.0            NaN             NaN          1.0           1.0  \n",
       "317           1.0            NaN             NaN          1.0           1.0  \n",
       "318           1.0            NaN             NaN          1.0           1.0  \n",
       "319           1.0            NaN             NaN          1.0           1.0  \n",
       "320           1.0            NaN             NaN          1.0           1.0  \n",
       "\n",
       "[5 rows x 74 columns]"
      ]
     },
     "execution_count": 42,
     "metadata": {},
     "output_type": "execute_result"
    }
   ],
   "source": [
    "shark_tank.tail()"
   ]
  },
  {
   "cell_type": "code",
   "execution_count": 43,
   "id": "7118eed8-384f-4aec-98cf-ed7984605ca2",
   "metadata": {},
   "outputs": [
    {
     "data": {
      "text/plain": [
       "(321, 74)"
      ]
     },
     "execution_count": 43,
     "metadata": {},
     "output_type": "execute_result"
    }
   ],
   "source": [
    "shark_tank.shape"
   ]
  },
  {
   "cell_type": "code",
   "execution_count": 44,
   "id": "0136b8e7-c1d6-47fa-98da-af2b9d0594d0",
   "metadata": {},
   "outputs": [
    {
     "name": "stdout",
     "output_type": "stream",
     "text": [
      "<class 'pandas.core.frame.DataFrame'>\n",
      "RangeIndex: 321 entries, 0 to 320\n",
      "Data columns (total 74 columns):\n",
      " #   Column                     Non-Null Count  Dtype  \n",
      "---  ------                     --------------  -----  \n",
      " 0   Season Number              321 non-null    int64  \n",
      " 1   Startup Name               321 non-null    object \n",
      " 2   Season Start               321 non-null    object \n",
      " 3   Season End                 321 non-null    object \n",
      " 4   Episode Number             321 non-null    int64  \n",
      " 5   Episode Title              321 non-null    object \n",
      " 6   Anchor                     321 non-null    object \n",
      " 7   Pitch Number               321 non-null    int64  \n",
      " 8   Industry                   321 non-null    object \n",
      " 9   Business Description       321 non-null    object \n",
      " 10  Company Website            310 non-null    object \n",
      " 11  Number of Presenters       321 non-null    int64  \n",
      " 12  Male Presenters            282 non-null    float64\n",
      " 13  Female Presenters          150 non-null    float64\n",
      " 14  Transgender Presenters     3 non-null      float64\n",
      " 15  Couple Presenters          316 non-null    float64\n",
      " 16  Pitchers Average Age       321 non-null    object \n",
      " 17  Started in                 184 non-null    float64\n",
      " 18  Pitchers City              321 non-null    object \n",
      " 19  Pitchers State             321 non-null    object \n",
      " 20  Yearly Revenue             135 non-null    float64\n",
      " 21  Monthly Sales              141 non-null    float64\n",
      " 22  Gross Margin               85 non-null     float64\n",
      " 23  Net Margin                 24 non-null     float64\n",
      " 24  Original Ask Amount        321 non-null    float64\n",
      " 25  Original Offered Equity    321 non-null    float64\n",
      " 26  Valuation Requested        321 non-null    float64\n",
      " 27  Received Offer             321 non-null    int64  \n",
      " 28  Accepted Offer             217 non-null    float64\n",
      " 29  Total Deal Amount          176 non-null    float64\n",
      " 30  Total Deal Equity          176 non-null    float64\n",
      " 31  Total Deal Debt            39 non-null     float64\n",
      " 32  Debt Interest              23 non-null     float64\n",
      " 33  Deal Valuation             176 non-null    float64\n",
      " 34  Number of sharks in deal   176 non-null    float64\n",
      " 35  Deal has conditions        8 non-null      object \n",
      " 36  Has Patents                7 non-null      float64\n",
      " 37  Ashneer Investment Amount  21 non-null     float64\n",
      " 38  Ashneer Investment Equity  21 non-null     float64\n",
      " 39  Ashneer Debt Amount        2 non-null      float64\n",
      " 40  Namita Investment Amount   66 non-null     float64\n",
      " 41  Namita Investment Equity   66 non-null     float64\n",
      " 42  Namita Debt Amount         13 non-null     float64\n",
      " 43  Anupam Investment Amount   51 non-null     float64\n",
      " 44  Anupam Investment Equity   51 non-null     float64\n",
      " 45  Anupam Debt Amount         4 non-null      float64\n",
      " 46  Vineeta Investment Amount  43 non-null     float64\n",
      " 47  Vineeta Investment Equity  43 non-null     float64\n",
      " 48  Vineeta Debt Amount        9 non-null      float64\n",
      " 49  Aman Investment Amount     73 non-null     float64\n",
      " 50  Aman Investment Equity     73 non-null     float64\n",
      " 51  Aman Debt Amount           8 non-null      float64\n",
      " 52  Peyush Investment Amount   69 non-null     float64\n",
      " 53  Peyush Investment Equity   69 non-null     float64\n",
      " 54  Peyush Debt Amount         11 non-null     float64\n",
      " 55  Ghazal Investment Amount   8 non-null      float64\n",
      " 56  Ghazal Investment Equity   8 non-null      float64\n",
      " 57  Ghazal Debt Amount         0 non-null      float64\n",
      " 58  Amit Investment Amount     21 non-null     float64\n",
      " 59  Amit Investment Equity     21 non-null     float64\n",
      " 60  Amit Debt Amount           4 non-null      float64\n",
      " 61  Guest Investment Amount    2 non-null      float64\n",
      " 62  Guest Investment Equity    2 non-null      float64\n",
      " 63  Guest Debt Amount          2 non-null      float64\n",
      " 64  Guest Name                 2 non-null      object \n",
      " 65  Ashneer Present            99 non-null     float64\n",
      " 66  Namita Present             276 non-null    float64\n",
      " 67  Anupam Present             282 non-null    float64\n",
      " 68  Vineeta Present            187 non-null    float64\n",
      " 69  Aman Present               268 non-null    float64\n",
      " 70  Peyush Present             233 non-null    float64\n",
      " 71  Ghazal Present             26 non-null     float64\n",
      " 72  Amit Present               83 non-null     float64\n",
      " 73  Guest Present              5 non-null      float64\n",
      "dtypes: float64(56), int64(5), object(13)\n",
      "memory usage: 185.7+ KB\n"
     ]
    }
   ],
   "source": [
    "shark_tank.info()"
   ]
  },
  {
   "cell_type": "code",
   "execution_count": 45,
   "id": "7f9a4280-5b13-43c2-9f81-e58ad3726d16",
   "metadata": {},
   "outputs": [
    {
     "data": {
      "text/plain": [
       "Index(['Season Number', 'Startup Name', 'Season Start', 'Season End',\n",
       "       'Episode Number', 'Episode Title', 'Anchor', 'Pitch Number', 'Industry',\n",
       "       'Business Description', 'Company Website', 'Number of Presenters',\n",
       "       'Male Presenters', 'Female Presenters', 'Transgender Presenters',\n",
       "       'Couple Presenters', 'Pitchers Average Age', 'Started in',\n",
       "       'Pitchers City', 'Pitchers State', 'Yearly Revenue', 'Monthly Sales',\n",
       "       'Gross Margin', 'Net Margin', 'Original Ask Amount',\n",
       "       'Original Offered Equity', 'Valuation Requested', 'Received Offer',\n",
       "       'Accepted Offer', 'Total Deal Amount', 'Total Deal Equity',\n",
       "       'Total Deal Debt', 'Debt Interest', 'Deal Valuation',\n",
       "       'Number of sharks in deal', 'Deal has conditions', 'Has Patents',\n",
       "       'Ashneer Investment Amount', 'Ashneer Investment Equity',\n",
       "       'Ashneer Debt Amount', 'Namita Investment Amount',\n",
       "       'Namita Investment Equity', 'Namita Debt Amount',\n",
       "       'Anupam Investment Amount', 'Anupam Investment Equity',\n",
       "       'Anupam Debt Amount', 'Vineeta Investment Amount',\n",
       "       'Vineeta Investment Equity', 'Vineeta Debt Amount',\n",
       "       'Aman Investment Amount', 'Aman Investment Equity', 'Aman Debt Amount',\n",
       "       'Peyush Investment Amount', 'Peyush Investment Equity',\n",
       "       'Peyush Debt Amount', 'Ghazal Investment Amount',\n",
       "       'Ghazal Investment Equity', 'Ghazal Debt Amount',\n",
       "       'Amit Investment Amount', 'Amit Investment Equity', 'Amit Debt Amount',\n",
       "       'Guest Investment Amount', 'Guest Investment Equity',\n",
       "       'Guest Debt Amount', 'Guest Name', 'Ashneer Present', 'Namita Present',\n",
       "       'Anupam Present', 'Vineeta Present', 'Aman Present', 'Peyush Present',\n",
       "       'Ghazal Present', 'Amit Present', 'Guest Present'],\n",
       "      dtype='object')"
      ]
     },
     "execution_count": 45,
     "metadata": {},
     "output_type": "execute_result"
    }
   ],
   "source": [
    "shark_tank.columns"
   ]
  },
  {
   "cell_type": "code",
   "execution_count": 46,
   "id": "34c91a0c-ad9f-4882-8957-f55cf09a4ad9",
   "metadata": {},
   "outputs": [
    {
     "data": {
      "text/html": [
       "<div>\n",
       "<style scoped>\n",
       "    .dataframe tbody tr th:only-of-type {\n",
       "        vertical-align: middle;\n",
       "    }\n",
       "\n",
       "    .dataframe tbody tr th {\n",
       "        vertical-align: top;\n",
       "    }\n",
       "\n",
       "    .dataframe thead th {\n",
       "        text-align: right;\n",
       "    }\n",
       "</style>\n",
       "<table border=\"1\" class=\"dataframe\">\n",
       "  <thead>\n",
       "    <tr style=\"text-align: right;\">\n",
       "      <th></th>\n",
       "      <th>Season Number</th>\n",
       "      <th>Episode Number</th>\n",
       "      <th>Pitch Number</th>\n",
       "      <th>Number of Presenters</th>\n",
       "      <th>Male Presenters</th>\n",
       "      <th>Female Presenters</th>\n",
       "      <th>Transgender Presenters</th>\n",
       "      <th>Couple Presenters</th>\n",
       "      <th>Started in</th>\n",
       "      <th>Yearly Revenue</th>\n",
       "      <th>...</th>\n",
       "      <th>Guest Debt Amount</th>\n",
       "      <th>Ashneer Present</th>\n",
       "      <th>Namita Present</th>\n",
       "      <th>Anupam Present</th>\n",
       "      <th>Vineeta Present</th>\n",
       "      <th>Aman Present</th>\n",
       "      <th>Peyush Present</th>\n",
       "      <th>Ghazal Present</th>\n",
       "      <th>Amit Present</th>\n",
       "      <th>Guest Present</th>\n",
       "    </tr>\n",
       "  </thead>\n",
       "  <tbody>\n",
       "    <tr>\n",
       "      <th>count</th>\n",
       "      <td>321.000000</td>\n",
       "      <td>321.000000</td>\n",
       "      <td>321.000000</td>\n",
       "      <td>321.000000</td>\n",
       "      <td>282.000000</td>\n",
       "      <td>150.000000</td>\n",
       "      <td>3.0</td>\n",
       "      <td>316.000000</td>\n",
       "      <td>184.000000</td>\n",
       "      <td>135.000000</td>\n",
       "      <td>...</td>\n",
       "      <td>2.000000</td>\n",
       "      <td>99.0</td>\n",
       "      <td>276.0</td>\n",
       "      <td>282.0</td>\n",
       "      <td>187.0</td>\n",
       "      <td>268.0</td>\n",
       "      <td>233.0</td>\n",
       "      <td>26.0</td>\n",
       "      <td>83.0</td>\n",
       "      <td>5.0</td>\n",
       "    </tr>\n",
       "    <tr>\n",
       "      <th>mean</th>\n",
       "      <td>1.526480</td>\n",
       "      <td>21.482866</td>\n",
       "      <td>161.000000</td>\n",
       "      <td>2.077882</td>\n",
       "      <td>1.719858</td>\n",
       "      <td>1.193333</td>\n",
       "      <td>1.0</td>\n",
       "      <td>0.186709</td>\n",
       "      <td>2018.472826</td>\n",
       "      <td>353.303704</td>\n",
       "      <td>...</td>\n",
       "      <td>23.500000</td>\n",
       "      <td>1.0</td>\n",
       "      <td>1.0</td>\n",
       "      <td>1.0</td>\n",
       "      <td>1.0</td>\n",
       "      <td>1.0</td>\n",
       "      <td>1.0</td>\n",
       "      <td>1.0</td>\n",
       "      <td>1.0</td>\n",
       "      <td>1.0</td>\n",
       "    </tr>\n",
       "    <tr>\n",
       "      <th>std</th>\n",
       "      <td>0.500078</td>\n",
       "      <td>14.702695</td>\n",
       "      <td>92.808944</td>\n",
       "      <td>0.846044</td>\n",
       "      <td>0.866269</td>\n",
       "      <td>0.428775</td>\n",
       "      <td>0.0</td>\n",
       "      <td>0.390296</td>\n",
       "      <td>2.495750</td>\n",
       "      <td>915.969002</td>\n",
       "      <td>...</td>\n",
       "      <td>15.556349</td>\n",
       "      <td>0.0</td>\n",
       "      <td>0.0</td>\n",
       "      <td>0.0</td>\n",
       "      <td>0.0</td>\n",
       "      <td>0.0</td>\n",
       "      <td>0.0</td>\n",
       "      <td>0.0</td>\n",
       "      <td>0.0</td>\n",
       "      <td>0.0</td>\n",
       "    </tr>\n",
       "    <tr>\n",
       "      <th>min</th>\n",
       "      <td>1.000000</td>\n",
       "      <td>0.000000</td>\n",
       "      <td>1.000000</td>\n",
       "      <td>1.000000</td>\n",
       "      <td>1.000000</td>\n",
       "      <td>1.000000</td>\n",
       "      <td>1.0</td>\n",
       "      <td>0.000000</td>\n",
       "      <td>2005.000000</td>\n",
       "      <td>-1.000000</td>\n",
       "      <td>...</td>\n",
       "      <td>12.500000</td>\n",
       "      <td>1.0</td>\n",
       "      <td>1.0</td>\n",
       "      <td>1.0</td>\n",
       "      <td>1.0</td>\n",
       "      <td>1.0</td>\n",
       "      <td>1.0</td>\n",
       "      <td>1.0</td>\n",
       "      <td>1.0</td>\n",
       "      <td>1.0</td>\n",
       "    </tr>\n",
       "    <tr>\n",
       "      <th>25%</th>\n",
       "      <td>1.000000</td>\n",
       "      <td>9.000000</td>\n",
       "      <td>81.000000</td>\n",
       "      <td>2.000000</td>\n",
       "      <td>1.000000</td>\n",
       "      <td>1.000000</td>\n",
       "      <td>1.0</td>\n",
       "      <td>0.000000</td>\n",
       "      <td>2017.000000</td>\n",
       "      <td>0.000000</td>\n",
       "      <td>...</td>\n",
       "      <td>18.000000</td>\n",
       "      <td>1.0</td>\n",
       "      <td>1.0</td>\n",
       "      <td>1.0</td>\n",
       "      <td>1.0</td>\n",
       "      <td>1.0</td>\n",
       "      <td>1.0</td>\n",
       "      <td>1.0</td>\n",
       "      <td>1.0</td>\n",
       "      <td>1.0</td>\n",
       "    </tr>\n",
       "    <tr>\n",
       "      <th>50%</th>\n",
       "      <td>2.000000</td>\n",
       "      <td>21.000000</td>\n",
       "      <td>161.000000</td>\n",
       "      <td>2.000000</td>\n",
       "      <td>2.000000</td>\n",
       "      <td>1.000000</td>\n",
       "      <td>1.0</td>\n",
       "      <td>0.000000</td>\n",
       "      <td>2019.000000</td>\n",
       "      <td>100.000000</td>\n",
       "      <td>...</td>\n",
       "      <td>23.500000</td>\n",
       "      <td>1.0</td>\n",
       "      <td>1.0</td>\n",
       "      <td>1.0</td>\n",
       "      <td>1.0</td>\n",
       "      <td>1.0</td>\n",
       "      <td>1.0</td>\n",
       "      <td>1.0</td>\n",
       "      <td>1.0</td>\n",
       "      <td>1.0</td>\n",
       "    </tr>\n",
       "    <tr>\n",
       "      <th>75%</th>\n",
       "      <td>2.000000</td>\n",
       "      <td>33.000000</td>\n",
       "      <td>241.000000</td>\n",
       "      <td>2.000000</td>\n",
       "      <td>2.000000</td>\n",
       "      <td>1.000000</td>\n",
       "      <td>1.0</td>\n",
       "      <td>0.000000</td>\n",
       "      <td>2020.000000</td>\n",
       "      <td>245.000000</td>\n",
       "      <td>...</td>\n",
       "      <td>29.000000</td>\n",
       "      <td>1.0</td>\n",
       "      <td>1.0</td>\n",
       "      <td>1.0</td>\n",
       "      <td>1.0</td>\n",
       "      <td>1.0</td>\n",
       "      <td>1.0</td>\n",
       "      <td>1.0</td>\n",
       "      <td>1.0</td>\n",
       "      <td>1.0</td>\n",
       "    </tr>\n",
       "    <tr>\n",
       "      <th>max</th>\n",
       "      <td>2.000000</td>\n",
       "      <td>51.000000</td>\n",
       "      <td>321.000000</td>\n",
       "      <td>6.000000</td>\n",
       "      <td>6.000000</td>\n",
       "      <td>3.000000</td>\n",
       "      <td>1.0</td>\n",
       "      <td>1.000000</td>\n",
       "      <td>2022.000000</td>\n",
       "      <td>7200.000000</td>\n",
       "      <td>...</td>\n",
       "      <td>34.500000</td>\n",
       "      <td>1.0</td>\n",
       "      <td>1.0</td>\n",
       "      <td>1.0</td>\n",
       "      <td>1.0</td>\n",
       "      <td>1.0</td>\n",
       "      <td>1.0</td>\n",
       "      <td>1.0</td>\n",
       "      <td>1.0</td>\n",
       "      <td>1.0</td>\n",
       "    </tr>\n",
       "  </tbody>\n",
       "</table>\n",
       "<p>8 rows × 61 columns</p>\n",
       "</div>"
      ],
      "text/plain": [
       "       Season Number  Episode Number  Pitch Number  Number of Presenters  \\\n",
       "count     321.000000      321.000000    321.000000            321.000000   \n",
       "mean        1.526480       21.482866    161.000000              2.077882   \n",
       "std         0.500078       14.702695     92.808944              0.846044   \n",
       "min         1.000000        0.000000      1.000000              1.000000   \n",
       "25%         1.000000        9.000000     81.000000              2.000000   \n",
       "50%         2.000000       21.000000    161.000000              2.000000   \n",
       "75%         2.000000       33.000000    241.000000              2.000000   \n",
       "max         2.000000       51.000000    321.000000              6.000000   \n",
       "\n",
       "       Male Presenters  Female Presenters  Transgender Presenters  \\\n",
       "count       282.000000         150.000000                     3.0   \n",
       "mean          1.719858           1.193333                     1.0   \n",
       "std           0.866269           0.428775                     0.0   \n",
       "min           1.000000           1.000000                     1.0   \n",
       "25%           1.000000           1.000000                     1.0   \n",
       "50%           2.000000           1.000000                     1.0   \n",
       "75%           2.000000           1.000000                     1.0   \n",
       "max           6.000000           3.000000                     1.0   \n",
       "\n",
       "       Couple Presenters   Started in  Yearly Revenue  ...  Guest Debt Amount  \\\n",
       "count         316.000000   184.000000      135.000000  ...           2.000000   \n",
       "mean            0.186709  2018.472826      353.303704  ...          23.500000   \n",
       "std             0.390296     2.495750      915.969002  ...          15.556349   \n",
       "min             0.000000  2005.000000       -1.000000  ...          12.500000   \n",
       "25%             0.000000  2017.000000        0.000000  ...          18.000000   \n",
       "50%             0.000000  2019.000000      100.000000  ...          23.500000   \n",
       "75%             0.000000  2020.000000      245.000000  ...          29.000000   \n",
       "max             1.000000  2022.000000     7200.000000  ...          34.500000   \n",
       "\n",
       "       Ashneer Present  Namita Present  Anupam Present  Vineeta Present  \\\n",
       "count             99.0           276.0           282.0            187.0   \n",
       "mean               1.0             1.0             1.0              1.0   \n",
       "std                0.0             0.0             0.0              0.0   \n",
       "min                1.0             1.0             1.0              1.0   \n",
       "25%                1.0             1.0             1.0              1.0   \n",
       "50%                1.0             1.0             1.0              1.0   \n",
       "75%                1.0             1.0             1.0              1.0   \n",
       "max                1.0             1.0             1.0              1.0   \n",
       "\n",
       "       Aman Present  Peyush Present  Ghazal Present  Amit Present  \\\n",
       "count         268.0           233.0            26.0          83.0   \n",
       "mean            1.0             1.0             1.0           1.0   \n",
       "std             0.0             0.0             0.0           0.0   \n",
       "min             1.0             1.0             1.0           1.0   \n",
       "25%             1.0             1.0             1.0           1.0   \n",
       "50%             1.0             1.0             1.0           1.0   \n",
       "75%             1.0             1.0             1.0           1.0   \n",
       "max             1.0             1.0             1.0           1.0   \n",
       "\n",
       "       Guest Present  \n",
       "count            5.0  \n",
       "mean             1.0  \n",
       "std              0.0  \n",
       "min              1.0  \n",
       "25%              1.0  \n",
       "50%              1.0  \n",
       "75%              1.0  \n",
       "max              1.0  \n",
       "\n",
       "[8 rows x 61 columns]"
      ]
     },
     "execution_count": 46,
     "metadata": {},
     "output_type": "execute_result"
    }
   ],
   "source": [
    "shark_tank.describe() # numerical data stats "
   ]
  },
  {
   "cell_type": "code",
   "execution_count": 47,
   "id": "f47c4273-ea20-4fd2-be29-463827a9d203",
   "metadata": {},
   "outputs": [
    {
     "name": "stdout",
     "output_type": "stream",
     "text": [
      "Numer of duplicate values: 0\n"
     ]
    }
   ],
   "source": [
    "duplicate_values_count = len(shark_tank[shark_tank.duplicated()])\n",
    "\n",
    "print(\"Numer of duplicate values:\", duplicate_values_count)"
   ]
  },
  {
   "cell_type": "code",
   "execution_count": 48,
   "id": "614a60fd-ffff-4766-9157-e6c0f080881e",
   "metadata": {},
   "outputs": [
    {
     "data": {
      "text/plain": [
       "Ghazal Debt Amount         321\n",
       "Guest Name                 319\n",
       "Guest Debt Amount          319\n",
       "Guest Investment Equity    319\n",
       "Guest Investment Amount    319\n",
       "                          ... \n",
       "Episode Title                0\n",
       "Anchor                       0\n",
       "Pitch Number                 0\n",
       "Industry                     0\n",
       "Season Number                0\n",
       "Length: 74, dtype: int64"
      ]
     },
     "execution_count": 48,
     "metadata": {},
     "output_type": "execute_result"
    }
   ],
   "source": [
    " shark_tank.isnull().sum().sort_values(ascending=False)"
   ]
  },
  {
   "cell_type": "code",
   "execution_count": 49,
   "id": "313a967d-0830-4f39-a4f1-dc115806c909",
   "metadata": {},
   "outputs": [
    {
     "data": {
      "text/plain": [
       "Text(0.5, 1.0, 'Places of missing values in the columns')"
      ]
     },
     "execution_count": 49,
     "metadata": {},
     "output_type": "execute_result"
    },
    {
     "data": {
      "image/png": "[encoded data removed]",
      "text/plain": [
       "<Figure size 1200x600 with 2 Axes>"
      ]
     },
     "metadata": {},
     "output_type": "display_data"
    }
   ],
   "source": [
    "plt.figure(figsize = (12,6))\n",
    "sns.heatmap(shark_tank.isnull(), yticklabels = False, cbar = True, cmap = 'viridis')\n",
    "plt.xlabel(\"Name of the columns\", fontsize = 12)\n",
    "plt.title(\"Places of missing values in the columns\", fontsize = 14) "
   ]
  },
  {
   "cell_type": "code",
   "execution_count": 50,
   "id": "207a4a57-c4a3-45aa-991e-ae852b90286a",
   "metadata": {},
   "outputs": [
    {
     "data": {
      "text/plain": [
       "Season Number\n",
       "2    169\n",
       "1    152\n",
       "Name: count, dtype: int64"
      ]
     },
     "execution_count": 50,
     "metadata": {},
     "output_type": "execute_result"
    }
   ],
   "source": [
    "shark_tank[\"Season Number\"].value_counts()"
   ]
  },
  {
   "cell_type": "code",
   "execution_count": 51,
   "id": "fbe0f65c-9148-4aab-9510-9d1406a49993",
   "metadata": {},
   "outputs": [
    {
     "name": "stdout",
     "output_type": "stream",
     "text": [
      "2 sesons\n",
      "\n",
      "51 episode\n",
      "\n",
      "Ziro startup companies came for pitching \n",
      "\n"
     ]
    }
   ],
   "source": [
    "print(shark_tank['Season Number'].max(), \"sesons\\n\")\n",
    "print(shark_tank['Episode Number'].max(), \"episode\\n\")\n",
    "print(shark_tank['Pitchers City'].max(), \"startup companies came for pitching \\n\")"
   ]
  },
  {
   "cell_type": "code",
   "execution_count": 52,
   "id": "6f3d4ef9-2cfd-439c-8800-40ae6897a888",
   "metadata": {},
   "outputs": [
    {
     "data": {
      "text/plain": [
       "Season Number\n",
       "2    169\n",
       "1    152\n",
       "Name: count, dtype: int64"
      ]
     },
     "execution_count": 52,
     "metadata": {},
     "output_type": "execute_result"
    }
   ],
   "source": [
    "shark_tank['Season Number'].value_counts()"
   ]
  },
  {
   "cell_type": "code",
   "execution_count": 53,
   "id": "f31133e2-87fb-449b-bf5e-91fae7764871",
   "metadata": {},
   "outputs": [
    {
     "data": {
      "image/png": "[encoded data removed]",
      "text/plain": [
       "<Figure size 1500x3000 with 1 Axes>"
      ]
     },
     "metadata": {},
     "output_type": "display_data"
    }
   ],
   "source": [
    "plt.figure(figsize=(15,30))\n",
    "ax = sns.countplot(data=shark_tank,y='Pitchers City', orient='h',order=shark_tank['Pitchers City'].value_counts().index)\n",
    "plt.title('Pitchers Cities Count',size=20)\n",
    "plt.savefig(\"Pitchers Cities Count.jpg\")"
   ]
  },
  {
   "cell_type": "code",
   "execution_count": 54,
   "id": "1a9b2619-a47f-4fc5-af61-d2b024d78a0a",
   "metadata": {},
   "outputs": [
    {
     "name": "stdout",
     "output_type": "stream",
     "text": [
      "Pitchers City\n",
      "Mumbai         56\n",
      "Delhi          44\n",
      "Bangalore      32\n",
      "Pune           20\n",
      "Ahmedabad      19\n",
      "Gurgaon        15\n",
      "Hyderabad      12\n",
      "Kolkata        12\n",
      "Noida           7\n",
      "Jaipur          7\n",
      "Chennai         6\n",
      "Surat           6\n",
      "Ludhiana        4\n",
      "Thane           3\n",
      "Indore          3\n",
      "Goa             3\n",
      "Gandhinagar     3\n",
      "Nagpur          3\n",
      "Jammu           2\n",
      "Lucknow         2\n",
      "Name: count, dtype: int64\n"
     ]
    }
   ],
   "source": [
    "print(shark_tank['Pitchers City'].value_counts().head(20))"
   ]
  },
  {
   "cell_type": "code",
   "execution_count": 55,
   "id": "c8a0c4e4-b5b0-4fb9-8585-5050b1b21dfa",
   "metadata": {},
   "outputs": [
    {
     "name": "stdout",
     "output_type": "stream",
     "text": [
      "Started in\n",
      "2019.0    38\n",
      "2020.0    31\n",
      "2021.0    27\n",
      "2018.0    26\n",
      "2017.0    22\n",
      "2016.0    18\n",
      "2022.0     9\n",
      "2015.0     4\n",
      "2014.0     4\n",
      "2005.0     1\n",
      "2013.0     1\n",
      "2012.0     1\n",
      "2006.0     1\n",
      "2010.0     1\n",
      "Name: count, dtype: int64\n"
     ]
    }
   ],
   "source": [
    "print(shark_tank['Started in'].value_counts())"
   ]
  },
  {
   "cell_type": "code",
   "execution_count": 56,
   "id": "5831ee2d-560c-4b1c-9b97-db815e48b1dc",
   "metadata": {},
   "outputs": [
    {
     "data": {
      "image/png": "[encoded data removed]",
      "text/plain": [
       "<Figure size 2000x1000 with 1 Axes>"
      ]
     },
     "metadata": {},
     "output_type": "display_data"
    }
   ],
   "source": [
    "plt.figure(figsize=(20,10))\n",
    "ax = sns.countplot(data=shark_tank,x='Started in', palette='husl',order=shark_tank['Started in'].value_counts().index)\n",
    "plt.title('Startup Commencement Year',size=20)\n",
    "plt.savefig(\"Startup Commencement Year'.jpg\")"
   ]
  },
  {
   "cell_type": "code",
   "execution_count": 57,
   "id": "45351bd9-e346-4378-9211-2cca3bc8dc54",
   "metadata": {},
   "outputs": [
    {
     "name": "stdout",
     "output_type": "stream",
     "text": [
      "Total pitchers - 667 \n",
      "\n",
      "Total Male pitchers- 485 \n",
      "\n",
      "Total Female pitchers- 179 \n",
      "\n",
      "Male entrepreneurs percentage - 72.71%\n",
      "\n",
      "Female entrepreneurs percentage - 26.84%\n",
      "\n",
      "Couple entrepreneurs percentage - 8.85% (data incomplete)\n",
      "\n"
     ]
    }
   ],
   "source": [
    "print(\"Total pitchers -\",int(shark_tank['Number of Presenters'].sum()),\"\\n\")\n",
    "\n",
    "print(\"Total Male pitchers-\", int(shark_tank['Male Presenters'].sum()),\"\\n\")\n",
    "\n",
    "print(\"Total Female pitchers-\", int(shark_tank['Female Presenters'].sum()),\"\\n\")\n",
    "\n",
    "print(\"Male entrepreneurs percentage - \", round(shark_tank['Male Presenters'].sum()/shark_tank['Number of Presenters'].sum()*100,2), \"%\\n\", sep='')\n",
    "print(\"Female entrepreneurs percentage - \", round(shark_tank['Female Presenters'].sum()/shark_tank['Number of Presenters'].sum()*100,2), \"%\\n\", sep='')\n",
    "print(\"Couple entrepreneurs percentage - \", round(shark_tank.loc[shark_tank['Couple Presenters']==1]['Couple Presenters'].sum()/shark_tank['Number of Presenters'].sum()*100,2), \"% (data incomplete)\\n\", sep='')"
   ]
  },
  {
   "cell_type": "code",
   "execution_count": 58,
   "id": "7ca34e9a-7d02-47be-8cd8-294e3a0c6e14",
   "metadata": {},
   "outputs": [
    {
     "name": "stdout",
     "output_type": "stream",
     "text": [
      "Startup Name\n",
      "FrenchCrown          7200.0\n",
      "Rubans               5100.0\n",
      "Toyshine             4500.0\n",
      "GuardianGears        2500.0\n",
      "GunjanAppsStudios    2400.0\n",
      "UnStop               1600.0\n",
      "StyloBug             1400.0\n",
      "RaisingSuperstars    1300.0\n",
      "DesmondJi            1200.0\n",
      "Eume                 1200.0\n",
      "Name: Yearly Revenue, dtype: float64\n"
     ]
    }
   ],
   "source": [
    "print(shark_tank.groupby('Startup Name')['Yearly Revenue'].max().nlargest(10))"
   ]
  },
  {
   "cell_type": "code",
   "execution_count": 59,
   "id": "7423174c-f4f2-4312-bb65-c8ce85628bea",
   "metadata": {},
   "outputs": [
    {
     "data": {
      "application/vnd.plotly.v1+json": {
       "config": {
        "plotlyServerURL": "https://plot.ly"
       },
       "data": [
        {
         "alignmentgroup": "True",
         "hovertemplate": "Startup Name=%{x}<br>Yearly Revenue=%{text}<extra></extra>",
         "legendgroup": "FrenchCrown",
         "marker": {
          "color": "#636efa",
          "pattern": {
           "shape": ""
          }
         },
         "name": "FrenchCrown",
         "offsetgroup": "FrenchCrown",
         "orientation": "v",
         "showlegend": true,
         "text": [
          7200
         ],
         "textposition": "auto",
         "type": "bar",
         "x": [
          "FrenchCrown"
         ],
         "xaxis": "x",
         "y": [
          7200
         ],
         "yaxis": "y"
        },
        {
         "alignmentgroup": "True",
         "hovertemplate": "Startup Name=%{x}<br>Yearly Revenue=%{text}<extra></extra>",
         "legendgroup": "Rubans",
         "marker": {
          "color": "#EF553B",
          "pattern": {
           "shape": ""
          }
         },
         "name": "Rubans",
         "offsetgroup": "Rubans",
         "orientation": "v",
         "showlegend": true,
         "text": [
          5100
         ],
         "textposition": "auto",
         "type": "bar",
         "x": [
          "Rubans"
         ],
         "xaxis": "x",
         "y": [
          5100
         ],
         "yaxis": "y"
        },
        {
         "alignmentgroup": "True",
         "hovertemplate": "Startup Name=%{x}<br>Yearly Revenue=%{text}<extra></extra>",
         "legendgroup": "Toyshine",
         "marker": {
          "color": "#00cc96",
          "pattern": {
           "shape": ""
          }
         },
         "name": "Toyshine",
         "offsetgroup": "Toyshine",
         "orientation": "v",
         "showlegend": true,
         "text": [
          4500
         ],
         "textposition": "auto",
         "type": "bar",
         "x": [
          "Toyshine"
         ],
         "xaxis": "x",
         "y": [
          4500
         ],
         "yaxis": "y"
        },
        {
         "alignmentgroup": "True",
         "hovertemplate": "Startup Name=%{x}<br>Yearly Revenue=%{text}<extra></extra>",
         "legendgroup": "GuardianGears",
         "marker": {
          "color": "#ab63fa",
          "pattern": {
           "shape": ""
          }
         },
         "name": "GuardianGears",
         "offsetgroup": "GuardianGears",
         "orientation": "v",
         "showlegend": true,
         "text": [
          2500
         ],
         "textposition": "auto",
         "type": "bar",
         "x": [
          "GuardianGears"
         ],
         "xaxis": "x",
         "y": [
          2500
         ],
         "yaxis": "y"
        },
        {
         "alignmentgroup": "True",
         "hovertemplate": "Startup Name=%{x}<br>Yearly Revenue=%{text}<extra></extra>",
         "legendgroup": "GunjanAppsStudios",
         "marker": {
          "color": "#FFA15A",
          "pattern": {
           "shape": ""
          }
         },
         "name": "GunjanAppsStudios",
         "offsetgroup": "GunjanAppsStudios",
         "orientation": "v",
         "showlegend": true,
         "text": [
          2400
         ],
         "textposition": "auto",
         "type": "bar",
         "x": [
          "GunjanAppsStudios"
         ],
         "xaxis": "x",
         "y": [
          2400
         ],
         "yaxis": "y"
        },
        {
         "alignmentgroup": "True",
         "hovertemplate": "Startup Name=%{x}<br>Yearly Revenue=%{text}<extra></extra>",
         "legendgroup": "UnStop",
         "marker": {
          "color": "#19d3f3",
          "pattern": {
           "shape": ""
          }
         },
         "name": "UnStop",
         "offsetgroup": "UnStop",
         "orientation": "v",
         "showlegend": true,
         "text": [
          1600
         ],
         "textposition": "auto",
         "type": "bar",
         "x": [
          "UnStop"
         ],
         "xaxis": "x",
         "y": [
          1600
         ],
         "yaxis": "y"
        },
        {
         "alignmentgroup": "True",
         "hovertemplate": "Startup Name=%{x}<br>Yearly Revenue=%{text}<extra></extra>",
         "legendgroup": "StyloBug",
         "marker": {
          "color": "#FF6692",
          "pattern": {
           "shape": ""
          }
         },
         "name": "StyloBug",
         "offsetgroup": "StyloBug",
         "orientation": "v",
         "showlegend": true,
         "text": [
          1400
         ],
         "textposition": "auto",
         "type": "bar",
         "x": [
          "StyloBug"
         ],
         "xaxis": "x",
         "y": [
          1400
         ],
         "yaxis": "y"
        },
        {
         "alignmentgroup": "True",
         "hovertemplate": "Startup Name=%{x}<br>Yearly Revenue=%{text}<extra></extra>",
         "legendgroup": "RaisingSuperstars",
         "marker": {
          "color": "#B6E880",
          "pattern": {
           "shape": ""
          }
         },
         "name": "RaisingSuperstars",
         "offsetgroup": "RaisingSuperstars",
         "orientation": "v",
         "showlegend": true,
         "text": [
          1300
         ],
         "textposition": "auto",
         "type": "bar",
         "x": [
          "RaisingSuperstars"
         ],
         "xaxis": "x",
         "y": [
          1300
         ],
         "yaxis": "y"
        },
        {
         "alignmentgroup": "True",
         "hovertemplate": "Startup Name=%{x}<br>Yearly Revenue=%{text}<extra></extra>",
         "legendgroup": "DesmondJi",
         "marker": {
          "color": "#FF97FF",
          "pattern": {
           "shape": ""
          }
         },
         "name": "DesmondJi",
         "offsetgroup": "DesmondJi",
         "orientation": "v",
         "showlegend": true,
         "text": [
          1200
         ],
         "textposition": "auto",
         "type": "bar",
         "x": [
          "DesmondJi"
         ],
         "xaxis": "x",
         "y": [
          1200
         ],
         "yaxis": "y"
        },
        {
         "alignmentgroup": "True",
         "hovertemplate": "Startup Name=%{x}<br>Yearly Revenue=%{text}<extra></extra>",
         "legendgroup": "Eume",
         "marker": {
          "color": "#FECB52",
          "pattern": {
           "shape": ""
          }
         },
         "name": "Eume",
         "offsetgroup": "Eume",
         "orientation": "v",
         "showlegend": true,
         "text": [
          1200
         ],
         "textposition": "auto",
         "type": "bar",
         "x": [
          "Eume"
         ],
         "xaxis": "x",
         "y": [
          1200
         ],
         "yaxis": "y"
        }
       ],
       "layout": {
        "autosize": true,
        "barmode": "relative",
        "legend": {
         "title": {
          "text": "Startup Name"
         },
         "tracegroupgap": 0
        },
        "template": {
         "data": {
          "bar": [
           {
            "error_x": {
             "color": "#2a3f5f"
            },
            "error_y": {
             "color": "#2a3f5f"
            },
            "marker": {
             "line": {
              "color": "#E5ECF6",
              "width": 0.5
             },
             "pattern": {
              "fillmode": "overlay",
              "size": 10,
              "solidity": 0.2
             }
            },
            "type": "bar"
           }
          ],
          "barpolar": [
           {
            "marker": {
             "line": {
              "color": "#E5ECF6",
              "width": 0.5
             },
             "pattern": {
              "fillmode": "overlay",
              "size": 10,
              "solidity": 0.2
             }
            },
            "type": "barpolar"
           }
          ],
          "carpet": [
           {
            "aaxis": {
             "endlinecolor": "#2a3f5f",
             "gridcolor": "white",
             "linecolor": "white",
             "minorgridcolor": "white",
             "startlinecolor": "#2a3f5f"
            },
            "baxis": {
             "endlinecolor": "#2a3f5f",
             "gridcolor": "white",
             "linecolor": "white",
             "minorgridcolor": "white",
             "startlinecolor": "#2a3f5f"
            },
            "type": "carpet"
           }
          ],
          "choropleth": [
           {
            "colorbar": {
             "outlinewidth": 0,
             "ticks": ""
            },
            "type": "choropleth"
           }
          ],
          "contour": [
           {
            "colorbar": {
             "outlinewidth": 0,
             "ticks": ""
            },
            "colorscale": [
             [
              0,
              "#0d0887"
             ],
             [
              0.1111111111111111,
              "#46039f"
             ],
             [
              0.2222222222222222,
              "#7201a8"
             ],
             [
              0.3333333333333333,
              "#9c179e"
             ],
             [
              0.4444444444444444,
              "#bd3786"
             ],
             [
              0.5555555555555556,
              "#d8576b"
             ],
             [
              0.6666666666666666,
              "#ed7953"
             ],
             [
              0.7777777777777778,
              "#fb9f3a"
             ],
             [
              0.8888888888888888,
              "#fdca26"
             ],
             [
              1,
              "#f0f921"
             ]
            ],
            "type": "contour"
           }
          ],
          "contourcarpet": [
           {
            "colorbar": {
             "outlinewidth": 0,
             "ticks": ""
            },
            "type": "contourcarpet"
           }
          ],
          "heatmap": [
           {
            "colorbar": {
             "outlinewidth": 0,
             "ticks": ""
            },
            "colorscale": [
             [
              0,
              "#0d0887"
             ],
             [
              0.1111111111111111,
              "#46039f"
             ],
             [
              0.2222222222222222,
              "#7201a8"
             ],
             [
              0.3333333333333333,
              "#9c179e"
             ],
             [
              0.4444444444444444,
              "#bd3786"
             ],
             [
              0.5555555555555556,
              "#d8576b"
             ],
             [
              0.6666666666666666,
              "#ed7953"
             ],
             [
              0.7777777777777778,
              "#fb9f3a"
             ],
             [
              0.8888888888888888,
              "#fdca26"
             ],
             [
              1,
              "#f0f921"
             ]
            ],
            "type": "heatmap"
           }
          ],
          "heatmapgl": [
           {
            "colorbar": {
             "outlinewidth": 0,
             "ticks": ""
            },
            "colorscale": [
             [
              0,
              "#0d0887"
             ],
             [
              0.1111111111111111,
              "#46039f"
             ],
             [
              0.2222222222222222,
              "#7201a8"
             ],
             [
              0.3333333333333333,
              "#9c179e"
             ],
             [
              0.4444444444444444,
              "#bd3786"
             ],
             [
              0.5555555555555556,
              "#d8576b"
             ],
             [
              0.6666666666666666,
              "#ed7953"
             ],
             [
              0.7777777777777778,
              "#fb9f3a"
             ],
             [
              0.8888888888888888,
              "#fdca26"
             ],
             [
              1,
              "#f0f921"
             ]
            ],
            "type": "heatmapgl"
           }
          ],
          "histogram": [
           {
            "marker": {
             "pattern": {
              "fillmode": "overlay",
              "size": 10,
              "solidity": 0.2
             }
            },
            "type": "histogram"
           }
          ],
          "histogram2d": [
           {
            "colorbar": {
             "outlinewidth": 0,
             "ticks": ""
            },
            "colorscale": [
             [
              0,
              "#0d0887"
             ],
             [
              0.1111111111111111,
              "#46039f"
             ],
             [
              0.2222222222222222,
              "#7201a8"
             ],
             [
              0.3333333333333333,
              "#9c179e"
             ],
             [
              0.4444444444444444,
              "#bd3786"
             ],
             [
              0.5555555555555556,
              "#d8576b"
             ],
             [
              0.6666666666666666,
              "#ed7953"
             ],
             [
              0.7777777777777778,
              "#fb9f3a"
             ],
             [
              0.8888888888888888,
              "#fdca26"
             ],
             [
              1,
              "#f0f921"
             ]
            ],
            "type": "histogram2d"
           }
          ],
          "histogram2dcontour": [
           {
            "colorbar": {
             "outlinewidth": 0,
             "ticks": ""
            },
            "colorscale": [
             [
              0,
              "#0d0887"
             ],
             [
              0.1111111111111111,
              "#46039f"
             ],
             [
              0.2222222222222222,
              "#7201a8"
             ],
             [
              0.3333333333333333,
              "#9c179e"
             ],
             [
              0.4444444444444444,
              "#bd3786"
             ],
             [
              0.5555555555555556,
              "#d8576b"
             ],
             [
              0.6666666666666666,
              "#ed7953"
             ],
             [
              0.7777777777777778,
              "#fb9f3a"
             ],
             [
              0.8888888888888888,
              "#fdca26"
             ],
             [
              1,
              "#f0f921"
             ]
            ],
            "type": "histogram2dcontour"
           }
          ],
          "mesh3d": [
           {
            "colorbar": {
             "outlinewidth": 0,
             "ticks": ""
            },
            "type": "mesh3d"
           }
          ],
          "parcoords": [
           {
            "line": {
             "colorbar": {
              "outlinewidth": 0,
              "ticks": ""
             }
            },
            "type": "parcoords"
           }
          ],
          "pie": [
           {
            "automargin": true,
            "type": "pie"
           }
          ],
          "scatter": [
           {
            "fillpattern": {
             "fillmode": "overlay",
             "size": 10,
             "solidity": 0.2
            },
            "type": "scatter"
           }
          ],
          "scatter3d": [
           {
            "line": {
             "colorbar": {
              "outlinewidth": 0,
              "ticks": ""
             }
            },
            "marker": {
             "colorbar": {
              "outlinewidth": 0,
              "ticks": ""
             }
            },
            "type": "scatter3d"
           }
          ],
          "scattercarpet": [
           {
            "marker": {
             "colorbar": {
              "outlinewidth": 0,
              "ticks": ""
             }
            },
            "type": "scattercarpet"
           }
          ],
          "scattergeo": [
           {
            "marker": {
             "colorbar": {
              "outlinewidth": 0,
              "ticks": ""
             }
            },
            "type": "scattergeo"
           }
          ],
          "scattergl": [
           {
            "marker": {
             "colorbar": {
              "outlinewidth": 0,
              "ticks": ""
             }
            },
            "type": "scattergl"
           }
          ],
          "scattermapbox": [
           {
            "marker": {
             "colorbar": {
              "outlinewidth": 0,
              "ticks": ""
             }
            },
            "type": "scattermapbox"
           }
          ],
          "scatterpolar": [
           {
            "marker": {
             "colorbar": {
              "outlinewidth": 0,
              "ticks": ""
             }
            },
            "type": "scatterpolar"
           }
          ],
          "scatterpolargl": [
           {
            "marker": {
             "colorbar": {
              "outlinewidth": 0,
              "ticks": ""
             }
            },
            "type": "scatterpolargl"
           }
          ],
          "scatterternary": [
           {
            "marker": {
             "colorbar": {
              "outlinewidth": 0,
              "ticks": ""
             }
            },
            "type": "scatterternary"
           }
          ],
          "surface": [
           {
            "colorbar": {
             "outlinewidth": 0,
             "ticks": ""
            },
            "colorscale": [
             [
              0,
              "#0d0887"
             ],
             [
              0.1111111111111111,
              "#46039f"
             ],
             [
              0.2222222222222222,
              "#7201a8"
             ],
             [
              0.3333333333333333,
              "#9c179e"
             ],
             [
              0.4444444444444444,
              "#bd3786"
             ],
             [
              0.5555555555555556,
              "#d8576b"
             ],
             [
              0.6666666666666666,
              "#ed7953"
             ],
             [
              0.7777777777777778,
              "#fb9f3a"
             ],
             [
              0.8888888888888888,
              "#fdca26"
             ],
             [
              1,
              "#f0f921"
             ]
            ],
            "type": "surface"
           }
          ],
          "table": [
           {
            "cells": {
             "fill": {
              "color": "#EBF0F8"
             },
             "line": {
              "color": "white"
             }
            },
            "header": {
             "fill": {
              "color": "#C8D4E3"
             },
             "line": {
              "color": "white"
             }
            },
            "type": "table"
           }
          ]
         },
         "layout": {
          "annotationdefaults": {
           "arrowcolor": "#2a3f5f",
           "arrowhead": 0,
           "arrowwidth": 1
          },
          "autotypenumbers": "strict",
          "coloraxis": {
           "colorbar": {
            "outlinewidth": 0,
            "ticks": ""
           }
          },
          "colorscale": {
           "diverging": [
            [
             0,
             "#8e0152"
            ],
            [
             0.1,
             "#c51b7d"
            ],
            [
             0.2,
             "#de77ae"
            ],
            [
             0.3,
             "#f1b6da"
            ],
            [
             0.4,
             "#fde0ef"
            ],
            [
             0.5,
             "#f7f7f7"
            ],
            [
             0.6,
             "#e6f5d0"
            ],
            [
             0.7,
             "#b8e186"
            ],
            [
             0.8,
             "#7fbc41"
            ],
            [
             0.9,
             "#4d9221"
            ],
            [
             1,
             "#276419"
            ]
           ],
           "sequential": [
            [
             0,
             "#0d0887"
            ],
            [
             0.1111111111111111,
             "#46039f"
            ],
            [
             0.2222222222222222,
             "#7201a8"
            ],
            [
             0.3333333333333333,
             "#9c179e"
            ],
            [
             0.4444444444444444,
             "#bd3786"
            ],
            [
             0.5555555555555556,
             "#d8576b"
            ],
            [
             0.6666666666666666,
             "#ed7953"
            ],
            [
             0.7777777777777778,
             "#fb9f3a"
            ],
            [
             0.8888888888888888,
             "#fdca26"
            ],
            [
             1,
             "#f0f921"
            ]
           ],
           "sequentialminus": [
            [
             0,
             "#0d0887"
            ],
            [
             0.1111111111111111,
             "#46039f"
            ],
            [
             0.2222222222222222,
             "#7201a8"
            ],
            [
             0.3333333333333333,
             "#9c179e"
            ],
            [
             0.4444444444444444,
             "#bd3786"
            ],
            [
             0.5555555555555556,
             "#d8576b"
            ],
            [
             0.6666666666666666,
             "#ed7953"
            ],
            [
             0.7777777777777778,
             "#fb9f3a"
            ],
            [
             0.8888888888888888,
             "#fdca26"
            ],
            [
             1,
             "#f0f921"
            ]
           ]
          },
          "colorway": [
           "#636efa",
           "#EF553B",
           "#00cc96",
           "#ab63fa",
           "#FFA15A",
           "#19d3f3",
           "#FF6692",
           "#B6E880",
           "#FF97FF",
           "#FECB52"
          ],
          "font": {
           "color": "#2a3f5f"
          },
          "geo": {
           "bgcolor": "white",
           "lakecolor": "white",
           "landcolor": "#E5ECF6",
           "showlakes": true,
           "showland": true,
           "subunitcolor": "white"
          },
          "hoverlabel": {
           "align": "left"
          },
          "hovermode": "closest",
          "mapbox": {
           "style": "light"
          },
          "paper_bgcolor": "white",
          "plot_bgcolor": "#E5ECF6",
          "polar": {
           "angularaxis": {
            "gridcolor": "white",
            "linecolor": "white",
            "ticks": ""
           },
           "bgcolor": "#E5ECF6",
           "radialaxis": {
            "gridcolor": "white",
            "linecolor": "white",
            "ticks": ""
           }
          },
          "scene": {
           "xaxis": {
            "backgroundcolor": "#E5ECF6",
            "gridcolor": "white",
            "gridwidth": 2,
            "linecolor": "white",
            "showbackground": true,
            "ticks": "",
            "zerolinecolor": "white"
           },
           "yaxis": {
            "backgroundcolor": "#E5ECF6",
            "gridcolor": "white",
            "gridwidth": 2,
            "linecolor": "white",
            "showbackground": true,
            "ticks": "",
            "zerolinecolor": "white"
           },
           "zaxis": {
            "backgroundcolor": "#E5ECF6",
            "gridcolor": "white",
            "gridwidth": 2,
            "linecolor": "white",
            "showbackground": true,
            "ticks": "",
            "zerolinecolor": "white"
           }
          },
          "shapedefaults": {
           "line": {
            "color": "#2a3f5f"
           }
          },
          "ternary": {
           "aaxis": {
            "gridcolor": "white",
            "linecolor": "white",
            "ticks": ""
           },
           "baxis": {
            "gridcolor": "white",
            "linecolor": "white",
            "ticks": ""
           },
           "bgcolor": "#E5ECF6",
           "caxis": {
            "gridcolor": "white",
            "linecolor": "white",
            "ticks": ""
           }
          },
          "title": {
           "x": 0.05
          },
          "xaxis": {
           "automargin": true,
           "gridcolor": "white",
           "linecolor": "white",
           "ticks": "",
           "title": {
            "standoff": 15
           },
           "zerolinecolor": "white",
           "zerolinewidth": 2
          },
          "yaxis": {
           "automargin": true,
           "gridcolor": "white",
           "linecolor": "white",
           "ticks": "",
           "title": {
            "standoff": 15
           },
           "zerolinecolor": "white",
           "zerolinewidth": 2
          }
         }
        },
        "title": {
         "text": "Higest Revenue Start-ups"
        },
        "xaxis": {
         "anchor": "y",
         "autorange": true,
         "categoryarray": [
          "FrenchCrown",
          "Rubans",
          "Toyshine",
          "GuardianGears",
          "GunjanAppsStudios",
          "UnStop",
          "StyloBug",
          "RaisingSuperstars",
          "DesmondJi",
          "Eume"
         ],
         "categoryorder": "array",
         "domain": [
          0,
          1
         ],
         "range": [
          -0.5,
          9.5
         ],
         "title": {
          "text": "Startup Name"
         },
         "type": "category"
        },
        "yaxis": {
         "anchor": "x",
         "autorange": true,
         "domain": [
          0,
          1
         ],
         "range": [
          0,
          7578.9473684210525
         ],
         "title": {
          "text": "Yearly Revenue"
         },
         "type": "linear"
        }
       }
      },
      "image/png": "[encoded data removed]",
      "text/html": [
       "<div>                            <div id=\"e7e9517e-1c3d-4550-acf0-236af811c564\" class=\"plotly-graph-div\" style=\"height:525px; width:100%;\"></div>            <script type=\"text/javascript\">                require([\"plotly\"], function(Plotly) {                    window.PLOTLYENV=window.PLOTLYENV || {};                                    if (document.getElementById(\"e7e9517e-1c3d-4550-acf0-236af811c564\")) {                    Plotly.newPlot(                        \"e7e9517e-1c3d-4550-acf0-236af811c564\",                        [{\"alignmentgroup\":\"True\",\"hovertemplate\":\"Startup Name=%{x}<br>Yearly Revenue=%{text}<extra></extra>\",\"legendgroup\":\"FrenchCrown\",\"marker\":{\"color\":\"#636efa\",\"pattern\":{\"shape\":\"\"}},\"name\":\"FrenchCrown\",\"offsetgroup\":\"FrenchCrown\",\"orientation\":\"v\",\"showlegend\":true,\"text\":[7200.0],\"textposition\":\"auto\",\"x\":[\"FrenchCrown\"],\"xaxis\":\"x\",\"y\":[7200.0],\"yaxis\":\"y\",\"type\":\"bar\"},{\"alignmentgroup\":\"True\",\"hovertemplate\":\"Startup Name=%{x}<br>Yearly Revenue=%{text}<extra></extra>\",\"legendgroup\":\"Rubans\",\"marker\":{\"color\":\"#EF553B\",\"pattern\":{\"shape\":\"\"}},\"name\":\"Rubans\",\"offsetgroup\":\"Rubans\",\"orientation\":\"v\",\"showlegend\":true,\"text\":[5100.0],\"textposition\":\"auto\",\"x\":[\"Rubans\"],\"xaxis\":\"x\",\"y\":[5100.0],\"yaxis\":\"y\",\"type\":\"bar\"},{\"alignmentgroup\":\"True\",\"hovertemplate\":\"Startup Name=%{x}<br>Yearly Revenue=%{text}<extra></extra>\",\"legendgroup\":\"Toyshine\",\"marker\":{\"color\":\"#00cc96\",\"pattern\":{\"shape\":\"\"}},\"name\":\"Toyshine\",\"offsetgroup\":\"Toyshine\",\"orientation\":\"v\",\"showlegend\":true,\"text\":[4500.0],\"textposition\":\"auto\",\"x\":[\"Toyshine\"],\"xaxis\":\"x\",\"y\":[4500.0],\"yaxis\":\"y\",\"type\":\"bar\"},{\"alignmentgroup\":\"True\",\"hovertemplate\":\"Startup Name=%{x}<br>Yearly Revenue=%{text}<extra></extra>\",\"legendgroup\":\"GuardianGears\",\"marker\":{\"color\":\"#ab63fa\",\"pattern\":{\"shape\":\"\"}},\"name\":\"GuardianGears\",\"offsetgroup\":\"GuardianGears\",\"orientation\":\"v\",\"showlegend\":true,\"text\":[2500.0],\"textposition\":\"auto\",\"x\":[\"GuardianGears\"],\"xaxis\":\"x\",\"y\":[2500.0],\"yaxis\":\"y\",\"type\":\"bar\"},{\"alignmentgroup\":\"True\",\"hovertemplate\":\"Startup Name=%{x}<br>Yearly Revenue=%{text}<extra></extra>\",\"legendgroup\":\"GunjanAppsStudios\",\"marker\":{\"color\":\"#FFA15A\",\"pattern\":{\"shape\":\"\"}},\"name\":\"GunjanAppsStudios\",\"offsetgroup\":\"GunjanAppsStudios\",\"orientation\":\"v\",\"showlegend\":true,\"text\":[2400.0],\"textposition\":\"auto\",\"x\":[\"GunjanAppsStudios\"],\"xaxis\":\"x\",\"y\":[2400.0],\"yaxis\":\"y\",\"type\":\"bar\"},{\"alignmentgroup\":\"True\",\"hovertemplate\":\"Startup Name=%{x}<br>Yearly Revenue=%{text}<extra></extra>\",\"legendgroup\":\"UnStop\",\"marker\":{\"color\":\"#19d3f3\",\"pattern\":{\"shape\":\"\"}},\"name\":\"UnStop\",\"offsetgroup\":\"UnStop\",\"orientation\":\"v\",\"showlegend\":true,\"text\":[1600.0],\"textposition\":\"auto\",\"x\":[\"UnStop\"],\"xaxis\":\"x\",\"y\":[1600.0],\"yaxis\":\"y\",\"type\":\"bar\"},{\"alignmentgroup\":\"True\",\"hovertemplate\":\"Startup Name=%{x}<br>Yearly Revenue=%{text}<extra></extra>\",\"legendgroup\":\"StyloBug\",\"marker\":{\"color\":\"#FF6692\",\"pattern\":{\"shape\":\"\"}},\"name\":\"StyloBug\",\"offsetgroup\":\"StyloBug\",\"orientation\":\"v\",\"showlegend\":true,\"text\":[1400.0],\"textposition\":\"auto\",\"x\":[\"StyloBug\"],\"xaxis\":\"x\",\"y\":[1400.0],\"yaxis\":\"y\",\"type\":\"bar\"},{\"alignmentgroup\":\"True\",\"hovertemplate\":\"Startup Name=%{x}<br>Yearly Revenue=%{text}<extra></extra>\",\"legendgroup\":\"RaisingSuperstars\",\"marker\":{\"color\":\"#B6E880\",\"pattern\":{\"shape\":\"\"}},\"name\":\"RaisingSuperstars\",\"offsetgroup\":\"RaisingSuperstars\",\"orientation\":\"v\",\"showlegend\":true,\"text\":[1300.0],\"textposition\":\"auto\",\"x\":[\"RaisingSuperstars\"],\"xaxis\":\"x\",\"y\":[1300.0],\"yaxis\":\"y\",\"type\":\"bar\"},{\"alignmentgroup\":\"True\",\"hovertemplate\":\"Startup Name=%{x}<br>Yearly Revenue=%{text}<extra></extra>\",\"legendgroup\":\"DesmondJi\",\"marker\":{\"color\":\"#FF97FF\",\"pattern\":{\"shape\":\"\"}},\"name\":\"DesmondJi\",\"offsetgroup\":\"DesmondJi\",\"orientation\":\"v\",\"showlegend\":true,\"text\":[1200.0],\"textposition\":\"auto\",\"x\":[\"DesmondJi\"],\"xaxis\":\"x\",\"y\":[1200.0],\"yaxis\":\"y\",\"type\":\"bar\"},{\"alignmentgroup\":\"True\",\"hovertemplate\":\"Startup Name=%{x}<br>Yearly Revenue=%{text}<extra></extra>\",\"legendgroup\":\"Eume\",\"marker\":{\"color\":\"#FECB52\",\"pattern\":{\"shape\":\"\"}},\"name\":\"Eume\",\"offsetgroup\":\"Eume\",\"orientation\":\"v\",\"showlegend\":true,\"text\":[1200.0],\"textposition\":\"auto\",\"x\":[\"Eume\"],\"xaxis\":\"x\",\"y\":[1200.0],\"yaxis\":\"y\",\"type\":\"bar\"}],                        {\"template\":{\"data\":{\"histogram2dcontour\":[{\"type\":\"histogram2dcontour\",\"colorbar\":{\"outlinewidth\":0,\"ticks\":\"\"},\"colorscale\":[[0.0,\"#0d0887\"],[0.1111111111111111,\"#46039f\"],[0.2222222222222222,\"#7201a8\"],[0.3333333333333333,\"#9c179e\"],[0.4444444444444444,\"#bd3786\"],[0.5555555555555556,\"#d8576b\"],[0.6666666666666666,\"#ed7953\"],[0.7777777777777778,\"#fb9f3a\"],[0.8888888888888888,\"#fdca26\"],[1.0,\"#f0f921\"]]}],\"choropleth\":[{\"type\":\"choropleth\",\"colorbar\":{\"outlinewidth\":0,\"ticks\":\"\"}}],\"histogram2d\":[{\"type\":\"histogram2d\",\"colorbar\":{\"outlinewidth\":0,\"ticks\":\"\"},\"colorscale\":[[0.0,\"#0d0887\"],[0.1111111111111111,\"#46039f\"],[0.2222222222222222,\"#7201a8\"],[0.3333333333333333,\"#9c179e\"],[0.4444444444444444,\"#bd3786\"],[0.5555555555555556,\"#d8576b\"],[0.6666666666666666,\"#ed7953\"],[0.7777777777777778,\"#fb9f3a\"],[0.8888888888888888,\"#fdca26\"],[1.0,\"#f0f921\"]]}],\"heatmap\":[{\"type\":\"heatmap\",\"colorbar\":{\"outlinewidth\":0,\"ticks\":\"\"},\"colorscale\":[[0.0,\"#0d0887\"],[0.1111111111111111,\"#46039f\"],[0.2222222222222222,\"#7201a8\"],[0.3333333333333333,\"#9c179e\"],[0.4444444444444444,\"#bd3786\"],[0.5555555555555556,\"#d8576b\"],[0.6666666666666666,\"#ed7953\"],[0.7777777777777778,\"#fb9f3a\"],[0.8888888888888888,\"#fdca26\"],[1.0,\"#f0f921\"]]}],\"heatmapgl\":[{\"type\":\"heatmapgl\",\"colorbar\":{\"outlinewidth\":0,\"ticks\":\"\"},\"colorscale\":[[0.0,\"#0d0887\"],[0.1111111111111111,\"#46039f\"],[0.2222222222222222,\"#7201a8\"],[0.3333333333333333,\"#9c179e\"],[0.4444444444444444,\"#bd3786\"],[0.5555555555555556,\"#d8576b\"],[0.6666666666666666,\"#ed7953\"],[0.7777777777777778,\"#fb9f3a\"],[0.8888888888888888,\"#fdca26\"],[1.0,\"#f0f921\"]]}],\"contourcarpet\":[{\"type\":\"contourcarpet\",\"colorbar\":{\"outlinewidth\":0,\"ticks\":\"\"}}],\"contour\":[{\"type\":\"contour\",\"colorbar\":{\"outlinewidth\":0,\"ticks\":\"\"},\"colorscale\":[[0.0,\"#0d0887\"],[0.1111111111111111,\"#46039f\"],[0.2222222222222222,\"#7201a8\"],[0.3333333333333333,\"#9c179e\"],[0.4444444444444444,\"#bd3786\"],[0.5555555555555556,\"#d8576b\"],[0.6666666666666666,\"#ed7953\"],[0.7777777777777778,\"#fb9f3a\"],[0.8888888888888888,\"#fdca26\"],[1.0,\"#f0f921\"]]}],\"surface\":[{\"type\":\"surface\",\"colorbar\":{\"outlinewidth\":0,\"ticks\":\"\"},\"colorscale\":[[0.0,\"#0d0887\"],[0.1111111111111111,\"#46039f\"],[0.2222222222222222,\"#7201a8\"],[0.3333333333333333,\"#9c179e\"],[0.4444444444444444,\"#bd3786\"],[0.5555555555555556,\"#d8576b\"],[0.6666666666666666,\"#ed7953\"],[0.7777777777777778,\"#fb9f3a\"],[0.8888888888888888,\"#fdca26\"],[1.0,\"#f0f921\"]]}],\"mesh3d\":[{\"type\":\"mesh3d\",\"colorbar\":{\"outlinewidth\":0,\"ticks\":\"\"}}],\"scatter\":[{\"fillpattern\":{\"fillmode\":\"overlay\",\"size\":10,\"solidity\":0.2},\"type\":\"scatter\"}],\"parcoords\":[{\"type\":\"parcoords\",\"line\":{\"colorbar\":{\"outlinewidth\":0,\"ticks\":\"\"}}}],\"scatterpolargl\":[{\"type\":\"scatterpolargl\",\"marker\":{\"colorbar\":{\"outlinewidth\":0,\"ticks\":\"\"}}}],\"bar\":[{\"error_x\":{\"color\":\"#2a3f5f\"},\"error_y\":{\"color\":\"#2a3f5f\"},\"marker\":{\"line\":{\"color\":\"#E5ECF6\",\"width\":0.5},\"pattern\":{\"fillmode\":\"overlay\",\"size\":10,\"solidity\":0.2}},\"type\":\"bar\"}],\"scattergeo\":[{\"type\":\"scattergeo\",\"marker\":{\"colorbar\":{\"outlinewidth\":0,\"ticks\":\"\"}}}],\"scatterpolar\":[{\"type\":\"scatterpolar\",\"marker\":{\"colorbar\":{\"outlinewidth\":0,\"ticks\":\"\"}}}],\"histogram\":[{\"marker\":{\"pattern\":{\"fillmode\":\"overlay\",\"size\":10,\"solidity\":0.2}},\"type\":\"histogram\"}],\"scattergl\":[{\"type\":\"scattergl\",\"marker\":{\"colorbar\":{\"outlinewidth\":0,\"ticks\":\"\"}}}],\"scatter3d\":[{\"type\":\"scatter3d\",\"line\":{\"colorbar\":{\"outlinewidth\":0,\"ticks\":\"\"}},\"marker\":{\"colorbar\":{\"outlinewidth\":0,\"ticks\":\"\"}}}],\"scattermapbox\":[{\"type\":\"scattermapbox\",\"marker\":{\"colorbar\":{\"outlinewidth\":0,\"ticks\":\"\"}}}],\"scatterternary\":[{\"type\":\"scatterternary\",\"marker\":{\"colorbar\":{\"outlinewidth\":0,\"ticks\":\"\"}}}],\"scattercarpet\":[{\"type\":\"scattercarpet\",\"marker\":{\"colorbar\":{\"outlinewidth\":0,\"ticks\":\"\"}}}],\"carpet\":[{\"aaxis\":{\"endlinecolor\":\"#2a3f5f\",\"gridcolor\":\"white\",\"linecolor\":\"white\",\"minorgridcolor\":\"white\",\"startlinecolor\":\"#2a3f5f\"},\"baxis\":{\"endlinecolor\":\"#2a3f5f\",\"gridcolor\":\"white\",\"linecolor\":\"white\",\"minorgridcolor\":\"white\",\"startlinecolor\":\"#2a3f5f\"},\"type\":\"carpet\"}],\"table\":[{\"cells\":{\"fill\":{\"color\":\"#EBF0F8\"},\"line\":{\"color\":\"white\"}},\"header\":{\"fill\":{\"color\":\"#C8D4E3\"},\"line\":{\"color\":\"white\"}},\"type\":\"table\"}],\"barpolar\":[{\"marker\":{\"line\":{\"color\":\"#E5ECF6\",\"width\":0.5},\"pattern\":{\"fillmode\":\"overlay\",\"size\":10,\"solidity\":0.2}},\"type\":\"barpolar\"}],\"pie\":[{\"automargin\":true,\"type\":\"pie\"}]},\"layout\":{\"autotypenumbers\":\"strict\",\"colorway\":[\"#636efa\",\"#EF553B\",\"#00cc96\",\"#ab63fa\",\"#FFA15A\",\"#19d3f3\",\"#FF6692\",\"#B6E880\",\"#FF97FF\",\"#FECB52\"],\"font\":{\"color\":\"#2a3f5f\"},\"hovermode\":\"closest\",\"hoverlabel\":{\"align\":\"left\"},\"paper_bgcolor\":\"white\",\"plot_bgcolor\":\"#E5ECF6\",\"polar\":{\"bgcolor\":\"#E5ECF6\",\"angularaxis\":{\"gridcolor\":\"white\",\"linecolor\":\"white\",\"ticks\":\"\"},\"radialaxis\":{\"gridcolor\":\"white\",\"linecolor\":\"white\",\"ticks\":\"\"}},\"ternary\":{\"bgcolor\":\"#E5ECF6\",\"aaxis\":{\"gridcolor\":\"white\",\"linecolor\":\"white\",\"ticks\":\"\"},\"baxis\":{\"gridcolor\":\"white\",\"linecolor\":\"white\",\"ticks\":\"\"},\"caxis\":{\"gridcolor\":\"white\",\"linecolor\":\"white\",\"ticks\":\"\"}},\"coloraxis\":{\"colorbar\":{\"outlinewidth\":0,\"ticks\":\"\"}},\"colorscale\":{\"sequential\":[[0.0,\"#0d0887\"],[0.1111111111111111,\"#46039f\"],[0.2222222222222222,\"#7201a8\"],[0.3333333333333333,\"#9c179e\"],[0.4444444444444444,\"#bd3786\"],[0.5555555555555556,\"#d8576b\"],[0.6666666666666666,\"#ed7953\"],[0.7777777777777778,\"#fb9f3a\"],[0.8888888888888888,\"#fdca26\"],[1.0,\"#f0f921\"]],\"sequentialminus\":[[0.0,\"#0d0887\"],[0.1111111111111111,\"#46039f\"],[0.2222222222222222,\"#7201a8\"],[0.3333333333333333,\"#9c179e\"],[0.4444444444444444,\"#bd3786\"],[0.5555555555555556,\"#d8576b\"],[0.6666666666666666,\"#ed7953\"],[0.7777777777777778,\"#fb9f3a\"],[0.8888888888888888,\"#fdca26\"],[1.0,\"#f0f921\"]],\"diverging\":[[0,\"#8e0152\"],[0.1,\"#c51b7d\"],[0.2,\"#de77ae\"],[0.3,\"#f1b6da\"],[0.4,\"#fde0ef\"],[0.5,\"#f7f7f7\"],[0.6,\"#e6f5d0\"],[0.7,\"#b8e186\"],[0.8,\"#7fbc41\"],[0.9,\"#4d9221\"],[1,\"#276419\"]]},\"xaxis\":{\"gridcolor\":\"white\",\"linecolor\":\"white\",\"ticks\":\"\",\"title\":{\"standoff\":15},\"zerolinecolor\":\"white\",\"automargin\":true,\"zerolinewidth\":2},\"yaxis\":{\"gridcolor\":\"white\",\"linecolor\":\"white\",\"ticks\":\"\",\"title\":{\"standoff\":15},\"zerolinecolor\":\"white\",\"automargin\":true,\"zerolinewidth\":2},\"scene\":{\"xaxis\":{\"backgroundcolor\":\"#E5ECF6\",\"gridcolor\":\"white\",\"linecolor\":\"white\",\"showbackground\":true,\"ticks\":\"\",\"zerolinecolor\":\"white\",\"gridwidth\":2},\"yaxis\":{\"backgroundcolor\":\"#E5ECF6\",\"gridcolor\":\"white\",\"linecolor\":\"white\",\"showbackground\":true,\"ticks\":\"\",\"zerolinecolor\":\"white\",\"gridwidth\":2},\"zaxis\":{\"backgroundcolor\":\"#E5ECF6\",\"gridcolor\":\"white\",\"linecolor\":\"white\",\"showbackground\":true,\"ticks\":\"\",\"zerolinecolor\":\"white\",\"gridwidth\":2}},\"shapedefaults\":{\"line\":{\"color\":\"#2a3f5f\"}},\"annotationdefaults\":{\"arrowcolor\":\"#2a3f5f\",\"arrowhead\":0,\"arrowwidth\":1},\"geo\":{\"bgcolor\":\"white\",\"landcolor\":\"#E5ECF6\",\"subunitcolor\":\"white\",\"showland\":true,\"showlakes\":true,\"lakecolor\":\"white\"},\"title\":{\"x\":0.05},\"mapbox\":{\"style\":\"light\"}}},\"xaxis\":{\"anchor\":\"y\",\"domain\":[0.0,1.0],\"title\":{\"text\":\"Startup Name\"},\"categoryorder\":\"array\",\"categoryarray\":[\"FrenchCrown\",\"Rubans\",\"Toyshine\",\"GuardianGears\",\"GunjanAppsStudios\",\"UnStop\",\"StyloBug\",\"RaisingSuperstars\",\"DesmondJi\",\"Eume\"]},\"yaxis\":{\"anchor\":\"x\",\"domain\":[0.0,1.0],\"title\":{\"text\":\"Yearly Revenue\"}},\"legend\":{\"title\":{\"text\":\"Startup Name\"},\"tracegroupgap\":0},\"title\":{\"text\":\"Higest Revenue Start-ups\"},\"barmode\":\"relative\"},                        {\"responsive\": true}                    ).then(function(){\n",
       "                            \n",
       "var gd = document.getElementById('e7e9517e-1c3d-4550-acf0-236af811c564');\n",
       "var x = new MutationObserver(function (mutations, observer) {{\n",
       "        var display = window.getComputedStyle(gd).display;\n",
       "        if (!display || display === 'none') {{\n",
       "            console.log([gd, 'removed!']);\n",
       "            Plotly.purge(gd);\n",
       "            observer.disconnect();\n",
       "        }}\n",
       "}});\n",
       "\n",
       "// Listen for the removal of the full notebook cells\n",
       "var notebookContainer = gd.closest('#notebook-container');\n",
       "if (notebookContainer) {{\n",
       "    x.observe(notebookContainer, {childList: true});\n",
       "}}\n",
       "\n",
       "// Listen for the clearing of the current output cell\n",
       "var outputEl = gd.closest('.output');\n",
       "if (outputEl) {{\n",
       "    x.observe(outputEl, {childList: true});\n",
       "}}\n",
       "\n",
       "                        })                };                });            </script>        </div>"
      ]
     },
     "metadata": {},
     "output_type": "display_data"
    }
   ],
   "source": [
    "tmpdf = shark_tank.sort_values('Yearly Revenue', ascending=False)[0:10]\n",
    "fig =  px.bar(tmpdf, x=\"Startup Name\", y=\"Yearly Revenue\", color=\"Startup Name\", template='plotly', title=\"Higest Revenue Start-ups\", text=tmpdf['Yearly Revenue'])\n",
    "fig.show()"
   ]
  },
  {
   "cell_type": "markdown",
   "id": "192b3b57-88e7-4544-b3fa-c54643c9a7ce",
   "metadata": {},
   "source": [
    "# 10 Higest Gross Margin Start-ups"
   ]
  },
  {
   "cell_type": "code",
   "execution_count": 60,
   "id": "cc7af0ad-2ae0-4d9d-91e0-1f0b1d1a9b49",
   "metadata": {},
   "outputs": [
    {
     "data": {
      "application/vnd.plotly.v1+json": {
       "config": {
        "plotlyServerURL": "https://plot.ly"
       },
       "data": [
        {
         "alignmentgroup": "True",
         "hovertemplate": "Startup Name=%{x}<br>Gross Margin=%{text}<extra></extra>",
         "legendgroup": "Poo-de-Cologne",
         "marker": {
          "color": "#636efa",
          "pattern": {
           "shape": ""
          }
         },
         "name": "Poo-de-Cologne",
         "offsetgroup": "Poo-de-Cologne",
         "orientation": "v",
         "showlegend": true,
         "text": [
          150
         ],
         "textposition": "auto",
         "type": "bar",
         "x": [
          "Poo-de-Cologne"
         ],
         "xaxis": "x",
         "y": [
          150
         ],
         "yaxis": "y"
        },
        {
         "alignmentgroup": "True",
         "hovertemplate": "Startup Name=%{x}<br>Gross Margin=%{text}<extra></extra>",
         "legendgroup": "Farda",
         "marker": {
          "color": "#EF553B",
          "pattern": {
           "shape": ""
          }
         },
         "name": "Farda",
         "offsetgroup": "Farda",
         "orientation": "v",
         "showlegend": true,
         "text": [
          115
         ],
         "textposition": "auto",
         "type": "bar",
         "x": [
          "Farda"
         ],
         "xaxis": "x",
         "y": [
          115
         ],
         "yaxis": "y"
        },
        {
         "alignmentgroup": "True",
         "hovertemplate": "Startup Name=%{x}<br>Gross Margin=%{text}<extra></extra>",
         "legendgroup": "Cocofit",
         "marker": {
          "color": "#00cc96",
          "pattern": {
           "shape": ""
          }
         },
         "name": "Cocofit",
         "offsetgroup": "Cocofit",
         "orientation": "v",
         "showlegend": true,
         "text": [
          95
         ],
         "textposition": "auto",
         "type": "bar",
         "x": [
          "Cocofit"
         ],
         "xaxis": "x",
         "y": [
          95
         ],
         "yaxis": "y"
        },
        {
         "alignmentgroup": "True",
         "hovertemplate": "Startup Name=%{x}<br>Gross Margin=%{text}<extra></extra>",
         "legendgroup": "UnStop",
         "marker": {
          "color": "#ab63fa",
          "pattern": {
           "shape": ""
          }
         },
         "name": "UnStop",
         "offsetgroup": "UnStop",
         "orientation": "v",
         "showlegend": true,
         "text": [
          90
         ],
         "textposition": "auto",
         "type": "bar",
         "x": [
          "UnStop"
         ],
         "xaxis": "x",
         "y": [
          90
         ],
         "yaxis": "y"
        },
        {
         "alignmentgroup": "True",
         "hovertemplate": "Startup Name=%{x}<br>Gross Margin=%{text}<extra></extra>",
         "legendgroup": "MidNightAngelsByPC",
         "marker": {
          "color": "#FFA15A",
          "pattern": {
           "shape": ""
          }
         },
         "name": "MidNightAngelsByPC",
         "offsetgroup": "MidNightAngelsByPC",
         "orientation": "v",
         "showlegend": true,
         "text": [
          83
         ],
         "textposition": "auto",
         "type": "bar",
         "x": [
          "MidNightAngelsByPC"
         ],
         "xaxis": "x",
         "y": [
          83
         ],
         "yaxis": "y"
        },
        {
         "alignmentgroup": "True",
         "hovertemplate": "Startup Name=%{x}<br>Gross Margin=%{text}<extra></extra>",
         "legendgroup": "Pflow",
         "marker": {
          "color": "#19d3f3",
          "pattern": {
           "shape": ""
          }
         },
         "name": "Pflow",
         "offsetgroup": "Pflow",
         "orientation": "v",
         "showlegend": true,
         "text": [
          80
         ],
         "textposition": "auto",
         "type": "bar",
         "x": [
          "Pflow"
         ],
         "xaxis": "x",
         "y": [
          80
         ],
         "yaxis": "y"
        },
        {
         "alignmentgroup": "True",
         "hovertemplate": "Startup Name=%{x}<br>Gross Margin=%{text}<extra></extra>",
         "legendgroup": "LeafyAffair",
         "marker": {
          "color": "#FF6692",
          "pattern": {
           "shape": ""
          }
         },
         "name": "LeafyAffair",
         "offsetgroup": "LeafyAffair",
         "orientation": "v",
         "showlegend": true,
         "text": [
          80
         ],
         "textposition": "auto",
         "type": "bar",
         "x": [
          "LeafyAffair"
         ],
         "xaxis": "x",
         "y": [
          80
         ],
         "yaxis": "y"
        },
        {
         "alignmentgroup": "True",
         "hovertemplate": "Startup Name=%{x}<br>Gross Margin=%{text}<extra></extra>",
         "legendgroup": "ekatra",
         "marker": {
          "color": "#B6E880",
          "pattern": {
           "shape": ""
          }
         },
         "name": "ekatra",
         "offsetgroup": "ekatra",
         "orientation": "v",
         "showlegend": true,
         "text": [
          80
         ],
         "textposition": "auto",
         "type": "bar",
         "x": [
          "ekatra"
         ],
         "xaxis": "x",
         "y": [
          80
         ],
         "yaxis": "y"
        },
        {
         "alignmentgroup": "True",
         "hovertemplate": "Startup Name=%{x}<br>Gross Margin=%{text}<extra></extra>",
         "legendgroup": "oyehappy",
         "marker": {
          "color": "#FF97FF",
          "pattern": {
           "shape": ""
          }
         },
         "name": "oyehappy",
         "offsetgroup": "oyehappy",
         "orientation": "v",
         "showlegend": true,
         "text": [
          80
         ],
         "textposition": "auto",
         "type": "bar",
         "x": [
          "oyehappy"
         ],
         "xaxis": "x",
         "y": [
          80
         ],
         "yaxis": "y"
        },
        {
         "alignmentgroup": "True",
         "hovertemplate": "Startup Name=%{x}<br>Gross Margin=%{text}<extra></extra>",
         "legendgroup": "Auli",
         "marker": {
          "color": "#FECB52",
          "pattern": {
           "shape": ""
          }
         },
         "name": "Auli",
         "offsetgroup": "Auli",
         "orientation": "v",
         "showlegend": true,
         "text": [
          80
         ],
         "textposition": "auto",
         "type": "bar",
         "x": [
          "Auli"
         ],
         "xaxis": "x",
         "y": [
          80
         ],
         "yaxis": "y"
        }
       ],
       "layout": {
        "autosize": true,
        "barmode": "relative",
        "legend": {
         "title": {
          "text": "Startup Name"
         },
         "tracegroupgap": 0
        },
        "template": {
         "data": {
          "bar": [
           {
            "error_x": {
             "color": "#2a3f5f"
            },
            "error_y": {
             "color": "#2a3f5f"
            },
            "marker": {
             "line": {
              "color": "#E5ECF6",
              "width": 0.5
             },
             "pattern": {
              "fillmode": "overlay",
              "size": 10,
              "solidity": 0.2
             }
            },
            "type": "bar"
           }
          ],
          "barpolar": [
           {
            "marker": {
             "line": {
              "color": "#E5ECF6",
              "width": 0.5
             },
             "pattern": {
              "fillmode": "overlay",
              "size": 10,
              "solidity": 0.2
             }
            },
            "type": "barpolar"
           }
          ],
          "carpet": [
           {
            "aaxis": {
             "endlinecolor": "#2a3f5f",
             "gridcolor": "white",
             "linecolor": "white",
             "minorgridcolor": "white",
             "startlinecolor": "#2a3f5f"
            },
            "baxis": {
             "endlinecolor": "#2a3f5f",
             "gridcolor": "white",
             "linecolor": "white",
             "minorgridcolor": "white",
             "startlinecolor": "#2a3f5f"
            },
            "type": "carpet"
           }
          ],
          "choropleth": [
           {
            "colorbar": {
             "outlinewidth": 0,
             "ticks": ""
            },
            "type": "choropleth"
           }
          ],
          "contour": [
           {
            "colorbar": {
             "outlinewidth": 0,
             "ticks": ""
            },
            "colorscale": [
             [
              0,
              "#0d0887"
             ],
             [
              0.1111111111111111,
              "#46039f"
             ],
             [
              0.2222222222222222,
              "#7201a8"
             ],
             [
              0.3333333333333333,
              "#9c179e"
             ],
             [
              0.4444444444444444,
              "#bd3786"
             ],
             [
              0.5555555555555556,
              "#d8576b"
             ],
             [
              0.6666666666666666,
              "#ed7953"
             ],
             [
              0.7777777777777778,
              "#fb9f3a"
             ],
             [
              0.8888888888888888,
              "#fdca26"
             ],
             [
              1,
              "#f0f921"
             ]
            ],
            "type": "contour"
           }
          ],
          "contourcarpet": [
           {
            "colorbar": {
             "outlinewidth": 0,
             "ticks": ""
            },
            "type": "contourcarpet"
           }
          ],
          "heatmap": [
           {
            "colorbar": {
             "outlinewidth": 0,
             "ticks": ""
            },
            "colorscale": [
             [
              0,
              "#0d0887"
             ],
             [
              0.1111111111111111,
              "#46039f"
             ],
             [
              0.2222222222222222,
              "#7201a8"
             ],
             [
              0.3333333333333333,
              "#9c179e"
             ],
             [
              0.4444444444444444,
              "#bd3786"
             ],
             [
              0.5555555555555556,
              "#d8576b"
             ],
             [
              0.6666666666666666,
              "#ed7953"
             ],
             [
              0.7777777777777778,
              "#fb9f3a"
             ],
             [
              0.8888888888888888,
              "#fdca26"
             ],
             [
              1,
              "#f0f921"
             ]
            ],
            "type": "heatmap"
           }
          ],
          "heatmapgl": [
           {
            "colorbar": {
             "outlinewidth": 0,
             "ticks": ""
            },
            "colorscale": [
             [
              0,
              "#0d0887"
             ],
             [
              0.1111111111111111,
              "#46039f"
             ],
             [
              0.2222222222222222,
              "#7201a8"
             ],
             [
              0.3333333333333333,
              "#9c179e"
             ],
             [
              0.4444444444444444,
              "#bd3786"
             ],
             [
              0.5555555555555556,
              "#d8576b"
             ],
             [
              0.6666666666666666,
              "#ed7953"
             ],
             [
              0.7777777777777778,
              "#fb9f3a"
             ],
             [
              0.8888888888888888,
              "#fdca26"
             ],
             [
              1,
              "#f0f921"
             ]
            ],
            "type": "heatmapgl"
           }
          ],
          "histogram": [
           {
            "marker": {
             "pattern": {
              "fillmode": "overlay",
              "size": 10,
              "solidity": 0.2
             }
            },
            "type": "histogram"
           }
          ],
          "histogram2d": [
           {
            "colorbar": {
             "outlinewidth": 0,
             "ticks": ""
            },
            "colorscale": [
             [
              0,
              "#0d0887"
             ],
             [
              0.1111111111111111,
              "#46039f"
             ],
             [
              0.2222222222222222,
              "#7201a8"
             ],
             [
              0.3333333333333333,
              "#9c179e"
             ],
             [
              0.4444444444444444,
              "#bd3786"
             ],
             [
              0.5555555555555556,
              "#d8576b"
             ],
             [
              0.6666666666666666,
              "#ed7953"
             ],
             [
              0.7777777777777778,
              "#fb9f3a"
             ],
             [
              0.8888888888888888,
              "#fdca26"
             ],
             [
              1,
              "#f0f921"
             ]
            ],
            "type": "histogram2d"
           }
          ],
          "histogram2dcontour": [
           {
            "colorbar": {
             "outlinewidth": 0,
             "ticks": ""
            },
            "colorscale": [
             [
              0,
              "#0d0887"
             ],
             [
              0.1111111111111111,
              "#46039f"
             ],
             [
              0.2222222222222222,
              "#7201a8"
             ],
             [
              0.3333333333333333,
              "#9c179e"
             ],
             [
              0.4444444444444444,
              "#bd3786"
             ],
             [
              0.5555555555555556,
              "#d8576b"
             ],
             [
              0.6666666666666666,
              "#ed7953"
             ],
             [
              0.7777777777777778,
              "#fb9f3a"
             ],
             [
              0.8888888888888888,
              "#fdca26"
             ],
             [
              1,
              "#f0f921"
             ]
            ],
            "type": "histogram2dcontour"
           }
          ],
          "mesh3d": [
           {
            "colorbar": {
             "outlinewidth": 0,
             "ticks": ""
            },
            "type": "mesh3d"
           }
          ],
          "parcoords": [
           {
            "line": {
             "colorbar": {
              "outlinewidth": 0,
              "ticks": ""
             }
            },
            "type": "parcoords"
           }
          ],
          "pie": [
           {
            "automargin": true,
            "type": "pie"
           }
          ],
          "scatter": [
           {
            "fillpattern": {
             "fillmode": "overlay",
             "size": 10,
             "solidity": 0.2
            },
            "type": "scatter"
           }
          ],
          "scatter3d": [
           {
            "line": {
             "colorbar": {
              "outlinewidth": 0,
              "ticks": ""
             }
            },
            "marker": {
             "colorbar": {
              "outlinewidth": 0,
              "ticks": ""
             }
            },
            "type": "scatter3d"
           }
          ],
          "scattercarpet": [
           {
            "marker": {
             "colorbar": {
              "outlinewidth": 0,
              "ticks": ""
             }
            },
            "type": "scattercarpet"
           }
          ],
          "scattergeo": [
           {
            "marker": {
             "colorbar": {
              "outlinewidth": 0,
              "ticks": ""
             }
            },
            "type": "scattergeo"
           }
          ],
          "scattergl": [
           {
            "marker": {
             "colorbar": {
              "outlinewidth": 0,
              "ticks": ""
             }
            },
            "type": "scattergl"
           }
          ],
          "scattermapbox": [
           {
            "marker": {
             "colorbar": {
              "outlinewidth": 0,
              "ticks": ""
             }
            },
            "type": "scattermapbox"
           }
          ],
          "scatterpolar": [
           {
            "marker": {
             "colorbar": {
              "outlinewidth": 0,
              "ticks": ""
             }
            },
            "type": "scatterpolar"
           }
          ],
          "scatterpolargl": [
           {
            "marker": {
             "colorbar": {
              "outlinewidth": 0,
              "ticks": ""
             }
            },
            "type": "scatterpolargl"
           }
          ],
          "scatterternary": [
           {
            "marker": {
             "colorbar": {
              "outlinewidth": 0,
              "ticks": ""
             }
            },
            "type": "scatterternary"
           }
          ],
          "surface": [
           {
            "colorbar": {
             "outlinewidth": 0,
             "ticks": ""
            },
            "colorscale": [
             [
              0,
              "#0d0887"
             ],
             [
              0.1111111111111111,
              "#46039f"
             ],
             [
              0.2222222222222222,
              "#7201a8"
             ],
             [
              0.3333333333333333,
              "#9c179e"
             ],
             [
              0.4444444444444444,
              "#bd3786"
             ],
             [
              0.5555555555555556,
              "#d8576b"
             ],
             [
              0.6666666666666666,
              "#ed7953"
             ],
             [
              0.7777777777777778,
              "#fb9f3a"
             ],
             [
              0.8888888888888888,
              "#fdca26"
             ],
             [
              1,
              "#f0f921"
             ]
            ],
            "type": "surface"
           }
          ],
          "table": [
           {
            "cells": {
             "fill": {
              "color": "#EBF0F8"
             },
             "line": {
              "color": "white"
             }
            },
            "header": {
             "fill": {
              "color": "#C8D4E3"
             },
             "line": {
              "color": "white"
             }
            },
            "type": "table"
           }
          ]
         },
         "layout": {
          "annotationdefaults": {
           "arrowcolor": "#2a3f5f",
           "arrowhead": 0,
           "arrowwidth": 1
          },
          "autotypenumbers": "strict",
          "coloraxis": {
           "colorbar": {
            "outlinewidth": 0,
            "ticks": ""
           }
          },
          "colorscale": {
           "diverging": [
            [
             0,
             "#8e0152"
            ],
            [
             0.1,
             "#c51b7d"
            ],
            [
             0.2,
             "#de77ae"
            ],
            [
             0.3,
             "#f1b6da"
            ],
            [
             0.4,
             "#fde0ef"
            ],
            [
             0.5,
             "#f7f7f7"
            ],
            [
             0.6,
             "#e6f5d0"
            ],
            [
             0.7,
             "#b8e186"
            ],
            [
             0.8,
             "#7fbc41"
            ],
            [
             0.9,
             "#4d9221"
            ],
            [
             1,
             "#276419"
            ]
           ],
           "sequential": [
            [
             0,
             "#0d0887"
            ],
            [
             0.1111111111111111,
             "#46039f"
            ],
            [
             0.2222222222222222,
             "#7201a8"
            ],
            [
             0.3333333333333333,
             "#9c179e"
            ],
            [
             0.4444444444444444,
             "#bd3786"
            ],
            [
             0.5555555555555556,
             "#d8576b"
            ],
            [
             0.6666666666666666,
             "#ed7953"
            ],
            [
             0.7777777777777778,
             "#fb9f3a"
            ],
            [
             0.8888888888888888,
             "#fdca26"
            ],
            [
             1,
             "#f0f921"
            ]
           ],
           "sequentialminus": [
            [
             0,
             "#0d0887"
            ],
            [
             0.1111111111111111,
             "#46039f"
            ],
            [
             0.2222222222222222,
             "#7201a8"
            ],
            [
             0.3333333333333333,
             "#9c179e"
            ],
            [
             0.4444444444444444,
             "#bd3786"
            ],
            [
             0.5555555555555556,
             "#d8576b"
            ],
            [
             0.6666666666666666,
             "#ed7953"
            ],
            [
             0.7777777777777778,
             "#fb9f3a"
            ],
            [
             0.8888888888888888,
             "#fdca26"
            ],
            [
             1,
             "#f0f921"
            ]
           ]
          },
          "colorway": [
           "#636efa",
           "#EF553B",
           "#00cc96",
           "#ab63fa",
           "#FFA15A",
           "#19d3f3",
           "#FF6692",
           "#B6E880",
           "#FF97FF",
           "#FECB52"
          ],
          "font": {
           "color": "#2a3f5f"
          },
          "geo": {
           "bgcolor": "white",
           "lakecolor": "white",
           "landcolor": "#E5ECF6",
           "showlakes": true,
           "showland": true,
           "subunitcolor": "white"
          },
          "hoverlabel": {
           "align": "left"
          },
          "hovermode": "closest",
          "mapbox": {
           "style": "light"
          },
          "paper_bgcolor": "white",
          "plot_bgcolor": "#E5ECF6",
          "polar": {
           "angularaxis": {
            "gridcolor": "white",
            "linecolor": "white",
            "ticks": ""
           },
           "bgcolor": "#E5ECF6",
           "radialaxis": {
            "gridcolor": "white",
            "linecolor": "white",
            "ticks": ""
           }
          },
          "scene": {
           "xaxis": {
            "backgroundcolor": "#E5ECF6",
            "gridcolor": "white",
            "gridwidth": 2,
            "linecolor": "white",
            "showbackground": true,
            "ticks": "",
            "zerolinecolor": "white"
           },
           "yaxis": {
            "backgroundcolor": "#E5ECF6",
            "gridcolor": "white",
            "gridwidth": 2,
            "linecolor": "white",
            "showbackground": true,
            "ticks": "",
            "zerolinecolor": "white"
           },
           "zaxis": {
            "backgroundcolor": "#E5ECF6",
            "gridcolor": "white",
            "gridwidth": 2,
            "linecolor": "white",
            "showbackground": true,
            "ticks": "",
            "zerolinecolor": "white"
           }
          },
          "shapedefaults": {
           "line": {
            "color": "#2a3f5f"
           }
          },
          "ternary": {
           "aaxis": {
            "gridcolor": "white",
            "linecolor": "white",
            "ticks": ""
           },
           "baxis": {
            "gridcolor": "white",
            "linecolor": "white",
            "ticks": ""
           },
           "bgcolor": "#E5ECF6",
           "caxis": {
            "gridcolor": "white",
            "linecolor": "white",
            "ticks": ""
           }
          },
          "title": {
           "x": 0.05
          },
          "xaxis": {
           "automargin": true,
           "gridcolor": "white",
           "linecolor": "white",
           "ticks": "",
           "title": {
            "standoff": 15
           },
           "zerolinecolor": "white",
           "zerolinewidth": 2
          },
          "yaxis": {
           "automargin": true,
           "gridcolor": "white",
           "linecolor": "white",
           "ticks": "",
           "title": {
            "standoff": 15
           },
           "zerolinecolor": "white",
           "zerolinewidth": 2
          }
         }
        },
        "title": {
         "text": "Higest Gross Margin Start-ups"
        },
        "xaxis": {
         "anchor": "y",
         "autorange": true,
         "categoryarray": [
          "Poo-de-Cologne",
          "Farda",
          "Cocofit",
          "UnStop",
          "MidNightAngelsByPC",
          "Pflow",
          "LeafyAffair",
          "ekatra",
          "oyehappy",
          "Auli"
         ],
         "categoryorder": "array",
         "domain": [
          0,
          1
         ],
         "range": [
          -0.5,
          9.5
         ],
         "title": {
          "text": "Startup Name"
         },
         "type": "category"
        },
        "yaxis": {
         "anchor": "x",
         "autorange": true,
         "domain": [
          0,
          1
         ],
         "range": [
          0,
          157.89473684210526
         ],
         "title": {
          "text": "Gross Margin"
         },
         "type": "linear"
        }
       }
      },
      "image/png": "[encoded data removed]",
      "text/html": [
       "<div>                            <div id=\"bd10b545-139d-4b05-a055-e25a3150d745\" class=\"plotly-graph-div\" style=\"height:525px; width:100%;\"></div>            <script type=\"text/javascript\">                require([\"plotly\"], function(Plotly) {                    window.PLOTLYENV=window.PLOTLYENV || {};                                    if (document.getElementById(\"bd10b545-139d-4b05-a055-e25a3150d745\")) {                    Plotly.newPlot(                        \"bd10b545-139d-4b05-a055-e25a3150d745\",                        [{\"alignmentgroup\":\"True\",\"hovertemplate\":\"Startup Name=%{x}<br>Gross Margin=%{text}<extra></extra>\",\"legendgroup\":\"Poo-de-Cologne\",\"marker\":{\"color\":\"#636efa\",\"pattern\":{\"shape\":\"\"}},\"name\":\"Poo-de-Cologne\",\"offsetgroup\":\"Poo-de-Cologne\",\"orientation\":\"v\",\"showlegend\":true,\"text\":[150.0],\"textposition\":\"auto\",\"x\":[\"Poo-de-Cologne\"],\"xaxis\":\"x\",\"y\":[150.0],\"yaxis\":\"y\",\"type\":\"bar\"},{\"alignmentgroup\":\"True\",\"hovertemplate\":\"Startup Name=%{x}<br>Gross Margin=%{text}<extra></extra>\",\"legendgroup\":\"Farda\",\"marker\":{\"color\":\"#EF553B\",\"pattern\":{\"shape\":\"\"}},\"name\":\"Farda\",\"offsetgroup\":\"Farda\",\"orientation\":\"v\",\"showlegend\":true,\"text\":[115.0],\"textposition\":\"auto\",\"x\":[\"Farda\"],\"xaxis\":\"x\",\"y\":[115.0],\"yaxis\":\"y\",\"type\":\"bar\"},{\"alignmentgroup\":\"True\",\"hovertemplate\":\"Startup Name=%{x}<br>Gross Margin=%{text}<extra></extra>\",\"legendgroup\":\"Cocofit\",\"marker\":{\"color\":\"#00cc96\",\"pattern\":{\"shape\":\"\"}},\"name\":\"Cocofit\",\"offsetgroup\":\"Cocofit\",\"orientation\":\"v\",\"showlegend\":true,\"text\":[95.0],\"textposition\":\"auto\",\"x\":[\"Cocofit\"],\"xaxis\":\"x\",\"y\":[95.0],\"yaxis\":\"y\",\"type\":\"bar\"},{\"alignmentgroup\":\"True\",\"hovertemplate\":\"Startup Name=%{x}<br>Gross Margin=%{text}<extra></extra>\",\"legendgroup\":\"UnStop\",\"marker\":{\"color\":\"#ab63fa\",\"pattern\":{\"shape\":\"\"}},\"name\":\"UnStop\",\"offsetgroup\":\"UnStop\",\"orientation\":\"v\",\"showlegend\":true,\"text\":[90.0],\"textposition\":\"auto\",\"x\":[\"UnStop\"],\"xaxis\":\"x\",\"y\":[90.0],\"yaxis\":\"y\",\"type\":\"bar\"},{\"alignmentgroup\":\"True\",\"hovertemplate\":\"Startup Name=%{x}<br>Gross Margin=%{text}<extra></extra>\",\"legendgroup\":\"MidNightAngelsByPC\",\"marker\":{\"color\":\"#FFA15A\",\"pattern\":{\"shape\":\"\"}},\"name\":\"MidNightAngelsByPC\",\"offsetgroup\":\"MidNightAngelsByPC\",\"orientation\":\"v\",\"showlegend\":true,\"text\":[83.0],\"textposition\":\"auto\",\"x\":[\"MidNightAngelsByPC\"],\"xaxis\":\"x\",\"y\":[83.0],\"yaxis\":\"y\",\"type\":\"bar\"},{\"alignmentgroup\":\"True\",\"hovertemplate\":\"Startup Name=%{x}<br>Gross Margin=%{text}<extra></extra>\",\"legendgroup\":\"Pflow\",\"marker\":{\"color\":\"#19d3f3\",\"pattern\":{\"shape\":\"\"}},\"name\":\"Pflow\",\"offsetgroup\":\"Pflow\",\"orientation\":\"v\",\"showlegend\":true,\"text\":[80.0],\"textposition\":\"auto\",\"x\":[\"Pflow\"],\"xaxis\":\"x\",\"y\":[80.0],\"yaxis\":\"y\",\"type\":\"bar\"},{\"alignmentgroup\":\"True\",\"hovertemplate\":\"Startup Name=%{x}<br>Gross Margin=%{text}<extra></extra>\",\"legendgroup\":\"LeafyAffair\",\"marker\":{\"color\":\"#FF6692\",\"pattern\":{\"shape\":\"\"}},\"name\":\"LeafyAffair\",\"offsetgroup\":\"LeafyAffair\",\"orientation\":\"v\",\"showlegend\":true,\"text\":[80.0],\"textposition\":\"auto\",\"x\":[\"LeafyAffair\"],\"xaxis\":\"x\",\"y\":[80.0],\"yaxis\":\"y\",\"type\":\"bar\"},{\"alignmentgroup\":\"True\",\"hovertemplate\":\"Startup Name=%{x}<br>Gross Margin=%{text}<extra></extra>\",\"legendgroup\":\"ekatra\",\"marker\":{\"color\":\"#B6E880\",\"pattern\":{\"shape\":\"\"}},\"name\":\"ekatra\",\"offsetgroup\":\"ekatra\",\"orientation\":\"v\",\"showlegend\":true,\"text\":[80.0],\"textposition\":\"auto\",\"x\":[\"ekatra\"],\"xaxis\":\"x\",\"y\":[80.0],\"yaxis\":\"y\",\"type\":\"bar\"},{\"alignmentgroup\":\"True\",\"hovertemplate\":\"Startup Name=%{x}<br>Gross Margin=%{text}<extra></extra>\",\"legendgroup\":\"oyehappy\",\"marker\":{\"color\":\"#FF97FF\",\"pattern\":{\"shape\":\"\"}},\"name\":\"oyehappy\",\"offsetgroup\":\"oyehappy\",\"orientation\":\"v\",\"showlegend\":true,\"text\":[80.0],\"textposition\":\"auto\",\"x\":[\"oyehappy\"],\"xaxis\":\"x\",\"y\":[80.0],\"yaxis\":\"y\",\"type\":\"bar\"},{\"alignmentgroup\":\"True\",\"hovertemplate\":\"Startup Name=%{x}<br>Gross Margin=%{text}<extra></extra>\",\"legendgroup\":\"Auli\",\"marker\":{\"color\":\"#FECB52\",\"pattern\":{\"shape\":\"\"}},\"name\":\"Auli\",\"offsetgroup\":\"Auli\",\"orientation\":\"v\",\"showlegend\":true,\"text\":[80.0],\"textposition\":\"auto\",\"x\":[\"Auli\"],\"xaxis\":\"x\",\"y\":[80.0],\"yaxis\":\"y\",\"type\":\"bar\"}],                        {\"template\":{\"data\":{\"histogram2dcontour\":[{\"type\":\"histogram2dcontour\",\"colorbar\":{\"outlinewidth\":0,\"ticks\":\"\"},\"colorscale\":[[0.0,\"#0d0887\"],[0.1111111111111111,\"#46039f\"],[0.2222222222222222,\"#7201a8\"],[0.3333333333333333,\"#9c179e\"],[0.4444444444444444,\"#bd3786\"],[0.5555555555555556,\"#d8576b\"],[0.6666666666666666,\"#ed7953\"],[0.7777777777777778,\"#fb9f3a\"],[0.8888888888888888,\"#fdca26\"],[1.0,\"#f0f921\"]]}],\"choropleth\":[{\"type\":\"choropleth\",\"colorbar\":{\"outlinewidth\":0,\"ticks\":\"\"}}],\"histogram2d\":[{\"type\":\"histogram2d\",\"colorbar\":{\"outlinewidth\":0,\"ticks\":\"\"},\"colorscale\":[[0.0,\"#0d0887\"],[0.1111111111111111,\"#46039f\"],[0.2222222222222222,\"#7201a8\"],[0.3333333333333333,\"#9c179e\"],[0.4444444444444444,\"#bd3786\"],[0.5555555555555556,\"#d8576b\"],[0.6666666666666666,\"#ed7953\"],[0.7777777777777778,\"#fb9f3a\"],[0.8888888888888888,\"#fdca26\"],[1.0,\"#f0f921\"]]}],\"heatmap\":[{\"type\":\"heatmap\",\"colorbar\":{\"outlinewidth\":0,\"ticks\":\"\"},\"colorscale\":[[0.0,\"#0d0887\"],[0.1111111111111111,\"#46039f\"],[0.2222222222222222,\"#7201a8\"],[0.3333333333333333,\"#9c179e\"],[0.4444444444444444,\"#bd3786\"],[0.5555555555555556,\"#d8576b\"],[0.6666666666666666,\"#ed7953\"],[0.7777777777777778,\"#fb9f3a\"],[0.8888888888888888,\"#fdca26\"],[1.0,\"#f0f921\"]]}],\"heatmapgl\":[{\"type\":\"heatmapgl\",\"colorbar\":{\"outlinewidth\":0,\"ticks\":\"\"},\"colorscale\":[[0.0,\"#0d0887\"],[0.1111111111111111,\"#46039f\"],[0.2222222222222222,\"#7201a8\"],[0.3333333333333333,\"#9c179e\"],[0.4444444444444444,\"#bd3786\"],[0.5555555555555556,\"#d8576b\"],[0.6666666666666666,\"#ed7953\"],[0.7777777777777778,\"#fb9f3a\"],[0.8888888888888888,\"#fdca26\"],[1.0,\"#f0f921\"]]}],\"contourcarpet\":[{\"type\":\"contourcarpet\",\"colorbar\":{\"outlinewidth\":0,\"ticks\":\"\"}}],\"contour\":[{\"type\":\"contour\",\"colorbar\":{\"outlinewidth\":0,\"ticks\":\"\"},\"colorscale\":[[0.0,\"#0d0887\"],[0.1111111111111111,\"#46039f\"],[0.2222222222222222,\"#7201a8\"],[0.3333333333333333,\"#9c179e\"],[0.4444444444444444,\"#bd3786\"],[0.5555555555555556,\"#d8576b\"],[0.6666666666666666,\"#ed7953\"],[0.7777777777777778,\"#fb9f3a\"],[0.8888888888888888,\"#fdca26\"],[1.0,\"#f0f921\"]]}],\"surface\":[{\"type\":\"surface\",\"colorbar\":{\"outlinewidth\":0,\"ticks\":\"\"},\"colorscale\":[[0.0,\"#0d0887\"],[0.1111111111111111,\"#46039f\"],[0.2222222222222222,\"#7201a8\"],[0.3333333333333333,\"#9c179e\"],[0.4444444444444444,\"#bd3786\"],[0.5555555555555556,\"#d8576b\"],[0.6666666666666666,\"#ed7953\"],[0.7777777777777778,\"#fb9f3a\"],[0.8888888888888888,\"#fdca26\"],[1.0,\"#f0f921\"]]}],\"mesh3d\":[{\"type\":\"mesh3d\",\"colorbar\":{\"outlinewidth\":0,\"ticks\":\"\"}}],\"scatter\":[{\"fillpattern\":{\"fillmode\":\"overlay\",\"size\":10,\"solidity\":0.2},\"type\":\"scatter\"}],\"parcoords\":[{\"type\":\"parcoords\",\"line\":{\"colorbar\":{\"outlinewidth\":0,\"ticks\":\"\"}}}],\"scatterpolargl\":[{\"type\":\"scatterpolargl\",\"marker\":{\"colorbar\":{\"outlinewidth\":0,\"ticks\":\"\"}}}],\"bar\":[{\"error_x\":{\"color\":\"#2a3f5f\"},\"error_y\":{\"color\":\"#2a3f5f\"},\"marker\":{\"line\":{\"color\":\"#E5ECF6\",\"width\":0.5},\"pattern\":{\"fillmode\":\"overlay\",\"size\":10,\"solidity\":0.2}},\"type\":\"bar\"}],\"scattergeo\":[{\"type\":\"scattergeo\",\"marker\":{\"colorbar\":{\"outlinewidth\":0,\"ticks\":\"\"}}}],\"scatterpolar\":[{\"type\":\"scatterpolar\",\"marker\":{\"colorbar\":{\"outlinewidth\":0,\"ticks\":\"\"}}}],\"histogram\":[{\"marker\":{\"pattern\":{\"fillmode\":\"overlay\",\"size\":10,\"solidity\":0.2}},\"type\":\"histogram\"}],\"scattergl\":[{\"type\":\"scattergl\",\"marker\":{\"colorbar\":{\"outlinewidth\":0,\"ticks\":\"\"}}}],\"scatter3d\":[{\"type\":\"scatter3d\",\"line\":{\"colorbar\":{\"outlinewidth\":0,\"ticks\":\"\"}},\"marker\":{\"colorbar\":{\"outlinewidth\":0,\"ticks\":\"\"}}}],\"scattermapbox\":[{\"type\":\"scattermapbox\",\"marker\":{\"colorbar\":{\"outlinewidth\":0,\"ticks\":\"\"}}}],\"scatterternary\":[{\"type\":\"scatterternary\",\"marker\":{\"colorbar\":{\"outlinewidth\":0,\"ticks\":\"\"}}}],\"scattercarpet\":[{\"type\":\"scattercarpet\",\"marker\":{\"colorbar\":{\"outlinewidth\":0,\"ticks\":\"\"}}}],\"carpet\":[{\"aaxis\":{\"endlinecolor\":\"#2a3f5f\",\"gridcolor\":\"white\",\"linecolor\":\"white\",\"minorgridcolor\":\"white\",\"startlinecolor\":\"#2a3f5f\"},\"baxis\":{\"endlinecolor\":\"#2a3f5f\",\"gridcolor\":\"white\",\"linecolor\":\"white\",\"minorgridcolor\":\"white\",\"startlinecolor\":\"#2a3f5f\"},\"type\":\"carpet\"}],\"table\":[{\"cells\":{\"fill\":{\"color\":\"#EBF0F8\"},\"line\":{\"color\":\"white\"}},\"header\":{\"fill\":{\"color\":\"#C8D4E3\"},\"line\":{\"color\":\"white\"}},\"type\":\"table\"}],\"barpolar\":[{\"marker\":{\"line\":{\"color\":\"#E5ECF6\",\"width\":0.5},\"pattern\":{\"fillmode\":\"overlay\",\"size\":10,\"solidity\":0.2}},\"type\":\"barpolar\"}],\"pie\":[{\"automargin\":true,\"type\":\"pie\"}]},\"layout\":{\"autotypenumbers\":\"strict\",\"colorway\":[\"#636efa\",\"#EF553B\",\"#00cc96\",\"#ab63fa\",\"#FFA15A\",\"#19d3f3\",\"#FF6692\",\"#B6E880\",\"#FF97FF\",\"#FECB52\"],\"font\":{\"color\":\"#2a3f5f\"},\"hovermode\":\"closest\",\"hoverlabel\":{\"align\":\"left\"},\"paper_bgcolor\":\"white\",\"plot_bgcolor\":\"#E5ECF6\",\"polar\":{\"bgcolor\":\"#E5ECF6\",\"angularaxis\":{\"gridcolor\":\"white\",\"linecolor\":\"white\",\"ticks\":\"\"},\"radialaxis\":{\"gridcolor\":\"white\",\"linecolor\":\"white\",\"ticks\":\"\"}},\"ternary\":{\"bgcolor\":\"#E5ECF6\",\"aaxis\":{\"gridcolor\":\"white\",\"linecolor\":\"white\",\"ticks\":\"\"},\"baxis\":{\"gridcolor\":\"white\",\"linecolor\":\"white\",\"ticks\":\"\"},\"caxis\":{\"gridcolor\":\"white\",\"linecolor\":\"white\",\"ticks\":\"\"}},\"coloraxis\":{\"colorbar\":{\"outlinewidth\":0,\"ticks\":\"\"}},\"colorscale\":{\"sequential\":[[0.0,\"#0d0887\"],[0.1111111111111111,\"#46039f\"],[0.2222222222222222,\"#7201a8\"],[0.3333333333333333,\"#9c179e\"],[0.4444444444444444,\"#bd3786\"],[0.5555555555555556,\"#d8576b\"],[0.6666666666666666,\"#ed7953\"],[0.7777777777777778,\"#fb9f3a\"],[0.8888888888888888,\"#fdca26\"],[1.0,\"#f0f921\"]],\"sequentialminus\":[[0.0,\"#0d0887\"],[0.1111111111111111,\"#46039f\"],[0.2222222222222222,\"#7201a8\"],[0.3333333333333333,\"#9c179e\"],[0.4444444444444444,\"#bd3786\"],[0.5555555555555556,\"#d8576b\"],[0.6666666666666666,\"#ed7953\"],[0.7777777777777778,\"#fb9f3a\"],[0.8888888888888888,\"#fdca26\"],[1.0,\"#f0f921\"]],\"diverging\":[[0,\"#8e0152\"],[0.1,\"#c51b7d\"],[0.2,\"#de77ae\"],[0.3,\"#f1b6da\"],[0.4,\"#fde0ef\"],[0.5,\"#f7f7f7\"],[0.6,\"#e6f5d0\"],[0.7,\"#b8e186\"],[0.8,\"#7fbc41\"],[0.9,\"#4d9221\"],[1,\"#276419\"]]},\"xaxis\":{\"gridcolor\":\"white\",\"linecolor\":\"white\",\"ticks\":\"\",\"title\":{\"standoff\":15},\"zerolinecolor\":\"white\",\"automargin\":true,\"zerolinewidth\":2},\"yaxis\":{\"gridcolor\":\"white\",\"linecolor\":\"white\",\"ticks\":\"\",\"title\":{\"standoff\":15},\"zerolinecolor\":\"white\",\"automargin\":true,\"zerolinewidth\":2},\"scene\":{\"xaxis\":{\"backgroundcolor\":\"#E5ECF6\",\"gridcolor\":\"white\",\"linecolor\":\"white\",\"showbackground\":true,\"ticks\":\"\",\"zerolinecolor\":\"white\",\"gridwidth\":2},\"yaxis\":{\"backgroundcolor\":\"#E5ECF6\",\"gridcolor\":\"white\",\"linecolor\":\"white\",\"showbackground\":true,\"ticks\":\"\",\"zerolinecolor\":\"white\",\"gridwidth\":2},\"zaxis\":{\"backgroundcolor\":\"#E5ECF6\",\"gridcolor\":\"white\",\"linecolor\":\"white\",\"showbackground\":true,\"ticks\":\"\",\"zerolinecolor\":\"white\",\"gridwidth\":2}},\"shapedefaults\":{\"line\":{\"color\":\"#2a3f5f\"}},\"annotationdefaults\":{\"arrowcolor\":\"#2a3f5f\",\"arrowhead\":0,\"arrowwidth\":1},\"geo\":{\"bgcolor\":\"white\",\"landcolor\":\"#E5ECF6\",\"subunitcolor\":\"white\",\"showland\":true,\"showlakes\":true,\"lakecolor\":\"white\"},\"title\":{\"x\":0.05},\"mapbox\":{\"style\":\"light\"}}},\"xaxis\":{\"anchor\":\"y\",\"domain\":[0.0,1.0],\"title\":{\"text\":\"Startup Name\"},\"categoryorder\":\"array\",\"categoryarray\":[\"Poo-de-Cologne\",\"Farda\",\"Cocofit\",\"UnStop\",\"MidNightAngelsByPC\",\"Pflow\",\"LeafyAffair\",\"ekatra\",\"oyehappy\",\"Auli\"]},\"yaxis\":{\"anchor\":\"x\",\"domain\":[0.0,1.0],\"title\":{\"text\":\"Gross Margin\"}},\"legend\":{\"title\":{\"text\":\"Startup Name\"},\"tracegroupgap\":0},\"title\":{\"text\":\"Higest Gross Margin Start-ups\"},\"barmode\":\"relative\"},                        {\"responsive\": true}                    ).then(function(){\n",
       "                            \n",
       "var gd = document.getElementById('bd10b545-139d-4b05-a055-e25a3150d745');\n",
       "var x = new MutationObserver(function (mutations, observer) {{\n",
       "        var display = window.getComputedStyle(gd).display;\n",
       "        if (!display || display === 'none') {{\n",
       "            console.log([gd, 'removed!']);\n",
       "            Plotly.purge(gd);\n",
       "            observer.disconnect();\n",
       "        }}\n",
       "}});\n",
       "\n",
       "// Listen for the removal of the full notebook cells\n",
       "var notebookContainer = gd.closest('#notebook-container');\n",
       "if (notebookContainer) {{\n",
       "    x.observe(notebookContainer, {childList: true});\n",
       "}}\n",
       "\n",
       "// Listen for the clearing of the current output cell\n",
       "var outputEl = gd.closest('.output');\n",
       "if (outputEl) {{\n",
       "    x.observe(outputEl, {childList: true});\n",
       "}}\n",
       "\n",
       "                        })                };                });            </script>        </div>"
      ]
     },
     "metadata": {},
     "output_type": "display_data"
    }
   ],
   "source": [
    "# Visualisation Code\n",
    "\n",
    "higest_gross_margin = shark_tank[['Startup Name','Gross Margin']].sort_values(by='Gross Margin', ascending=False).head(10)\n",
    "fig = px.bar(higest_gross_margin, x='Startup Name', y='Gross Margin', color=\"Startup Name\", template='plotly', title=\"Higest Gross Margin Start-ups\", text=higest_gross_margin['Gross Margin'])\n",
    "fig.show()"
   ]
  },
  {
   "cell_type": "markdown",
   "id": "2ede5ad7-234e-4435-811e-2fc02f92e8af",
   "metadata": {},
   "source": [
    "# How Many accepted or rejected sharks offer"
   ]
  },
  {
   "cell_type": "code",
   "execution_count": 61,
   "id": "6ac3bb0f-f18d-479f-8b87-3eab59fb5fce",
   "metadata": {},
   "outputs": [
    {
     "data": {
      "text/plain": [
       "Accepted Offer\n",
       "1.0    176\n",
       "0.0     41\n",
       "Name: count, dtype: int64"
      ]
     },
     "execution_count": 61,
     "metadata": {},
     "output_type": "execute_result"
    }
   ],
   "source": [
    "shark_tank['Accepted Offer'].value_counts()"
   ]
  },
  {
   "cell_type": "code",
   "execution_count": 62,
   "id": "b6dbb595-ba5b-47de-835f-6370d124857a",
   "metadata": {},
   "outputs": [
    {
     "data": {
      "text/plain": [
       "<Axes: xlabel='Accepted Offer', ylabel='count'>"
      ]
     },
     "execution_count": 62,
     "metadata": {},
     "output_type": "execute_result"
    },
    {
     "data": {
      "image/png": "[encoded data removed]",
      "text/plain": [
       "<Figure size 640x480 with 1 Axes>"
      ]
     },
     "metadata": {},
     "output_type": "display_data"
    }
   ],
   "source": [
    "# Visualization Code\n",
    "sns.countplot(data=shark_tank, x='Accepted Offer', palette='viridis')"
   ]
  },
  {
   "cell_type": "code",
   "execution_count": 63,
   "id": "44784ed9-9604-4e75-96d3-18284ea5bb95",
   "metadata": {},
   "outputs": [
    {
     "data": {
      "text/html": [
       "<div>\n",
       "<style scoped>\n",
       "    .dataframe tbody tr th:only-of-type {\n",
       "        vertical-align: middle;\n",
       "    }\n",
       "\n",
       "    .dataframe tbody tr th {\n",
       "        vertical-align: top;\n",
       "    }\n",
       "\n",
       "    .dataframe thead th {\n",
       "        text-align: right;\n",
       "    }\n",
       "</style>\n",
       "<table border=\"1\" class=\"dataframe\">\n",
       "  <thead>\n",
       "    <tr style=\"text-align: right;\">\n",
       "      <th></th>\n",
       "      <th>Season Number</th>\n",
       "      <th>Startup Name</th>\n",
       "      <th>Season Start</th>\n",
       "      <th>Season End</th>\n",
       "      <th>Episode Number</th>\n",
       "      <th>Episode Title</th>\n",
       "      <th>Anchor</th>\n",
       "      <th>Pitch Number</th>\n",
       "      <th>Industry</th>\n",
       "      <th>Business Description</th>\n",
       "      <th>...</th>\n",
       "      <th>Guest Name</th>\n",
       "      <th>Ashneer Present</th>\n",
       "      <th>Namita Present</th>\n",
       "      <th>Anupam Present</th>\n",
       "      <th>Vineeta Present</th>\n",
       "      <th>Aman Present</th>\n",
       "      <th>Peyush Present</th>\n",
       "      <th>Ghazal Present</th>\n",
       "      <th>Amit Present</th>\n",
       "      <th>Guest Present</th>\n",
       "    </tr>\n",
       "  </thead>\n",
       "  <tbody>\n",
       "    <tr>\n",
       "      <th>6</th>\n",
       "      <td>1</td>\n",
       "      <td>qZenseLabs</td>\n",
       "      <td>20-Dec-21</td>\n",
       "      <td>04-Feb-22</td>\n",
       "      <td>3</td>\n",
       "      <td>Aam Aadmi Ke Business Ideas</td>\n",
       "      <td>Rannvijay Singh</td>\n",
       "      <td>7</td>\n",
       "      <td>Food</td>\n",
       "      <td>Food Freshness Detector</td>\n",
       "      <td>...</td>\n",
       "      <td>NaN</td>\n",
       "      <td>1.0</td>\n",
       "      <td>1.0</td>\n",
       "      <td>1.0</td>\n",
       "      <td>1.0</td>\n",
       "      <td>1.0</td>\n",
       "      <td>NaN</td>\n",
       "      <td>NaN</td>\n",
       "      <td>NaN</td>\n",
       "      <td>NaN</td>\n",
       "    </tr>\n",
       "    <tr>\n",
       "      <th>19</th>\n",
       "      <td>1</td>\n",
       "      <td>Torch-it</td>\n",
       "      <td>20-Dec-21</td>\n",
       "      <td>04-Feb-22</td>\n",
       "      <td>7</td>\n",
       "      <td>A Never Give Up Spirit</td>\n",
       "      <td>Rannvijay Singh</td>\n",
       "      <td>20</td>\n",
       "      <td>Education</td>\n",
       "      <td>Gadgets for visually impaired people</td>\n",
       "      <td>...</td>\n",
       "      <td>NaN</td>\n",
       "      <td>1.0</td>\n",
       "      <td>1.0</td>\n",
       "      <td>1.0</td>\n",
       "      <td>1.0</td>\n",
       "      <td>1.0</td>\n",
       "      <td>NaN</td>\n",
       "      <td>NaN</td>\n",
       "      <td>NaN</td>\n",
       "      <td>NaN</td>\n",
       "    </tr>\n",
       "    <tr>\n",
       "      <th>21</th>\n",
       "      <td>1</td>\n",
       "      <td>LaKheerDeli</td>\n",
       "      <td>20-Dec-21</td>\n",
       "      <td>04-Feb-22</td>\n",
       "      <td>7</td>\n",
       "      <td>A Never Give Up Spirit</td>\n",
       "      <td>Rannvijay Singh</td>\n",
       "      <td>22</td>\n",
       "      <td>Food</td>\n",
       "      <td>Kheer in variety of flavors</td>\n",
       "      <td>...</td>\n",
       "      <td>NaN</td>\n",
       "      <td>1.0</td>\n",
       "      <td>1.0</td>\n",
       "      <td>1.0</td>\n",
       "      <td>1.0</td>\n",
       "      <td>1.0</td>\n",
       "      <td>NaN</td>\n",
       "      <td>NaN</td>\n",
       "      <td>NaN</td>\n",
       "      <td>NaN</td>\n",
       "    </tr>\n",
       "    <tr>\n",
       "      <th>27</th>\n",
       "      <td>1</td>\n",
       "      <td>KabiraHandmad</td>\n",
       "      <td>20-Dec-21</td>\n",
       "      <td>04-Feb-22</td>\n",
       "      <td>9</td>\n",
       "      <td>Defining Innovations</td>\n",
       "      <td>Rannvijay Singh</td>\n",
       "      <td>28</td>\n",
       "      <td>Food</td>\n",
       "      <td>Healthy Edible Oils dairy products spices flour</td>\n",
       "      <td>...</td>\n",
       "      <td>NaN</td>\n",
       "      <td>1.0</td>\n",
       "      <td>1.0</td>\n",
       "      <td>1.0</td>\n",
       "      <td>NaN</td>\n",
       "      <td>1.0</td>\n",
       "      <td>1.0</td>\n",
       "      <td>NaN</td>\n",
       "      <td>NaN</td>\n",
       "      <td>NaN</td>\n",
       "    </tr>\n",
       "    <tr>\n",
       "      <th>41</th>\n",
       "      <td>1</td>\n",
       "      <td>MorrikoPureFoods</td>\n",
       "      <td>20-Dec-21</td>\n",
       "      <td>04-Feb-22</td>\n",
       "      <td>14</td>\n",
       "      <td>Naye Aur Nayab Pitchers</td>\n",
       "      <td>Rannvijay Singh</td>\n",
       "      <td>42</td>\n",
       "      <td>Food</td>\n",
       "      <td>Healthy Food Snacks Kamdhenu foods</td>\n",
       "      <td>...</td>\n",
       "      <td>NaN</td>\n",
       "      <td>1.0</td>\n",
       "      <td>1.0</td>\n",
       "      <td>1.0</td>\n",
       "      <td>NaN</td>\n",
       "      <td>1.0</td>\n",
       "      <td>1.0</td>\n",
       "      <td>NaN</td>\n",
       "      <td>NaN</td>\n",
       "      <td>NaN</td>\n",
       "    </tr>\n",
       "    <tr>\n",
       "      <th>55</th>\n",
       "      <td>1</td>\n",
       "      <td>IndiaHempandCo</td>\n",
       "      <td>20-Dec-21</td>\n",
       "      <td>04-Feb-22</td>\n",
       "      <td>18</td>\n",
       "      <td>Investing In Profitable Businesses</td>\n",
       "      <td>Rannvijay Singh</td>\n",
       "      <td>56</td>\n",
       "      <td>Food</td>\n",
       "      <td>Hemp Food Products</td>\n",
       "      <td>...</td>\n",
       "      <td>NaN</td>\n",
       "      <td>1.0</td>\n",
       "      <td>1.0</td>\n",
       "      <td>1.0</td>\n",
       "      <td>NaN</td>\n",
       "      <td>1.0</td>\n",
       "      <td>1.0</td>\n",
       "      <td>NaN</td>\n",
       "      <td>NaN</td>\n",
       "      <td>NaN</td>\n",
       "    </tr>\n",
       "    <tr>\n",
       "      <th>60</th>\n",
       "      <td>1</td>\n",
       "      <td>KetoIndia</td>\n",
       "      <td>20-Dec-21</td>\n",
       "      <td>04-Feb-22</td>\n",
       "      <td>19</td>\n",
       "      <td>Forming An Idea And Bagging A Deal</td>\n",
       "      <td>Rannvijay Singh</td>\n",
       "      <td>61</td>\n",
       "      <td>Food</td>\n",
       "      <td>Customised Keto Diets for various Medical/Heal...</td>\n",
       "      <td>...</td>\n",
       "      <td>NaN</td>\n",
       "      <td>1.0</td>\n",
       "      <td>1.0</td>\n",
       "      <td>1.0</td>\n",
       "      <td>NaN</td>\n",
       "      <td>1.0</td>\n",
       "      <td>1.0</td>\n",
       "      <td>NaN</td>\n",
       "      <td>NaN</td>\n",
       "      <td>NaN</td>\n",
       "    </tr>\n",
       "    <tr>\n",
       "      <th>70</th>\n",
       "      <td>1</td>\n",
       "      <td>Moonshine</td>\n",
       "      <td>20-Dec-21</td>\n",
       "      <td>04-Feb-22</td>\n",
       "      <td>22</td>\n",
       "      <td>Turning Ideas Into Businesses</td>\n",
       "      <td>Rannvijay Singh</td>\n",
       "      <td>71</td>\n",
       "      <td>Food</td>\n",
       "      <td>Meads</td>\n",
       "      <td>...</td>\n",
       "      <td>NaN</td>\n",
       "      <td>1.0</td>\n",
       "      <td>NaN</td>\n",
       "      <td>1.0</td>\n",
       "      <td>1.0</td>\n",
       "      <td>1.0</td>\n",
       "      <td>1.0</td>\n",
       "      <td>NaN</td>\n",
       "      <td>NaN</td>\n",
       "      <td>NaN</td>\n",
       "    </tr>\n",
       "    <tr>\n",
       "      <th>71</th>\n",
       "      <td>1</td>\n",
       "      <td>Falhari</td>\n",
       "      <td>20-Dec-21</td>\n",
       "      <td>04-Feb-22</td>\n",
       "      <td>22</td>\n",
       "      <td>Turning Ideas Into Businesses</td>\n",
       "      <td>Rannvijay Singh</td>\n",
       "      <td>72</td>\n",
       "      <td>Food</td>\n",
       "      <td>Fresh Fruits salads</td>\n",
       "      <td>...</td>\n",
       "      <td>NaN</td>\n",
       "      <td>1.0</td>\n",
       "      <td>NaN</td>\n",
       "      <td>1.0</td>\n",
       "      <td>1.0</td>\n",
       "      <td>1.0</td>\n",
       "      <td>1.0</td>\n",
       "      <td>NaN</td>\n",
       "      <td>NaN</td>\n",
       "      <td>NaN</td>\n",
       "    </tr>\n",
       "    <tr>\n",
       "      <th>73</th>\n",
       "      <td>1</td>\n",
       "      <td>UrbanMonkey</td>\n",
       "      <td>20-Dec-21</td>\n",
       "      <td>04-Feb-22</td>\n",
       "      <td>23</td>\n",
       "      <td>Investing In Innovation</td>\n",
       "      <td>Rannvijay Singh</td>\n",
       "      <td>74</td>\n",
       "      <td>Beauty/Fashion</td>\n",
       "      <td>Streetwear</td>\n",
       "      <td>...</td>\n",
       "      <td>NaN</td>\n",
       "      <td>1.0</td>\n",
       "      <td>NaN</td>\n",
       "      <td>1.0</td>\n",
       "      <td>1.0</td>\n",
       "      <td>1.0</td>\n",
       "      <td>1.0</td>\n",
       "      <td>NaN</td>\n",
       "      <td>NaN</td>\n",
       "      <td>NaN</td>\n",
       "    </tr>\n",
       "    <tr>\n",
       "      <th>74</th>\n",
       "      <td>1</td>\n",
       "      <td>GuardianGears</td>\n",
       "      <td>20-Dec-21</td>\n",
       "      <td>04-Feb-22</td>\n",
       "      <td>23</td>\n",
       "      <td>Investing In Innovation</td>\n",
       "      <td>Rannvijay Singh</td>\n",
       "      <td>75</td>\n",
       "      <td>Manufacturing</td>\n",
       "      <td>Motorcycle Luggage bags</td>\n",
       "      <td>...</td>\n",
       "      <td>NaN</td>\n",
       "      <td>1.0</td>\n",
       "      <td>NaN</td>\n",
       "      <td>1.0</td>\n",
       "      <td>1.0</td>\n",
       "      <td>1.0</td>\n",
       "      <td>1.0</td>\n",
       "      <td>NaN</td>\n",
       "      <td>NaN</td>\n",
       "      <td>NaN</td>\n",
       "    </tr>\n",
       "    <tr>\n",
       "      <th>81</th>\n",
       "      <td>1</td>\n",
       "      <td>Alpino</td>\n",
       "      <td>20-Dec-21</td>\n",
       "      <td>04-Feb-22</td>\n",
       "      <td>25</td>\n",
       "      <td>An Ocean Of Opportunities</td>\n",
       "      <td>Rannvijay Singh</td>\n",
       "      <td>82</td>\n",
       "      <td>Food</td>\n",
       "      <td>Roasted Peanut butter Products</td>\n",
       "      <td>...</td>\n",
       "      <td>NaN</td>\n",
       "      <td>NaN</td>\n",
       "      <td>1.0</td>\n",
       "      <td>1.0</td>\n",
       "      <td>1.0</td>\n",
       "      <td>NaN</td>\n",
       "      <td>1.0</td>\n",
       "      <td>1.0</td>\n",
       "      <td>NaN</td>\n",
       "      <td>NaN</td>\n",
       "    </tr>\n",
       "    <tr>\n",
       "      <th>87</th>\n",
       "      <td>1</td>\n",
       "      <td>AlisteTechnologies</td>\n",
       "      <td>20-Dec-21</td>\n",
       "      <td>04-Feb-22</td>\n",
       "      <td>27</td>\n",
       "      <td>Investing In The Future Of India</td>\n",
       "      <td>Rannvijay Singh</td>\n",
       "      <td>88</td>\n",
       "      <td>Technology/Software</td>\n",
       "      <td>Automation Solutions</td>\n",
       "      <td>...</td>\n",
       "      <td>NaN</td>\n",
       "      <td>NaN</td>\n",
       "      <td>1.0</td>\n",
       "      <td>1.0</td>\n",
       "      <td>1.0</td>\n",
       "      <td>NaN</td>\n",
       "      <td>1.0</td>\n",
       "      <td>1.0</td>\n",
       "      <td>NaN</td>\n",
       "      <td>NaN</td>\n",
       "    </tr>\n",
       "    <tr>\n",
       "      <th>93</th>\n",
       "      <td>1</td>\n",
       "      <td>PDDFalcon</td>\n",
       "      <td>20-Dec-21</td>\n",
       "      <td>04-Feb-22</td>\n",
       "      <td>29</td>\n",
       "      <td>Businesses Of Tomorrow</td>\n",
       "      <td>Rannvijay Singh</td>\n",
       "      <td>94</td>\n",
       "      <td>Manufacturing</td>\n",
       "      <td>Stainless Steel Items</td>\n",
       "      <td>...</td>\n",
       "      <td>NaN</td>\n",
       "      <td>NaN</td>\n",
       "      <td>1.0</td>\n",
       "      <td>1.0</td>\n",
       "      <td>1.0</td>\n",
       "      <td>NaN</td>\n",
       "      <td>1.0</td>\n",
       "      <td>1.0</td>\n",
       "      <td>NaN</td>\n",
       "      <td>NaN</td>\n",
       "    </tr>\n",
       "    <tr>\n",
       "      <th>94</th>\n",
       "      <td>1</td>\n",
       "      <td>PlayBoxTV</td>\n",
       "      <td>20-Dec-21</td>\n",
       "      <td>04-Feb-22</td>\n",
       "      <td>29</td>\n",
       "      <td>Businesses Of Tomorrow</td>\n",
       "      <td>Rannvijay Singh</td>\n",
       "      <td>95</td>\n",
       "      <td>Services</td>\n",
       "      <td>Streaming Platform</td>\n",
       "      <td>...</td>\n",
       "      <td>NaN</td>\n",
       "      <td>NaN</td>\n",
       "      <td>1.0</td>\n",
       "      <td>1.0</td>\n",
       "      <td>1.0</td>\n",
       "      <td>NaN</td>\n",
       "      <td>1.0</td>\n",
       "      <td>1.0</td>\n",
       "      <td>NaN</td>\n",
       "      <td>NaN</td>\n",
       "    </tr>\n",
       "    <tr>\n",
       "      <th>104</th>\n",
       "      <td>1</td>\n",
       "      <td>ExperentialEtc</td>\n",
       "      <td>20-Dec-21</td>\n",
       "      <td>04-Feb-22</td>\n",
       "      <td>32</td>\n",
       "      <td>The Road To Success</td>\n",
       "      <td>Rannvijay Singh</td>\n",
       "      <td>105</td>\n",
       "      <td>Technology/Software</td>\n",
       "      <td>Technology layered advertisement services</td>\n",
       "      <td>...</td>\n",
       "      <td>NaN</td>\n",
       "      <td>1.0</td>\n",
       "      <td>1.0</td>\n",
       "      <td>1.0</td>\n",
       "      <td>NaN</td>\n",
       "      <td>1.0</td>\n",
       "      <td>1.0</td>\n",
       "      <td>NaN</td>\n",
       "      <td>NaN</td>\n",
       "      <td>NaN</td>\n",
       "    </tr>\n",
       "    <tr>\n",
       "      <th>106</th>\n",
       "      <td>1</td>\n",
       "      <td>C3Med-Tech</td>\n",
       "      <td>20-Dec-21</td>\n",
       "      <td>04-Feb-22</td>\n",
       "      <td>32</td>\n",
       "      <td>The Road To Success</td>\n",
       "      <td>Rannvijay Singh</td>\n",
       "      <td>107</td>\n",
       "      <td>Medical/Health</td>\n",
       "      <td>Portable ophthalmic vision devices</td>\n",
       "      <td>...</td>\n",
       "      <td>NaN</td>\n",
       "      <td>1.0</td>\n",
       "      <td>1.0</td>\n",
       "      <td>1.0</td>\n",
       "      <td>NaN</td>\n",
       "      <td>1.0</td>\n",
       "      <td>1.0</td>\n",
       "      <td>NaN</td>\n",
       "      <td>NaN</td>\n",
       "      <td>NaN</td>\n",
       "    </tr>\n",
       "    <tr>\n",
       "      <th>113</th>\n",
       "      <td>1</td>\n",
       "      <td>GreenProtein</td>\n",
       "      <td>20-Dec-21</td>\n",
       "      <td>04-Feb-22</td>\n",
       "      <td>34</td>\n",
       "      <td>Scaling Ambitions</td>\n",
       "      <td>Rannvijay Singh</td>\n",
       "      <td>114</td>\n",
       "      <td>Food</td>\n",
       "      <td>Plant-Based Protein</td>\n",
       "      <td>...</td>\n",
       "      <td>NaN</td>\n",
       "      <td>1.0</td>\n",
       "      <td>1.0</td>\n",
       "      <td>1.0</td>\n",
       "      <td>1.0</td>\n",
       "      <td>1.0</td>\n",
       "      <td>1.0</td>\n",
       "      <td>1.0</td>\n",
       "      <td>NaN</td>\n",
       "      <td>NaN</td>\n",
       "    </tr>\n",
       "    <tr>\n",
       "      <th>116</th>\n",
       "      <td>1</td>\n",
       "      <td>Woloo</td>\n",
       "      <td>20-Dec-21</td>\n",
       "      <td>04-Feb-22</td>\n",
       "      <td>35</td>\n",
       "      <td>The Final Destination</td>\n",
       "      <td>Rannvijay Singh</td>\n",
       "      <td>117</td>\n",
       "      <td>Technology/Software</td>\n",
       "      <td>Washroom Finder</td>\n",
       "      <td>...</td>\n",
       "      <td>NaN</td>\n",
       "      <td>1.0</td>\n",
       "      <td>1.0</td>\n",
       "      <td>1.0</td>\n",
       "      <td>1.0</td>\n",
       "      <td>1.0</td>\n",
       "      <td>1.0</td>\n",
       "      <td>1.0</td>\n",
       "      <td>NaN</td>\n",
       "      <td>NaN</td>\n",
       "    </tr>\n",
       "    <tr>\n",
       "      <th>119</th>\n",
       "      <td>1</td>\n",
       "      <td>FrenchCrown</td>\n",
       "      <td>20-Dec-21</td>\n",
       "      <td>04-Feb-22</td>\n",
       "      <td>36</td>\n",
       "      <td>Gateway To Shark Tank India</td>\n",
       "      <td>Rannvijay Singh</td>\n",
       "      <td>120</td>\n",
       "      <td>Beauty/Fashion</td>\n",
       "      <td>Clothes</td>\n",
       "      <td>...</td>\n",
       "      <td>NaN</td>\n",
       "      <td>NaN</td>\n",
       "      <td>NaN</td>\n",
       "      <td>NaN</td>\n",
       "      <td>NaN</td>\n",
       "      <td>NaN</td>\n",
       "      <td>NaN</td>\n",
       "      <td>NaN</td>\n",
       "      <td>NaN</td>\n",
       "      <td>NaN</td>\n",
       "    </tr>\n",
       "    <tr>\n",
       "      <th>121</th>\n",
       "      <td>1</td>\n",
       "      <td>Devnagri</td>\n",
       "      <td>20-Dec-21</td>\n",
       "      <td>04-Feb-22</td>\n",
       "      <td>36</td>\n",
       "      <td>Gateway To Shark Tank India</td>\n",
       "      <td>Rannvijay Singh</td>\n",
       "      <td>122</td>\n",
       "      <td>Technology/Software</td>\n",
       "      <td>Translation of language content</td>\n",
       "      <td>...</td>\n",
       "      <td>NaN</td>\n",
       "      <td>NaN</td>\n",
       "      <td>NaN</td>\n",
       "      <td>NaN</td>\n",
       "      <td>NaN</td>\n",
       "      <td>NaN</td>\n",
       "      <td>NaN</td>\n",
       "      <td>NaN</td>\n",
       "      <td>NaN</td>\n",
       "      <td>NaN</td>\n",
       "    </tr>\n",
       "    <tr>\n",
       "      <th>131</th>\n",
       "      <td>1</td>\n",
       "      <td>Scintiglo</td>\n",
       "      <td>20-Dec-21</td>\n",
       "      <td>04-Feb-22</td>\n",
       "      <td>0</td>\n",
       "      <td>Unseen</td>\n",
       "      <td>Rannvijay Singh</td>\n",
       "      <td>132</td>\n",
       "      <td>Medical/Health</td>\n",
       "      <td>Diagnostic device for microalbuminuria estimation</td>\n",
       "      <td>...</td>\n",
       "      <td>NaN</td>\n",
       "      <td>NaN</td>\n",
       "      <td>NaN</td>\n",
       "      <td>NaN</td>\n",
       "      <td>NaN</td>\n",
       "      <td>NaN</td>\n",
       "      <td>NaN</td>\n",
       "      <td>NaN</td>\n",
       "      <td>NaN</td>\n",
       "      <td>NaN</td>\n",
       "    </tr>\n",
       "    <tr>\n",
       "      <th>135</th>\n",
       "      <td>1</td>\n",
       "      <td>UrbanNaps</td>\n",
       "      <td>20-Dec-21</td>\n",
       "      <td>04-Feb-22</td>\n",
       "      <td>0</td>\n",
       "      <td>Unseen</td>\n",
       "      <td>Rannvijay Singh</td>\n",
       "      <td>136</td>\n",
       "      <td>Services</td>\n",
       "      <td>Smart Napping Pod</td>\n",
       "      <td>...</td>\n",
       "      <td>NaN</td>\n",
       "      <td>NaN</td>\n",
       "      <td>NaN</td>\n",
       "      <td>NaN</td>\n",
       "      <td>NaN</td>\n",
       "      <td>NaN</td>\n",
       "      <td>NaN</td>\n",
       "      <td>NaN</td>\n",
       "      <td>NaN</td>\n",
       "      <td>NaN</td>\n",
       "    </tr>\n",
       "    <tr>\n",
       "      <th>138</th>\n",
       "      <td>1</td>\n",
       "      <td>Picsniff</td>\n",
       "      <td>20-Dec-21</td>\n",
       "      <td>04-Feb-22</td>\n",
       "      <td>0</td>\n",
       "      <td>Unseen</td>\n",
       "      <td>Rannvijay Singh</td>\n",
       "      <td>139</td>\n",
       "      <td>Technology/Software</td>\n",
       "      <td>Face recognition based image sharing</td>\n",
       "      <td>...</td>\n",
       "      <td>NaN</td>\n",
       "      <td>NaN</td>\n",
       "      <td>NaN</td>\n",
       "      <td>NaN</td>\n",
       "      <td>NaN</td>\n",
       "      <td>NaN</td>\n",
       "      <td>NaN</td>\n",
       "      <td>NaN</td>\n",
       "      <td>NaN</td>\n",
       "      <td>NaN</td>\n",
       "    </tr>\n",
       "    <tr>\n",
       "      <th>149</th>\n",
       "      <td>1</td>\n",
       "      <td>Artment</td>\n",
       "      <td>20-Dec-21</td>\n",
       "      <td>04-Feb-22</td>\n",
       "      <td>0</td>\n",
       "      <td>Unseen</td>\n",
       "      <td>Rannvijay Singh</td>\n",
       "      <td>150</td>\n",
       "      <td>Beauty/Fashion</td>\n",
       "      <td>Exquisite pieces of home decor</td>\n",
       "      <td>...</td>\n",
       "      <td>NaN</td>\n",
       "      <td>NaN</td>\n",
       "      <td>NaN</td>\n",
       "      <td>NaN</td>\n",
       "      <td>NaN</td>\n",
       "      <td>NaN</td>\n",
       "      <td>NaN</td>\n",
       "      <td>NaN</td>\n",
       "      <td>NaN</td>\n",
       "      <td>NaN</td>\n",
       "    </tr>\n",
       "    <tr>\n",
       "      <th>151</th>\n",
       "      <td>1</td>\n",
       "      <td>Eume</td>\n",
       "      <td>20-Dec-21</td>\n",
       "      <td>04-Feb-22</td>\n",
       "      <td>0</td>\n",
       "      <td>Unseen</td>\n",
       "      <td>Rannvijay Singh</td>\n",
       "      <td>152</td>\n",
       "      <td>Beauty/Fashion</td>\n",
       "      <td>Massager Backpack</td>\n",
       "      <td>...</td>\n",
       "      <td>NaN</td>\n",
       "      <td>NaN</td>\n",
       "      <td>NaN</td>\n",
       "      <td>NaN</td>\n",
       "      <td>NaN</td>\n",
       "      <td>NaN</td>\n",
       "      <td>NaN</td>\n",
       "      <td>NaN</td>\n",
       "      <td>NaN</td>\n",
       "      <td>NaN</td>\n",
       "    </tr>\n",
       "    <tr>\n",
       "      <th>158</th>\n",
       "      <td>2</td>\n",
       "      <td>ATMOSPHERE</td>\n",
       "      <td>02-Jan-23</td>\n",
       "      <td>10-Mar-23</td>\n",
       "      <td>3</td>\n",
       "      <td>Thrilling and Thunderous Pitches</td>\n",
       "      <td>Rahul Dua</td>\n",
       "      <td>159</td>\n",
       "      <td>Food</td>\n",
       "      <td>Varieties of kombucha</td>\n",
       "      <td>...</td>\n",
       "      <td>NaN</td>\n",
       "      <td>NaN</td>\n",
       "      <td>1.0</td>\n",
       "      <td>1.0</td>\n",
       "      <td>1.0</td>\n",
       "      <td>1.0</td>\n",
       "      <td>1.0</td>\n",
       "      <td>NaN</td>\n",
       "      <td>NaN</td>\n",
       "      <td>NaN</td>\n",
       "    </tr>\n",
       "    <tr>\n",
       "      <th>165</th>\n",
       "      <td>2</td>\n",
       "      <td>Flatheads</td>\n",
       "      <td>02-Jan-23</td>\n",
       "      <td>10-Mar-23</td>\n",
       "      <td>5</td>\n",
       "      <td>Investing in the Future of India</td>\n",
       "      <td>Rahul Dua</td>\n",
       "      <td>166</td>\n",
       "      <td>Beauty/Fashion</td>\n",
       "      <td>Shoes Sneakers Loafers</td>\n",
       "      <td>...</td>\n",
       "      <td>NaN</td>\n",
       "      <td>NaN</td>\n",
       "      <td>1.0</td>\n",
       "      <td>1.0</td>\n",
       "      <td>1.0</td>\n",
       "      <td>1.0</td>\n",
       "      <td>1.0</td>\n",
       "      <td>NaN</td>\n",
       "      <td>NaN</td>\n",
       "      <td>NaN</td>\n",
       "    </tr>\n",
       "    <tr>\n",
       "      <th>189</th>\n",
       "      <td>2</td>\n",
       "      <td>Diabexy</td>\n",
       "      <td>02-Jan-23</td>\n",
       "      <td>10-Mar-23</td>\n",
       "      <td>13</td>\n",
       "      <td>Up And Coming Business Ideas</td>\n",
       "      <td>Rahul Dua</td>\n",
       "      <td>190</td>\n",
       "      <td>Food</td>\n",
       "      <td>Diabetes Friendly Food Products</td>\n",
       "      <td>...</td>\n",
       "      <td>NaN</td>\n",
       "      <td>NaN</td>\n",
       "      <td>1.0</td>\n",
       "      <td>1.0</td>\n",
       "      <td>NaN</td>\n",
       "      <td>1.0</td>\n",
       "      <td>1.0</td>\n",
       "      <td>NaN</td>\n",
       "      <td>1.0</td>\n",
       "      <td>NaN</td>\n",
       "    </tr>\n",
       "    <tr>\n",
       "      <th>199</th>\n",
       "      <td>2</td>\n",
       "      <td>AvimeeHerbal</td>\n",
       "      <td>02-Jan-23</td>\n",
       "      <td>10-Mar-23</td>\n",
       "      <td>17</td>\n",
       "      <td>Innovation Hardwork And Diligence</td>\n",
       "      <td>Rahul Dua</td>\n",
       "      <td>200</td>\n",
       "      <td>Beauty/Fashion</td>\n",
       "      <td>Ayurveda hair skin products</td>\n",
       "      <td>...</td>\n",
       "      <td>NaN</td>\n",
       "      <td>NaN</td>\n",
       "      <td>1.0</td>\n",
       "      <td>1.0</td>\n",
       "      <td>NaN</td>\n",
       "      <td>1.0</td>\n",
       "      <td>1.0</td>\n",
       "      <td>NaN</td>\n",
       "      <td>1.0</td>\n",
       "      <td>NaN</td>\n",
       "    </tr>\n",
       "    <tr>\n",
       "      <th>206</th>\n",
       "      <td>2</td>\n",
       "      <td>PMV</td>\n",
       "      <td>02-Jan-23</td>\n",
       "      <td>10-Mar-23</td>\n",
       "      <td>19</td>\n",
       "      <td>Building Brands For India</td>\n",
       "      <td>Rahul Dua</td>\n",
       "      <td>207</td>\n",
       "      <td>Vehicles/Electrical Vehicles</td>\n",
       "      <td>Personal Mobility Vehicle</td>\n",
       "      <td>...</td>\n",
       "      <td>NaN</td>\n",
       "      <td>NaN</td>\n",
       "      <td>1.0</td>\n",
       "      <td>1.0</td>\n",
       "      <td>1.0</td>\n",
       "      <td>1.0</td>\n",
       "      <td>1.0</td>\n",
       "      <td>NaN</td>\n",
       "      <td>NaN</td>\n",
       "      <td>NaN</td>\n",
       "    </tr>\n",
       "    <tr>\n",
       "      <th>212</th>\n",
       "      <td>2</td>\n",
       "      <td>CheeseCake&amp;Co.</td>\n",
       "      <td>02-Jan-23</td>\n",
       "      <td>10-Mar-23</td>\n",
       "      <td>21</td>\n",
       "      <td>Adhbhut Aur Anokhe Entrepreneurs</td>\n",
       "      <td>Rahul Dua</td>\n",
       "      <td>213</td>\n",
       "      <td>Food</td>\n",
       "      <td>Cakes Slices</td>\n",
       "      <td>...</td>\n",
       "      <td>NaN</td>\n",
       "      <td>NaN</td>\n",
       "      <td>1.0</td>\n",
       "      <td>1.0</td>\n",
       "      <td>1.0</td>\n",
       "      <td>1.0</td>\n",
       "      <td>1.0</td>\n",
       "      <td>NaN</td>\n",
       "      <td>NaN</td>\n",
       "      <td>NaN</td>\n",
       "    </tr>\n",
       "    <tr>\n",
       "      <th>215</th>\n",
       "      <td>2</td>\n",
       "      <td>BeUnic</td>\n",
       "      <td>02-Jan-23</td>\n",
       "      <td>10-Mar-23</td>\n",
       "      <td>21</td>\n",
       "      <td>Adhbhut Aur Anokhe Entrepreneurs</td>\n",
       "      <td>Rahul Dua</td>\n",
       "      <td>216</td>\n",
       "      <td>Services</td>\n",
       "      <td>Platform for LGBTQ+ creators and entrepreneurs</td>\n",
       "      <td>...</td>\n",
       "      <td>NaN</td>\n",
       "      <td>NaN</td>\n",
       "      <td>1.0</td>\n",
       "      <td>1.0</td>\n",
       "      <td>1.0</td>\n",
       "      <td>1.0</td>\n",
       "      <td>1.0</td>\n",
       "      <td>NaN</td>\n",
       "      <td>NaN</td>\n",
       "      <td>NaN</td>\n",
       "    </tr>\n",
       "    <tr>\n",
       "      <th>229</th>\n",
       "      <td>2</td>\n",
       "      <td>GavinParis</td>\n",
       "      <td>02-Jan-23</td>\n",
       "      <td>10-Mar-23</td>\n",
       "      <td>26</td>\n",
       "      <td>Bharat Badal Raha Hai</td>\n",
       "      <td>Rahul Dua</td>\n",
       "      <td>230</td>\n",
       "      <td>Beauty/Fashion</td>\n",
       "      <td>Gender-Neutral Fashion</td>\n",
       "      <td>...</td>\n",
       "      <td>NaN</td>\n",
       "      <td>NaN</td>\n",
       "      <td>1.0</td>\n",
       "      <td>1.0</td>\n",
       "      <td>1.0</td>\n",
       "      <td>1.0</td>\n",
       "      <td>NaN</td>\n",
       "      <td>NaN</td>\n",
       "      <td>1.0</td>\n",
       "      <td>NaN</td>\n",
       "    </tr>\n",
       "    <tr>\n",
       "      <th>233</th>\n",
       "      <td>2</td>\n",
       "      <td>HobbyIndia</td>\n",
       "      <td>02-Jan-23</td>\n",
       "      <td>10-Mar-23</td>\n",
       "      <td>27</td>\n",
       "      <td>Nayi Soch Naye Vichaar</td>\n",
       "      <td>Rahul Dua</td>\n",
       "      <td>234</td>\n",
       "      <td>Furnishing/Household</td>\n",
       "      <td>Online Art &amp; Craft Store</td>\n",
       "      <td>...</td>\n",
       "      <td>NaN</td>\n",
       "      <td>NaN</td>\n",
       "      <td>1.0</td>\n",
       "      <td>1.0</td>\n",
       "      <td>1.0</td>\n",
       "      <td>1.0</td>\n",
       "      <td>NaN</td>\n",
       "      <td>NaN</td>\n",
       "      <td>1.0</td>\n",
       "      <td>NaN</td>\n",
       "    </tr>\n",
       "    <tr>\n",
       "      <th>237</th>\n",
       "      <td>2</td>\n",
       "      <td>DesiToys</td>\n",
       "      <td>02-Jan-23</td>\n",
       "      <td>10-Mar-23</td>\n",
       "      <td>28</td>\n",
       "      <td>Game Changers</td>\n",
       "      <td>Rahul Dua</td>\n",
       "      <td>238</td>\n",
       "      <td>Manufacturing</td>\n",
       "      <td>Indian Traditional Toys and Indoor Games</td>\n",
       "      <td>...</td>\n",
       "      <td>NaN</td>\n",
       "      <td>NaN</td>\n",
       "      <td>1.0</td>\n",
       "      <td>1.0</td>\n",
       "      <td>1.0</td>\n",
       "      <td>1.0</td>\n",
       "      <td>NaN</td>\n",
       "      <td>NaN</td>\n",
       "      <td>1.0</td>\n",
       "      <td>NaN</td>\n",
       "    </tr>\n",
       "    <tr>\n",
       "      <th>245</th>\n",
       "      <td>2</td>\n",
       "      <td>Tipayi</td>\n",
       "      <td>02-Jan-23</td>\n",
       "      <td>10-Mar-23</td>\n",
       "      <td>31</td>\n",
       "      <td>Innovations And Investments</td>\n",
       "      <td>Rahul Dua</td>\n",
       "      <td>246</td>\n",
       "      <td>Manufacturing</td>\n",
       "      <td>Balance Bike for Kids</td>\n",
       "      <td>...</td>\n",
       "      <td>NaN</td>\n",
       "      <td>NaN</td>\n",
       "      <td>1.0</td>\n",
       "      <td>1.0</td>\n",
       "      <td>1.0</td>\n",
       "      <td>1.0</td>\n",
       "      <td>1.0</td>\n",
       "      <td>NaN</td>\n",
       "      <td>NaN</td>\n",
       "      <td>NaN</td>\n",
       "    </tr>\n",
       "    <tr>\n",
       "      <th>256</th>\n",
       "      <td>2</td>\n",
       "      <td>MidNightAngelsByPC</td>\n",
       "      <td>02-Jan-23</td>\n",
       "      <td>10-Mar-23</td>\n",
       "      <td>34</td>\n",
       "      <td>Growing Ideas Into Successful Businesses</td>\n",
       "      <td>Rahul Dua</td>\n",
       "      <td>257</td>\n",
       "      <td>Beauty/Fashion</td>\n",
       "      <td>Lounge &amp; Travel wear</td>\n",
       "      <td>...</td>\n",
       "      <td>NaN</td>\n",
       "      <td>NaN</td>\n",
       "      <td>1.0</td>\n",
       "      <td>1.0</td>\n",
       "      <td>1.0</td>\n",
       "      <td>1.0</td>\n",
       "      <td>1.0</td>\n",
       "      <td>NaN</td>\n",
       "      <td>NaN</td>\n",
       "      <td>NaN</td>\n",
       "    </tr>\n",
       "    <tr>\n",
       "      <th>278</th>\n",
       "      <td>2</td>\n",
       "      <td>TwistingScoops</td>\n",
       "      <td>02-Jan-23</td>\n",
       "      <td>10-Mar-23</td>\n",
       "      <td>40</td>\n",
       "      <td>Creating Valuable Businesses</td>\n",
       "      <td>Rahul Dua</td>\n",
       "      <td>279</td>\n",
       "      <td>Food</td>\n",
       "      <td>Authentic turkish ice cream</td>\n",
       "      <td>...</td>\n",
       "      <td>NaN</td>\n",
       "      <td>NaN</td>\n",
       "      <td>1.0</td>\n",
       "      <td>1.0</td>\n",
       "      <td>NaN</td>\n",
       "      <td>1.0</td>\n",
       "      <td>1.0</td>\n",
       "      <td>NaN</td>\n",
       "      <td>1.0</td>\n",
       "      <td>NaN</td>\n",
       "    </tr>\n",
       "    <tr>\n",
       "      <th>316</th>\n",
       "      <td>2</td>\n",
       "      <td>GODESi</td>\n",
       "      <td>02-Jan-23</td>\n",
       "      <td>10-Mar-23</td>\n",
       "      <td>51</td>\n",
       "      <td>Gateway To Shark Tank India</td>\n",
       "      <td>Rahul Dua</td>\n",
       "      <td>317</td>\n",
       "      <td>Food</td>\n",
       "      <td>Handmade lollipops</td>\n",
       "      <td>...</td>\n",
       "      <td>NaN</td>\n",
       "      <td>NaN</td>\n",
       "      <td>1.0</td>\n",
       "      <td>NaN</td>\n",
       "      <td>1.0</td>\n",
       "      <td>1.0</td>\n",
       "      <td>NaN</td>\n",
       "      <td>NaN</td>\n",
       "      <td>1.0</td>\n",
       "      <td>1.0</td>\n",
       "    </tr>\n",
       "    <tr>\n",
       "      <th>320</th>\n",
       "      <td>2</td>\n",
       "      <td>ZenOnco</td>\n",
       "      <td>02-Jan-23</td>\n",
       "      <td>10-Mar-23</td>\n",
       "      <td>0</td>\n",
       "      <td>Unseen</td>\n",
       "      <td>Rahul Dua</td>\n",
       "      <td>321</td>\n",
       "      <td>Medical/Health</td>\n",
       "      <td>saving lives from cancer</td>\n",
       "      <td>...</td>\n",
       "      <td>NaN</td>\n",
       "      <td>NaN</td>\n",
       "      <td>1.0</td>\n",
       "      <td>NaN</td>\n",
       "      <td>1.0</td>\n",
       "      <td>1.0</td>\n",
       "      <td>NaN</td>\n",
       "      <td>NaN</td>\n",
       "      <td>1.0</td>\n",
       "      <td>1.0</td>\n",
       "    </tr>\n",
       "  </tbody>\n",
       "</table>\n",
       "<p>41 rows × 74 columns</p>\n",
       "</div>"
      ],
      "text/plain": [
       "     Season Number        Startup Name Season Start Season End  \\\n",
       "6                1          qZenseLabs    20-Dec-21  04-Feb-22   \n",
       "19               1            Torch-it    20-Dec-21  04-Feb-22   \n",
       "21               1         LaKheerDeli    20-Dec-21  04-Feb-22   \n",
       "27               1       KabiraHandmad    20-Dec-21  04-Feb-22   \n",
       "41               1    MorrikoPureFoods    20-Dec-21  04-Feb-22   \n",
       "55               1      IndiaHempandCo    20-Dec-21  04-Feb-22   \n",
       "60               1           KetoIndia    20-Dec-21  04-Feb-22   \n",
       "70               1           Moonshine    20-Dec-21  04-Feb-22   \n",
       "71               1             Falhari    20-Dec-21  04-Feb-22   \n",
       "73               1         UrbanMonkey    20-Dec-21  04-Feb-22   \n",
       "74               1       GuardianGears    20-Dec-21  04-Feb-22   \n",
       "81               1              Alpino    20-Dec-21  04-Feb-22   \n",
       "87               1  AlisteTechnologies    20-Dec-21  04-Feb-22   \n",
       "93               1           PDDFalcon    20-Dec-21  04-Feb-22   \n",
       "94               1           PlayBoxTV    20-Dec-21  04-Feb-22   \n",
       "104              1      ExperentialEtc    20-Dec-21  04-Feb-22   \n",
       "106              1          C3Med-Tech    20-Dec-21  04-Feb-22   \n",
       "113              1        GreenProtein    20-Dec-21  04-Feb-22   \n",
       "116              1               Woloo    20-Dec-21  04-Feb-22   \n",
       "119              1         FrenchCrown    20-Dec-21  04-Feb-22   \n",
       "121              1            Devnagri    20-Dec-21  04-Feb-22   \n",
       "131              1           Scintiglo    20-Dec-21  04-Feb-22   \n",
       "135              1           UrbanNaps    20-Dec-21  04-Feb-22   \n",
       "138              1            Picsniff    20-Dec-21  04-Feb-22   \n",
       "149              1             Artment    20-Dec-21  04-Feb-22   \n",
       "151              1                Eume    20-Dec-21  04-Feb-22   \n",
       "158              2          ATMOSPHERE    02-Jan-23  10-Mar-23   \n",
       "165              2           Flatheads    02-Jan-23  10-Mar-23   \n",
       "189              2             Diabexy    02-Jan-23  10-Mar-23   \n",
       "199              2        AvimeeHerbal    02-Jan-23  10-Mar-23   \n",
       "206              2                 PMV    02-Jan-23  10-Mar-23   \n",
       "212              2      CheeseCake&Co.    02-Jan-23  10-Mar-23   \n",
       "215              2              BeUnic    02-Jan-23  10-Mar-23   \n",
       "229              2          GavinParis    02-Jan-23  10-Mar-23   \n",
       "233              2          HobbyIndia    02-Jan-23  10-Mar-23   \n",
       "237              2            DesiToys    02-Jan-23  10-Mar-23   \n",
       "245              2              Tipayi    02-Jan-23  10-Mar-23   \n",
       "256              2  MidNightAngelsByPC    02-Jan-23  10-Mar-23   \n",
       "278              2      TwistingScoops    02-Jan-23  10-Mar-23   \n",
       "316              2              GODESi    02-Jan-23  10-Mar-23   \n",
       "320              2             ZenOnco    02-Jan-23  10-Mar-23   \n",
       "\n",
       "     Episode Number                             Episode Title  \\\n",
       "6                 3               Aam Aadmi Ke Business Ideas   \n",
       "19                7                    A Never Give Up Spirit   \n",
       "21                7                    A Never Give Up Spirit   \n",
       "27                9                      Defining Innovations   \n",
       "41               14                   Naye Aur Nayab Pitchers   \n",
       "55               18        Investing In Profitable Businesses   \n",
       "60               19        Forming An Idea And Bagging A Deal   \n",
       "70               22             Turning Ideas Into Businesses   \n",
       "71               22             Turning Ideas Into Businesses   \n",
       "73               23                   Investing In Innovation   \n",
       "74               23                   Investing In Innovation   \n",
       "81               25                 An Ocean Of Opportunities   \n",
       "87               27          Investing In The Future Of India   \n",
       "93               29                    Businesses Of Tomorrow   \n",
       "94               29                    Businesses Of Tomorrow   \n",
       "104              32                       The Road To Success   \n",
       "106              32                       The Road To Success   \n",
       "113              34                         Scaling Ambitions   \n",
       "116              35                     The Final Destination   \n",
       "119              36               Gateway To Shark Tank India   \n",
       "121              36               Gateway To Shark Tank India   \n",
       "131               0                                    Unseen   \n",
       "135               0                                    Unseen   \n",
       "138               0                                    Unseen   \n",
       "149               0                                    Unseen   \n",
       "151               0                                    Unseen   \n",
       "158               3          Thrilling and Thunderous Pitches   \n",
       "165               5          Investing in the Future of India   \n",
       "189              13              Up And Coming Business Ideas   \n",
       "199              17         Innovation Hardwork And Diligence   \n",
       "206              19                 Building Brands For India   \n",
       "212              21          Adhbhut Aur Anokhe Entrepreneurs   \n",
       "215              21          Adhbhut Aur Anokhe Entrepreneurs   \n",
       "229              26                     Bharat Badal Raha Hai   \n",
       "233              27                    Nayi Soch Naye Vichaar   \n",
       "237              28                             Game Changers   \n",
       "245              31               Innovations And Investments   \n",
       "256              34  Growing Ideas Into Successful Businesses   \n",
       "278              40              Creating Valuable Businesses   \n",
       "316              51               Gateway To Shark Tank India   \n",
       "320               0                                    Unseen   \n",
       "\n",
       "              Anchor  Pitch Number                      Industry  \\\n",
       "6    Rannvijay Singh             7                          Food   \n",
       "19   Rannvijay Singh            20                     Education   \n",
       "21   Rannvijay Singh            22                          Food   \n",
       "27   Rannvijay Singh            28                          Food   \n",
       "41   Rannvijay Singh            42                          Food   \n",
       "55   Rannvijay Singh            56                          Food   \n",
       "60   Rannvijay Singh            61                          Food   \n",
       "70   Rannvijay Singh            71                          Food   \n",
       "71   Rannvijay Singh            72                          Food   \n",
       "73   Rannvijay Singh            74                Beauty/Fashion   \n",
       "74   Rannvijay Singh            75                 Manufacturing   \n",
       "81   Rannvijay Singh            82                          Food   \n",
       "87   Rannvijay Singh            88           Technology/Software   \n",
       "93   Rannvijay Singh            94                 Manufacturing   \n",
       "94   Rannvijay Singh            95                      Services   \n",
       "104  Rannvijay Singh           105           Technology/Software   \n",
       "106  Rannvijay Singh           107                Medical/Health   \n",
       "113  Rannvijay Singh           114                          Food   \n",
       "116  Rannvijay Singh           117           Technology/Software   \n",
       "119  Rannvijay Singh           120                Beauty/Fashion   \n",
       "121  Rannvijay Singh           122           Technology/Software   \n",
       "131  Rannvijay Singh           132                Medical/Health   \n",
       "135  Rannvijay Singh           136                      Services   \n",
       "138  Rannvijay Singh           139           Technology/Software   \n",
       "149  Rannvijay Singh           150                Beauty/Fashion   \n",
       "151  Rannvijay Singh           152                Beauty/Fashion   \n",
       "158        Rahul Dua           159                          Food   \n",
       "165        Rahul Dua           166                Beauty/Fashion   \n",
       "189        Rahul Dua           190                          Food   \n",
       "199        Rahul Dua           200                Beauty/Fashion   \n",
       "206        Rahul Dua           207  Vehicles/Electrical Vehicles   \n",
       "212        Rahul Dua           213                          Food   \n",
       "215        Rahul Dua           216                      Services   \n",
       "229        Rahul Dua           230                Beauty/Fashion   \n",
       "233        Rahul Dua           234          Furnishing/Household   \n",
       "237        Rahul Dua           238                 Manufacturing   \n",
       "245        Rahul Dua           246                 Manufacturing   \n",
       "256        Rahul Dua           257                Beauty/Fashion   \n",
       "278        Rahul Dua           279                          Food   \n",
       "316        Rahul Dua           317                          Food   \n",
       "320        Rahul Dua           321                Medical/Health   \n",
       "\n",
       "                                  Business Description  ... Guest Name  \\\n",
       "6                              Food Freshness Detector  ...        NaN   \n",
       "19                Gadgets for visually impaired people  ...        NaN   \n",
       "21                         Kheer in variety of flavors  ...        NaN   \n",
       "27     Healthy Edible Oils dairy products spices flour  ...        NaN   \n",
       "41                  Healthy Food Snacks Kamdhenu foods  ...        NaN   \n",
       "55                                  Hemp Food Products  ...        NaN   \n",
       "60   Customised Keto Diets for various Medical/Heal...  ...        NaN   \n",
       "70                                               Meads  ...        NaN   \n",
       "71                                 Fresh Fruits salads  ...        NaN   \n",
       "73                                          Streetwear  ...        NaN   \n",
       "74                             Motorcycle Luggage bags  ...        NaN   \n",
       "81                      Roasted Peanut butter Products  ...        NaN   \n",
       "87                                Automation Solutions  ...        NaN   \n",
       "93                               Stainless Steel Items  ...        NaN   \n",
       "94                                  Streaming Platform  ...        NaN   \n",
       "104          Technology layered advertisement services  ...        NaN   \n",
       "106                 Portable ophthalmic vision devices  ...        NaN   \n",
       "113                                Plant-Based Protein  ...        NaN   \n",
       "116                                    Washroom Finder  ...        NaN   \n",
       "119                                            Clothes  ...        NaN   \n",
       "121                    Translation of language content  ...        NaN   \n",
       "131  Diagnostic device for microalbuminuria estimation  ...        NaN   \n",
       "135                                  Smart Napping Pod  ...        NaN   \n",
       "138               Face recognition based image sharing  ...        NaN   \n",
       "149                     Exquisite pieces of home decor  ...        NaN   \n",
       "151                                  Massager Backpack  ...        NaN   \n",
       "158                              Varieties of kombucha  ...        NaN   \n",
       "165                             Shoes Sneakers Loafers  ...        NaN   \n",
       "189                    Diabetes Friendly Food Products  ...        NaN   \n",
       "199                        Ayurveda hair skin products  ...        NaN   \n",
       "206                          Personal Mobility Vehicle  ...        NaN   \n",
       "212                                       Cakes Slices  ...        NaN   \n",
       "215     Platform for LGBTQ+ creators and entrepreneurs  ...        NaN   \n",
       "229                             Gender-Neutral Fashion  ...        NaN   \n",
       "233                           Online Art & Craft Store  ...        NaN   \n",
       "237           Indian Traditional Toys and Indoor Games  ...        NaN   \n",
       "245                              Balance Bike for Kids  ...        NaN   \n",
       "256                               Lounge & Travel wear  ...        NaN   \n",
       "278                        Authentic turkish ice cream  ...        NaN   \n",
       "316                                 Handmade lollipops  ...        NaN   \n",
       "320                           saving lives from cancer  ...        NaN   \n",
       "\n",
       "     Ashneer Present  Namita Present  Anupam Present  Vineeta Present  \\\n",
       "6                1.0             1.0             1.0              1.0   \n",
       "19               1.0             1.0             1.0              1.0   \n",
       "21               1.0             1.0             1.0              1.0   \n",
       "27               1.0             1.0             1.0              NaN   \n",
       "41               1.0             1.0             1.0              NaN   \n",
       "55               1.0             1.0             1.0              NaN   \n",
       "60               1.0             1.0             1.0              NaN   \n",
       "70               1.0             NaN             1.0              1.0   \n",
       "71               1.0             NaN             1.0              1.0   \n",
       "73               1.0             NaN             1.0              1.0   \n",
       "74               1.0             NaN             1.0              1.0   \n",
       "81               NaN             1.0             1.0              1.0   \n",
       "87               NaN             1.0             1.0              1.0   \n",
       "93               NaN             1.0             1.0              1.0   \n",
       "94               NaN             1.0             1.0              1.0   \n",
       "104              1.0             1.0             1.0              NaN   \n",
       "106              1.0             1.0             1.0              NaN   \n",
       "113              1.0             1.0             1.0              1.0   \n",
       "116              1.0             1.0             1.0              1.0   \n",
       "119              NaN             NaN             NaN              NaN   \n",
       "121              NaN             NaN             NaN              NaN   \n",
       "131              NaN             NaN             NaN              NaN   \n",
       "135              NaN             NaN             NaN              NaN   \n",
       "138              NaN             NaN             NaN              NaN   \n",
       "149              NaN             NaN             NaN              NaN   \n",
       "151              NaN             NaN             NaN              NaN   \n",
       "158              NaN             1.0             1.0              1.0   \n",
       "165              NaN             1.0             1.0              1.0   \n",
       "189              NaN             1.0             1.0              NaN   \n",
       "199              NaN             1.0             1.0              NaN   \n",
       "206              NaN             1.0             1.0              1.0   \n",
       "212              NaN             1.0             1.0              1.0   \n",
       "215              NaN             1.0             1.0              1.0   \n",
       "229              NaN             1.0             1.0              1.0   \n",
       "233              NaN             1.0             1.0              1.0   \n",
       "237              NaN             1.0             1.0              1.0   \n",
       "245              NaN             1.0             1.0              1.0   \n",
       "256              NaN             1.0             1.0              1.0   \n",
       "278              NaN             1.0             1.0              NaN   \n",
       "316              NaN             1.0             NaN              1.0   \n",
       "320              NaN             1.0             NaN              1.0   \n",
       "\n",
       "     Aman Present Peyush Present  Ghazal Present Amit Present Guest Present  \n",
       "6             1.0            NaN             NaN          NaN           NaN  \n",
       "19            1.0            NaN             NaN          NaN           NaN  \n",
       "21            1.0            NaN             NaN          NaN           NaN  \n",
       "27            1.0            1.0             NaN          NaN           NaN  \n",
       "41            1.0            1.0             NaN          NaN           NaN  \n",
       "55            1.0            1.0             NaN          NaN           NaN  \n",
       "60            1.0            1.0             NaN          NaN           NaN  \n",
       "70            1.0            1.0             NaN          NaN           NaN  \n",
       "71            1.0            1.0             NaN          NaN           NaN  \n",
       "73            1.0            1.0             NaN          NaN           NaN  \n",
       "74            1.0            1.0             NaN          NaN           NaN  \n",
       "81            NaN            1.0             1.0          NaN           NaN  \n",
       "87            NaN            1.0             1.0          NaN           NaN  \n",
       "93            NaN            1.0             1.0          NaN           NaN  \n",
       "94            NaN            1.0             1.0          NaN           NaN  \n",
       "104           1.0            1.0             NaN          NaN           NaN  \n",
       "106           1.0            1.0             NaN          NaN           NaN  \n",
       "113           1.0            1.0             1.0          NaN           NaN  \n",
       "116           1.0            1.0             1.0          NaN           NaN  \n",
       "119           NaN            NaN             NaN          NaN           NaN  \n",
       "121           NaN            NaN             NaN          NaN           NaN  \n",
       "131           NaN            NaN             NaN          NaN           NaN  \n",
       "135           NaN            NaN             NaN          NaN           NaN  \n",
       "138           NaN            NaN             NaN          NaN           NaN  \n",
       "149           NaN            NaN             NaN          NaN           NaN  \n",
       "151           NaN            NaN             NaN          NaN           NaN  \n",
       "158           1.0            1.0             NaN          NaN           NaN  \n",
       "165           1.0            1.0             NaN          NaN           NaN  \n",
       "189           1.0            1.0             NaN          1.0           NaN  \n",
       "199           1.0            1.0             NaN          1.0           NaN  \n",
       "206           1.0            1.0             NaN          NaN           NaN  \n",
       "212           1.0            1.0             NaN          NaN           NaN  \n",
       "215           1.0            1.0             NaN          NaN           NaN  \n",
       "229           1.0            NaN             NaN          1.0           NaN  \n",
       "233           1.0            NaN             NaN          1.0           NaN  \n",
       "237           1.0            NaN             NaN          1.0           NaN  \n",
       "245           1.0            1.0             NaN          NaN           NaN  \n",
       "256           1.0            1.0             NaN          NaN           NaN  \n",
       "278           1.0            1.0             NaN          1.0           NaN  \n",
       "316           1.0            NaN             NaN          1.0           1.0  \n",
       "320           1.0            NaN             NaN          1.0           1.0  \n",
       "\n",
       "[41 rows x 74 columns]"
      ]
     },
     "execution_count": 63,
     "metadata": {},
     "output_type": "execute_result"
    }
   ],
   "source": [
    "shark_tank[shark_tank['Accepted Offer'] ==0]"
   ]
  },
  {
   "cell_type": "code",
   "execution_count": 64,
   "id": "89aa0787-17d6-49b4-8a5f-6ea225839a56",
   "metadata": {},
   "outputs": [
    {
     "data": {
      "text/html": [
       "<div>\n",
       "<style scoped>\n",
       "    .dataframe tbody tr th:only-of-type {\n",
       "        vertical-align: middle;\n",
       "    }\n",
       "\n",
       "    .dataframe tbody tr th {\n",
       "        vertical-align: top;\n",
       "    }\n",
       "\n",
       "    .dataframe thead th {\n",
       "        text-align: right;\n",
       "    }\n",
       "</style>\n",
       "<table border=\"1\" class=\"dataframe\">\n",
       "  <thead>\n",
       "    <tr style=\"text-align: right;\">\n",
       "      <th></th>\n",
       "      <th>Season Number</th>\n",
       "      <th>Startup Name</th>\n",
       "      <th>Business Description</th>\n",
       "      <th>Original Ask Amount</th>\n",
       "      <th>Original Offered Equity</th>\n",
       "      <th>Valuation Requested</th>\n",
       "    </tr>\n",
       "  </thead>\n",
       "  <tbody>\n",
       "    <tr>\n",
       "      <th>6</th>\n",
       "      <td>1</td>\n",
       "      <td>qZenseLabs</td>\n",
       "      <td>Food Freshness Detector</td>\n",
       "      <td>100.0</td>\n",
       "      <td>0.25</td>\n",
       "      <td>40000.000000</td>\n",
       "    </tr>\n",
       "    <tr>\n",
       "      <th>19</th>\n",
       "      <td>1</td>\n",
       "      <td>Torch-it</td>\n",
       "      <td>Gadgets for visually impaired people</td>\n",
       "      <td>75.0</td>\n",
       "      <td>1.00</td>\n",
       "      <td>7500.000000</td>\n",
       "    </tr>\n",
       "    <tr>\n",
       "      <th>21</th>\n",
       "      <td>1</td>\n",
       "      <td>LaKheerDeli</td>\n",
       "      <td>Kheer in variety of flavors</td>\n",
       "      <td>50.0</td>\n",
       "      <td>7.50</td>\n",
       "      <td>667.000000</td>\n",
       "    </tr>\n",
       "    <tr>\n",
       "      <th>27</th>\n",
       "      <td>1</td>\n",
       "      <td>KabiraHandmad</td>\n",
       "      <td>Healthy Edible Oils dairy products spices flour</td>\n",
       "      <td>100.0</td>\n",
       "      <td>5.00</td>\n",
       "      <td>2000.000000</td>\n",
       "    </tr>\n",
       "    <tr>\n",
       "      <th>41</th>\n",
       "      <td>1</td>\n",
       "      <td>MorrikoPureFoods</td>\n",
       "      <td>Healthy Food Snacks Kamdhenu foods</td>\n",
       "      <td>100.0</td>\n",
       "      <td>3.00</td>\n",
       "      <td>3333.000000</td>\n",
       "    </tr>\n",
       "    <tr>\n",
       "      <th>55</th>\n",
       "      <td>1</td>\n",
       "      <td>IndiaHempandCo</td>\n",
       "      <td>Hemp Food Products</td>\n",
       "      <td>50.0</td>\n",
       "      <td>4.00</td>\n",
       "      <td>1250.000000</td>\n",
       "    </tr>\n",
       "    <tr>\n",
       "      <th>60</th>\n",
       "      <td>1</td>\n",
       "      <td>KetoIndia</td>\n",
       "      <td>Customised Keto Diets for various Medical/Heal...</td>\n",
       "      <td>150.0</td>\n",
       "      <td>1.25</td>\n",
       "      <td>12000.000000</td>\n",
       "    </tr>\n",
       "    <tr>\n",
       "      <th>70</th>\n",
       "      <td>1</td>\n",
       "      <td>Moonshine</td>\n",
       "      <td>Meads</td>\n",
       "      <td>80.0</td>\n",
       "      <td>0.50</td>\n",
       "      <td>16000.000000</td>\n",
       "    </tr>\n",
       "    <tr>\n",
       "      <th>71</th>\n",
       "      <td>1</td>\n",
       "      <td>Falhari</td>\n",
       "      <td>Fresh Fruits salads</td>\n",
       "      <td>50.0</td>\n",
       "      <td>2.00</td>\n",
       "      <td>2500.000000</td>\n",
       "    </tr>\n",
       "    <tr>\n",
       "      <th>73</th>\n",
       "      <td>1</td>\n",
       "      <td>UrbanMonkey</td>\n",
       "      <td>Streetwear</td>\n",
       "      <td>100.0</td>\n",
       "      <td>1.00</td>\n",
       "      <td>10000.000000</td>\n",
       "    </tr>\n",
       "    <tr>\n",
       "      <th>74</th>\n",
       "      <td>1</td>\n",
       "      <td>GuardianGears</td>\n",
       "      <td>Motorcycle Luggage bags</td>\n",
       "      <td>30.0</td>\n",
       "      <td>5.00</td>\n",
       "      <td>600.000000</td>\n",
       "    </tr>\n",
       "    <tr>\n",
       "      <th>81</th>\n",
       "      <td>1</td>\n",
       "      <td>Alpino</td>\n",
       "      <td>Roasted Peanut butter Products</td>\n",
       "      <td>150.0</td>\n",
       "      <td>2.00</td>\n",
       "      <td>7500.000000</td>\n",
       "    </tr>\n",
       "    <tr>\n",
       "      <th>87</th>\n",
       "      <td>1</td>\n",
       "      <td>AlisteTechnologies</td>\n",
       "      <td>Automation Solutions</td>\n",
       "      <td>60.0</td>\n",
       "      <td>5.00</td>\n",
       "      <td>1200.000000</td>\n",
       "    </tr>\n",
       "    <tr>\n",
       "      <th>93</th>\n",
       "      <td>1</td>\n",
       "      <td>PDDFalcon</td>\n",
       "      <td>Stainless Steel Items</td>\n",
       "      <td>75.0</td>\n",
       "      <td>3.00</td>\n",
       "      <td>2500.000000</td>\n",
       "    </tr>\n",
       "    <tr>\n",
       "      <th>94</th>\n",
       "      <td>1</td>\n",
       "      <td>PlayBoxTV</td>\n",
       "      <td>Streaming Platform</td>\n",
       "      <td>100.0</td>\n",
       "      <td>3.50</td>\n",
       "      <td>2857.000000</td>\n",
       "    </tr>\n",
       "    <tr>\n",
       "      <th>104</th>\n",
       "      <td>1</td>\n",
       "      <td>ExperentialEtc</td>\n",
       "      <td>Technology layered advertisement services</td>\n",
       "      <td>200.0</td>\n",
       "      <td>4.00</td>\n",
       "      <td>5000.000000</td>\n",
       "    </tr>\n",
       "    <tr>\n",
       "      <th>106</th>\n",
       "      <td>1</td>\n",
       "      <td>C3Med-Tech</td>\n",
       "      <td>Portable ophthalmic vision devices</td>\n",
       "      <td>35.0</td>\n",
       "      <td>6.00</td>\n",
       "      <td>583.000000</td>\n",
       "    </tr>\n",
       "    <tr>\n",
       "      <th>113</th>\n",
       "      <td>1</td>\n",
       "      <td>GreenProtein</td>\n",
       "      <td>Plant-Based Protein</td>\n",
       "      <td>60.0</td>\n",
       "      <td>2.00</td>\n",
       "      <td>3000.000000</td>\n",
       "    </tr>\n",
       "    <tr>\n",
       "      <th>116</th>\n",
       "      <td>1</td>\n",
       "      <td>Woloo</td>\n",
       "      <td>Washroom Finder</td>\n",
       "      <td>50.0</td>\n",
       "      <td>4.00</td>\n",
       "      <td>1250.000000</td>\n",
       "    </tr>\n",
       "    <tr>\n",
       "      <th>119</th>\n",
       "      <td>1</td>\n",
       "      <td>FrenchCrown</td>\n",
       "      <td>Clothes</td>\n",
       "      <td>150.0</td>\n",
       "      <td>0.33</td>\n",
       "      <td>45455.000000</td>\n",
       "    </tr>\n",
       "    <tr>\n",
       "      <th>121</th>\n",
       "      <td>1</td>\n",
       "      <td>Devnagri</td>\n",
       "      <td>Translation of language content</td>\n",
       "      <td>100.0</td>\n",
       "      <td>1.00</td>\n",
       "      <td>10000.000000</td>\n",
       "    </tr>\n",
       "    <tr>\n",
       "      <th>131</th>\n",
       "      <td>1</td>\n",
       "      <td>Scintiglo</td>\n",
       "      <td>Diagnostic device for microalbuminuria estimation</td>\n",
       "      <td>75.0</td>\n",
       "      <td>1.00</td>\n",
       "      <td>7500.000000</td>\n",
       "    </tr>\n",
       "    <tr>\n",
       "      <th>135</th>\n",
       "      <td>1</td>\n",
       "      <td>UrbanNaps</td>\n",
       "      <td>Smart Napping Pod</td>\n",
       "      <td>50.0</td>\n",
       "      <td>4.00</td>\n",
       "      <td>1250.000000</td>\n",
       "    </tr>\n",
       "    <tr>\n",
       "      <th>138</th>\n",
       "      <td>1</td>\n",
       "      <td>Picsniff</td>\n",
       "      <td>Face recognition based image sharing</td>\n",
       "      <td>55.0</td>\n",
       "      <td>1.00</td>\n",
       "      <td>5500.000000</td>\n",
       "    </tr>\n",
       "    <tr>\n",
       "      <th>149</th>\n",
       "      <td>1</td>\n",
       "      <td>Artment</td>\n",
       "      <td>Exquisite pieces of home decor</td>\n",
       "      <td>170.0</td>\n",
       "      <td>2.50</td>\n",
       "      <td>6800.000000</td>\n",
       "    </tr>\n",
       "    <tr>\n",
       "      <th>151</th>\n",
       "      <td>1</td>\n",
       "      <td>Eume</td>\n",
       "      <td>Massager Backpack</td>\n",
       "      <td>150.0</td>\n",
       "      <td>2.00</td>\n",
       "      <td>7500.000000</td>\n",
       "    </tr>\n",
       "    <tr>\n",
       "      <th>158</th>\n",
       "      <td>2</td>\n",
       "      <td>ATMOSPHERE</td>\n",
       "      <td>Varieties of kombucha</td>\n",
       "      <td>75.0</td>\n",
       "      <td>3.00</td>\n",
       "      <td>2500.000000</td>\n",
       "    </tr>\n",
       "    <tr>\n",
       "      <th>165</th>\n",
       "      <td>2</td>\n",
       "      <td>Flatheads</td>\n",
       "      <td>Shoes Sneakers Loafers</td>\n",
       "      <td>75.0</td>\n",
       "      <td>3.00</td>\n",
       "      <td>2500.000000</td>\n",
       "    </tr>\n",
       "    <tr>\n",
       "      <th>189</th>\n",
       "      <td>2</td>\n",
       "      <td>Diabexy</td>\n",
       "      <td>Diabetes Friendly Food Products</td>\n",
       "      <td>150.0</td>\n",
       "      <td>1.00</td>\n",
       "      <td>15000.000000</td>\n",
       "    </tr>\n",
       "    <tr>\n",
       "      <th>199</th>\n",
       "      <td>2</td>\n",
       "      <td>AvimeeHerbal</td>\n",
       "      <td>Ayurveda hair skin products</td>\n",
       "      <td>280.0</td>\n",
       "      <td>0.50</td>\n",
       "      <td>56000.000000</td>\n",
       "    </tr>\n",
       "    <tr>\n",
       "      <th>206</th>\n",
       "      <td>2</td>\n",
       "      <td>PMV</td>\n",
       "      <td>Personal Mobility Vehicle</td>\n",
       "      <td>100.0</td>\n",
       "      <td>1.00</td>\n",
       "      <td>10000.000000</td>\n",
       "    </tr>\n",
       "    <tr>\n",
       "      <th>212</th>\n",
       "      <td>2</td>\n",
       "      <td>CheeseCake&amp;Co.</td>\n",
       "      <td>Cakes Slices</td>\n",
       "      <td>100.0</td>\n",
       "      <td>2.00</td>\n",
       "      <td>5000.000000</td>\n",
       "    </tr>\n",
       "    <tr>\n",
       "      <th>215</th>\n",
       "      <td>2</td>\n",
       "      <td>BeUnic</td>\n",
       "      <td>Platform for LGBTQ+ creators and entrepreneurs</td>\n",
       "      <td>100.0</td>\n",
       "      <td>10.00</td>\n",
       "      <td>1000.000000</td>\n",
       "    </tr>\n",
       "    <tr>\n",
       "      <th>229</th>\n",
       "      <td>2</td>\n",
       "      <td>GavinParis</td>\n",
       "      <td>Gender-Neutral Fashion</td>\n",
       "      <td>50.0</td>\n",
       "      <td>5.00</td>\n",
       "      <td>1000.000000</td>\n",
       "    </tr>\n",
       "    <tr>\n",
       "      <th>233</th>\n",
       "      <td>2</td>\n",
       "      <td>HobbyIndia</td>\n",
       "      <td>Online Art &amp; Craft Store</td>\n",
       "      <td>50.0</td>\n",
       "      <td>3.00</td>\n",
       "      <td>1666.666667</td>\n",
       "    </tr>\n",
       "    <tr>\n",
       "      <th>237</th>\n",
       "      <td>2</td>\n",
       "      <td>DesiToys</td>\n",
       "      <td>Indian Traditional Toys and Indoor Games</td>\n",
       "      <td>50.0</td>\n",
       "      <td>3.00</td>\n",
       "      <td>1666.666667</td>\n",
       "    </tr>\n",
       "    <tr>\n",
       "      <th>245</th>\n",
       "      <td>2</td>\n",
       "      <td>Tipayi</td>\n",
       "      <td>Balance Bike for Kids</td>\n",
       "      <td>50.0</td>\n",
       "      <td>10.00</td>\n",
       "      <td>500.000000</td>\n",
       "    </tr>\n",
       "    <tr>\n",
       "      <th>256</th>\n",
       "      <td>2</td>\n",
       "      <td>MidNightAngelsByPC</td>\n",
       "      <td>Lounge &amp; Travel wear</td>\n",
       "      <td>75.0</td>\n",
       "      <td>6.00</td>\n",
       "      <td>1250.000000</td>\n",
       "    </tr>\n",
       "    <tr>\n",
       "      <th>278</th>\n",
       "      <td>2</td>\n",
       "      <td>TwistingScoops</td>\n",
       "      <td>Authentic turkish ice cream</td>\n",
       "      <td>100.0</td>\n",
       "      <td>2.50</td>\n",
       "      <td>4000.000000</td>\n",
       "    </tr>\n",
       "    <tr>\n",
       "      <th>316</th>\n",
       "      <td>2</td>\n",
       "      <td>GODESi</td>\n",
       "      <td>Handmade lollipops</td>\n",
       "      <td>90.0</td>\n",
       "      <td>0.50</td>\n",
       "      <td>18000.000000</td>\n",
       "    </tr>\n",
       "    <tr>\n",
       "      <th>320</th>\n",
       "      <td>2</td>\n",
       "      <td>ZenOnco</td>\n",
       "      <td>saving lives from cancer</td>\n",
       "      <td>100.0</td>\n",
       "      <td>1.00</td>\n",
       "      <td>10000.000000</td>\n",
       "    </tr>\n",
       "  </tbody>\n",
       "</table>\n",
       "</div>"
      ],
      "text/plain": [
       "     Season Number        Startup Name  \\\n",
       "6                1          qZenseLabs   \n",
       "19               1            Torch-it   \n",
       "21               1         LaKheerDeli   \n",
       "27               1       KabiraHandmad   \n",
       "41               1    MorrikoPureFoods   \n",
       "55               1      IndiaHempandCo   \n",
       "60               1           KetoIndia   \n",
       "70               1           Moonshine   \n",
       "71               1             Falhari   \n",
       "73               1         UrbanMonkey   \n",
       "74               1       GuardianGears   \n",
       "81               1              Alpino   \n",
       "87               1  AlisteTechnologies   \n",
       "93               1           PDDFalcon   \n",
       "94               1           PlayBoxTV   \n",
       "104              1      ExperentialEtc   \n",
       "106              1          C3Med-Tech   \n",
       "113              1        GreenProtein   \n",
       "116              1               Woloo   \n",
       "119              1         FrenchCrown   \n",
       "121              1            Devnagri   \n",
       "131              1           Scintiglo   \n",
       "135              1           UrbanNaps   \n",
       "138              1            Picsniff   \n",
       "149              1             Artment   \n",
       "151              1                Eume   \n",
       "158              2          ATMOSPHERE   \n",
       "165              2           Flatheads   \n",
       "189              2             Diabexy   \n",
       "199              2        AvimeeHerbal   \n",
       "206              2                 PMV   \n",
       "212              2      CheeseCake&Co.   \n",
       "215              2              BeUnic   \n",
       "229              2          GavinParis   \n",
       "233              2          HobbyIndia   \n",
       "237              2            DesiToys   \n",
       "245              2              Tipayi   \n",
       "256              2  MidNightAngelsByPC   \n",
       "278              2      TwistingScoops   \n",
       "316              2              GODESi   \n",
       "320              2             ZenOnco   \n",
       "\n",
       "                                  Business Description  Original Ask Amount  \\\n",
       "6                              Food Freshness Detector                100.0   \n",
       "19                Gadgets for visually impaired people                 75.0   \n",
       "21                         Kheer in variety of flavors                 50.0   \n",
       "27     Healthy Edible Oils dairy products spices flour                100.0   \n",
       "41                  Healthy Food Snacks Kamdhenu foods                100.0   \n",
       "55                                  Hemp Food Products                 50.0   \n",
       "60   Customised Keto Diets for various Medical/Heal...                150.0   \n",
       "70                                               Meads                 80.0   \n",
       "71                                 Fresh Fruits salads                 50.0   \n",
       "73                                          Streetwear                100.0   \n",
       "74                             Motorcycle Luggage bags                 30.0   \n",
       "81                      Roasted Peanut butter Products                150.0   \n",
       "87                                Automation Solutions                 60.0   \n",
       "93                               Stainless Steel Items                 75.0   \n",
       "94                                  Streaming Platform                100.0   \n",
       "104          Technology layered advertisement services                200.0   \n",
       "106                 Portable ophthalmic vision devices                 35.0   \n",
       "113                                Plant-Based Protein                 60.0   \n",
       "116                                    Washroom Finder                 50.0   \n",
       "119                                            Clothes                150.0   \n",
       "121                    Translation of language content                100.0   \n",
       "131  Diagnostic device for microalbuminuria estimation                 75.0   \n",
       "135                                  Smart Napping Pod                 50.0   \n",
       "138               Face recognition based image sharing                 55.0   \n",
       "149                     Exquisite pieces of home decor                170.0   \n",
       "151                                  Massager Backpack                150.0   \n",
       "158                              Varieties of kombucha                 75.0   \n",
       "165                             Shoes Sneakers Loafers                 75.0   \n",
       "189                    Diabetes Friendly Food Products                150.0   \n",
       "199                        Ayurveda hair skin products                280.0   \n",
       "206                          Personal Mobility Vehicle                100.0   \n",
       "212                                       Cakes Slices                100.0   \n",
       "215     Platform for LGBTQ+ creators and entrepreneurs                100.0   \n",
       "229                             Gender-Neutral Fashion                 50.0   \n",
       "233                           Online Art & Craft Store                 50.0   \n",
       "237           Indian Traditional Toys and Indoor Games                 50.0   \n",
       "245                              Balance Bike for Kids                 50.0   \n",
       "256                               Lounge & Travel wear                 75.0   \n",
       "278                        Authentic turkish ice cream                100.0   \n",
       "316                                 Handmade lollipops                 90.0   \n",
       "320                           saving lives from cancer                100.0   \n",
       "\n",
       "     Original Offered Equity  Valuation Requested  \n",
       "6                       0.25         40000.000000  \n",
       "19                      1.00          7500.000000  \n",
       "21                      7.50           667.000000  \n",
       "27                      5.00          2000.000000  \n",
       "41                      3.00          3333.000000  \n",
       "55                      4.00          1250.000000  \n",
       "60                      1.25         12000.000000  \n",
       "70                      0.50         16000.000000  \n",
       "71                      2.00          2500.000000  \n",
       "73                      1.00         10000.000000  \n",
       "74                      5.00           600.000000  \n",
       "81                      2.00          7500.000000  \n",
       "87                      5.00          1200.000000  \n",
       "93                      3.00          2500.000000  \n",
       "94                      3.50          2857.000000  \n",
       "104                     4.00          5000.000000  \n",
       "106                     6.00           583.000000  \n",
       "113                     2.00          3000.000000  \n",
       "116                     4.00          1250.000000  \n",
       "119                     0.33         45455.000000  \n",
       "121                     1.00         10000.000000  \n",
       "131                     1.00          7500.000000  \n",
       "135                     4.00          1250.000000  \n",
       "138                     1.00          5500.000000  \n",
       "149                     2.50          6800.000000  \n",
       "151                     2.00          7500.000000  \n",
       "158                     3.00          2500.000000  \n",
       "165                     3.00          2500.000000  \n",
       "189                     1.00         15000.000000  \n",
       "199                     0.50         56000.000000  \n",
       "206                     1.00         10000.000000  \n",
       "212                     2.00          5000.000000  \n",
       "215                    10.00          1000.000000  \n",
       "229                     5.00          1000.000000  \n",
       "233                     3.00          1666.666667  \n",
       "237                     3.00          1666.666667  \n",
       "245                    10.00           500.000000  \n",
       "256                     6.00          1250.000000  \n",
       "278                     2.50          4000.000000  \n",
       "316                     0.50         18000.000000  \n",
       "320                     1.00         10000.000000  "
      ]
     },
     "execution_count": 64,
     "metadata": {},
     "output_type": "execute_result"
    }
   ],
   "source": [
    "shark_tank[shark_tank['Accepted Offer'] ==0][['Season Number','Startup Name','Business Description',\n",
    "                                              'Original Ask Amount','Original Offered Equity',\n",
    "                                              'Valuation Requested',]]"
   ]
  },
  {
   "cell_type": "markdown",
   "id": "4ea06c62-1fd8-45d6-868f-e33423e7752f",
   "metadata": {},
   "source": [
    "# Ashneer Investment"
   ]
  },
  {
   "cell_type": "code",
   "execution_count": 65,
   "id": "193bd646-e905-4300-bd9d-94db340d05f6",
   "metadata": {},
   "outputs": [
    {
     "data": {
      "text/plain": [
       "<Axes: ylabel='count'>"
      ]
     },
     "execution_count": 65,
     "metadata": {},
     "output_type": "execute_result"
    },
    {
     "data": {
      "image/png": "[encoded data removed]",
      "text/plain": [
       "<Figure size 1200x600 with 1 Axes>"
      ]
     },
     "metadata": {},
     "output_type": "display_data"
    }
   ],
   "source": [
    "# Plotting the chart\n",
    "\n",
    "plt.figure(figsize=(12,6))\n",
    "shark_tank[shark_tank['Ashneer Investment Amount']>0]['Industry'].value_counts().sort_values(ascending=False).plot.pie(autopct='%1.2f%%',startangle=90)"
   ]
  },
  {
   "cell_type": "code",
   "execution_count": 66,
   "id": "08826445-f928-4564-bcf6-0496d18252ae",
   "metadata": {},
   "outputs": [
    {
     "data": {
      "application/vnd.plotly.v1+json": {
       "config": {
        "plotlyServerURL": "https://plot.ly"
       },
       "data": [
        {
         "alignmentgroup": "True",
         "hovertemplate": "Startup Name=Otua<br>Ashneer Investment Equity=%{x}<br>Ashneer Investment Amount=%{y}<br>text=%{text}<extra></extra>",
         "legendgroup": "Otua",
         "marker": {
          "color": "#636efa",
          "pattern": {
           "shape": ""
          }
         },
         "name": "Otua",
         "offsetgroup": "Otua",
         "orientation": "v",
         "showlegend": true,
         "text": [
          "1 lakhs"
         ],
         "textposition": "auto",
         "type": "bar",
         "x": [
          1
         ],
         "xaxis": "x",
         "y": [
          1
         ],
         "yaxis": "y"
        },
        {
         "alignmentgroup": "True",
         "hovertemplate": "Startup Name=EventBeep<br>Ashneer Investment Equity=%{x}<br>Ashneer Investment Amount=%{y}<br>text=%{text}<extra></extra>",
         "legendgroup": "EventBeep",
         "marker": {
          "color": "#EF553B",
          "pattern": {
           "shape": ""
          }
         },
         "name": "EventBeep",
         "offsetgroup": "EventBeep",
         "orientation": "v",
         "showlegend": true,
         "text": [
          "10 lakhs"
         ],
         "textposition": "auto",
         "type": "bar",
         "x": [
          1
         ],
         "xaxis": "x",
         "y": [
          10
         ],
         "yaxis": "y"
        },
        {
         "alignmentgroup": "True",
         "hovertemplate": "Startup Name=BeyondSnack<br>Ashneer Investment Equity=%{x}<br>Ashneer Investment Amount=%{y}<br>text=%{text}<extra></extra>",
         "legendgroup": "BeyondSnack",
         "marker": {
          "color": "#00cc96",
          "pattern": {
           "shape": ""
          }
         },
         "name": "BeyondSnack",
         "offsetgroup": "BeyondSnack",
         "orientation": "v",
         "showlegend": true,
         "text": [
          "25 lakhs"
         ],
         "textposition": "auto",
         "type": "bar",
         "x": [
          1.25
         ],
         "xaxis": "x",
         "y": [
          25
         ],
         "yaxis": "y"
        },
        {
         "alignmentgroup": "True",
         "hovertemplate": "Startup Name=HairOriginals<br>Ashneer Investment Equity=%{x}<br>Ashneer Investment Amount=%{y}<br>text=%{text}<extra></extra>",
         "legendgroup": "HairOriginals",
         "marker": {
          "color": "#ab63fa",
          "pattern": {
           "shape": ""
          }
         },
         "name": "HairOriginals",
         "offsetgroup": "HairOriginals",
         "orientation": "v",
         "showlegend": true,
         "text": [
          "20 lakhs"
         ],
         "textposition": "auto",
         "type": "bar",
         "x": [
          1.33
         ],
         "xaxis": "x",
         "y": [
          20
         ],
         "yaxis": "y"
        },
        {
         "alignmentgroup": "True",
         "hovertemplate": "Startup Name=BambooIndia<br>Ashneer Investment Equity=%{x}<br>Ashneer Investment Amount=%{y}<br>text=%{text}<extra></extra>",
         "legendgroup": "BambooIndia",
         "marker": {
          "color": "#FFA15A",
          "pattern": {
           "shape": ""
          }
         },
         "name": "BambooIndia",
         "offsetgroup": "BambooIndia",
         "orientation": "v",
         "showlegend": true,
         "text": [
          "25 lakhs"
         ],
         "textposition": "auto",
         "type": "bar",
         "x": [
          1.75
         ],
         "xaxis": "x",
         "y": [
          25
         ],
         "yaxis": "y"
        },
        {
         "alignmentgroup": "True",
         "hovertemplate": "Startup Name=INACAN<br>Ashneer Investment Equity=%{x}<br>Ashneer Investment Amount=%{y}<br>text=%{text}<extra></extra>",
         "legendgroup": "INACAN",
         "marker": {
          "color": "#19d3f3",
          "pattern": {
           "shape": ""
          }
         },
         "name": "INACAN",
         "offsetgroup": "INACAN",
         "orientation": "v",
         "showlegend": true,
         "text": [
          "20 lakhs"
         ],
         "textposition": "auto",
         "type": "bar",
         "x": [
          2
         ],
         "xaxis": "x",
         "y": [
          20
         ],
         "yaxis": "y"
        },
        {
         "alignmentgroup": "True",
         "hovertemplate": "Startup Name=RaisingSuperstars<br>Ashneer Investment Equity=%{x}<br>Ashneer Investment Amount=%{y}<br>text=%{text}<extra></extra>",
         "legendgroup": "RaisingSuperstars",
         "marker": {
          "color": "#FF6692",
          "pattern": {
           "shape": ""
          }
         },
         "name": "RaisingSuperstars",
         "offsetgroup": "RaisingSuperstars",
         "orientation": "v",
         "showlegend": true,
         "text": [
          "50 lakhs"
         ],
         "textposition": "auto",
         "type": "bar",
         "x": [
          2
         ],
         "xaxis": "x",
         "y": [
          50
         ],
         "yaxis": "y"
        },
        {
         "alignmentgroup": "True",
         "hovertemplate": "Startup Name=WeSTOCK<br>Ashneer Investment Equity=%{x}<br>Ashneer Investment Amount=%{y}<br>text=%{text}<extra></extra>",
         "legendgroup": "WeSTOCK",
         "marker": {
          "color": "#B6E880",
          "pattern": {
           "shape": ""
          }
         },
         "name": "WeSTOCK",
         "offsetgroup": "WeSTOCK",
         "orientation": "v",
         "showlegend": true,
         "text": [
          "15 lakhs"
         ],
         "textposition": "auto",
         "type": "bar",
         "x": [
          2.5
         ],
         "xaxis": "x",
         "y": [
          15
         ],
         "yaxis": "y"
        },
        {
         "alignmentgroup": "True",
         "hovertemplate": "Startup Name=TheYarnBazaar<br>Ashneer Investment Equity=%{x}<br>Ashneer Investment Amount=%{y}<br>text=%{text}<extra></extra>",
         "legendgroup": "TheYarnBazaar",
         "marker": {
          "color": "#FF97FF",
          "pattern": {
           "shape": ""
          }
         },
         "name": "TheYarnBazaar",
         "offsetgroup": "TheYarnBazaar",
         "orientation": "v",
         "showlegend": true,
         "text": [
          "25 lakhs"
         ],
         "textposition": "auto",
         "type": "bar",
         "x": [
          2.5
         ],
         "xaxis": "x",
         "y": [
          25
         ],
         "yaxis": "y"
        },
        {
         "alignmentgroup": "True",
         "hovertemplate": "Startup Name=TagzFoods<br>Ashneer Investment Equity=%{x}<br>Ashneer Investment Amount=%{y}<br>text=%{text}<extra></extra>",
         "legendgroup": "TagzFoods",
         "marker": {
          "color": "#FECB52",
          "pattern": {
           "shape": ""
          }
         },
         "name": "TagzFoods",
         "offsetgroup": "TagzFoods",
         "orientation": "v",
         "showlegend": true,
         "text": [
          "70 lakhs"
         ],
         "textposition": "auto",
         "type": "bar",
         "x": [
          2.75
         ],
         "xaxis": "x",
         "y": [
          70
         ],
         "yaxis": "y"
        },
        {
         "alignmentgroup": "True",
         "hovertemplate": "Startup Name=SkippiIcePops<br>Ashneer Investment Equity=%{x}<br>Ashneer Investment Amount=%{y}<br>text=%{text}<extra></extra>",
         "legendgroup": "SkippiIcePops",
         "marker": {
          "color": "#636efa",
          "pattern": {
           "shape": ""
          }
         },
         "name": "SkippiIcePops",
         "offsetgroup": "SkippiIcePops",
         "orientation": "v",
         "showlegend": true,
         "text": [
          "20 lakhs"
         ],
         "textposition": "auto",
         "type": "bar",
         "x": [
          3
         ],
         "xaxis": "x",
         "y": [
          20
         ],
         "yaxis": "y"
        },
        {
         "alignmentgroup": "True",
         "hovertemplate": "Startup Name=TweekLabs<br>Ashneer Investment Equity=%{x}<br>Ashneer Investment Amount=%{y}<br>text=%{text}<extra></extra>",
         "legendgroup": "TweekLabs",
         "marker": {
          "color": "#EF553B",
          "pattern": {
           "shape": ""
          }
         },
         "name": "TweekLabs",
         "offsetgroup": "TweekLabs",
         "orientation": "v",
         "showlegend": true,
         "text": [
          "20 lakhs"
         ],
         "textposition": "auto",
         "type": "bar",
         "x": [
          3.33
         ],
         "xaxis": "x",
         "y": [
          20
         ],
         "yaxis": "y"
        },
        {
         "alignmentgroup": "True",
         "hovertemplate": "Startup Name=NomadFoodProject<br>Ashneer Investment Equity=%{x}<br>Ashneer Investment Amount=%{y}<br>text=%{text}<extra></extra>",
         "legendgroup": "NomadFoodProject",
         "marker": {
          "color": "#00cc96",
          "pattern": {
           "shape": ""
          }
         },
         "name": "NomadFoodProject",
         "offsetgroup": "NomadFoodProject",
         "orientation": "v",
         "showlegend": true,
         "text": [
          "10 lakhs"
         ],
         "textposition": "auto",
         "type": "bar",
         "x": [
          5
         ],
         "xaxis": "x",
         "y": [
          10
         ],
         "yaxis": "y"
        },
        {
         "alignmentgroup": "True",
         "hovertemplate": "Startup Name=AasVidyalaya<br>Ashneer Investment Equity=%{x}<br>Ashneer Investment Amount=%{y}<br>text=%{text}<extra></extra>",
         "legendgroup": "AasVidyalaya",
         "marker": {
          "color": "#ab63fa",
          "pattern": {
           "shape": ""
          }
         },
         "name": "AasVidyalaya",
         "offsetgroup": "AasVidyalaya",
         "orientation": "v",
         "showlegend": true,
         "text": [
          "50 lakhs"
         ],
         "textposition": "auto",
         "type": "bar",
         "x": [
          5
         ],
         "xaxis": "x",
         "y": [
          50
         ],
         "yaxis": "y"
        },
        {
         "alignmentgroup": "True",
         "hovertemplate": "Startup Name=Proxgy<br>Ashneer Investment Equity=%{x}<br>Ashneer Investment Amount=%{y}<br>text=%{text}<extra></extra>",
         "legendgroup": "Proxgy",
         "marker": {
          "color": "#FFA15A",
          "pattern": {
           "shape": ""
          }
         },
         "name": "Proxgy",
         "offsetgroup": "Proxgy",
         "orientation": "v",
         "showlegend": true,
         "text": [
          "50 lakhs"
         ],
         "textposition": "auto",
         "type": "bar",
         "x": [
          5
         ],
         "xaxis": "x",
         "y": [
          50
         ],
         "yaxis": "y"
        },
        {
         "alignmentgroup": "True",
         "hovertemplate": "Startup Name=Get-A-Whey<br>Ashneer Investment Equity=%{x}<br>Ashneer Investment Amount=%{y}<br>text=%{text}<extra></extra>",
         "legendgroup": "Get-A-Whey",
         "marker": {
          "color": "#19d3f3",
          "pattern": {
           "shape": ""
          }
         },
         "name": "Get-A-Whey",
         "offsetgroup": "Get-A-Whey",
         "orientation": "v",
         "showlegend": true,
         "text": [
          "33 lakhs"
         ],
         "textposition": "auto",
         "type": "bar",
         "x": [
          5
         ],
         "xaxis": "x",
         "y": [
          33.33
         ],
         "yaxis": "y"
        },
        {
         "alignmentgroup": "True",
         "hovertemplate": "Startup Name=FindYourKicksIndia<br>Ashneer Investment Equity=%{x}<br>Ashneer Investment Amount=%{y}<br>text=%{text}<extra></extra>",
         "legendgroup": "FindYourKicksIndia",
         "marker": {
          "color": "#FF6692",
          "pattern": {
           "shape": ""
          }
         },
         "name": "FindYourKicksIndia",
         "offsetgroup": "FindYourKicksIndia",
         "orientation": "v",
         "showlegend": true,
         "text": [
          "10 lakhs"
         ],
         "textposition": "auto",
         "type": "bar",
         "x": [
          5
         ],
         "xaxis": "x",
         "y": [
          10
         ],
         "yaxis": "y"
        },
        {
         "alignmentgroup": "True",
         "hovertemplate": "Startup Name=BluePineFoods<br>Ashneer Investment Equity=%{x}<br>Ashneer Investment Amount=%{y}<br>text=%{text}<extra></extra>",
         "legendgroup": "BluePineFoods",
         "marker": {
          "color": "#B6E880",
          "pattern": {
           "shape": ""
          }
         },
         "name": "BluePineFoods",
         "offsetgroup": "BluePineFoods",
         "orientation": "v",
         "showlegend": true,
         "text": [
          "25 lakhs"
         ],
         "textposition": "auto",
         "type": "bar",
         "x": [
          5.33
         ],
         "xaxis": "x",
         "y": [
          25
         ],
         "yaxis": "y"
        },
        {
         "alignmentgroup": "True",
         "hovertemplate": "Startup Name=MotionBreeze<br>Ashneer Investment Equity=%{x}<br>Ashneer Investment Amount=%{y}<br>text=%{text}<extra></extra>",
         "legendgroup": "MotionBreeze",
         "marker": {
          "color": "#FF97FF",
          "pattern": {
           "shape": ""
          }
         },
         "name": "MotionBreeze",
         "offsetgroup": "MotionBreeze",
         "orientation": "v",
         "showlegend": true,
         "text": [
          "30 lakhs"
         ],
         "textposition": "auto",
         "type": "bar",
         "x": [
          6
         ],
         "xaxis": "x",
         "y": [
          30
         ],
         "yaxis": "y"
        },
        {
         "alignmentgroup": "True",
         "hovertemplate": "Startup Name=JainShikanji<br>Ashneer Investment Equity=%{x}<br>Ashneer Investment Amount=%{y}<br>text=%{text}<extra></extra>",
         "legendgroup": "JainShikanji",
         "marker": {
          "color": "#FECB52",
          "pattern": {
           "shape": ""
          }
         },
         "name": "JainShikanji",
         "offsetgroup": "JainShikanji",
         "orientation": "v",
         "showlegend": true,
         "text": [
          "10 lakhs"
         ],
         "textposition": "auto",
         "type": "bar",
         "x": [
          7.5
         ],
         "xaxis": "x",
         "y": [
          10
         ],
         "yaxis": "y"
        },
        {
         "alignmentgroup": "True",
         "hovertemplate": "Startup Name=BoozScooters<br>Ashneer Investment Equity=%{x}<br>Ashneer Investment Amount=%{y}<br>text=%{text}<extra></extra>",
         "legendgroup": "BoozScooters",
         "marker": {
          "color": "#636efa",
          "pattern": {
           "shape": ""
          }
         },
         "name": "BoozScooters",
         "offsetgroup": "BoozScooters",
         "orientation": "v",
         "showlegend": true,
         "text": [
          "20 lakhs"
         ],
         "textposition": "auto",
         "type": "bar",
         "x": [
          25
         ],
         "xaxis": "x",
         "y": [
          20
         ],
         "yaxis": "y"
        }
       ],
       "layout": {
        "autosize": true,
        "barmode": "relative",
        "legend": {
         "title": {
          "text": "Startup Name"
         },
         "tracegroupgap": 0
        },
        "template": {
         "data": {
          "bar": [
           {
            "error_x": {
             "color": "#2a3f5f"
            },
            "error_y": {
             "color": "#2a3f5f"
            },
            "marker": {
             "line": {
              "color": "#E5ECF6",
              "width": 0.5
             },
             "pattern": {
              "fillmode": "overlay",
              "size": 10,
              "solidity": 0.2
             }
            },
            "type": "bar"
           }
          ],
          "barpolar": [
           {
            "marker": {
             "line": {
              "color": "#E5ECF6",
              "width": 0.5
             },
             "pattern": {
              "fillmode": "overlay",
              "size": 10,
              "solidity": 0.2
             }
            },
            "type": "barpolar"
           }
          ],
          "carpet": [
           {
            "aaxis": {
             "endlinecolor": "#2a3f5f",
             "gridcolor": "white",
             "linecolor": "white",
             "minorgridcolor": "white",
             "startlinecolor": "#2a3f5f"
            },
            "baxis": {
             "endlinecolor": "#2a3f5f",
             "gridcolor": "white",
             "linecolor": "white",
             "minorgridcolor": "white",
             "startlinecolor": "#2a3f5f"
            },
            "type": "carpet"
           }
          ],
          "choropleth": [
           {
            "colorbar": {
             "outlinewidth": 0,
             "ticks": ""
            },
            "type": "choropleth"
           }
          ],
          "contour": [
           {
            "colorbar": {
             "outlinewidth": 0,
             "ticks": ""
            },
            "colorscale": [
             [
              0,
              "#0d0887"
             ],
             [
              0.1111111111111111,
              "#46039f"
             ],
             [
              0.2222222222222222,
              "#7201a8"
             ],
             [
              0.3333333333333333,
              "#9c179e"
             ],
             [
              0.4444444444444444,
              "#bd3786"
             ],
             [
              0.5555555555555556,
              "#d8576b"
             ],
             [
              0.6666666666666666,
              "#ed7953"
             ],
             [
              0.7777777777777778,
              "#fb9f3a"
             ],
             [
              0.8888888888888888,
              "#fdca26"
             ],
             [
              1,
              "#f0f921"
             ]
            ],
            "type": "contour"
           }
          ],
          "contourcarpet": [
           {
            "colorbar": {
             "outlinewidth": 0,
             "ticks": ""
            },
            "type": "contourcarpet"
           }
          ],
          "heatmap": [
           {
            "colorbar": {
             "outlinewidth": 0,
             "ticks": ""
            },
            "colorscale": [
             [
              0,
              "#0d0887"
             ],
             [
              0.1111111111111111,
              "#46039f"
             ],
             [
              0.2222222222222222,
              "#7201a8"
             ],
             [
              0.3333333333333333,
              "#9c179e"
             ],
             [
              0.4444444444444444,
              "#bd3786"
             ],
             [
              0.5555555555555556,
              "#d8576b"
             ],
             [
              0.6666666666666666,
              "#ed7953"
             ],
             [
              0.7777777777777778,
              "#fb9f3a"
             ],
             [
              0.8888888888888888,
              "#fdca26"
             ],
             [
              1,
              "#f0f921"
             ]
            ],
            "type": "heatmap"
           }
          ],
          "heatmapgl": [
           {
            "colorbar": {
             "outlinewidth": 0,
             "ticks": ""
            },
            "colorscale": [
             [
              0,
              "#0d0887"
             ],
             [
              0.1111111111111111,
              "#46039f"
             ],
             [
              0.2222222222222222,
              "#7201a8"
             ],
             [
              0.3333333333333333,
              "#9c179e"
             ],
             [
              0.4444444444444444,
              "#bd3786"
             ],
             [
              0.5555555555555556,
              "#d8576b"
             ],
             [
              0.6666666666666666,
              "#ed7953"
             ],
             [
              0.7777777777777778,
              "#fb9f3a"
             ],
             [
              0.8888888888888888,
              "#fdca26"
             ],
             [
              1,
              "#f0f921"
             ]
            ],
            "type": "heatmapgl"
           }
          ],
          "histogram": [
           {
            "marker": {
             "pattern": {
              "fillmode": "overlay",
              "size": 10,
              "solidity": 0.2
             }
            },
            "type": "histogram"
           }
          ],
          "histogram2d": [
           {
            "colorbar": {
             "outlinewidth": 0,
             "ticks": ""
            },
            "colorscale": [
             [
              0,
              "#0d0887"
             ],
             [
              0.1111111111111111,
              "#46039f"
             ],
             [
              0.2222222222222222,
              "#7201a8"
             ],
             [
              0.3333333333333333,
              "#9c179e"
             ],
             [
              0.4444444444444444,
              "#bd3786"
             ],
             [
              0.5555555555555556,
              "#d8576b"
             ],
             [
              0.6666666666666666,
              "#ed7953"
             ],
             [
              0.7777777777777778,
              "#fb9f3a"
             ],
             [
              0.8888888888888888,
              "#fdca26"
             ],
             [
              1,
              "#f0f921"
             ]
            ],
            "type": "histogram2d"
           }
          ],
          "histogram2dcontour": [
           {
            "colorbar": {
             "outlinewidth": 0,
             "ticks": ""
            },
            "colorscale": [
             [
              0,
              "#0d0887"
             ],
             [
              0.1111111111111111,
              "#46039f"
             ],
             [
              0.2222222222222222,
              "#7201a8"
             ],
             [
              0.3333333333333333,
              "#9c179e"
             ],
             [
              0.4444444444444444,
              "#bd3786"
             ],
             [
              0.5555555555555556,
              "#d8576b"
             ],
             [
              0.6666666666666666,
              "#ed7953"
             ],
             [
              0.7777777777777778,
              "#fb9f3a"
             ],
             [
              0.8888888888888888,
              "#fdca26"
             ],
             [
              1,
              "#f0f921"
             ]
            ],
            "type": "histogram2dcontour"
           }
          ],
          "mesh3d": [
           {
            "colorbar": {
             "outlinewidth": 0,
             "ticks": ""
            },
            "type": "mesh3d"
           }
          ],
          "parcoords": [
           {
            "line": {
             "colorbar": {
              "outlinewidth": 0,
              "ticks": ""
             }
            },
            "type": "parcoords"
           }
          ],
          "pie": [
           {
            "automargin": true,
            "type": "pie"
           }
          ],
          "scatter": [
           {
            "fillpattern": {
             "fillmode": "overlay",
             "size": 10,
             "solidity": 0.2
            },
            "type": "scatter"
           }
          ],
          "scatter3d": [
           {
            "line": {
             "colorbar": {
              "outlinewidth": 0,
              "ticks": ""
             }
            },
            "marker": {
             "colorbar": {
              "outlinewidth": 0,
              "ticks": ""
             }
            },
            "type": "scatter3d"
           }
          ],
          "scattercarpet": [
           {
            "marker": {
             "colorbar": {
              "outlinewidth": 0,
              "ticks": ""
             }
            },
            "type": "scattercarpet"
           }
          ],
          "scattergeo": [
           {
            "marker": {
             "colorbar": {
              "outlinewidth": 0,
              "ticks": ""
             }
            },
            "type": "scattergeo"
           }
          ],
          "scattergl": [
           {
            "marker": {
             "colorbar": {
              "outlinewidth": 0,
              "ticks": ""
             }
            },
            "type": "scattergl"
           }
          ],
          "scattermapbox": [
           {
            "marker": {
             "colorbar": {
              "outlinewidth": 0,
              "ticks": ""
             }
            },
            "type": "scattermapbox"
           }
          ],
          "scatterpolar": [
           {
            "marker": {
             "colorbar": {
              "outlinewidth": 0,
              "ticks": ""
             }
            },
            "type": "scatterpolar"
           }
          ],
          "scatterpolargl": [
           {
            "marker": {
             "colorbar": {
              "outlinewidth": 0,
              "ticks": ""
             }
            },
            "type": "scatterpolargl"
           }
          ],
          "scatterternary": [
           {
            "marker": {
             "colorbar": {
              "outlinewidth": 0,
              "ticks": ""
             }
            },
            "type": "scatterternary"
           }
          ],
          "surface": [
           {
            "colorbar": {
             "outlinewidth": 0,
             "ticks": ""
            },
            "colorscale": [
             [
              0,
              "#0d0887"
             ],
             [
              0.1111111111111111,
              "#46039f"
             ],
             [
              0.2222222222222222,
              "#7201a8"
             ],
             [
              0.3333333333333333,
              "#9c179e"
             ],
             [
              0.4444444444444444,
              "#bd3786"
             ],
             [
              0.5555555555555556,
              "#d8576b"
             ],
             [
              0.6666666666666666,
              "#ed7953"
             ],
             [
              0.7777777777777778,
              "#fb9f3a"
             ],
             [
              0.8888888888888888,
              "#fdca26"
             ],
             [
              1,
              "#f0f921"
             ]
            ],
            "type": "surface"
           }
          ],
          "table": [
           {
            "cells": {
             "fill": {
              "color": "#EBF0F8"
             },
             "line": {
              "color": "white"
             }
            },
            "header": {
             "fill": {
              "color": "#C8D4E3"
             },
             "line": {
              "color": "white"
             }
            },
            "type": "table"
           }
          ]
         },
         "layout": {
          "annotationdefaults": {
           "arrowcolor": "#2a3f5f",
           "arrowhead": 0,
           "arrowwidth": 1
          },
          "autotypenumbers": "strict",
          "coloraxis": {
           "colorbar": {
            "outlinewidth": 0,
            "ticks": ""
           }
          },
          "colorscale": {
           "diverging": [
            [
             0,
             "#8e0152"
            ],
            [
             0.1,
             "#c51b7d"
            ],
            [
             0.2,
             "#de77ae"
            ],
            [
             0.3,
             "#f1b6da"
            ],
            [
             0.4,
             "#fde0ef"
            ],
            [
             0.5,
             "#f7f7f7"
            ],
            [
             0.6,
             "#e6f5d0"
            ],
            [
             0.7,
             "#b8e186"
            ],
            [
             0.8,
             "#7fbc41"
            ],
            [
             0.9,
             "#4d9221"
            ],
            [
             1,
             "#276419"
            ]
           ],
           "sequential": [
            [
             0,
             "#0d0887"
            ],
            [
             0.1111111111111111,
             "#46039f"
            ],
            [
             0.2222222222222222,
             "#7201a8"
            ],
            [
             0.3333333333333333,
             "#9c179e"
            ],
            [
             0.4444444444444444,
             "#bd3786"
            ],
            [
             0.5555555555555556,
             "#d8576b"
            ],
            [
             0.6666666666666666,
             "#ed7953"
            ],
            [
             0.7777777777777778,
             "#fb9f3a"
            ],
            [
             0.8888888888888888,
             "#fdca26"
            ],
            [
             1,
             "#f0f921"
            ]
           ],
           "sequentialminus": [
            [
             0,
             "#0d0887"
            ],
            [
             0.1111111111111111,
             "#46039f"
            ],
            [
             0.2222222222222222,
             "#7201a8"
            ],
            [
             0.3333333333333333,
             "#9c179e"
            ],
            [
             0.4444444444444444,
             "#bd3786"
            ],
            [
             0.5555555555555556,
             "#d8576b"
            ],
            [
             0.6666666666666666,
             "#ed7953"
            ],
            [
             0.7777777777777778,
             "#fb9f3a"
            ],
            [
             0.8888888888888888,
             "#fdca26"
            ],
            [
             1,
             "#f0f921"
            ]
           ]
          },
          "colorway": [
           "#636efa",
           "#EF553B",
           "#00cc96",
           "#ab63fa",
           "#FFA15A",
           "#19d3f3",
           "#FF6692",
           "#B6E880",
           "#FF97FF",
           "#FECB52"
          ],
          "font": {
           "color": "#2a3f5f"
          },
          "geo": {
           "bgcolor": "white",
           "lakecolor": "white",
           "landcolor": "#E5ECF6",
           "showlakes": true,
           "showland": true,
           "subunitcolor": "white"
          },
          "hoverlabel": {
           "align": "left"
          },
          "hovermode": "closest",
          "mapbox": {
           "style": "light"
          },
          "paper_bgcolor": "white",
          "plot_bgcolor": "#E5ECF6",
          "polar": {
           "angularaxis": {
            "gridcolor": "white",
            "linecolor": "white",
            "ticks": ""
           },
           "bgcolor": "#E5ECF6",
           "radialaxis": {
            "gridcolor": "white",
            "linecolor": "white",
            "ticks": ""
           }
          },
          "scene": {
           "xaxis": {
            "backgroundcolor": "#E5ECF6",
            "gridcolor": "white",
            "gridwidth": 2,
            "linecolor": "white",
            "showbackground": true,
            "ticks": "",
            "zerolinecolor": "white"
           },
           "yaxis": {
            "backgroundcolor": "#E5ECF6",
            "gridcolor": "white",
            "gridwidth": 2,
            "linecolor": "white",
            "showbackground": true,
            "ticks": "",
            "zerolinecolor": "white"
           },
           "zaxis": {
            "backgroundcolor": "#E5ECF6",
            "gridcolor": "white",
            "gridwidth": 2,
            "linecolor": "white",
            "showbackground": true,
            "ticks": "",
            "zerolinecolor": "white"
           }
          },
          "shapedefaults": {
           "line": {
            "color": "#2a3f5f"
           }
          },
          "ternary": {
           "aaxis": {
            "gridcolor": "white",
            "linecolor": "white",
            "ticks": ""
           },
           "baxis": {
            "gridcolor": "white",
            "linecolor": "white",
            "ticks": ""
           },
           "bgcolor": "#E5ECF6",
           "caxis": {
            "gridcolor": "white",
            "linecolor": "white",
            "ticks": ""
           }
          },
          "title": {
           "x": 0.05
          },
          "xaxis": {
           "automargin": true,
           "gridcolor": "white",
           "linecolor": "white",
           "ticks": "",
           "title": {
            "standoff": 15
           },
           "zerolinecolor": "white",
           "zerolinewidth": 2
          },
          "yaxis": {
           "automargin": true,
           "gridcolor": "white",
           "linecolor": "white",
           "ticks": "",
           "title": {
            "standoff": 15
           },
           "zerolinecolor": "white",
           "zerolinewidth": 2
          }
         }
        },
        "title": {
         "text": "<u><b>Total equity received by Ashneer (in %) for investment (in lakhs)</b></u>"
        },
        "xaxis": {
         "anchor": "y",
         "autorange": true,
         "domain": [
          0,
          1
         ],
         "range": [
          -0.5,
          13.5
         ],
         "title": {
          "text": "Ashneer Investment Equity"
         },
         "type": "category"
        },
        "yaxis": {
         "anchor": "x",
         "autorange": true,
         "domain": [
          0,
          1
         ],
         "range": [
          0,
          161.39999999999998
         ],
         "title": {
          "text": "Ashneer Investment Amount"
         },
         "type": "linear"
        }
       }
      },
      "image/png": "[encoded data removed]",
      "text/html": [
       "<div>                            <div id=\"10e91c72-acf9-470b-9516-27e8d05e570e\" class=\"plotly-graph-div\" style=\"height:525px; width:100%;\"></div>            <script type=\"text/javascript\">                require([\"plotly\"], function(Plotly) {                    window.PLOTLYENV=window.PLOTLYENV || {};                                    if (document.getElementById(\"10e91c72-acf9-470b-9516-27e8d05e570e\")) {                    Plotly.newPlot(                        \"10e91c72-acf9-470b-9516-27e8d05e570e\",                        [{\"alignmentgroup\":\"True\",\"hovertemplate\":\"Startup Name=Otua<br>Ashneer Investment Equity=%{x}<br>Ashneer Investment Amount=%{y}<br>text=%{text}<extra></extra>\",\"legendgroup\":\"Otua\",\"marker\":{\"color\":\"#636efa\",\"pattern\":{\"shape\":\"\"}},\"name\":\"Otua\",\"offsetgroup\":\"Otua\",\"orientation\":\"v\",\"showlegend\":true,\"text\":[\"1 lakhs\"],\"textposition\":\"auto\",\"x\":[1.0],\"xaxis\":\"x\",\"y\":[1.0],\"yaxis\":\"y\",\"type\":\"bar\"},{\"alignmentgroup\":\"True\",\"hovertemplate\":\"Startup Name=EventBeep<br>Ashneer Investment Equity=%{x}<br>Ashneer Investment Amount=%{y}<br>text=%{text}<extra></extra>\",\"legendgroup\":\"EventBeep\",\"marker\":{\"color\":\"#EF553B\",\"pattern\":{\"shape\":\"\"}},\"name\":\"EventBeep\",\"offsetgroup\":\"EventBeep\",\"orientation\":\"v\",\"showlegend\":true,\"text\":[\"10 lakhs\"],\"textposition\":\"auto\",\"x\":[1.0],\"xaxis\":\"x\",\"y\":[10.0],\"yaxis\":\"y\",\"type\":\"bar\"},{\"alignmentgroup\":\"True\",\"hovertemplate\":\"Startup Name=BeyondSnack<br>Ashneer Investment Equity=%{x}<br>Ashneer Investment Amount=%{y}<br>text=%{text}<extra></extra>\",\"legendgroup\":\"BeyondSnack\",\"marker\":{\"color\":\"#00cc96\",\"pattern\":{\"shape\":\"\"}},\"name\":\"BeyondSnack\",\"offsetgroup\":\"BeyondSnack\",\"orientation\":\"v\",\"showlegend\":true,\"text\":[\"25 lakhs\"],\"textposition\":\"auto\",\"x\":[1.25],\"xaxis\":\"x\",\"y\":[25.0],\"yaxis\":\"y\",\"type\":\"bar\"},{\"alignmentgroup\":\"True\",\"hovertemplate\":\"Startup Name=HairOriginals<br>Ashneer Investment Equity=%{x}<br>Ashneer Investment Amount=%{y}<br>text=%{text}<extra></extra>\",\"legendgroup\":\"HairOriginals\",\"marker\":{\"color\":\"#ab63fa\",\"pattern\":{\"shape\":\"\"}},\"name\":\"HairOriginals\",\"offsetgroup\":\"HairOriginals\",\"orientation\":\"v\",\"showlegend\":true,\"text\":[\"20 lakhs\"],\"textposition\":\"auto\",\"x\":[1.33],\"xaxis\":\"x\",\"y\":[20.0],\"yaxis\":\"y\",\"type\":\"bar\"},{\"alignmentgroup\":\"True\",\"hovertemplate\":\"Startup Name=BambooIndia<br>Ashneer Investment Equity=%{x}<br>Ashneer Investment Amount=%{y}<br>text=%{text}<extra></extra>\",\"legendgroup\":\"BambooIndia\",\"marker\":{\"color\":\"#FFA15A\",\"pattern\":{\"shape\":\"\"}},\"name\":\"BambooIndia\",\"offsetgroup\":\"BambooIndia\",\"orientation\":\"v\",\"showlegend\":true,\"text\":[\"25 lakhs\"],\"textposition\":\"auto\",\"x\":[1.75],\"xaxis\":\"x\",\"y\":[25.0],\"yaxis\":\"y\",\"type\":\"bar\"},{\"alignmentgroup\":\"True\",\"hovertemplate\":\"Startup Name=INACAN<br>Ashneer Investment Equity=%{x}<br>Ashneer Investment Amount=%{y}<br>text=%{text}<extra></extra>\",\"legendgroup\":\"INACAN\",\"marker\":{\"color\":\"#19d3f3\",\"pattern\":{\"shape\":\"\"}},\"name\":\"INACAN\",\"offsetgroup\":\"INACAN\",\"orientation\":\"v\",\"showlegend\":true,\"text\":[\"20 lakhs\"],\"textposition\":\"auto\",\"x\":[2.0],\"xaxis\":\"x\",\"y\":[20.0],\"yaxis\":\"y\",\"type\":\"bar\"},{\"alignmentgroup\":\"True\",\"hovertemplate\":\"Startup Name=RaisingSuperstars<br>Ashneer Investment Equity=%{x}<br>Ashneer Investment Amount=%{y}<br>text=%{text}<extra></extra>\",\"legendgroup\":\"RaisingSuperstars\",\"marker\":{\"color\":\"#FF6692\",\"pattern\":{\"shape\":\"\"}},\"name\":\"RaisingSuperstars\",\"offsetgroup\":\"RaisingSuperstars\",\"orientation\":\"v\",\"showlegend\":true,\"text\":[\"50 lakhs\"],\"textposition\":\"auto\",\"x\":[2.0],\"xaxis\":\"x\",\"y\":[50.0],\"yaxis\":\"y\",\"type\":\"bar\"},{\"alignmentgroup\":\"True\",\"hovertemplate\":\"Startup Name=WeSTOCK<br>Ashneer Investment Equity=%{x}<br>Ashneer Investment Amount=%{y}<br>text=%{text}<extra></extra>\",\"legendgroup\":\"WeSTOCK\",\"marker\":{\"color\":\"#B6E880\",\"pattern\":{\"shape\":\"\"}},\"name\":\"WeSTOCK\",\"offsetgroup\":\"WeSTOCK\",\"orientation\":\"v\",\"showlegend\":true,\"text\":[\"15 lakhs\"],\"textposition\":\"auto\",\"x\":[2.5],\"xaxis\":\"x\",\"y\":[15.0],\"yaxis\":\"y\",\"type\":\"bar\"},{\"alignmentgroup\":\"True\",\"hovertemplate\":\"Startup Name=TheYarnBazaar<br>Ashneer Investment Equity=%{x}<br>Ashneer Investment Amount=%{y}<br>text=%{text}<extra></extra>\",\"legendgroup\":\"TheYarnBazaar\",\"marker\":{\"color\":\"#FF97FF\",\"pattern\":{\"shape\":\"\"}},\"name\":\"TheYarnBazaar\",\"offsetgroup\":\"TheYarnBazaar\",\"orientation\":\"v\",\"showlegend\":true,\"text\":[\"25 lakhs\"],\"textposition\":\"auto\",\"x\":[2.5],\"xaxis\":\"x\",\"y\":[25.0],\"yaxis\":\"y\",\"type\":\"bar\"},{\"alignmentgroup\":\"True\",\"hovertemplate\":\"Startup Name=TagzFoods<br>Ashneer Investment Equity=%{x}<br>Ashneer Investment Amount=%{y}<br>text=%{text}<extra></extra>\",\"legendgroup\":\"TagzFoods\",\"marker\":{\"color\":\"#FECB52\",\"pattern\":{\"shape\":\"\"}},\"name\":\"TagzFoods\",\"offsetgroup\":\"TagzFoods\",\"orientation\":\"v\",\"showlegend\":true,\"text\":[\"70 lakhs\"],\"textposition\":\"auto\",\"x\":[2.75],\"xaxis\":\"x\",\"y\":[70.0],\"yaxis\":\"y\",\"type\":\"bar\"},{\"alignmentgroup\":\"True\",\"hovertemplate\":\"Startup Name=SkippiIcePops<br>Ashneer Investment Equity=%{x}<br>Ashneer Investment Amount=%{y}<br>text=%{text}<extra></extra>\",\"legendgroup\":\"SkippiIcePops\",\"marker\":{\"color\":\"#636efa\",\"pattern\":{\"shape\":\"\"}},\"name\":\"SkippiIcePops\",\"offsetgroup\":\"SkippiIcePops\",\"orientation\":\"v\",\"showlegend\":true,\"text\":[\"20 lakhs\"],\"textposition\":\"auto\",\"x\":[3.0],\"xaxis\":\"x\",\"y\":[20.0],\"yaxis\":\"y\",\"type\":\"bar\"},{\"alignmentgroup\":\"True\",\"hovertemplate\":\"Startup Name=TweekLabs<br>Ashneer Investment Equity=%{x}<br>Ashneer Investment Amount=%{y}<br>text=%{text}<extra></extra>\",\"legendgroup\":\"TweekLabs\",\"marker\":{\"color\":\"#EF553B\",\"pattern\":{\"shape\":\"\"}},\"name\":\"TweekLabs\",\"offsetgroup\":\"TweekLabs\",\"orientation\":\"v\",\"showlegend\":true,\"text\":[\"20 lakhs\"],\"textposition\":\"auto\",\"x\":[3.33],\"xaxis\":\"x\",\"y\":[20.0],\"yaxis\":\"y\",\"type\":\"bar\"},{\"alignmentgroup\":\"True\",\"hovertemplate\":\"Startup Name=NomadFoodProject<br>Ashneer Investment Equity=%{x}<br>Ashneer Investment Amount=%{y}<br>text=%{text}<extra></extra>\",\"legendgroup\":\"NomadFoodProject\",\"marker\":{\"color\":\"#00cc96\",\"pattern\":{\"shape\":\"\"}},\"name\":\"NomadFoodProject\",\"offsetgroup\":\"NomadFoodProject\",\"orientation\":\"v\",\"showlegend\":true,\"text\":[\"10 lakhs\"],\"textposition\":\"auto\",\"x\":[5.0],\"xaxis\":\"x\",\"y\":[10.0],\"yaxis\":\"y\",\"type\":\"bar\"},{\"alignmentgroup\":\"True\",\"hovertemplate\":\"Startup Name=AasVidyalaya<br>Ashneer Investment Equity=%{x}<br>Ashneer Investment Amount=%{y}<br>text=%{text}<extra></extra>\",\"legendgroup\":\"AasVidyalaya\",\"marker\":{\"color\":\"#ab63fa\",\"pattern\":{\"shape\":\"\"}},\"name\":\"AasVidyalaya\",\"offsetgroup\":\"AasVidyalaya\",\"orientation\":\"v\",\"showlegend\":true,\"text\":[\"50 lakhs\"],\"textposition\":\"auto\",\"x\":[5.0],\"xaxis\":\"x\",\"y\":[50.0],\"yaxis\":\"y\",\"type\":\"bar\"},{\"alignmentgroup\":\"True\",\"hovertemplate\":\"Startup Name=Proxgy<br>Ashneer Investment Equity=%{x}<br>Ashneer Investment Amount=%{y}<br>text=%{text}<extra></extra>\",\"legendgroup\":\"Proxgy\",\"marker\":{\"color\":\"#FFA15A\",\"pattern\":{\"shape\":\"\"}},\"name\":\"Proxgy\",\"offsetgroup\":\"Proxgy\",\"orientation\":\"v\",\"showlegend\":true,\"text\":[\"50 lakhs\"],\"textposition\":\"auto\",\"x\":[5.0],\"xaxis\":\"x\",\"y\":[50.0],\"yaxis\":\"y\",\"type\":\"bar\"},{\"alignmentgroup\":\"True\",\"hovertemplate\":\"Startup Name=Get-A-Whey<br>Ashneer Investment Equity=%{x}<br>Ashneer Investment Amount=%{y}<br>text=%{text}<extra></extra>\",\"legendgroup\":\"Get-A-Whey\",\"marker\":{\"color\":\"#19d3f3\",\"pattern\":{\"shape\":\"\"}},\"name\":\"Get-A-Whey\",\"offsetgroup\":\"Get-A-Whey\",\"orientation\":\"v\",\"showlegend\":true,\"text\":[\"33 lakhs\"],\"textposition\":\"auto\",\"x\":[5.0],\"xaxis\":\"x\",\"y\":[33.33],\"yaxis\":\"y\",\"type\":\"bar\"},{\"alignmentgroup\":\"True\",\"hovertemplate\":\"Startup Name=FindYourKicksIndia<br>Ashneer Investment Equity=%{x}<br>Ashneer Investment Amount=%{y}<br>text=%{text}<extra></extra>\",\"legendgroup\":\"FindYourKicksIndia\",\"marker\":{\"color\":\"#FF6692\",\"pattern\":{\"shape\":\"\"}},\"name\":\"FindYourKicksIndia\",\"offsetgroup\":\"FindYourKicksIndia\",\"orientation\":\"v\",\"showlegend\":true,\"text\":[\"10 lakhs\"],\"textposition\":\"auto\",\"x\":[5.0],\"xaxis\":\"x\",\"y\":[10.0],\"yaxis\":\"y\",\"type\":\"bar\"},{\"alignmentgroup\":\"True\",\"hovertemplate\":\"Startup Name=BluePineFoods<br>Ashneer Investment Equity=%{x}<br>Ashneer Investment Amount=%{y}<br>text=%{text}<extra></extra>\",\"legendgroup\":\"BluePineFoods\",\"marker\":{\"color\":\"#B6E880\",\"pattern\":{\"shape\":\"\"}},\"name\":\"BluePineFoods\",\"offsetgroup\":\"BluePineFoods\",\"orientation\":\"v\",\"showlegend\":true,\"text\":[\"25 lakhs\"],\"textposition\":\"auto\",\"x\":[5.33],\"xaxis\":\"x\",\"y\":[25.0],\"yaxis\":\"y\",\"type\":\"bar\"},{\"alignmentgroup\":\"True\",\"hovertemplate\":\"Startup Name=MotionBreeze<br>Ashneer Investment Equity=%{x}<br>Ashneer Investment Amount=%{y}<br>text=%{text}<extra></extra>\",\"legendgroup\":\"MotionBreeze\",\"marker\":{\"color\":\"#FF97FF\",\"pattern\":{\"shape\":\"\"}},\"name\":\"MotionBreeze\",\"offsetgroup\":\"MotionBreeze\",\"orientation\":\"v\",\"showlegend\":true,\"text\":[\"30 lakhs\"],\"textposition\":\"auto\",\"x\":[6.0],\"xaxis\":\"x\",\"y\":[30.0],\"yaxis\":\"y\",\"type\":\"bar\"},{\"alignmentgroup\":\"True\",\"hovertemplate\":\"Startup Name=JainShikanji<br>Ashneer Investment Equity=%{x}<br>Ashneer Investment Amount=%{y}<br>text=%{text}<extra></extra>\",\"legendgroup\":\"JainShikanji\",\"marker\":{\"color\":\"#FECB52\",\"pattern\":{\"shape\":\"\"}},\"name\":\"JainShikanji\",\"offsetgroup\":\"JainShikanji\",\"orientation\":\"v\",\"showlegend\":true,\"text\":[\"10 lakhs\"],\"textposition\":\"auto\",\"x\":[7.5],\"xaxis\":\"x\",\"y\":[10.0],\"yaxis\":\"y\",\"type\":\"bar\"},{\"alignmentgroup\":\"True\",\"hovertemplate\":\"Startup Name=BoozScooters<br>Ashneer Investment Equity=%{x}<br>Ashneer Investment Amount=%{y}<br>text=%{text}<extra></extra>\",\"legendgroup\":\"BoozScooters\",\"marker\":{\"color\":\"#636efa\",\"pattern\":{\"shape\":\"\"}},\"name\":\"BoozScooters\",\"offsetgroup\":\"BoozScooters\",\"orientation\":\"v\",\"showlegend\":true,\"text\":[\"20 lakhs\"],\"textposition\":\"auto\",\"x\":[25.0],\"xaxis\":\"x\",\"y\":[20.0],\"yaxis\":\"y\",\"type\":\"bar\"}],                        {\"template\":{\"data\":{\"histogram2dcontour\":[{\"type\":\"histogram2dcontour\",\"colorbar\":{\"outlinewidth\":0,\"ticks\":\"\"},\"colorscale\":[[0.0,\"#0d0887\"],[0.1111111111111111,\"#46039f\"],[0.2222222222222222,\"#7201a8\"],[0.3333333333333333,\"#9c179e\"],[0.4444444444444444,\"#bd3786\"],[0.5555555555555556,\"#d8576b\"],[0.6666666666666666,\"#ed7953\"],[0.7777777777777778,\"#fb9f3a\"],[0.8888888888888888,\"#fdca26\"],[1.0,\"#f0f921\"]]}],\"choropleth\":[{\"type\":\"choropleth\",\"colorbar\":{\"outlinewidth\":0,\"ticks\":\"\"}}],\"histogram2d\":[{\"type\":\"histogram2d\",\"colorbar\":{\"outlinewidth\":0,\"ticks\":\"\"},\"colorscale\":[[0.0,\"#0d0887\"],[0.1111111111111111,\"#46039f\"],[0.2222222222222222,\"#7201a8\"],[0.3333333333333333,\"#9c179e\"],[0.4444444444444444,\"#bd3786\"],[0.5555555555555556,\"#d8576b\"],[0.6666666666666666,\"#ed7953\"],[0.7777777777777778,\"#fb9f3a\"],[0.8888888888888888,\"#fdca26\"],[1.0,\"#f0f921\"]]}],\"heatmap\":[{\"type\":\"heatmap\",\"colorbar\":{\"outlinewidth\":0,\"ticks\":\"\"},\"colorscale\":[[0.0,\"#0d0887\"],[0.1111111111111111,\"#46039f\"],[0.2222222222222222,\"#7201a8\"],[0.3333333333333333,\"#9c179e\"],[0.4444444444444444,\"#bd3786\"],[0.5555555555555556,\"#d8576b\"],[0.6666666666666666,\"#ed7953\"],[0.7777777777777778,\"#fb9f3a\"],[0.8888888888888888,\"#fdca26\"],[1.0,\"#f0f921\"]]}],\"heatmapgl\":[{\"type\":\"heatmapgl\",\"colorbar\":{\"outlinewidth\":0,\"ticks\":\"\"},\"colorscale\":[[0.0,\"#0d0887\"],[0.1111111111111111,\"#46039f\"],[0.2222222222222222,\"#7201a8\"],[0.3333333333333333,\"#9c179e\"],[0.4444444444444444,\"#bd3786\"],[0.5555555555555556,\"#d8576b\"],[0.6666666666666666,\"#ed7953\"],[0.7777777777777778,\"#fb9f3a\"],[0.8888888888888888,\"#fdca26\"],[1.0,\"#f0f921\"]]}],\"contourcarpet\":[{\"type\":\"contourcarpet\",\"colorbar\":{\"outlinewidth\":0,\"ticks\":\"\"}}],\"contour\":[{\"type\":\"contour\",\"colorbar\":{\"outlinewidth\":0,\"ticks\":\"\"},\"colorscale\":[[0.0,\"#0d0887\"],[0.1111111111111111,\"#46039f\"],[0.2222222222222222,\"#7201a8\"],[0.3333333333333333,\"#9c179e\"],[0.4444444444444444,\"#bd3786\"],[0.5555555555555556,\"#d8576b\"],[0.6666666666666666,\"#ed7953\"],[0.7777777777777778,\"#fb9f3a\"],[0.8888888888888888,\"#fdca26\"],[1.0,\"#f0f921\"]]}],\"surface\":[{\"type\":\"surface\",\"colorbar\":{\"outlinewidth\":0,\"ticks\":\"\"},\"colorscale\":[[0.0,\"#0d0887\"],[0.1111111111111111,\"#46039f\"],[0.2222222222222222,\"#7201a8\"],[0.3333333333333333,\"#9c179e\"],[0.4444444444444444,\"#bd3786\"],[0.5555555555555556,\"#d8576b\"],[0.6666666666666666,\"#ed7953\"],[0.7777777777777778,\"#fb9f3a\"],[0.8888888888888888,\"#fdca26\"],[1.0,\"#f0f921\"]]}],\"mesh3d\":[{\"type\":\"mesh3d\",\"colorbar\":{\"outlinewidth\":0,\"ticks\":\"\"}}],\"scatter\":[{\"fillpattern\":{\"fillmode\":\"overlay\",\"size\":10,\"solidity\":0.2},\"type\":\"scatter\"}],\"parcoords\":[{\"type\":\"parcoords\",\"line\":{\"colorbar\":{\"outlinewidth\":0,\"ticks\":\"\"}}}],\"scatterpolargl\":[{\"type\":\"scatterpolargl\",\"marker\":{\"colorbar\":{\"outlinewidth\":0,\"ticks\":\"\"}}}],\"bar\":[{\"error_x\":{\"color\":\"#2a3f5f\"},\"error_y\":{\"color\":\"#2a3f5f\"},\"marker\":{\"line\":{\"color\":\"#E5ECF6\",\"width\":0.5},\"pattern\":{\"fillmode\":\"overlay\",\"size\":10,\"solidity\":0.2}},\"type\":\"bar\"}],\"scattergeo\":[{\"type\":\"scattergeo\",\"marker\":{\"colorbar\":{\"outlinewidth\":0,\"ticks\":\"\"}}}],\"scatterpolar\":[{\"type\":\"scatterpolar\",\"marker\":{\"colorbar\":{\"outlinewidth\":0,\"ticks\":\"\"}}}],\"histogram\":[{\"marker\":{\"pattern\":{\"fillmode\":\"overlay\",\"size\":10,\"solidity\":0.2}},\"type\":\"histogram\"}],\"scattergl\":[{\"type\":\"scattergl\",\"marker\":{\"colorbar\":{\"outlinewidth\":0,\"ticks\":\"\"}}}],\"scatter3d\":[{\"type\":\"scatter3d\",\"line\":{\"colorbar\":{\"outlinewidth\":0,\"ticks\":\"\"}},\"marker\":{\"colorbar\":{\"outlinewidth\":0,\"ticks\":\"\"}}}],\"scattermapbox\":[{\"type\":\"scattermapbox\",\"marker\":{\"colorbar\":{\"outlinewidth\":0,\"ticks\":\"\"}}}],\"scatterternary\":[{\"type\":\"scatterternary\",\"marker\":{\"colorbar\":{\"outlinewidth\":0,\"ticks\":\"\"}}}],\"scattercarpet\":[{\"type\":\"scattercarpet\",\"marker\":{\"colorbar\":{\"outlinewidth\":0,\"ticks\":\"\"}}}],\"carpet\":[{\"aaxis\":{\"endlinecolor\":\"#2a3f5f\",\"gridcolor\":\"white\",\"linecolor\":\"white\",\"minorgridcolor\":\"white\",\"startlinecolor\":\"#2a3f5f\"},\"baxis\":{\"endlinecolor\":\"#2a3f5f\",\"gridcolor\":\"white\",\"linecolor\":\"white\",\"minorgridcolor\":\"white\",\"startlinecolor\":\"#2a3f5f\"},\"type\":\"carpet\"}],\"table\":[{\"cells\":{\"fill\":{\"color\":\"#EBF0F8\"},\"line\":{\"color\":\"white\"}},\"header\":{\"fill\":{\"color\":\"#C8D4E3\"},\"line\":{\"color\":\"white\"}},\"type\":\"table\"}],\"barpolar\":[{\"marker\":{\"line\":{\"color\":\"#E5ECF6\",\"width\":0.5},\"pattern\":{\"fillmode\":\"overlay\",\"size\":10,\"solidity\":0.2}},\"type\":\"barpolar\"}],\"pie\":[{\"automargin\":true,\"type\":\"pie\"}]},\"layout\":{\"autotypenumbers\":\"strict\",\"colorway\":[\"#636efa\",\"#EF553B\",\"#00cc96\",\"#ab63fa\",\"#FFA15A\",\"#19d3f3\",\"#FF6692\",\"#B6E880\",\"#FF97FF\",\"#FECB52\"],\"font\":{\"color\":\"#2a3f5f\"},\"hovermode\":\"closest\",\"hoverlabel\":{\"align\":\"left\"},\"paper_bgcolor\":\"white\",\"plot_bgcolor\":\"#E5ECF6\",\"polar\":{\"bgcolor\":\"#E5ECF6\",\"angularaxis\":{\"gridcolor\":\"white\",\"linecolor\":\"white\",\"ticks\":\"\"},\"radialaxis\":{\"gridcolor\":\"white\",\"linecolor\":\"white\",\"ticks\":\"\"}},\"ternary\":{\"bgcolor\":\"#E5ECF6\",\"aaxis\":{\"gridcolor\":\"white\",\"linecolor\":\"white\",\"ticks\":\"\"},\"baxis\":{\"gridcolor\":\"white\",\"linecolor\":\"white\",\"ticks\":\"\"},\"caxis\":{\"gridcolor\":\"white\",\"linecolor\":\"white\",\"ticks\":\"\"}},\"coloraxis\":{\"colorbar\":{\"outlinewidth\":0,\"ticks\":\"\"}},\"colorscale\":{\"sequential\":[[0.0,\"#0d0887\"],[0.1111111111111111,\"#46039f\"],[0.2222222222222222,\"#7201a8\"],[0.3333333333333333,\"#9c179e\"],[0.4444444444444444,\"#bd3786\"],[0.5555555555555556,\"#d8576b\"],[0.6666666666666666,\"#ed7953\"],[0.7777777777777778,\"#fb9f3a\"],[0.8888888888888888,\"#fdca26\"],[1.0,\"#f0f921\"]],\"sequentialminus\":[[0.0,\"#0d0887\"],[0.1111111111111111,\"#46039f\"],[0.2222222222222222,\"#7201a8\"],[0.3333333333333333,\"#9c179e\"],[0.4444444444444444,\"#bd3786\"],[0.5555555555555556,\"#d8576b\"],[0.6666666666666666,\"#ed7953\"],[0.7777777777777778,\"#fb9f3a\"],[0.8888888888888888,\"#fdca26\"],[1.0,\"#f0f921\"]],\"diverging\":[[0,\"#8e0152\"],[0.1,\"#c51b7d\"],[0.2,\"#de77ae\"],[0.3,\"#f1b6da\"],[0.4,\"#fde0ef\"],[0.5,\"#f7f7f7\"],[0.6,\"#e6f5d0\"],[0.7,\"#b8e186\"],[0.8,\"#7fbc41\"],[0.9,\"#4d9221\"],[1,\"#276419\"]]},\"xaxis\":{\"gridcolor\":\"white\",\"linecolor\":\"white\",\"ticks\":\"\",\"title\":{\"standoff\":15},\"zerolinecolor\":\"white\",\"automargin\":true,\"zerolinewidth\":2},\"yaxis\":{\"gridcolor\":\"white\",\"linecolor\":\"white\",\"ticks\":\"\",\"title\":{\"standoff\":15},\"zerolinecolor\":\"white\",\"automargin\":true,\"zerolinewidth\":2},\"scene\":{\"xaxis\":{\"backgroundcolor\":\"#E5ECF6\",\"gridcolor\":\"white\",\"linecolor\":\"white\",\"showbackground\":true,\"ticks\":\"\",\"zerolinecolor\":\"white\",\"gridwidth\":2},\"yaxis\":{\"backgroundcolor\":\"#E5ECF6\",\"gridcolor\":\"white\",\"linecolor\":\"white\",\"showbackground\":true,\"ticks\":\"\",\"zerolinecolor\":\"white\",\"gridwidth\":2},\"zaxis\":{\"backgroundcolor\":\"#E5ECF6\",\"gridcolor\":\"white\",\"linecolor\":\"white\",\"showbackground\":true,\"ticks\":\"\",\"zerolinecolor\":\"white\",\"gridwidth\":2}},\"shapedefaults\":{\"line\":{\"color\":\"#2a3f5f\"}},\"annotationdefaults\":{\"arrowcolor\":\"#2a3f5f\",\"arrowhead\":0,\"arrowwidth\":1},\"geo\":{\"bgcolor\":\"white\",\"landcolor\":\"#E5ECF6\",\"subunitcolor\":\"white\",\"showland\":true,\"showlakes\":true,\"lakecolor\":\"white\"},\"title\":{\"x\":0.05},\"mapbox\":{\"style\":\"light\"}}},\"xaxis\":{\"anchor\":\"y\",\"domain\":[0.0,1.0],\"title\":{\"text\":\"Ashneer Investment Equity\"},\"type\":\"category\"},\"yaxis\":{\"anchor\":\"x\",\"domain\":[0.0,1.0],\"title\":{\"text\":\"Ashneer Investment Amount\"}},\"legend\":{\"title\":{\"text\":\"Startup Name\"},\"tracegroupgap\":0},\"title\":{\"text\":\"<u><b>Total equity received by Ashneer (in %) for investment (in lakhs)</b></u>\"},\"barmode\":\"relative\"},                        {\"responsive\": true}                    ).then(function(){\n",
       "                            \n",
       "var gd = document.getElementById('10e91c72-acf9-470b-9516-27e8d05e570e');\n",
       "var x = new MutationObserver(function (mutations, observer) {{\n",
       "        var display = window.getComputedStyle(gd).display;\n",
       "        if (!display || display === 'none') {{\n",
       "            console.log([gd, 'removed!']);\n",
       "            Plotly.purge(gd);\n",
       "            observer.disconnect();\n",
       "        }}\n",
       "}});\n",
       "\n",
       "// Listen for the removal of the full notebook cells\n",
       "var notebookContainer = gd.closest('#notebook-container');\n",
       "if (notebookContainer) {{\n",
       "    x.observe(notebookContainer, {childList: true});\n",
       "}}\n",
       "\n",
       "// Listen for the clearing of the current output cell\n",
       "var outputEl = gd.closest('.output');\n",
       "if (outputEl) {{\n",
       "    x.observe(outputEl, {childList: true});\n",
       "}}\n",
       "\n",
       "                        })                };                });            </script>        </div>"
      ]
     },
     "metadata": {},
     "output_type": "display_data"
    }
   ],
   "source": [
    "tmpdf = shark_tank.loc[shark_tank['Ashneer Investment Amount']>0] [[\"Startup Name\",\"Ashneer Investment Amount\",\"Ashneer Investment Equity\"]].sort_values(by=\"Ashneer Investment Equity\")\n",
    "fig = px.bar(tmpdf, x=\"Ashneer Investment Equity\", y='Ashneer Investment Amount', \n",
    "             color=\"Startup Name\", template='plotly', \n",
    "             title=\"<u><b>Total equity received by Ashneer (in %) for investment (in lakhs)</b></u>\", \n",
    "             text=tmpdf['Ashneer Investment Amount'].map(int).map(str) + \" lakhs\")\n",
    "fig.update_layout(dict(xaxis = dict(type=\"category\")))\n",
    "fig.show()"
   ]
  },
  {
   "cell_type": "markdown",
   "id": "093c289c-caed-4479-93ab-41ddea3fbfee",
   "metadata": {},
   "source": [
    "# Number  of sharks in a deal"
   ]
  },
  {
   "cell_type": "code",
   "execution_count": 67,
   "id": "46f3cb7d-7c77-40a2-8350-02385175b4ea",
   "metadata": {},
   "outputs": [
    {
     "name": "stdout",
     "output_type": "stream",
     "text": [
      "Number of sharks in deal\n",
      "1.0    42%\n",
      "2.0    31%\n",
      "3.0    16%\n",
      "4.0     7%\n",
      "5.0     5%\n",
      "Name: proportion, dtype: object\n"
     ]
    },
    {
     "data": {
      "text/plain": [
       "<Axes: xlabel='Number of sharks in deal', ylabel='count'>"
      ]
     },
     "execution_count": 67,
     "metadata": {},
     "output_type": "execute_result"
    },
    {
     "data": {
      "image/png": "[encoded data removed]",
      "text/plain": [
       "<Figure size 640x480 with 1 Axes>"
      ]
     },
     "metadata": {},
     "output_type": "display_data"
    }
   ],
   "source": [
    "print(round(shark_tank['Number of sharks in deal'].value_counts(normalize=True)*100).astype(str).str.replace('.0','%'))\n",
    "sns.countplot(data = shark_tank, x='Number of sharks in deal',palette='viridis')"
   ]
  },
  {
   "cell_type": "markdown",
   "id": "39a701c9-0ef8-4ccd-9f67-ba85d91a01ea",
   "metadata": {},
   "source": [
    "# Namita Investment"
   ]
  },
  {
   "cell_type": "code",
   "execution_count": 68,
   "id": "b5afbf76-1ecb-416c-8445-9b7ebb7ad5f5",
   "metadata": {},
   "outputs": [
    {
     "data": {
      "text/plain": [
       "<Axes: ylabel='count'>"
      ]
     },
     "execution_count": 68,
     "metadata": {},
     "output_type": "execute_result"
    },
    {
     "data": {
      "image/png": "[encoded data removed]",
      "text/plain": [
       "<Figure size 2000x1000 with 1 Axes>"
      ]
     },
     "metadata": {},
     "output_type": "display_data"
    }
   ],
   "source": [
    "plt.figure(figsize=(20,10))\n",
    "shark_tank[shark_tank['Namita Investment Amount']>0]['Industry'].value_counts().sort_values(ascending=False).plot.pie(autopct='%1.2f%%',startangle=200,counterclock=False)"
   ]
  },
  {
   "cell_type": "code",
   "execution_count": null,
   "id": "ad269ee1-dce2-4694-8987-63b244777d6e",
   "metadata": {},
   "outputs": [],
   "source": []
  }
 ],
 "metadata": {
  "kernelspec": {
   "display_name": "Python 3 (ipykernel)",
   "language": "python",
   "name": "python3"
  },
  "language_info": {
   "codemirror_mode": {
    "name": "ipython",
    "version": 3
   },
   "file_extension": ".py",
   "mimetype": "text/x-python",
   "name": "python",
   "nbconvert_exporter": "python",
   "pygments_lexer": "ipython3",
   "version": "3.11.7"
  }
 },
 "nbformat": 4,
 "nbformat_minor": 5
}
