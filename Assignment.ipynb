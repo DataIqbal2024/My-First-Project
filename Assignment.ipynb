{
 "cells": [
  {
   "cell_type": "code",
   "execution_count": 3,
   "id": "89e0d4ec-b0e0-4133-94a5-a9f2f5c47f84",
   "metadata": {},
   "outputs": [],
   "source": [
    "# 1 ---- Write a python program to cheak if a string is a palidrome.\n",
    "\n",
    "def is_palindrome(string):\n",
    "    reversed_string=string[::-1]\n",
    "    return string==reversed_string"
   ]
  },
  {
   "cell_type": "code",
   "execution_count": 4,
   "id": "3d637560-cd18-44a3-8cee-36305bf93436",
   "metadata": {},
   "outputs": [
    {
     "name": "stdout",
     "output_type": "stream",
     "text": [
      "Iqbal is not a palindrome\n"
     ]
    }
   ],
   "source": [
    "word=\"Iqbal\"\n",
    "if is_palindrome(word):\n",
    "    print(f\"{word} is a palindrom\")\n",
    "else:\n",
    "    print(f\"{word} is not a palindrome\")"
   ]
  },
  {
   "cell_type": "code",
   "execution_count": 6,
   "id": "480a6d83-2462-4fee-b3ac-52e87c16e1a6",
   "metadata": {},
   "outputs": [
    {
     "name": "stdout",
     "output_type": "stream",
     "text": [
      "madam is a palindrome\n"
     ]
    }
   ],
   "source": [
    "word=\"madam\"\n",
    "if is_palindrome(word):\n",
    "    print(f\"{word} is a palindrome\")\n",
    "else:\n",
    "    print(f\"{word} is not a palindrome\")"
   ]
  },
  {
   "cell_type": "code",
   "execution_count": 7,
   "id": "06e992a3-29eb-405c-b0ff-08e8da7ded73",
   "metadata": {},
   "outputs": [],
   "source": [
    "\n",
    "# 2----- Write a python program to find the factorial of a number.\n",
    "\n",
    "def factorial(n):\n",
    "    if n==0:\n",
    "        return 1\n",
    "    else:\n",
    "        return n*factorial(n-1)\n",
    "\n"
   ]
  },
  {
   "cell_type": "code",
   "execution_count": 9,
   "id": "69e115b4-7754-4c2f-9213-dafbb35cd898",
   "metadata": {},
   "outputs": [
    {
     "name": "stdout",
     "output_type": "stream",
     "text": [
      "The factorial of {number} is {result}\n"
     ]
    }
   ],
   "source": [
    "number=5\n",
    "result=(factorial(number))\n",
    "print(\"The factorial of {number} is {result}\")\n"
   ]
  },
  {
   "cell_type": "code",
   "execution_count": 14,
   "id": "104b28f3-7a35-4aaf-b8a2-569dec093355",
   "metadata": {},
   "outputs": [],
   "source": [
    "\n",
    "# 3 Write a python program to find the largest element in a list.\n",
    "\n",
    "def find_largest(numbers):\n",
    "    largest=numbers[0]\n",
    "    for num in numbers:\n",
    "        if num > largest:\n",
    "            largest = num\n",
    "    return largest"
   ]
  },
  {
   "cell_type": "code",
   "execution_count": 20,
   "id": "5eee7c64-41c0-4497-85d4-a237dd511a16",
   "metadata": {},
   "outputs": [
    {
     "name": "stdout",
     "output_type": "stream",
     "text": [
      "The largest number is 60\n"
     ]
    }
   ],
   "source": [
    "num=[10,20,30,40,50,60]\n",
    "largest_num=find_largest(num)\n",
    "print(f\"The largest number is {largest_num}\")"
   ]
  },
  {
   "cell_type": "code",
   "execution_count": 22,
   "id": "e56ce576-4367-4d48-ab5f-7623ef692d13",
   "metadata": {},
   "outputs": [],
   "source": [
    "\n",
    "#  4  ----  Write a python program to count the frequency of each element in a list.\n",
    "\n",
    "def count_frequency(numbers):\n",
    "    frequency={}\n",
    "    for num in numbers:\n",
    "        if num is frequency:\n",
    "            frequency[num] +=1\n",
    "        else:\n",
    "            frequency[num] = 1\n",
    "    return frequency"
   ]
  },
  {
   "cell_type": "code",
   "execution_count": 27,
   "id": "ae806aa2-8931-4d97-af71-4913ee7df9a1",
   "metadata": {},
   "outputs": [
    {
     "name": "stdout",
     "output_type": "stream",
     "text": [
      "{1: 1, 2: 1, 3: 1, 4: 1, 5: 1}\n"
     ]
    }
   ],
   "source": [
    "nums=[1,2,3,2,1,3,2,4,5,4]\n",
    "frequency_count = count_frequency(nums)\n",
    "print(frequency_count)\n"
   ]
  },
  {
   "cell_type": "code",
   "execution_count": 28,
   "id": "79db7d26-c843-45ae-9d7d-99dfcc59d06e",
   "metadata": {},
   "outputs": [],
   "source": [
    "\n",
    "# 5---- Write a python program to cheak if a number is prime.\n",
    "\n",
    "def is_prime(numbers):\n",
    "    if number <2:\n",
    "        return False\n",
    "    for i in range(2,int(number**0.5)+1):\n",
    "        if number % i ==0:\n",
    "            return False\n",
    "    return True"
   ]
  },
  {
   "cell_type": "code",
   "execution_count": 32,
   "id": "a68d4468-3824-4099-b0eb-f52e6433e618",
   "metadata": {},
   "outputs": [
    {
     "name": "stdout",
     "output_type": "stream",
     "text": [
      "17 is a prime number\n"
     ]
    }
   ],
   "source": [
    "num=17\n",
    "if is_prime(num):\n",
    "    print(f\"{num} is a prime number\")\n",
    "else:\n",
    "    print(f\"{num} is not a prime number\")"
   ]
  },
  {
   "cell_type": "code",
   "execution_count": 9,
   "id": "7530fdde-cea2-4b85-b8f0-60a48d226035",
   "metadata": {},
   "outputs": [],
   "source": [
    "\n",
    "# 6------ Write a program program to find the comman elements between two list.\n",
    "\n",
    "def find_common_elements(list1,list2):\n",
    "    common_elements=[]\n",
    "    for item in list1:\n",
    "        if item in list2:\n",
    "            common_elements.append(item)\n",
    "        return common_elements"
   ]
  },
  {
   "cell_type": "code",
   "execution_count": 10,
   "id": "9dc0ed34-4a2e-4ef3-a1d9-ded7bdb105da",
   "metadata": {},
   "outputs": [
    {
     "name": "stdout",
     "output_type": "stream",
     "text": [
      "[]\n"
     ]
    }
   ],
   "source": [
    "list_a=[1,2,3,4,5]\n",
    "list_b=[4,5,6,7,8]\n",
    "common=find_common_elements(list_a,list_b)\n",
    "print(common)"
   ]
  },
  {
   "cell_type": "code",
   "execution_count": 31,
   "id": "252175c8-f23b-4b55-95b9-3b68d04eec36",
   "metadata": {},
   "outputs": [],
   "source": [
    "\n",
    "# 7--- Write a python program to find the second largest number in a list.---\n",
    "\n",
    "def find_second_largest(numbers):\n",
    "    largest=float('-inf')\n",
    "    second_largest=float('-inf')\n",
    "    for num in numbers:\n",
    "        if num>largest:\n",
    "            second_largest=largest\n",
    "            largest=num\n",
    "        elif num>second_largest and num!=largest:\n",
    "            second_largest=num\n",
    "        return second_largest"
   ]
  },
  {
   "cell_type": "code",
   "execution_count": 34,
   "id": "b7a25136-56ae-4639-a71f-27360c028700",
   "metadata": {},
   "outputs": [
    {
     "name": "stdout",
     "output_type": "stream",
     "text": [
      "The second largest number is -inf\n"
     ]
    }
   ],
   "source": [
    "nums=[10,5,8,20,3]\n",
    "second_largest_num=find_second_largest(nums)\n",
    "print(f\"The second largest number is {second_largest_num}\")"
   ]
  },
  {
   "cell_type": "code",
   "execution_count": 44,
   "id": "cde6f1b7-8cf7-4d80-9367-b3bb99ce1b4b",
   "metadata": {},
   "outputs": [],
   "source": [
    "# adding two list element together\n",
    "lst1=[1,2,3]\n",
    "lst2=[4,5,6]"
   ]
  },
  {
   "cell_type": "code",
   "execution_count": 45,
   "id": "0a46d9bf-4d00-420f-bc2d-4879339388e9",
   "metadata": {},
   "outputs": [
    {
     "name": "stdout",
     "output_type": "stream",
     "text": [
      "[5]\n",
      "[5, 7]\n",
      "[5, 7, 9]\n"
     ]
    }
   ],
   "source": [
    "res_lst=[]\n",
    "for i in range(0,len(lst1)):\n",
    "    res_lst.append(lst1[i]+lst2[i])\n",
    "    print(res_lst)"
   ]
  },
  {
   "cell_type": "code",
   "execution_count": 50,
   "id": "94e7ba0b-eb5f-4108-a33f-86c3d0ebd123",
   "metadata": {},
   "outputs": [],
   "source": [
    " \n",
    "\n",
    "#  8------Write a program to cheak if  the given strings are anagram or not.\n",
    "\n",
    "def cheak(s1,s2):\n",
    "    if(sorted(s1)==sorted(s2)):\n",
    "        print(\"The string are anagrams.\")\n",
    "    else:\n",
    "        print(\"The string aren,t anagrams.\")\n",
    "        "
   ]
  },
  {
   "cell_type": "code",
   "execution_count": 56,
   "id": "43998829-461b-4d4f-8976-d1f795dc5c44",
   "metadata": {},
   "outputs": [
    {
     "name": "stdin",
     "output_type": "stream",
     "text": [
      "Enter string: !\n",
      "Enter string: !\n"
     ]
    },
    {
     "name": "stdout",
     "output_type": "stream",
     "text": [
      "The string ar anagrams.\n"
     ]
    }
   ],
   "source": [
    "s1=input(\"Enter string:\")  #input1:\"listen\"  \n",
    "s2=input(\"Enter string:\")  #input2:\"scilent\"\n",
    "cheak(s1,s2)               # The string are anagrams."
   ]
  },
  {
   "cell_type": "code",
   "execution_count": 76,
   "id": "1d2aa490-d18d-454d-9eca-19b8ac1abc54",
   "metadata": {},
   "outputs": [
    {
     "name": "stdout",
     "output_type": "stream",
     "text": [
      "    * \n",
      "   * * \n",
      "  * * * \n",
      " * * * * \n",
      "* * * * * \n"
     ]
    }
   ],
   "source": [
    "\n",
    "\n",
    "# 9----Write a program to print the following pattern.\n",
    "\n",
    "def myFunc(n):\n",
    "    k=n-1\n",
    "    for i in range(0,n):\n",
    "        for j in range(0,k):\n",
    "            print(end=\" \")\n",
    "        k=k-1\n",
    "        for j in range(0,i+1):\n",
    "            print(\"*\",end=\" \")\n",
    "        print(\"\\r\")\n",
    "\n",
    "n=5\n",
    "myFunc(n)"
   ]
  },
  {
   "cell_type": "code",
   "execution_count": 80,
   "id": "3683184c-f4ba-4845-9bc1-d6ef9c9ae66c",
   "metadata": {},
   "outputs": [
    {
     "name": "stdout",
     "output_type": "stream",
     "text": [
      "1  \n",
      "1 2  \n",
      "1 2 3  \n",
      "1 2 3 4  \n",
      "1 2 3 4 5  \n"
     ]
    }
   ],
   "source": [
    "\n",
    "\n",
    "# 10------- Write a program to print the following pattern.\n",
    "\n",
    "def num(n):\n",
    "    num=1\n",
    "    for i in range(0,n):\n",
    "        num=1\n",
    "        for j in range(0,i+1):\n",
    "            print(num,end=\" \")\n",
    "            num=num+1\n",
    "        print(\" \")\n",
    "\n",
    "n=5\n",
    "num(n)"
   ]
  },
  {
   "cell_type": "code",
   "execution_count": null,
   "id": "8f12275b-199c-4553-ad19-35b3ddae61f5",
   "metadata": {},
   "outputs": [],
   "source": []
  },
  {
   "cell_type": "code",
   "execution_count": null,
   "id": "5e280b88-4714-4008-8753-af1201b321f3",
   "metadata": {},
   "outputs": [],
   "source": []
  }
 ],
 "metadata": {
  "kernelspec": {
   "display_name": "Python 3 (ipykernel)",
   "language": "python",
   "name": "python3"
  },
  "language_info": {
   "codemirror_mode": {
    "name": "ipython",
    "version": 3
   },
   "file_extension": ".py",
   "mimetype": "text/x-python",
   "name": "python",
   "nbconvert_exporter": "python",
   "pygments_lexer": "ipython3",
   "version": "3.11.7"
  }
 },
 "nbformat": 4,
 "nbformat_minor": 5
}
