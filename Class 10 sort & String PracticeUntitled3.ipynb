{
 "cells": [
  {
   "cell_type": "code",
   "execution_count": 1,
   "id": "06285b66-f670-4878-840c-da1e34a39ee4",
   "metadata": {},
   "outputs": [
    {
     "name": "stdout",
     "output_type": "stream",
     "text": [
      "['Sumit']\n"
     ]
    }
   ],
   "source": [
    "L = [\"Amit\",\"Sumit\",\"Naina\"]\n",
    "print(L[1:-1])"
   ]
  },
  {
   "cell_type": "code",
   "execution_count": 2,
   "id": "9ce9dda5-0234-47f2-9fcc-f62fcbb39260",
   "metadata": {},
   "outputs": [
    {
     "name": "stdout",
     "output_type": "stream",
     "text": [
      "['Amit', 'Sumit', 'Naina', 'Amit', 'Sumit', 'Naina']\n"
     ]
    }
   ],
   "source": [
    "L = [\"Amit\",\"Sumit\",\"Naina\"]\n",
    "print(L*2)     # * is used for repeat"
   ]
  },
  {
   "cell_type": "code",
   "execution_count": 3,
   "id": "87a64fa9-83ee-447e-bcc1-cdc19e0c69ce",
   "metadata": {},
   "outputs": [
    {
     "ename": "TypeError",
     "evalue": "unsupported operand type(s) for ** or pow(): 'list' and 'int'",
     "output_type": "error",
     "traceback": [
      "\u001b[1;31m---------------------------------------------------------------------------\u001b[0m",
      "\u001b[1;31mTypeError\u001b[0m                                 Traceback (most recent call last)",
      "Cell \u001b[1;32mIn[3], line 2\u001b[0m\n\u001b[0;32m      1\u001b[0m L \u001b[38;5;241m=\u001b[39m [\u001b[38;5;124m\"\u001b[39m\u001b[38;5;124mAmit\u001b[39m\u001b[38;5;124m\"\u001b[39m,\u001b[38;5;124m\"\u001b[39m\u001b[38;5;124mSumit\u001b[39m\u001b[38;5;124m\"\u001b[39m,\u001b[38;5;124m\"\u001b[39m\u001b[38;5;124mNaina\u001b[39m\u001b[38;5;124m\"\u001b[39m]\n\u001b[1;32m----> 2\u001b[0m \u001b[38;5;28mprint\u001b[39m(L\u001b[38;5;241m*\u001b[39m\u001b[38;5;241m*\u001b[39m\u001b[38;5;241m2\u001b[39m)\n",
      "\u001b[1;31mTypeError\u001b[0m: unsupported operand type(s) for ** or pow(): 'list' and 'int'"
     ]
    }
   ],
   "source": [
    "L = [\"Amit\",\"Sumit\",\"Naina\"]\n",
    "print(L**2)"
   ]
  },
  {
   "cell_type": "code",
   "execution_count": 5,
   "id": "3466f8bb-7968-4db2-9325-32b044632836",
   "metadata": {},
   "outputs": [
    {
     "name": "stdout",
     "output_type": "stream",
     "text": [
      "[0.0, 0.5, 1.0, 1.5]\n"
     ]
    }
   ],
   "source": [
    "L=[0.5 * x for x in range(4)]\n",
    "print(L)  # number will multiply"
   ]
  },
  {
   "cell_type": "code",
   "execution_count": 6,
   "id": "cb8e6f3f-c341-4841-907e-f3cc9e54e9e0",
   "metadata": {},
   "outputs": [
    {
     "name": "stdout",
     "output_type": "stream",
     "text": [
      "['', 'a', 'aa', 'aaa']\n"
     ]
    }
   ],
   "source": [
    "L = ['a' * x for x in range(4)]\n",
    "print(L)  # string will repeat\n"
   ]
  },
  {
   "cell_type": "code",
   "execution_count": 14,
   "id": "86036343-1226-4648-8c02-05209e71db3e",
   "metadata": {},
   "outputs": [
    {
     "name": "stdout",
     "output_type": "stream",
     "text": [
      "[10, 6, 2]\n"
     ]
    }
   ],
   "source": [
    "L=[1* x for x in range(10,1,-4)]\n",
    "print(L)"
   ]
  },
  {
   "cell_type": "code",
   "execution_count": 15,
   "id": "097c3eee-08a8-421f-832f-c3d6f41c2fa2",
   "metadata": {},
   "outputs": [
    {
     "name": "stdout",
     "output_type": "stream",
     "text": [
      "['A', 2, 3, 4]\n",
      "['A', 2, 3, 4]\n"
     ]
    }
   ],
   "source": [
    "T=[1,2,3,4]\n",
    "T1 = T\n",
    "T[0] = \"A\"\n",
    "print(T)\n",
    "print(T1)"
   ]
  },
  {
   "cell_type": "code",
   "execution_count": 20,
   "id": "090bfaa3-17f7-412c-b84b-e189d86ed9e1",
   "metadata": {},
   "outputs": [
    {
     "name": "stdout",
     "output_type": "stream",
     "text": [
      "None\n"
     ]
    }
   ],
   "source": [
    "T=[1,2,3,4]\n",
    "T1=[5,6,7]\n",
    "L=T.append(T1)\n",
    "print(L)"
   ]
  },
  {
   "cell_type": "code",
   "execution_count": 22,
   "id": "f6290b14-fcab-495c-b175-8567f89389df",
   "metadata": {},
   "outputs": [
    {
     "name": "stdout",
     "output_type": "stream",
     "text": [
      "[1, 2, 3, 4, [5, 6, 7]]\n"
     ]
    }
   ],
   "source": [
    "T=[1,2,3,4]\n",
    "T1=[5,6,7]\n",
    "T.append(T1)\n",
    "print(T)"
   ]
  },
  {
   "cell_type": "code",
   "execution_count": 23,
   "id": "f695fbf8-20f2-4f01-9a50-06262ba22500",
   "metadata": {},
   "outputs": [
    {
     "name": "stdout",
     "output_type": "stream",
     "text": [
      "23\n"
     ]
    }
   ],
   "source": [
    "L=[1,5,9]\n",
    "print(sum(L)+max(L)-min(L))"
   ]
  },
  {
   "cell_type": "code",
   "execution_count": 25,
   "id": "2e3813bb-9815-4e96-ab23-a4d20a9e93fa",
   "metadata": {},
   "outputs": [
    {
     "name": "stdout",
     "output_type": "stream",
     "text": [
      "5\n"
     ]
    }
   ],
   "source": [
    "L=[1,2,3,4,5,6,7,8,9,10]\n",
    "print(L[L[3]])"
   ]
  },
  {
   "cell_type": "code",
   "execution_count": 26,
   "id": "d3f2f700-8546-4200-b77e-4ea05aac7717",
   "metadata": {},
   "outputs": [
    {
     "name": "stdout",
     "output_type": "stream",
     "text": [
      "False\n"
     ]
    }
   ],
   "source": [
    "print(1 in [[1],2,3])"
   ]
  },
  {
   "cell_type": "code",
   "execution_count": 35,
   "id": "8b7da5ca-4afd-4cba-affd-20451cd268d4",
   "metadata": {},
   "outputs": [
    {
     "name": "stdout",
     "output_type": "stream",
     "text": [
      "[1, 2, 3]\n"
     ]
    }
   ],
   "source": [
    "D=[1,2,3]\n",
    "D1=D\n",
    "D.append(4)\n",
    "print(D1)"
   ]
  },
  {
   "cell_type": "code",
   "execution_count": 36,
   "id": "9696b06e-f8c3-46aa-a495-42ff6d3159d1",
   "metadata": {},
   "outputs": [
    {
     "name": "stdout",
     "output_type": "stream",
     "text": [
      "[1, 2, 3]\n"
     ]
    }
   ],
   "source": [
    "D=[1,2,3]\n",
    "D1=D.copy()\n",
    "D.append(4)\n",
    "print(D1)"
   ]
  },
  {
   "cell_type": "code",
   "execution_count": 37,
   "id": "a0e05f9a-114f-43ef-a3e0-94e91d18b13d",
   "metadata": {},
   "outputs": [
    {
     "name": "stdout",
     "output_type": "stream",
     "text": [
      "[]\n"
     ]
    }
   ],
   "source": [
    "print([] * 2)"
   ]
  },
  {
   "cell_type": "code",
   "execution_count": 40,
   "id": "ab7c2bc4-2e6b-4f73-a3ff-9bf01612cebc",
   "metadata": {},
   "outputs": [
    {
     "name": "stdout",
     "output_type": "stream",
     "text": [
      "m\n"
     ]
    }
   ],
   "source": [
    "L = [\"Amit\",'Sumit','Ravi']\n",
    "print(L[0][1])"
   ]
  },
  {
   "cell_type": "code",
   "execution_count": 52,
   "id": "e72dbf00-0a1e-41f6-ab91-da5158a1c433",
   "metadata": {},
   "outputs": [
    {
     "name": "stdout",
     "output_type": "stream",
     "text": [
      "[23, 45, 65, 'Monitor', 32, 3]\n"
     ]
    }
   ],
   "source": [
    "L= [23,45,65,32,3]\n",
    "L.insert(L[4],'Monitor')\n",
    "print(L)"
   ]
  },
  {
   "cell_type": "code",
   "execution_count": 57,
   "id": "079f6fde-430f-4ec6-951b-6c61c29bbc48",
   "metadata": {},
   "outputs": [
    {
     "name": "stdout",
     "output_type": "stream",
     "text": [
      "[23, 45, 65, 'Monitor', 32, 3]\n"
     ]
    }
   ],
   "source": [
    "L= [23,45,65,32,3]\n",
    "L.insert(L[4],'Monitor')\n",
    "print(L)"
   ]
  },
  {
   "cell_type": "code",
   "execution_count": null,
   "id": "a7f5e8c3-9314-495d-85b2-717dd999cf04",
   "metadata": {},
   "outputs": [],
   "source": []
  }
 ],
 "metadata": {
  "kernelspec": {
   "display_name": "Python 3 (ipykernel)",
   "language": "python",
   "name": "python3"
  },
  "language_info": {
   "codemirror_mode": {
    "name": "ipython",
    "version": 3
   },
   "file_extension": ".py",
   "mimetype": "text/x-python",
   "name": "python",
   "nbconvert_exporter": "python",
   "pygments_lexer": "ipython3",
   "version": "3.11.7"
  }
 },
 "nbformat": 4,
 "nbformat_minor": 5
}
