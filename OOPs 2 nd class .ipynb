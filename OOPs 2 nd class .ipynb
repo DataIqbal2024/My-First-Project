{
 "cells": [
  {
   "cell_type": "markdown",
   "id": "9bf877d9-eb6e-4a03-874b-80835b4c35b0",
   "metadata": {},
   "source": [
    "## What do you understand by OOPs?\r",
    "-------------------------------------\r",
    "- Object-Oriented Programming (OOP).\r",
    "The concept of OOP in Python focuses on creating reusable code. \r",
    "An object-oriented paradigm is to design the program using classes and objects. \r",
    "The object is related to real-word entities such as book, house, pencil, etc. \r",
    "The oops concept focuses on writing the reusable code. \r",
    "It is a widespread technique to solve the problem by creating objects."
   ]
  },
  {
   "cell_type": "markdown",
   "id": "becb57b9-6ad7-4c7f-8b20-7a4f76b3692d",
   "metadata": {},
   "source": [
    "## NOTES\r",
    "------------\r",
    "#### 01. Classes\r",
    "\r",
    "It is you can say a template.\r",
    "------------------------------\r",
    "Classes are the building blocks in Object Oriented Programming. \r",
    "Classes can be seen as blueprints from which you create your Instances or Objects. \r",
    "In Python, classes are defined by the “Class” keyword\r",
    "\r",
    "```\r",
    "class myClass():\r",
    "```"
   ]
  },
  {
   "cell_type": "markdown",
   "id": "96189d77-4bb2-4ff1-94a0-32e676ece285",
   "metadata": {},
   "source": [
    "#### 02. Methods-Functions\r",
    "\r",
    "- Inside classes, you can define functions or methods that are part of this class\r",
    "- Difference between functions and methods\r",
    "    * Functions can be called only by its name, as it is defined independently. But methods can't be called by its name only, we need to invoke the class by a reference of that class in which it is defined, i.e. method is defined within a class and hence they are dependent on that class."
   ]
  },
  {
   "cell_type": "markdown",
   "id": "2081de21-e3d2-40dc-a84c-0fa478580803",
   "metadata": {},
   "source": [
    "# - “self”\n",
    "        - The self-argument refers to the object itself. Hence the use of the word self. So inside this method, self will refer to the specific instance of this object that’s being operated on.\n",
    "        - Self is the name preferred by convention by Pythons to indicate the first parameter of instance methods in Python. It is part of the Python syntax to access members of objects"
   ]
  },
  {
   "cell_type": "markdown",
   "id": "b8db785c-e623-4b36-949c-bc909e575bbc",
   "metadata": {},
   "source": [
    "#### 03. Objects\r",
    "\r",
    "- How to make an object of the class?\r",
    "```\r",
    "obj = myClass()\r",
    "```"
   ]
  },
  {
   "cell_type": "code",
   "execution_count": 1,
   "id": "643aafdf-f997-473f-adb6-3e55e7bca774",
   "metadata": {},
   "outputs": [],
   "source": [
    "class YourClass(object):\n",
    "    classy = 10\n",
    "    def set_val(self):\n",
    "        self.insty = 100"
   ]
  },
  {
   "cell_type": "code",
   "execution_count": 2,
   "id": "9c211990-6689-4624-94e5-b80e9fec8015",
   "metadata": {},
   "outputs": [
    {
     "name": "stdout",
     "output_type": "stream",
     "text": [
      "10\n"
     ]
    },
    {
     "data": {
      "text/plain": [
       "100"
      ]
     },
     "execution_count": 2,
     "metadata": {},
     "output_type": "execute_result"
    }
   ],
   "source": [
    "dd = YourClass()\n",
    "print(dd.classy)  # This will fetch the class attribute 10.\n",
    "dd.set_val()\n",
    "dd.insty  #100 #This will fetch the instance attribute 100."
   ]
  },
  {
   "cell_type": "code",
   "execution_count": 3,
   "id": "91fbbea5-ea56-437f-9cd6-bf608e40e7f9",
   "metadata": {},
   "outputs": [
    {
     "name": "stdout",
     "output_type": "stream",
     "text": [
      "class value\n",
      "Instance Value\n",
      "class value\n"
     ]
    }
   ],
   "source": [
    "class YourClass(object):\n",
    "    classy = \"class value\"\n",
    "\n",
    "dd = YourClass()\n",
    "print(dd.classy)\n",
    "\n",
    "dd.classy = \"Instance Value\"\n",
    "print(dd.classy)\n",
    "\n",
    "del dd.classy\n",
    "print(dd.classy)"
   ]
  },
  {
   "cell_type": "code",
   "execution_count": 4,
   "id": "0566ffd2-dee1-4fb0-bf48-ccfb9f5a7f74",
   "metadata": {},
   "outputs": [],
   "source": [
    "class MyClass:\n",
    "    def method(self):\n",
    "        return 'instance method called',self\n",
    "    @classmethod\n",
    "    def classmethod(cls):\n",
    "        return 'class method called',cls\n",
    "    @staticmethod\n",
    "    def staticmethod():\n",
    "        return 'static method called'\n",
    "        "
   ]
  },
  {
   "cell_type": "code",
   "execution_count": 5,
   "id": "b36316ef-4294-4fab-b3d3-8a5147db7096",
   "metadata": {},
   "outputs": [
    {
     "name": "stdout",
     "output_type": "stream",
     "text": [
      "Calling the __init__() construct!\n",
      "\n",
      "1\n",
      "2\n",
      "3\n"
     ]
    }
   ],
   "source": [
    "class Contruct(object):\n",
    "    def __init__(self):\n",
    "        print(\"Calling the __init__() construct!\\n\")\n",
    "        self.val=0\n",
    "\n",
    "    def increment(self):\n",
    "        self.val = self.val+1\n",
    "        print(self.val)\n",
    "\n",
    "dd = Contruct()\n",
    "dd.increment()\n",
    "dd.increment()\n",
    "dd.increment()"
   ]
  },
  {
   "cell_type": "code",
   "execution_count": 6,
   "id": "b040966d-48ab-4fb7-bb63-85abf97e8909",
   "metadata": {},
   "outputs": [
    {
     "name": "stdout",
     "output_type": "stream",
     "text": [
      "11\n",
      "12\n",
      "13\n"
     ]
    }
   ],
   "source": [
    "class Contruct(object):\n",
    "    def __init__(self, value):\n",
    "        try:\n",
    "            value = int(value)\n",
    "\n",
    "        except ValueError:\n",
    "            value = 0\n",
    "        self.value = value\n",
    "\n",
    "    def increment(self):\n",
    "        self.value = self.value + 1\n",
    "        print(self.value)\n",
    "\n",
    "a = Contruct(10)\n",
    "a.increment()\n",
    "a.increment()\n",
    "a.increment()"
   ]
  },
  {
   "cell_type": "code",
   "execution_count": 7,
   "id": "23073847-1ee8-46e3-8f6d-bfe48f673c83",
   "metadata": {},
   "outputs": [
    {
     "name": "stdout",
     "output_type": "stream",
     "text": [
      "2016-05-14\n",
      "-------\n",
      "07:00:00\n",
      "2016-05-14\n"
     ]
    }
   ],
   "source": [
    "class Date(object):\n",
    "    def get_date(self):\n",
    "        print(\"2016-05-14\")\n",
    "\n",
    "class Time(Date):\n",
    "    def get_time(self):\n",
    "        print(\"07:00:00\")\n",
    "\n",
    "dt = Date()\n",
    "dt.get_date()\n",
    "print(\"-------\")\n",
    "\n",
    "tm = Time()\n",
    "tm.get_time()\n",
    "\n",
    "tm.get_date()"
   ]
  },
  {
   "cell_type": "code",
   "execution_count": 8,
   "id": "3027a917-ad70-48e2-aea0-26373d3de3fb",
   "metadata": {},
   "outputs": [
    {
     "name": "stdout",
     "output_type": "stream",
     "text": [
      "Tuffy goes after the paper\n",
      "Tuffy is eating/drinking bone\n",
      "----\n",
      "Mona is eating/drinking milk\n",
      "Mona shred the string!\n"
     ]
    }
   ],
   "source": [
    "# single inheritance\n",
    "\n",
    "class Animal(object):\n",
    "    def __init__(self, name):\n",
    "        self.name = name\n",
    "\n",
    "    def eat(self , food):\n",
    "        print(\"%s is eating/drinking %s\" % (self.name, food))\n",
    "\n",
    "class Dog(Animal):\n",
    "    def fetch(self, thing):\n",
    "        print(\"%s goes after the %s\" % (self.name, thing))\n",
    "\n",
    "class Cat(Animal):\n",
    "    def swatstring(self):\n",
    "        print(\"%s shred the string!\" % self.name)\n",
    "\n",
    "dog = Dog(\"Tuffy\")\n",
    "cat = Cat(\"Mona\")\n",
    "\n",
    "dog.fetch(\"paper\")\n",
    "dog.eat(\"bone\")\n",
    "print(\"----\")\n",
    "cat.eat(\"milk\")\n",
    "cat.swatstring()\n"
   ]
  },
  {
   "cell_type": "code",
   "execution_count": 9,
   "id": "62f1be9c-fd13-49f3-b09c-17ec98ddde40",
   "metadata": {},
   "outputs": [
    {
     "name": "stdout",
     "output_type": "stream",
     "text": [
      "doing this in A\n",
      "\n",
      "Print the Method Resolution Order\n",
      "[<class '__main__.D'>, <class '__main__.B'>, <class '__main__.A'>, <class '__main__.C'>, <class 'object'>]\n"
     ]
    }
   ],
   "source": [
    "class A(object):\n",
    "    def dothis(self):\n",
    "        print(\"doing this in A\")\n",
    "\n",
    "class B(A):\n",
    "    pass\n",
    "\n",
    "class C(object):\n",
    "    def dothis(self):\n",
    "        print(\"doing this in C\")\n",
    "\n",
    "class D(B, C):\n",
    "    pass\n",
    "\n",
    "d_instance = D()\n",
    "d_instance.dothis()\n",
    "\n",
    "print(\"\\nPrint the Method Resolution Order\")\n",
    "print(D.mro())"
   ]
  },
  {
   "cell_type": "code",
   "execution_count": 10,
   "id": "14969974-dbca-484b-b288-05f21860ecf1",
   "metadata": {},
   "outputs": [],
   "source": [
    "# polymorison"
   ]
  },
  {
   "cell_type": "code",
   "execution_count": 11,
   "id": "47bda5f1-f258-4150-bb0f-038549b60859",
   "metadata": {},
   "outputs": [
    {
     "name": "stdout",
     "output_type": "stream",
     "text": [
      "TUFFY wags tail\n",
      "Mona GREAT\n",
      "Lucy GREAT\n",
      "Tommy wags tail\n"
     ]
    }
   ],
   "source": [
    "class Animal(object):\n",
    "    def __init__(self, name):\n",
    "        self.name=name\n",
    "\n",
    "    def eat(self, food):\n",
    "        print(\"{0} eats {1}\".format(self.name,food))\n",
    "\n",
    "class Dog(Animal):\n",
    "    def show_affection(self):\n",
    "        print(\"{0} wags tail\".format(self.name))\n",
    "\n",
    "class Cat(Animal):\n",
    "    def show_affection(self):\n",
    "        print(\"{0} GREAT\".format(self.name))\n",
    "\n",
    "for a in (Dog(\"TUFFY\"), Cat(\"Mona\"), Cat(\"Lucy\"), Dog(\"Tommy\")):\n",
    "    a.show_affection()"
   ]
  },
  {
   "cell_type": "code",
   "execution_count": null,
   "id": "c196b80c-3d0f-46ab-9306-b9e771af249a",
   "metadata": {},
   "outputs": [],
   "source": []
  }
 ],
 "metadata": {
  "kernelspec": {
   "display_name": "Python 3 (ipykernel)",
   "language": "python",
   "name": "python3"
  },
  "language_info": {
   "codemirror_mode": {
    "name": "ipython",
    "version": 3
   },
   "file_extension": ".py",
   "mimetype": "text/x-python",
   "name": "python",
   "nbconvert_exporter": "python",
   "pygments_lexer": "ipython3",
   "version": "3.11.7"
  }
 },
 "nbformat": 4,
 "nbformat_minor": 5
}
