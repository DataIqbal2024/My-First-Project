{
 "cells": [
  {
   "cell_type": "markdown",
   "id": "912e7584-1268-468f-976b-284b85bb1260",
   "metadata": {},
   "source": [
    "# Python File I/O - Read and Write Files\r",
    "----------------------------------------\r",
    "In Python, the IO module provides methods of three types of IO operations; raw binary files, buffered binary files, and text files. The canonical way to create a file object is by using the open() function"
   ]
  },
  {
   "cell_type": "markdown",
   "id": "5d51e728-ca1c-4707-932d-9a7d993410b7",
   "metadata": {},
   "source": [
    "# Any file operations can be performed in the following three steps:\n",
    "\n",
    "Open the file to get the file object using the built-in open() function. There are different access modes, which you can specify while opening a file using the open() function.\n",
    "Perform read, write, append operations using the file object retrieved from the open() function.\n",
    "Close and dispose the file object."
   ]
  },
  {
   "cell_type": "markdown",
   "id": "5bf56ba0-5cdd-476a-a7fa-efca6a89bdd4",
   "metadata": {},
   "source": [
    "# Reading File\n",
    "File object includes the following methods to read data from the file.\n",
    "\n",
    "read(chars): reads the specified number of characters starting from the current position.\n",
    "readline(): reads the characters starting from the current reading position up to a newline character.\n",
    "readlines(): reads all lines until the end of file and returns a list object."
   ]
  },
  {
   "cell_type": "code",
   "execution_count": 28,
   "id": "83ae41df-3abf-4458-8472-f33b5e501b46",
   "metadata": {},
   "outputs": [
    {
     "name": "stdout",
     "output_type": "stream",
     "text": [
      "Hello\n"
     ]
    }
   ],
   "source": [
    "f = open('DEMO .txt') # opening a file \n",
    "lines = f.read() # reading a file\n",
    "print(lines)\n",
    "f.close() # closing file object"
   ]
  },
  {
   "cell_type": "markdown",
   "id": "75ec3363-3b13-4b82-bd6f-bbd9f8fd24c3",
   "metadata": {},
   "source": [
    "f = open('DEMO .txt')\n",
    "line1 = f.readline()\n",
    "print(line1)\n",
    "line2 = f.readline()\n",
    "print(line2)\n",
    "line3 = f.readline()\n",
    "print(line3)\n",
    "line4 = f.readline()\n",
    "print(line4)\n"
   ]
  },
  {
   "cell_type": "markdown",
   "id": "28644913-38a1-485b-a83e-a9fed94fd15e",
   "metadata": {},
   "source": [
    "# reading all lines\n"
   ]
  },
  {
   "cell_type": "code",
   "execution_count": 12,
   "id": "8f15681f-b3c9-457e-a50c-e26671f0d579",
   "metadata": {},
   "outputs": [
    {
     "name": "stdout",
     "output_type": "stream",
     "text": [
      "['Mohammad Iqbal\\n', 'Dev Thapa\\n', 'Shourya Chouhan\\n', 'Deepanshu Jaat\\n', 'Multi Line\\n', 'Multi Line\\n', 'Multi Line\\n', 'Multi Line\\n']\n"
     ]
    }
   ],
   "source": [
    "f = open('DEMO .txt')\n",
    "lines = f.readlines()\n",
    "print(lines)\n",
    "f.close()\n",
    "         "
   ]
  },
  {
   "cell_type": "markdown",
   "id": "e718329f-5240-4494-9f4c-589f8cdd745c",
   "metadata": {},
   "source": [
    "# Writing to a File\n",
    "The file object provides the following methods to write to a file.\n",
    "\n",
    "write(s): Write the string s to the stream and return the number of characters written.\n",
    "writelines(lines): Write a list of lines to the stream. Each line must have a separator at the end of it."
   ]
  },
  {
   "cell_type": "code",
   "execution_count": 20,
   "id": "505b86c7-18db-4acc-b023-703dc61c894c",
   "metadata": {},
   "outputs": [],
   "source": [
    "f = open('DEMO .txt','w')\n",
    "f.write(\"Hello\")\n",
    "f.close()\n"
   ]
  },
  {
   "cell_type": "code",
   "execution_count": 22,
   "id": "7a0a118a-5422-4a79-8b22-c9177a8b2e6a",
   "metadata": {},
   "outputs": [
    {
     "name": "stdout",
     "output_type": "stream",
     "text": [
      "Hello\n"
     ]
    }
   ],
   "source": [
    "f = open('DEMO .txt','r')\n",
    "print(f.read())\n",
    "f.close()\n"
   ]
  },
  {
   "cell_type": "code",
   "execution_count": 23,
   "id": "b7186827-bb89-4e91-a0c0-caaf51d57143",
   "metadata": {},
   "outputs": [],
   "source": [
    "f = open('IQBAL .txt','w')\n",
    "f.write(\"Hello\")\n",
    "f.close()"
   ]
  },
  {
   "cell_type": "code",
   "execution_count": 24,
   "id": "df9a7c54-2cd9-4ccb-8f64-7c46d3bb7693",
   "metadata": {},
   "outputs": [
    {
     "name": "stdout",
     "output_type": "stream",
     "text": [
      "Hello\n"
     ]
    }
   ],
   "source": [
    "f = open('IQBAL .txt','r')\n",
    "print(f.read())\n",
    "f.close()"
   ]
  },
  {
   "cell_type": "code",
   "execution_count": 25,
   "id": "ffe7d614-49cc-41e2-92c4-b5cd79cddcd5",
   "metadata": {},
   "outputs": [],
   "source": [
    "f = open('IQBAL .txt','a')\n",
    "f.write(\" WORLD!\")\n",
    "f.close()"
   ]
  },
  {
   "cell_type": "code",
   "execution_count": 27,
   "id": "5c3cef18-c1de-45f2-acb7-3edd77da9850",
   "metadata": {},
   "outputs": [
    {
     "name": "stdout",
     "output_type": "stream",
     "text": [
      "Hello WORLD!\n"
     ]
    }
   ],
   "source": [
    "f=open('IQBAL .txt','r')\n",
    "print(f.read())\n",
    "f.close()\n",
    "       "
   ]
  },
  {
   "cell_type": "code",
   "execution_count": null,
   "id": "89e26e55-07cd-49e0-aae6-7a57c313b29d",
   "metadata": {},
   "outputs": [],
   "source": []
  }
 ],
 "metadata": {
  "kernelspec": {
   "display_name": "Python 3 (ipykernel)",
   "language": "python",
   "name": "python3"
  },
  "language_info": {
   "codemirror_mode": {
    "name": "ipython",
    "version": 3
   },
   "file_extension": ".py",
   "mimetype": "text/x-python",
   "name": "python",
   "nbconvert_exporter": "python",
   "pygments_lexer": "ipython3",
   "version": "3.11.7"
  }
 },
 "nbformat": 4,
 "nbformat_minor": 5
}
